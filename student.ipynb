{
 "cells": [
  {
   "cell_type": "markdown",
   "metadata": {},
   "source": [
    "## Final Project Submission\n",
    "\n",
    "Please fill out:\n",
    "* Student name: \n",
    "* Student pace: self paced / part time / full time\n",
    "* Scheduled project review date/time: \n",
    "* Instructor name: \n",
    "* Blog post URL:\n"
   ]
  },
  {
   "cell_type": "code",
   "execution_count": 26,
   "metadata": {
    "ExecuteTime": {
     "end_time": "2020-05-23T18:20:54.838139Z",
     "start_time": "2020-05-23T18:20:54.835890Z"
    },
    "scrolled": false
   },
   "outputs": [],
   "source": [
    "import  IPython.display as dp\n",
    "# with open('README.md','r+', encoding='utf-8') as f:\n",
    "#     dp.display(dp.Markdown(f.read()))"
   ]
  },
  {
   "cell_type": "markdown",
   "metadata": {},
   "source": [
    "> ### Your team is charged with doing data analysis and creating a presentation that explores what type of films are currently doing the best at the box office. You must then translate those findings into actionable insights that the CEO can use when deciding what type of films they should be creating."
   ]
  },
  {
   "cell_type": "code",
   "execution_count": 27,
   "metadata": {
    "ExecuteTime": {
     "end_time": "2020-05-23T18:20:54.843707Z",
     "start_time": "2020-05-23T18:20:54.841422Z"
    }
   },
   "outputs": [],
   "source": [
    "# Your code here - remember to use markdown cells for comments as well!\n",
    "from fsds.imports import *"
   ]
  },
  {
   "cell_type": "code",
   "execution_count": 28,
   "metadata": {
    "ExecuteTime": {
     "end_time": "2020-05-23T18:20:54.849256Z",
     "start_time": "2020-05-23T18:20:54.845294Z"
    }
   },
   "outputs": [
    {
     "data": {
      "text/plain": [
       "['LICENSE.md',\n",
       " 'student.ipynb',\n",
       " 'awesome.gif',\n",
       " 'README.md',\n",
       " '.gitignore',\n",
       " 'CONTRIBUTING.md',\n",
       " '.ipynb_checkpoints',\n",
       " '.learn',\n",
       " '.git',\n",
       " 'module1_project_rubric.pdf',\n",
       " 'zippedData']"
      ]
     },
     "execution_count": 28,
     "metadata": {},
     "output_type": "execute_result"
    }
   ],
   "source": [
    "import os\n",
    "os.listdir()"
   ]
  },
  {
   "cell_type": "code",
   "execution_count": 29,
   "metadata": {
    "ExecuteTime": {
     "end_time": "2020-05-23T18:20:54.854635Z",
     "start_time": "2020-05-23T18:20:54.851015Z"
    }
   },
   "outputs": [
    {
     "data": {
      "text/plain": [
       "['imdb.title.crew.csv.gz',\n",
       " 'tmdb.movies.csv.gz',\n",
       " 'imdb.title.akas.csv.gz',\n",
       " 'imdb.title.ratings.csv.gz',\n",
       " 'imdb.name.basics.csv.gz',\n",
       " 'rt.reviews.tsv.gz',\n",
       " 'imdb.title.basics.csv.gz',\n",
       " 'rt.movie_info.tsv.gz',\n",
       " 'tn.movie_budgets.csv.gz',\n",
       " 'bom.movie_gross.csv.gz',\n",
       " 'imdb.title.principals.csv.gz']"
      ]
     },
     "execution_count": 29,
     "metadata": {},
     "output_type": "execute_result"
    }
   ],
   "source": [
    "os.listdir('zippedData')"
   ]
  },
  {
   "cell_type": "code",
   "execution_count": 30,
   "metadata": {
    "ExecuteTime": {
     "end_time": "2020-05-23T18:20:56.239991Z",
     "start_time": "2020-05-23T18:20:54.856237Z"
    }
   },
   "outputs": [
    {
     "data": {
      "text/html": [
       "<div>\n",
       "<style scoped>\n",
       "    .dataframe tbody tr th:only-of-type {\n",
       "        vertical-align: middle;\n",
       "    }\n",
       "\n",
       "    .dataframe tbody tr th {\n",
       "        vertical-align: top;\n",
       "    }\n",
       "\n",
       "    .dataframe thead th {\n",
       "        text-align: right;\n",
       "    }\n",
       "</style>\n",
       "<table border=\"1\" class=\"dataframe\">\n",
       "  <thead>\n",
       "    <tr style=\"text-align: right;\">\n",
       "      <th></th>\n",
       "      <th>nconst</th>\n",
       "      <th>primary_name</th>\n",
       "      <th>birth_year</th>\n",
       "      <th>death_year</th>\n",
       "      <th>primary_profession</th>\n",
       "      <th>known_for_titles</th>\n",
       "    </tr>\n",
       "  </thead>\n",
       "  <tbody>\n",
       "    <tr>\n",
       "      <td>0</td>\n",
       "      <td>nm0061671</td>\n",
       "      <td>Mary Ellen Bauder</td>\n",
       "      <td>NaN</td>\n",
       "      <td>NaN</td>\n",
       "      <td>miscellaneous,production_manager,producer</td>\n",
       "      <td>tt0837562,tt2398241,tt0844471,tt0118553</td>\n",
       "    </tr>\n",
       "    <tr>\n",
       "      <td>1</td>\n",
       "      <td>nm0061865</td>\n",
       "      <td>Joseph Bauer</td>\n",
       "      <td>NaN</td>\n",
       "      <td>NaN</td>\n",
       "      <td>composer,music_department,sound_department</td>\n",
       "      <td>tt0896534,tt6791238,tt0287072,tt1682940</td>\n",
       "    </tr>\n",
       "    <tr>\n",
       "      <td>2</td>\n",
       "      <td>nm0062070</td>\n",
       "      <td>Bruce Baum</td>\n",
       "      <td>NaN</td>\n",
       "      <td>NaN</td>\n",
       "      <td>miscellaneous,actor,writer</td>\n",
       "      <td>tt1470654,tt0363631,tt0104030,tt0102898</td>\n",
       "    </tr>\n",
       "    <tr>\n",
       "      <td>3</td>\n",
       "      <td>nm0062195</td>\n",
       "      <td>Axel Baumann</td>\n",
       "      <td>NaN</td>\n",
       "      <td>NaN</td>\n",
       "      <td>camera_department,cinematographer,art_department</td>\n",
       "      <td>tt0114371,tt2004304,tt1618448,tt1224387</td>\n",
       "    </tr>\n",
       "    <tr>\n",
       "      <td>4</td>\n",
       "      <td>nm0062798</td>\n",
       "      <td>Pete Baxter</td>\n",
       "      <td>NaN</td>\n",
       "      <td>NaN</td>\n",
       "      <td>production_designer,art_department,set_decorator</td>\n",
       "      <td>tt0452644,tt0452692,tt3458030,tt2178256</td>\n",
       "    </tr>\n",
       "    <tr>\n",
       "      <td>...</td>\n",
       "      <td>...</td>\n",
       "      <td>...</td>\n",
       "      <td>...</td>\n",
       "      <td>...</td>\n",
       "      <td>...</td>\n",
       "      <td>...</td>\n",
       "    </tr>\n",
       "    <tr>\n",
       "      <td>606643</td>\n",
       "      <td>nm9990381</td>\n",
       "      <td>Susan Grobes</td>\n",
       "      <td>NaN</td>\n",
       "      <td>NaN</td>\n",
       "      <td>actress</td>\n",
       "      <td>NaN</td>\n",
       "    </tr>\n",
       "    <tr>\n",
       "      <td>606644</td>\n",
       "      <td>nm9990690</td>\n",
       "      <td>Joo Yeon So</td>\n",
       "      <td>NaN</td>\n",
       "      <td>NaN</td>\n",
       "      <td>actress</td>\n",
       "      <td>tt9090932,tt8737130</td>\n",
       "    </tr>\n",
       "    <tr>\n",
       "      <td>606645</td>\n",
       "      <td>nm9991320</td>\n",
       "      <td>Madeline Smith</td>\n",
       "      <td>NaN</td>\n",
       "      <td>NaN</td>\n",
       "      <td>actress</td>\n",
       "      <td>tt8734436,tt9615610</td>\n",
       "    </tr>\n",
       "    <tr>\n",
       "      <td>606646</td>\n",
       "      <td>nm9991786</td>\n",
       "      <td>Michelle Modigliani</td>\n",
       "      <td>NaN</td>\n",
       "      <td>NaN</td>\n",
       "      <td>producer</td>\n",
       "      <td>NaN</td>\n",
       "    </tr>\n",
       "    <tr>\n",
       "      <td>606647</td>\n",
       "      <td>nm9993380</td>\n",
       "      <td>Pegasus Envoyé</td>\n",
       "      <td>NaN</td>\n",
       "      <td>NaN</td>\n",
       "      <td>director,actor,writer</td>\n",
       "      <td>tt8743182</td>\n",
       "    </tr>\n",
       "  </tbody>\n",
       "</table>\n",
       "<p>606648 rows × 6 columns</p>\n",
       "</div>"
      ],
      "text/plain": [
       "           nconst         primary_name  birth_year  death_year  \\\n",
       "0       nm0061671    Mary Ellen Bauder         NaN         NaN   \n",
       "1       nm0061865         Joseph Bauer         NaN         NaN   \n",
       "2       nm0062070           Bruce Baum         NaN         NaN   \n",
       "3       nm0062195         Axel Baumann         NaN         NaN   \n",
       "4       nm0062798          Pete Baxter         NaN         NaN   \n",
       "...           ...                  ...         ...         ...   \n",
       "606643  nm9990381         Susan Grobes         NaN         NaN   \n",
       "606644  nm9990690          Joo Yeon So         NaN         NaN   \n",
       "606645  nm9991320       Madeline Smith         NaN         NaN   \n",
       "606646  nm9991786  Michelle Modigliani         NaN         NaN   \n",
       "606647  nm9993380       Pegasus Envoyé         NaN         NaN   \n",
       "\n",
       "                                      primary_profession  \\\n",
       "0              miscellaneous,production_manager,producer   \n",
       "1             composer,music_department,sound_department   \n",
       "2                             miscellaneous,actor,writer   \n",
       "3       camera_department,cinematographer,art_department   \n",
       "4       production_designer,art_department,set_decorator   \n",
       "...                                                  ...   \n",
       "606643                                           actress   \n",
       "606644                                           actress   \n",
       "606645                                           actress   \n",
       "606646                                          producer   \n",
       "606647                             director,actor,writer   \n",
       "\n",
       "                               known_for_titles  \n",
       "0       tt0837562,tt2398241,tt0844471,tt0118553  \n",
       "1       tt0896534,tt6791238,tt0287072,tt1682940  \n",
       "2       tt1470654,tt0363631,tt0104030,tt0102898  \n",
       "3       tt0114371,tt2004304,tt1618448,tt1224387  \n",
       "4       tt0452644,tt0452692,tt3458030,tt2178256  \n",
       "...                                         ...  \n",
       "606643                                      NaN  \n",
       "606644                      tt9090932,tt8737130  \n",
       "606645                      tt8734436,tt9615610  \n",
       "606646                                      NaN  \n",
       "606647                                tt8743182  \n",
       "\n",
       "[606648 rows x 6 columns]"
      ]
     },
     "execution_count": 30,
     "metadata": {},
     "output_type": "execute_result"
    }
   ],
   "source": [
    "pd.read_csv('zippedData/imdb.name.basics.csv.gz')"
   ]
  },
  {
   "cell_type": "code",
   "execution_count": 31,
   "metadata": {
    "ExecuteTime": {
     "end_time": "2020-05-23T18:20:56.245037Z",
     "start_time": "2020-05-23T18:20:56.241480Z"
    }
   },
   "outputs": [
    {
     "data": {
      "text/plain": [
       "['zippedData/imdb.title.crew.csv.gz',\n",
       " 'zippedData/tmdb.movies.csv.gz',\n",
       " 'zippedData/imdb.title.akas.csv.gz',\n",
       " 'zippedData/imdb.title.ratings.csv.gz',\n",
       " 'zippedData/imdb.name.basics.csv.gz',\n",
       " 'zippedData/rt.reviews.tsv.gz',\n",
       " 'zippedData/imdb.title.basics.csv.gz',\n",
       " 'zippedData/rt.movie_info.tsv.gz',\n",
       " 'zippedData/tn.movie_budgets.csv.gz',\n",
       " 'zippedData/bom.movie_gross.csv.gz',\n",
       " 'zippedData/imdb.title.principals.csv.gz']"
      ]
     },
     "execution_count": 31,
     "metadata": {},
     "output_type": "execute_result"
    }
   ],
   "source": [
    "import glob\n",
    "files = glob.glob('zippedData/*')\n",
    "files"
   ]
  },
  {
   "cell_type": "code",
   "execution_count": 32,
   "metadata": {
    "ExecuteTime": {
     "end_time": "2020-05-23T18:20:56.250005Z",
     "start_time": "2020-05-23T18:20:56.246367Z"
    }
   },
   "outputs": [
    {
     "data": {
      "text/plain": [
       "'imdb.title.crew'"
      ]
     },
     "execution_count": 32,
     "metadata": {},
     "output_type": "execute_result"
    }
   ],
   "source": [
    "os.path.split(files[0])[-1].replace('.csv.gz','')"
   ]
  },
  {
   "cell_type": "code",
   "execution_count": 33,
   "metadata": {
    "ExecuteTime": {
     "end_time": "2020-05-23T18:21:00.005305Z",
     "start_time": "2020-05-23T18:20:56.251256Z"
    }
   },
   "outputs": [
    {
     "name": "stdout",
     "output_type": "stream",
     "text": [
      "zippedData/imdb.title.crew.csv.gz\n",
      "zippedData/tmdb.movies.csv.gz\n",
      "zippedData/imdb.title.akas.csv.gz\n",
      "zippedData/imdb.title.ratings.csv.gz\n",
      "zippedData/imdb.name.basics.csv.gz\n",
      "zippedData/rt.reviews.tsv.gz\n",
      "zippedData/imdb.title.basics.csv.gz\n",
      "zippedData/rt.movie_info.tsv.gz\n",
      "zippedData/tn.movie_budgets.csv.gz\n",
      "zippedData/bom.movie_gross.csv.gz\n",
      "zippedData/imdb.title.principals.csv.gz\n"
     ]
    }
   ],
   "source": [
    "DATA = {}\n",
    "for file in files:\n",
    "    print(file)\n",
    "    key = os.path.split(file)[-1].replace('.csv.gz','').replace('tsv.gz','')\n",
    "    if \".tsv\" in file:\n",
    "        sep='\\t'\n",
    "        encode = 'latin-1'#'utf-8'\n",
    "    else:\n",
    "        sep=','\n",
    "        encode='utf-8'\n",
    "    DATA[key] = pd.read_csv(file,sep=sep,encoding=encode)"
   ]
  },
  {
   "cell_type": "markdown",
   "metadata": {},
   "source": [
    "# Preview Data"
   ]
  },
  {
   "cell_type": "code",
   "execution_count": 34,
   "metadata": {
    "ExecuteTime": {
     "end_time": "2020-05-23T18:21:00.045714Z",
     "start_time": "2020-05-23T18:21:00.007091Z"
    },
    "scrolled": true
   },
   "outputs": [
    {
     "data": {
      "text/html": [
       "<style  type=\"text/css\" >\n",
       "</style><table id=\"T_272f71be_9d22_11ea_9322_acde48001122\" ><caption>imdb.title.crew</caption><thead>    <tr>        <th class=\"blank level0\" ></th>        <th class=\"col_heading level0 col0\" >tconst</th>        <th class=\"col_heading level0 col1\" >directors</th>        <th class=\"col_heading level0 col2\" >writers</th>    </tr></thead><tbody>\n",
       "                <tr>\n",
       "                        <th id=\"T_272f71be_9d22_11ea_9322_acde48001122level0_row0\" class=\"row_heading level0 row0\" >0</th>\n",
       "                        <td id=\"T_272f71be_9d22_11ea_9322_acde48001122row0_col0\" class=\"data row0 col0\" >tt0285252</td>\n",
       "                        <td id=\"T_272f71be_9d22_11ea_9322_acde48001122row0_col1\" class=\"data row0 col1\" >nm0899854</td>\n",
       "                        <td id=\"T_272f71be_9d22_11ea_9322_acde48001122row0_col2\" class=\"data row0 col2\" >nm0899854</td>\n",
       "            </tr>\n",
       "            <tr>\n",
       "                        <th id=\"T_272f71be_9d22_11ea_9322_acde48001122level0_row1\" class=\"row_heading level0 row1\" >1</th>\n",
       "                        <td id=\"T_272f71be_9d22_11ea_9322_acde48001122row1_col0\" class=\"data row1 col0\" >tt0438973</td>\n",
       "                        <td id=\"T_272f71be_9d22_11ea_9322_acde48001122row1_col1\" class=\"data row1 col1\" >nan</td>\n",
       "                        <td id=\"T_272f71be_9d22_11ea_9322_acde48001122row1_col2\" class=\"data row1 col2\" >nm0175726,nm1802864</td>\n",
       "            </tr>\n",
       "    </tbody></table>"
      ],
      "text/plain": [
       "<pandas.io.formats.style.Styler at 0x1a1d0d3278>"
      ]
     },
     "metadata": {},
     "output_type": "display_data"
    },
    {
     "name": "stdout",
     "output_type": "stream",
     "text": [
      "\n"
     ]
    },
    {
     "data": {
      "text/html": [
       "<style  type=\"text/css\" >\n",
       "</style><table id=\"T_272fe1b4_9d22_11ea_a084_acde48001122\" ><caption>tmdb.movies</caption><thead>    <tr>        <th class=\"blank level0\" ></th>        <th class=\"col_heading level0 col0\" >Unnamed: 0</th>        <th class=\"col_heading level0 col1\" >genre_ids</th>        <th class=\"col_heading level0 col2\" >id</th>        <th class=\"col_heading level0 col3\" >original_language</th>        <th class=\"col_heading level0 col4\" >original_title</th>        <th class=\"col_heading level0 col5\" >popularity</th>        <th class=\"col_heading level0 col6\" >release_date</th>        <th class=\"col_heading level0 col7\" >title</th>        <th class=\"col_heading level0 col8\" >vote_average</th>        <th class=\"col_heading level0 col9\" >vote_count</th>    </tr></thead><tbody>\n",
       "                <tr>\n",
       "                        <th id=\"T_272fe1b4_9d22_11ea_a084_acde48001122level0_row0\" class=\"row_heading level0 row0\" >0</th>\n",
       "                        <td id=\"T_272fe1b4_9d22_11ea_a084_acde48001122row0_col0\" class=\"data row0 col0\" >0</td>\n",
       "                        <td id=\"T_272fe1b4_9d22_11ea_a084_acde48001122row0_col1\" class=\"data row0 col1\" >[12, 14, 10751]</td>\n",
       "                        <td id=\"T_272fe1b4_9d22_11ea_a084_acde48001122row0_col2\" class=\"data row0 col2\" >12444</td>\n",
       "                        <td id=\"T_272fe1b4_9d22_11ea_a084_acde48001122row0_col3\" class=\"data row0 col3\" >en</td>\n",
       "                        <td id=\"T_272fe1b4_9d22_11ea_a084_acde48001122row0_col4\" class=\"data row0 col4\" >Harry Potter and the Deathly Hallows: Part 1</td>\n",
       "                        <td id=\"T_272fe1b4_9d22_11ea_a084_acde48001122row0_col5\" class=\"data row0 col5\" >33.533</td>\n",
       "                        <td id=\"T_272fe1b4_9d22_11ea_a084_acde48001122row0_col6\" class=\"data row0 col6\" >2010-11-19</td>\n",
       "                        <td id=\"T_272fe1b4_9d22_11ea_a084_acde48001122row0_col7\" class=\"data row0 col7\" >Harry Potter and the Deathly Hallows: Part 1</td>\n",
       "                        <td id=\"T_272fe1b4_9d22_11ea_a084_acde48001122row0_col8\" class=\"data row0 col8\" >7.7</td>\n",
       "                        <td id=\"T_272fe1b4_9d22_11ea_a084_acde48001122row0_col9\" class=\"data row0 col9\" >10788</td>\n",
       "            </tr>\n",
       "            <tr>\n",
       "                        <th id=\"T_272fe1b4_9d22_11ea_a084_acde48001122level0_row1\" class=\"row_heading level0 row1\" >1</th>\n",
       "                        <td id=\"T_272fe1b4_9d22_11ea_a084_acde48001122row1_col0\" class=\"data row1 col0\" >1</td>\n",
       "                        <td id=\"T_272fe1b4_9d22_11ea_a084_acde48001122row1_col1\" class=\"data row1 col1\" >[14, 12, 16, 10751]</td>\n",
       "                        <td id=\"T_272fe1b4_9d22_11ea_a084_acde48001122row1_col2\" class=\"data row1 col2\" >10191</td>\n",
       "                        <td id=\"T_272fe1b4_9d22_11ea_a084_acde48001122row1_col3\" class=\"data row1 col3\" >en</td>\n",
       "                        <td id=\"T_272fe1b4_9d22_11ea_a084_acde48001122row1_col4\" class=\"data row1 col4\" >How to Train Your Dragon</td>\n",
       "                        <td id=\"T_272fe1b4_9d22_11ea_a084_acde48001122row1_col5\" class=\"data row1 col5\" >28.734</td>\n",
       "                        <td id=\"T_272fe1b4_9d22_11ea_a084_acde48001122row1_col6\" class=\"data row1 col6\" >2010-03-26</td>\n",
       "                        <td id=\"T_272fe1b4_9d22_11ea_a084_acde48001122row1_col7\" class=\"data row1 col7\" >How to Train Your Dragon</td>\n",
       "                        <td id=\"T_272fe1b4_9d22_11ea_a084_acde48001122row1_col8\" class=\"data row1 col8\" >7.7</td>\n",
       "                        <td id=\"T_272fe1b4_9d22_11ea_a084_acde48001122row1_col9\" class=\"data row1 col9\" >7610</td>\n",
       "            </tr>\n",
       "    </tbody></table>"
      ],
      "text/plain": [
       "<pandas.io.formats.style.Styler at 0x1a501f2048>"
      ]
     },
     "metadata": {},
     "output_type": "display_data"
    },
    {
     "name": "stdout",
     "output_type": "stream",
     "text": [
      "\n"
     ]
    },
    {
     "data": {
      "text/html": [
       "<style  type=\"text/css\" >\n",
       "</style><table id=\"T_27307e10_9d22_11ea_a218_acde48001122\" ><caption>imdb.title.akas</caption><thead>    <tr>        <th class=\"blank level0\" ></th>        <th class=\"col_heading level0 col0\" >title_id</th>        <th class=\"col_heading level0 col1\" >ordering</th>        <th class=\"col_heading level0 col2\" >title</th>        <th class=\"col_heading level0 col3\" >region</th>        <th class=\"col_heading level0 col4\" >language</th>        <th class=\"col_heading level0 col5\" >types</th>        <th class=\"col_heading level0 col6\" >attributes</th>        <th class=\"col_heading level0 col7\" >is_original_title</th>    </tr></thead><tbody>\n",
       "                <tr>\n",
       "                        <th id=\"T_27307e10_9d22_11ea_a218_acde48001122level0_row0\" class=\"row_heading level0 row0\" >0</th>\n",
       "                        <td id=\"T_27307e10_9d22_11ea_a218_acde48001122row0_col0\" class=\"data row0 col0\" >tt0369610</td>\n",
       "                        <td id=\"T_27307e10_9d22_11ea_a218_acde48001122row0_col1\" class=\"data row0 col1\" >10</td>\n",
       "                        <td id=\"T_27307e10_9d22_11ea_a218_acde48001122row0_col2\" class=\"data row0 col2\" >Джурасик свят</td>\n",
       "                        <td id=\"T_27307e10_9d22_11ea_a218_acde48001122row0_col3\" class=\"data row0 col3\" >BG</td>\n",
       "                        <td id=\"T_27307e10_9d22_11ea_a218_acde48001122row0_col4\" class=\"data row0 col4\" >bg</td>\n",
       "                        <td id=\"T_27307e10_9d22_11ea_a218_acde48001122row0_col5\" class=\"data row0 col5\" >nan</td>\n",
       "                        <td id=\"T_27307e10_9d22_11ea_a218_acde48001122row0_col6\" class=\"data row0 col6\" >nan</td>\n",
       "                        <td id=\"T_27307e10_9d22_11ea_a218_acde48001122row0_col7\" class=\"data row0 col7\" >0</td>\n",
       "            </tr>\n",
       "            <tr>\n",
       "                        <th id=\"T_27307e10_9d22_11ea_a218_acde48001122level0_row1\" class=\"row_heading level0 row1\" >1</th>\n",
       "                        <td id=\"T_27307e10_9d22_11ea_a218_acde48001122row1_col0\" class=\"data row1 col0\" >tt0369610</td>\n",
       "                        <td id=\"T_27307e10_9d22_11ea_a218_acde48001122row1_col1\" class=\"data row1 col1\" >11</td>\n",
       "                        <td id=\"T_27307e10_9d22_11ea_a218_acde48001122row1_col2\" class=\"data row1 col2\" >Jurashikku warudo</td>\n",
       "                        <td id=\"T_27307e10_9d22_11ea_a218_acde48001122row1_col3\" class=\"data row1 col3\" >JP</td>\n",
       "                        <td id=\"T_27307e10_9d22_11ea_a218_acde48001122row1_col4\" class=\"data row1 col4\" >nan</td>\n",
       "                        <td id=\"T_27307e10_9d22_11ea_a218_acde48001122row1_col5\" class=\"data row1 col5\" >imdbDisplay</td>\n",
       "                        <td id=\"T_27307e10_9d22_11ea_a218_acde48001122row1_col6\" class=\"data row1 col6\" >nan</td>\n",
       "                        <td id=\"T_27307e10_9d22_11ea_a218_acde48001122row1_col7\" class=\"data row1 col7\" >0</td>\n",
       "            </tr>\n",
       "    </tbody></table>"
      ],
      "text/plain": [
       "<pandas.io.formats.style.Styler at 0x1a501f2208>"
      ]
     },
     "metadata": {},
     "output_type": "display_data"
    },
    {
     "name": "stdout",
     "output_type": "stream",
     "text": [
      "\n"
     ]
    },
    {
     "data": {
      "text/html": [
       "<style  type=\"text/css\" >\n",
       "</style><table id=\"T_27310d12_9d22_11ea_b818_acde48001122\" ><caption>imdb.title.ratings</caption><thead>    <tr>        <th class=\"blank level0\" ></th>        <th class=\"col_heading level0 col0\" >tconst</th>        <th class=\"col_heading level0 col1\" >averagerating</th>        <th class=\"col_heading level0 col2\" >numvotes</th>    </tr></thead><tbody>\n",
       "                <tr>\n",
       "                        <th id=\"T_27310d12_9d22_11ea_b818_acde48001122level0_row0\" class=\"row_heading level0 row0\" >0</th>\n",
       "                        <td id=\"T_27310d12_9d22_11ea_b818_acde48001122row0_col0\" class=\"data row0 col0\" >tt10356526</td>\n",
       "                        <td id=\"T_27310d12_9d22_11ea_b818_acde48001122row0_col1\" class=\"data row0 col1\" >8.3</td>\n",
       "                        <td id=\"T_27310d12_9d22_11ea_b818_acde48001122row0_col2\" class=\"data row0 col2\" >31</td>\n",
       "            </tr>\n",
       "            <tr>\n",
       "                        <th id=\"T_27310d12_9d22_11ea_b818_acde48001122level0_row1\" class=\"row_heading level0 row1\" >1</th>\n",
       "                        <td id=\"T_27310d12_9d22_11ea_b818_acde48001122row1_col0\" class=\"data row1 col0\" >tt10384606</td>\n",
       "                        <td id=\"T_27310d12_9d22_11ea_b818_acde48001122row1_col1\" class=\"data row1 col1\" >8.9</td>\n",
       "                        <td id=\"T_27310d12_9d22_11ea_b818_acde48001122row1_col2\" class=\"data row1 col2\" >559</td>\n",
       "            </tr>\n",
       "    </tbody></table>"
      ],
      "text/plain": [
       "<pandas.io.formats.style.Styler at 0x1a501f2898>"
      ]
     },
     "metadata": {},
     "output_type": "display_data"
    },
    {
     "name": "stdout",
     "output_type": "stream",
     "text": [
      "\n"
     ]
    },
    {
     "data": {
      "text/html": [
       "<style  type=\"text/css\" >\n",
       "</style><table id=\"T_273179be_9d22_11ea_862f_acde48001122\" ><caption>imdb.name.basics</caption><thead>    <tr>        <th class=\"blank level0\" ></th>        <th class=\"col_heading level0 col0\" >nconst</th>        <th class=\"col_heading level0 col1\" >primary_name</th>        <th class=\"col_heading level0 col2\" >birth_year</th>        <th class=\"col_heading level0 col3\" >death_year</th>        <th class=\"col_heading level0 col4\" >primary_profession</th>        <th class=\"col_heading level0 col5\" >known_for_titles</th>    </tr></thead><tbody>\n",
       "                <tr>\n",
       "                        <th id=\"T_273179be_9d22_11ea_862f_acde48001122level0_row0\" class=\"row_heading level0 row0\" >0</th>\n",
       "                        <td id=\"T_273179be_9d22_11ea_862f_acde48001122row0_col0\" class=\"data row0 col0\" >nm0061671</td>\n",
       "                        <td id=\"T_273179be_9d22_11ea_862f_acde48001122row0_col1\" class=\"data row0 col1\" >Mary Ellen Bauder</td>\n",
       "                        <td id=\"T_273179be_9d22_11ea_862f_acde48001122row0_col2\" class=\"data row0 col2\" >nan</td>\n",
       "                        <td id=\"T_273179be_9d22_11ea_862f_acde48001122row0_col3\" class=\"data row0 col3\" >nan</td>\n",
       "                        <td id=\"T_273179be_9d22_11ea_862f_acde48001122row0_col4\" class=\"data row0 col4\" >miscellaneous,production_manager,producer</td>\n",
       "                        <td id=\"T_273179be_9d22_11ea_862f_acde48001122row0_col5\" class=\"data row0 col5\" >tt0837562,tt2398241,tt0844471,tt0118553</td>\n",
       "            </tr>\n",
       "            <tr>\n",
       "                        <th id=\"T_273179be_9d22_11ea_862f_acde48001122level0_row1\" class=\"row_heading level0 row1\" >1</th>\n",
       "                        <td id=\"T_273179be_9d22_11ea_862f_acde48001122row1_col0\" class=\"data row1 col0\" >nm0061865</td>\n",
       "                        <td id=\"T_273179be_9d22_11ea_862f_acde48001122row1_col1\" class=\"data row1 col1\" >Joseph Bauer</td>\n",
       "                        <td id=\"T_273179be_9d22_11ea_862f_acde48001122row1_col2\" class=\"data row1 col2\" >nan</td>\n",
       "                        <td id=\"T_273179be_9d22_11ea_862f_acde48001122row1_col3\" class=\"data row1 col3\" >nan</td>\n",
       "                        <td id=\"T_273179be_9d22_11ea_862f_acde48001122row1_col4\" class=\"data row1 col4\" >composer,music_department,sound_department</td>\n",
       "                        <td id=\"T_273179be_9d22_11ea_862f_acde48001122row1_col5\" class=\"data row1 col5\" >tt0896534,tt6791238,tt0287072,tt1682940</td>\n",
       "            </tr>\n",
       "    </tbody></table>"
      ],
      "text/plain": [
       "<pandas.io.formats.style.Styler at 0x1a501f26d8>"
      ]
     },
     "metadata": {},
     "output_type": "display_data"
    },
    {
     "name": "stdout",
     "output_type": "stream",
     "text": [
      "\n"
     ]
    },
    {
     "data": {
      "text/html": [
       "<style  type=\"text/css\" >\n",
       "</style><table id=\"T_2731f2cc_9d22_11ea_bc35_acde48001122\" ><caption>rt.reviews.</caption><thead>    <tr>        <th class=\"blank level0\" ></th>        <th class=\"col_heading level0 col0\" >id</th>        <th class=\"col_heading level0 col1\" >review</th>        <th class=\"col_heading level0 col2\" >rating</th>        <th class=\"col_heading level0 col3\" >fresh</th>        <th class=\"col_heading level0 col4\" >critic</th>        <th class=\"col_heading level0 col5\" >top_critic</th>        <th class=\"col_heading level0 col6\" >publisher</th>        <th class=\"col_heading level0 col7\" >date</th>    </tr></thead><tbody>\n",
       "                <tr>\n",
       "                        <th id=\"T_2731f2cc_9d22_11ea_bc35_acde48001122level0_row0\" class=\"row_heading level0 row0\" >0</th>\n",
       "                        <td id=\"T_2731f2cc_9d22_11ea_bc35_acde48001122row0_col0\" class=\"data row0 col0\" >3</td>\n",
       "                        <td id=\"T_2731f2cc_9d22_11ea_bc35_acde48001122row0_col1\" class=\"data row0 col1\" >A distinctly gallows take on contemporary financial mores, as one absurdly rich man's limo ride across town for a haircut functions as a state-of-the-nation discourse. </td>\n",
       "                        <td id=\"T_2731f2cc_9d22_11ea_bc35_acde48001122row0_col2\" class=\"data row0 col2\" >3/5</td>\n",
       "                        <td id=\"T_2731f2cc_9d22_11ea_bc35_acde48001122row0_col3\" class=\"data row0 col3\" >fresh</td>\n",
       "                        <td id=\"T_2731f2cc_9d22_11ea_bc35_acde48001122row0_col4\" class=\"data row0 col4\" >PJ Nabarro</td>\n",
       "                        <td id=\"T_2731f2cc_9d22_11ea_bc35_acde48001122row0_col5\" class=\"data row0 col5\" >0</td>\n",
       "                        <td id=\"T_2731f2cc_9d22_11ea_bc35_acde48001122row0_col6\" class=\"data row0 col6\" >Patrick Nabarro</td>\n",
       "                        <td id=\"T_2731f2cc_9d22_11ea_bc35_acde48001122row0_col7\" class=\"data row0 col7\" >November 10, 2018</td>\n",
       "            </tr>\n",
       "            <tr>\n",
       "                        <th id=\"T_2731f2cc_9d22_11ea_bc35_acde48001122level0_row1\" class=\"row_heading level0 row1\" >1</th>\n",
       "                        <td id=\"T_2731f2cc_9d22_11ea_bc35_acde48001122row1_col0\" class=\"data row1 col0\" >3</td>\n",
       "                        <td id=\"T_2731f2cc_9d22_11ea_bc35_acde48001122row1_col1\" class=\"data row1 col1\" >It's an allegory in search of a meaning that never arrives...It's just old-fashioned bad storytelling.</td>\n",
       "                        <td id=\"T_2731f2cc_9d22_11ea_bc35_acde48001122row1_col2\" class=\"data row1 col2\" >nan</td>\n",
       "                        <td id=\"T_2731f2cc_9d22_11ea_bc35_acde48001122row1_col3\" class=\"data row1 col3\" >rotten</td>\n",
       "                        <td id=\"T_2731f2cc_9d22_11ea_bc35_acde48001122row1_col4\" class=\"data row1 col4\" >Annalee Newitz</td>\n",
       "                        <td id=\"T_2731f2cc_9d22_11ea_bc35_acde48001122row1_col5\" class=\"data row1 col5\" >0</td>\n",
       "                        <td id=\"T_2731f2cc_9d22_11ea_bc35_acde48001122row1_col6\" class=\"data row1 col6\" >io9.com</td>\n",
       "                        <td id=\"T_2731f2cc_9d22_11ea_bc35_acde48001122row1_col7\" class=\"data row1 col7\" >May 23, 2018</td>\n",
       "            </tr>\n",
       "    </tbody></table>"
      ],
      "text/plain": [
       "<pandas.io.formats.style.Styler at 0x1a1d0d3160>"
      ]
     },
     "metadata": {},
     "output_type": "display_data"
    },
    {
     "name": "stdout",
     "output_type": "stream",
     "text": [
      "\n"
     ]
    },
    {
     "data": {
      "text/html": [
       "<style  type=\"text/css\" >\n",
       "</style><table id=\"T_27326c98_9d22_11ea_8898_acde48001122\" ><caption>imdb.title.basics</caption><thead>    <tr>        <th class=\"blank level0\" ></th>        <th class=\"col_heading level0 col0\" >tconst</th>        <th class=\"col_heading level0 col1\" >primary_title</th>        <th class=\"col_heading level0 col2\" >original_title</th>        <th class=\"col_heading level0 col3\" >start_year</th>        <th class=\"col_heading level0 col4\" >runtime_minutes</th>        <th class=\"col_heading level0 col5\" >genres</th>    </tr></thead><tbody>\n",
       "                <tr>\n",
       "                        <th id=\"T_27326c98_9d22_11ea_8898_acde48001122level0_row0\" class=\"row_heading level0 row0\" >0</th>\n",
       "                        <td id=\"T_27326c98_9d22_11ea_8898_acde48001122row0_col0\" class=\"data row0 col0\" >tt0063540</td>\n",
       "                        <td id=\"T_27326c98_9d22_11ea_8898_acde48001122row0_col1\" class=\"data row0 col1\" >Sunghursh</td>\n",
       "                        <td id=\"T_27326c98_9d22_11ea_8898_acde48001122row0_col2\" class=\"data row0 col2\" >Sunghursh</td>\n",
       "                        <td id=\"T_27326c98_9d22_11ea_8898_acde48001122row0_col3\" class=\"data row0 col3\" >2013</td>\n",
       "                        <td id=\"T_27326c98_9d22_11ea_8898_acde48001122row0_col4\" class=\"data row0 col4\" >175</td>\n",
       "                        <td id=\"T_27326c98_9d22_11ea_8898_acde48001122row0_col5\" class=\"data row0 col5\" >Action,Crime,Drama</td>\n",
       "            </tr>\n",
       "            <tr>\n",
       "                        <th id=\"T_27326c98_9d22_11ea_8898_acde48001122level0_row1\" class=\"row_heading level0 row1\" >1</th>\n",
       "                        <td id=\"T_27326c98_9d22_11ea_8898_acde48001122row1_col0\" class=\"data row1 col0\" >tt0066787</td>\n",
       "                        <td id=\"T_27326c98_9d22_11ea_8898_acde48001122row1_col1\" class=\"data row1 col1\" >One Day Before the Rainy Season</td>\n",
       "                        <td id=\"T_27326c98_9d22_11ea_8898_acde48001122row1_col2\" class=\"data row1 col2\" >Ashad Ka Ek Din</td>\n",
       "                        <td id=\"T_27326c98_9d22_11ea_8898_acde48001122row1_col3\" class=\"data row1 col3\" >2019</td>\n",
       "                        <td id=\"T_27326c98_9d22_11ea_8898_acde48001122row1_col4\" class=\"data row1 col4\" >114</td>\n",
       "                        <td id=\"T_27326c98_9d22_11ea_8898_acde48001122row1_col5\" class=\"data row1 col5\" >Biography,Drama</td>\n",
       "            </tr>\n",
       "    </tbody></table>"
      ],
      "text/plain": [
       "<pandas.io.formats.style.Styler at 0x1a501f27f0>"
      ]
     },
     "metadata": {},
     "output_type": "display_data"
    },
    {
     "name": "stdout",
     "output_type": "stream",
     "text": [
      "\n"
     ]
    },
    {
     "data": {
      "text/html": [
       "<style  type=\"text/css\" >\n",
       "</style><table id=\"T_2732f174_9d22_11ea_b667_acde48001122\" ><caption>rt.movie_info.</caption><thead>    <tr>        <th class=\"blank level0\" ></th>        <th class=\"col_heading level0 col0\" >id</th>        <th class=\"col_heading level0 col1\" >synopsis</th>        <th class=\"col_heading level0 col2\" >rating</th>        <th class=\"col_heading level0 col3\" >genre</th>        <th class=\"col_heading level0 col4\" >director</th>        <th class=\"col_heading level0 col5\" >writer</th>        <th class=\"col_heading level0 col6\" >theater_date</th>        <th class=\"col_heading level0 col7\" >dvd_date</th>        <th class=\"col_heading level0 col8\" >currency</th>        <th class=\"col_heading level0 col9\" >box_office</th>        <th class=\"col_heading level0 col10\" >runtime</th>        <th class=\"col_heading level0 col11\" >studio</th>    </tr></thead><tbody>\n",
       "                <tr>\n",
       "                        <th id=\"T_2732f174_9d22_11ea_b667_acde48001122level0_row0\" class=\"row_heading level0 row0\" >0</th>\n",
       "                        <td id=\"T_2732f174_9d22_11ea_b667_acde48001122row0_col0\" class=\"data row0 col0\" >1</td>\n",
       "                        <td id=\"T_2732f174_9d22_11ea_b667_acde48001122row0_col1\" class=\"data row0 col1\" >This gritty, fast-paced, and innovative police drama earned five Academy Awards, including Best Picture, Best Adapted Screenplay (written by Ernest Tidyman), and Best Actor (Gene Hackman). Jimmy \"Popeye\" Doyle (Hackman) and his partner, Buddy Russo (Roy Scheider), are New York City police detectives on narcotics detail, trying to track down the source of heroin from Europe into the United States. Suave Alain Charnier (Fernando Rey) is the French drug kingpin who provides a large percentage of New York City's dope, and Pierre Nicoli (Marcel Bozzuffi) is a hired killer and Charnier's right-hand man. Acting on a hunch, Popeye and Buddy start tailing Sal Boca (Tony Lo Bianco) and his wife, Angie (Arlene Faber), who live pretty high for a couple whose corner store brings in about 7,000 dollars a year. It turns out Popeye's suspicions are right -- Sal and Angie are the New York agents for Charnier, who will be smuggling 32 million dollars' worth of heroin into the city in a car shipped over from France. The French Connection broke plenty of new ground for screen thrillers; Popeye Doyle was a highly unusual \"hero,\" an often violent, racist, and mean-spirited cop whose dedication to his job fell just short of dangerous obsession. The film's high point, a high-speed car chase with Popeye tailing an elevated train, was one of the most viscerally exciting screen moments of its day and set the stage for dozens of action sequences to follow. And the film's grimy realism (and downbeat ending) was a big change from the buff-and-shine gloss and good-guys-always-win heroics of most police dramas that preceded it. The French Connection was inspired by a true story, and Eddie Egan and Sonny Grosso, Popeye and Buddy's real life counterparts, both have small roles in the film. A sequel followed four years later.</td>\n",
       "                        <td id=\"T_2732f174_9d22_11ea_b667_acde48001122row0_col2\" class=\"data row0 col2\" >R</td>\n",
       "                        <td id=\"T_2732f174_9d22_11ea_b667_acde48001122row0_col3\" class=\"data row0 col3\" >Action and Adventure|Classics|Drama</td>\n",
       "                        <td id=\"T_2732f174_9d22_11ea_b667_acde48001122row0_col4\" class=\"data row0 col4\" >William Friedkin</td>\n",
       "                        <td id=\"T_2732f174_9d22_11ea_b667_acde48001122row0_col5\" class=\"data row0 col5\" >Ernest Tidyman</td>\n",
       "                        <td id=\"T_2732f174_9d22_11ea_b667_acde48001122row0_col6\" class=\"data row0 col6\" >Oct 9, 1971</td>\n",
       "                        <td id=\"T_2732f174_9d22_11ea_b667_acde48001122row0_col7\" class=\"data row0 col7\" >Sep 25, 2001</td>\n",
       "                        <td id=\"T_2732f174_9d22_11ea_b667_acde48001122row0_col8\" class=\"data row0 col8\" >nan</td>\n",
       "                        <td id=\"T_2732f174_9d22_11ea_b667_acde48001122row0_col9\" class=\"data row0 col9\" >nan</td>\n",
       "                        <td id=\"T_2732f174_9d22_11ea_b667_acde48001122row0_col10\" class=\"data row0 col10\" >104 minutes</td>\n",
       "                        <td id=\"T_2732f174_9d22_11ea_b667_acde48001122row0_col11\" class=\"data row0 col11\" >nan</td>\n",
       "            </tr>\n",
       "            <tr>\n",
       "                        <th id=\"T_2732f174_9d22_11ea_b667_acde48001122level0_row1\" class=\"row_heading level0 row1\" >1</th>\n",
       "                        <td id=\"T_2732f174_9d22_11ea_b667_acde48001122row1_col0\" class=\"data row1 col0\" >3</td>\n",
       "                        <td id=\"T_2732f174_9d22_11ea_b667_acde48001122row1_col1\" class=\"data row1 col1\" >New York City, not-too-distant-future: Eric Packer, a 28 year-old finance golden boy dreaming of living in a civilization ahead of this one, watches a dark shadow cast over the firmament of the Wall Street galaxy, of which he is the uncontested king. As he is chauffeured across midtown Manhattan to get a haircut at his father's old barber, his anxious eyes are glued to the yuan's exchange rate: it is mounting against all expectations, destroying Eric's bet against it. Eric Packer is losing his empire with every tick of the clock. Meanwhile, an eruption of wild activity unfolds in the city's streets. Petrified as the threats of the real world infringe upon his cloud of virtual convictions, his paranoia intensifies during the course of his 24-hour cross-town odyssey. Packer starts to piece together clues that lead him to a most terrifying secret: his imminent assassination. -- (C) Official Site</td>\n",
       "                        <td id=\"T_2732f174_9d22_11ea_b667_acde48001122row1_col2\" class=\"data row1 col2\" >R</td>\n",
       "                        <td id=\"T_2732f174_9d22_11ea_b667_acde48001122row1_col3\" class=\"data row1 col3\" >Drama|Science Fiction and Fantasy</td>\n",
       "                        <td id=\"T_2732f174_9d22_11ea_b667_acde48001122row1_col4\" class=\"data row1 col4\" >David Cronenberg</td>\n",
       "                        <td id=\"T_2732f174_9d22_11ea_b667_acde48001122row1_col5\" class=\"data row1 col5\" >David Cronenberg|Don DeLillo</td>\n",
       "                        <td id=\"T_2732f174_9d22_11ea_b667_acde48001122row1_col6\" class=\"data row1 col6\" >Aug 17, 2012</td>\n",
       "                        <td id=\"T_2732f174_9d22_11ea_b667_acde48001122row1_col7\" class=\"data row1 col7\" >Jan 1, 2013</td>\n",
       "                        <td id=\"T_2732f174_9d22_11ea_b667_acde48001122row1_col8\" class=\"data row1 col8\" >$</td>\n",
       "                        <td id=\"T_2732f174_9d22_11ea_b667_acde48001122row1_col9\" class=\"data row1 col9\" >600,000</td>\n",
       "                        <td id=\"T_2732f174_9d22_11ea_b667_acde48001122row1_col10\" class=\"data row1 col10\" >108 minutes</td>\n",
       "                        <td id=\"T_2732f174_9d22_11ea_b667_acde48001122row1_col11\" class=\"data row1 col11\" >Entertainment One</td>\n",
       "            </tr>\n",
       "    </tbody></table>"
      ],
      "text/plain": [
       "<pandas.io.formats.style.Styler at 0x1a501f2518>"
      ]
     },
     "metadata": {},
     "output_type": "display_data"
    },
    {
     "name": "stdout",
     "output_type": "stream",
     "text": [
      "\n"
     ]
    },
    {
     "data": {
      "text/html": [
       "<style  type=\"text/css\" >\n",
       "</style><table id=\"T_273382f4_9d22_11ea_8b1f_acde48001122\" ><caption>tn.movie_budgets</caption><thead>    <tr>        <th class=\"blank level0\" ></th>        <th class=\"col_heading level0 col0\" >id</th>        <th class=\"col_heading level0 col1\" >release_date</th>        <th class=\"col_heading level0 col2\" >movie</th>        <th class=\"col_heading level0 col3\" >production_budget</th>        <th class=\"col_heading level0 col4\" >domestic_gross</th>        <th class=\"col_heading level0 col5\" >worldwide_gross</th>    </tr></thead><tbody>\n",
       "                <tr>\n",
       "                        <th id=\"T_273382f4_9d22_11ea_8b1f_acde48001122level0_row0\" class=\"row_heading level0 row0\" >0</th>\n",
       "                        <td id=\"T_273382f4_9d22_11ea_8b1f_acde48001122row0_col0\" class=\"data row0 col0\" >1</td>\n",
       "                        <td id=\"T_273382f4_9d22_11ea_8b1f_acde48001122row0_col1\" class=\"data row0 col1\" >Dec 18, 2009</td>\n",
       "                        <td id=\"T_273382f4_9d22_11ea_8b1f_acde48001122row0_col2\" class=\"data row0 col2\" >Avatar</td>\n",
       "                        <td id=\"T_273382f4_9d22_11ea_8b1f_acde48001122row0_col3\" class=\"data row0 col3\" >$425,000,000</td>\n",
       "                        <td id=\"T_273382f4_9d22_11ea_8b1f_acde48001122row0_col4\" class=\"data row0 col4\" >$760,507,625</td>\n",
       "                        <td id=\"T_273382f4_9d22_11ea_8b1f_acde48001122row0_col5\" class=\"data row0 col5\" >$2,776,345,279</td>\n",
       "            </tr>\n",
       "            <tr>\n",
       "                        <th id=\"T_273382f4_9d22_11ea_8b1f_acde48001122level0_row1\" class=\"row_heading level0 row1\" >1</th>\n",
       "                        <td id=\"T_273382f4_9d22_11ea_8b1f_acde48001122row1_col0\" class=\"data row1 col0\" >2</td>\n",
       "                        <td id=\"T_273382f4_9d22_11ea_8b1f_acde48001122row1_col1\" class=\"data row1 col1\" >May 20, 2011</td>\n",
       "                        <td id=\"T_273382f4_9d22_11ea_8b1f_acde48001122row1_col2\" class=\"data row1 col2\" >Pirates of the Caribbean: On Stranger Tides</td>\n",
       "                        <td id=\"T_273382f4_9d22_11ea_8b1f_acde48001122row1_col3\" class=\"data row1 col3\" >$410,600,000</td>\n",
       "                        <td id=\"T_273382f4_9d22_11ea_8b1f_acde48001122row1_col4\" class=\"data row1 col4\" >$241,063,875</td>\n",
       "                        <td id=\"T_273382f4_9d22_11ea_8b1f_acde48001122row1_col5\" class=\"data row1 col5\" >$1,045,663,875</td>\n",
       "            </tr>\n",
       "    </tbody></table>"
      ],
      "text/plain": [
       "<pandas.io.formats.style.Styler at 0x1a501f2240>"
      ]
     },
     "metadata": {},
     "output_type": "display_data"
    },
    {
     "name": "stdout",
     "output_type": "stream",
     "text": [
      "\n"
     ]
    },
    {
     "data": {
      "text/html": [
       "<style  type=\"text/css\" >\n",
       "</style><table id=\"T_2733f6ee_9d22_11ea_a04e_acde48001122\" ><caption>bom.movie_gross</caption><thead>    <tr>        <th class=\"blank level0\" ></th>        <th class=\"col_heading level0 col0\" >title</th>        <th class=\"col_heading level0 col1\" >studio</th>        <th class=\"col_heading level0 col2\" >domestic_gross</th>        <th class=\"col_heading level0 col3\" >foreign_gross</th>        <th class=\"col_heading level0 col4\" >year</th>    </tr></thead><tbody>\n",
       "                <tr>\n",
       "                        <th id=\"T_2733f6ee_9d22_11ea_a04e_acde48001122level0_row0\" class=\"row_heading level0 row0\" >0</th>\n",
       "                        <td id=\"T_2733f6ee_9d22_11ea_a04e_acde48001122row0_col0\" class=\"data row0 col0\" >Toy Story 3</td>\n",
       "                        <td id=\"T_2733f6ee_9d22_11ea_a04e_acde48001122row0_col1\" class=\"data row0 col1\" >BV</td>\n",
       "                        <td id=\"T_2733f6ee_9d22_11ea_a04e_acde48001122row0_col2\" class=\"data row0 col2\" >4.15e+08</td>\n",
       "                        <td id=\"T_2733f6ee_9d22_11ea_a04e_acde48001122row0_col3\" class=\"data row0 col3\" >652000000</td>\n",
       "                        <td id=\"T_2733f6ee_9d22_11ea_a04e_acde48001122row0_col4\" class=\"data row0 col4\" >2010</td>\n",
       "            </tr>\n",
       "            <tr>\n",
       "                        <th id=\"T_2733f6ee_9d22_11ea_a04e_acde48001122level0_row1\" class=\"row_heading level0 row1\" >1</th>\n",
       "                        <td id=\"T_2733f6ee_9d22_11ea_a04e_acde48001122row1_col0\" class=\"data row1 col0\" >Alice in Wonderland (2010)</td>\n",
       "                        <td id=\"T_2733f6ee_9d22_11ea_a04e_acde48001122row1_col1\" class=\"data row1 col1\" >BV</td>\n",
       "                        <td id=\"T_2733f6ee_9d22_11ea_a04e_acde48001122row1_col2\" class=\"data row1 col2\" >3.342e+08</td>\n",
       "                        <td id=\"T_2733f6ee_9d22_11ea_a04e_acde48001122row1_col3\" class=\"data row1 col3\" >691300000</td>\n",
       "                        <td id=\"T_2733f6ee_9d22_11ea_a04e_acde48001122row1_col4\" class=\"data row1 col4\" >2010</td>\n",
       "            </tr>\n",
       "    </tbody></table>"
      ],
      "text/plain": [
       "<pandas.io.formats.style.Styler at 0x1a501f22b0>"
      ]
     },
     "metadata": {},
     "output_type": "display_data"
    },
    {
     "name": "stdout",
     "output_type": "stream",
     "text": [
      "\n"
     ]
    },
    {
     "data": {
      "text/html": [
       "<style  type=\"text/css\" >\n",
       "</style><table id=\"T_27345c88_9d22_11ea_94e1_acde48001122\" ><caption>imdb.title.principals</caption><thead>    <tr>        <th class=\"blank level0\" ></th>        <th class=\"col_heading level0 col0\" >tconst</th>        <th class=\"col_heading level0 col1\" >ordering</th>        <th class=\"col_heading level0 col2\" >nconst</th>        <th class=\"col_heading level0 col3\" >category</th>        <th class=\"col_heading level0 col4\" >job</th>        <th class=\"col_heading level0 col5\" >characters</th>    </tr></thead><tbody>\n",
       "                <tr>\n",
       "                        <th id=\"T_27345c88_9d22_11ea_94e1_acde48001122level0_row0\" class=\"row_heading level0 row0\" >0</th>\n",
       "                        <td id=\"T_27345c88_9d22_11ea_94e1_acde48001122row0_col0\" class=\"data row0 col0\" >tt0111414</td>\n",
       "                        <td id=\"T_27345c88_9d22_11ea_94e1_acde48001122row0_col1\" class=\"data row0 col1\" >1</td>\n",
       "                        <td id=\"T_27345c88_9d22_11ea_94e1_acde48001122row0_col2\" class=\"data row0 col2\" >nm0246005</td>\n",
       "                        <td id=\"T_27345c88_9d22_11ea_94e1_acde48001122row0_col3\" class=\"data row0 col3\" >actor</td>\n",
       "                        <td id=\"T_27345c88_9d22_11ea_94e1_acde48001122row0_col4\" class=\"data row0 col4\" >nan</td>\n",
       "                        <td id=\"T_27345c88_9d22_11ea_94e1_acde48001122row0_col5\" class=\"data row0 col5\" >[\"The Man\"]</td>\n",
       "            </tr>\n",
       "            <tr>\n",
       "                        <th id=\"T_27345c88_9d22_11ea_94e1_acde48001122level0_row1\" class=\"row_heading level0 row1\" >1</th>\n",
       "                        <td id=\"T_27345c88_9d22_11ea_94e1_acde48001122row1_col0\" class=\"data row1 col0\" >tt0111414</td>\n",
       "                        <td id=\"T_27345c88_9d22_11ea_94e1_acde48001122row1_col1\" class=\"data row1 col1\" >2</td>\n",
       "                        <td id=\"T_27345c88_9d22_11ea_94e1_acde48001122row1_col2\" class=\"data row1 col2\" >nm0398271</td>\n",
       "                        <td id=\"T_27345c88_9d22_11ea_94e1_acde48001122row1_col3\" class=\"data row1 col3\" >director</td>\n",
       "                        <td id=\"T_27345c88_9d22_11ea_94e1_acde48001122row1_col4\" class=\"data row1 col4\" >nan</td>\n",
       "                        <td id=\"T_27345c88_9d22_11ea_94e1_acde48001122row1_col5\" class=\"data row1 col5\" >nan</td>\n",
       "            </tr>\n",
       "    </tbody></table>"
      ],
      "text/plain": [
       "<pandas.io.formats.style.Styler at 0x1a501f2278>"
      ]
     },
     "metadata": {},
     "output_type": "display_data"
    },
    {
     "name": "stdout",
     "output_type": "stream",
     "text": [
      "\n"
     ]
    }
   ],
   "source": [
    "for tablename, data in DATA.items():\n",
    "#     print('---'*20+'\\n'+f\"{tablename}:\")\n",
    "    display(data.head(2).style.set_caption(f\"{tablename}\"))\n",
    "    print()"
   ]
  },
  {
   "cell_type": "code",
   "execution_count": 35,
   "metadata": {
    "ExecuteTime": {
     "end_time": "2020-05-23T18:21:00.066092Z",
     "start_time": "2020-05-23T18:21:00.047533Z"
    }
   },
   "outputs": [
    {
     "data": {
      "text/html": [
       "<div>\n",
       "<style scoped>\n",
       "    .dataframe tbody tr th:only-of-type {\n",
       "        vertical-align: middle;\n",
       "    }\n",
       "\n",
       "    .dataframe tbody tr th {\n",
       "        vertical-align: top;\n",
       "    }\n",
       "\n",
       "    .dataframe thead th {\n",
       "        text-align: right;\n",
       "    }\n",
       "</style>\n",
       "<table border=\"1\" class=\"dataframe\">\n",
       "  <thead>\n",
       "    <tr style=\"text-align: right;\">\n",
       "      <th></th>\n",
       "      <th>id</th>\n",
       "      <th>synopsis</th>\n",
       "      <th>rating</th>\n",
       "      <th>genre</th>\n",
       "      <th>director</th>\n",
       "      <th>writer</th>\n",
       "      <th>theater_date</th>\n",
       "      <th>dvd_date</th>\n",
       "      <th>currency</th>\n",
       "      <th>box_office</th>\n",
       "      <th>runtime</th>\n",
       "      <th>studio</th>\n",
       "    </tr>\n",
       "  </thead>\n",
       "  <tbody>\n",
       "    <tr>\n",
       "      <td>0</td>\n",
       "      <td>1</td>\n",
       "      <td>This gritty, fast-paced, and innovative police...</td>\n",
       "      <td>R</td>\n",
       "      <td>Action and Adventure|Classics|Drama</td>\n",
       "      <td>William Friedkin</td>\n",
       "      <td>Ernest Tidyman</td>\n",
       "      <td>Oct 9, 1971</td>\n",
       "      <td>Sep 25, 2001</td>\n",
       "      <td>NaN</td>\n",
       "      <td>NaN</td>\n",
       "      <td>104 minutes</td>\n",
       "      <td>NaN</td>\n",
       "    </tr>\n",
       "    <tr>\n",
       "      <td>1</td>\n",
       "      <td>3</td>\n",
       "      <td>New York City, not-too-distant-future: Eric Pa...</td>\n",
       "      <td>R</td>\n",
       "      <td>Drama|Science Fiction and Fantasy</td>\n",
       "      <td>David Cronenberg</td>\n",
       "      <td>David Cronenberg|Don DeLillo</td>\n",
       "      <td>Aug 17, 2012</td>\n",
       "      <td>Jan 1, 2013</td>\n",
       "      <td>$</td>\n",
       "      <td>600,000</td>\n",
       "      <td>108 minutes</td>\n",
       "      <td>Entertainment One</td>\n",
       "    </tr>\n",
       "    <tr>\n",
       "      <td>2</td>\n",
       "      <td>5</td>\n",
       "      <td>Illeana Douglas delivers a superb performance ...</td>\n",
       "      <td>R</td>\n",
       "      <td>Drama|Musical and Performing Arts</td>\n",
       "      <td>Allison Anders</td>\n",
       "      <td>Allison Anders</td>\n",
       "      <td>Sep 13, 1996</td>\n",
       "      <td>Apr 18, 2000</td>\n",
       "      <td>NaN</td>\n",
       "      <td>NaN</td>\n",
       "      <td>116 minutes</td>\n",
       "      <td>NaN</td>\n",
       "    </tr>\n",
       "    <tr>\n",
       "      <td>3</td>\n",
       "      <td>6</td>\n",
       "      <td>Michael Douglas runs afoul of a treacherous su...</td>\n",
       "      <td>R</td>\n",
       "      <td>Drama|Mystery and Suspense</td>\n",
       "      <td>Barry Levinson</td>\n",
       "      <td>Paul Attanasio|Michael Crichton</td>\n",
       "      <td>Dec 9, 1994</td>\n",
       "      <td>Aug 27, 1997</td>\n",
       "      <td>NaN</td>\n",
       "      <td>NaN</td>\n",
       "      <td>128 minutes</td>\n",
       "      <td>NaN</td>\n",
       "    </tr>\n",
       "    <tr>\n",
       "      <td>4</td>\n",
       "      <td>7</td>\n",
       "      <td>NaN</td>\n",
       "      <td>NR</td>\n",
       "      <td>Drama|Romance</td>\n",
       "      <td>Rodney Bennett</td>\n",
       "      <td>Giles Cooper</td>\n",
       "      <td>NaN</td>\n",
       "      <td>NaN</td>\n",
       "      <td>NaN</td>\n",
       "      <td>NaN</td>\n",
       "      <td>200 minutes</td>\n",
       "      <td>NaN</td>\n",
       "    </tr>\n",
       "    <tr>\n",
       "      <td>...</td>\n",
       "      <td>...</td>\n",
       "      <td>...</td>\n",
       "      <td>...</td>\n",
       "      <td>...</td>\n",
       "      <td>...</td>\n",
       "      <td>...</td>\n",
       "      <td>...</td>\n",
       "      <td>...</td>\n",
       "      <td>...</td>\n",
       "      <td>...</td>\n",
       "      <td>...</td>\n",
       "      <td>...</td>\n",
       "    </tr>\n",
       "    <tr>\n",
       "      <td>1555</td>\n",
       "      <td>1996</td>\n",
       "      <td>Forget terrorists or hijackers -- there's a ha...</td>\n",
       "      <td>R</td>\n",
       "      <td>Action and Adventure|Horror|Mystery and Suspense</td>\n",
       "      <td>NaN</td>\n",
       "      <td>NaN</td>\n",
       "      <td>Aug 18, 2006</td>\n",
       "      <td>Jan 2, 2007</td>\n",
       "      <td>$</td>\n",
       "      <td>33,886,034</td>\n",
       "      <td>106 minutes</td>\n",
       "      <td>New Line Cinema</td>\n",
       "    </tr>\n",
       "    <tr>\n",
       "      <td>1556</td>\n",
       "      <td>1997</td>\n",
       "      <td>The popular Saturday Night Live sketch was exp...</td>\n",
       "      <td>PG</td>\n",
       "      <td>Comedy|Science Fiction and Fantasy</td>\n",
       "      <td>Steve Barron</td>\n",
       "      <td>Terry Turner|Tom Davis|Dan Aykroyd|Bonnie Turner</td>\n",
       "      <td>Jul 23, 1993</td>\n",
       "      <td>Apr 17, 2001</td>\n",
       "      <td>NaN</td>\n",
       "      <td>NaN</td>\n",
       "      <td>88 minutes</td>\n",
       "      <td>Paramount Vantage</td>\n",
       "    </tr>\n",
       "    <tr>\n",
       "      <td>1557</td>\n",
       "      <td>1998</td>\n",
       "      <td>Based on a novel by Richard Powell, when the l...</td>\n",
       "      <td>G</td>\n",
       "      <td>Classics|Comedy|Drama|Musical and Performing Arts</td>\n",
       "      <td>Gordon Douglas</td>\n",
       "      <td>NaN</td>\n",
       "      <td>Jan 1, 1962</td>\n",
       "      <td>May 11, 2004</td>\n",
       "      <td>NaN</td>\n",
       "      <td>NaN</td>\n",
       "      <td>111 minutes</td>\n",
       "      <td>NaN</td>\n",
       "    </tr>\n",
       "    <tr>\n",
       "      <td>1558</td>\n",
       "      <td>1999</td>\n",
       "      <td>The Sandlot is a coming-of-age story about a g...</td>\n",
       "      <td>PG</td>\n",
       "      <td>Comedy|Drama|Kids and Family|Sports and Fitness</td>\n",
       "      <td>David Mickey Evans</td>\n",
       "      <td>David Mickey Evans|Robert Gunter</td>\n",
       "      <td>Apr 1, 1993</td>\n",
       "      <td>Jan 29, 2002</td>\n",
       "      <td>NaN</td>\n",
       "      <td>NaN</td>\n",
       "      <td>101 minutes</td>\n",
       "      <td>NaN</td>\n",
       "    </tr>\n",
       "    <tr>\n",
       "      <td>1559</td>\n",
       "      <td>2000</td>\n",
       "      <td>Suspended from the force, Paris cop Hubert is ...</td>\n",
       "      <td>R</td>\n",
       "      <td>Action and Adventure|Art House and Internation...</td>\n",
       "      <td>NaN</td>\n",
       "      <td>Luc Besson</td>\n",
       "      <td>Sep 27, 2001</td>\n",
       "      <td>Feb 11, 2003</td>\n",
       "      <td>NaN</td>\n",
       "      <td>NaN</td>\n",
       "      <td>94 minutes</td>\n",
       "      <td>Columbia Pictures</td>\n",
       "    </tr>\n",
       "  </tbody>\n",
       "</table>\n",
       "<p>1560 rows × 12 columns</p>\n",
       "</div>"
      ],
      "text/plain": [
       "        id                                           synopsis rating  \\\n",
       "0        1  This gritty, fast-paced, and innovative police...      R   \n",
       "1        3  New York City, not-too-distant-future: Eric Pa...      R   \n",
       "2        5  Illeana Douglas delivers a superb performance ...      R   \n",
       "3        6  Michael Douglas runs afoul of a treacherous su...      R   \n",
       "4        7                                                NaN     NR   \n",
       "...    ...                                                ...    ...   \n",
       "1555  1996  Forget terrorists or hijackers -- there's a ha...      R   \n",
       "1556  1997  The popular Saturday Night Live sketch was exp...     PG   \n",
       "1557  1998  Based on a novel by Richard Powell, when the l...      G   \n",
       "1558  1999  The Sandlot is a coming-of-age story about a g...     PG   \n",
       "1559  2000  Suspended from the force, Paris cop Hubert is ...      R   \n",
       "\n",
       "                                                  genre            director  \\\n",
       "0                   Action and Adventure|Classics|Drama    William Friedkin   \n",
       "1                     Drama|Science Fiction and Fantasy    David Cronenberg   \n",
       "2                     Drama|Musical and Performing Arts      Allison Anders   \n",
       "3                            Drama|Mystery and Suspense      Barry Levinson   \n",
       "4                                         Drama|Romance      Rodney Bennett   \n",
       "...                                                 ...                 ...   \n",
       "1555   Action and Adventure|Horror|Mystery and Suspense                 NaN   \n",
       "1556                 Comedy|Science Fiction and Fantasy        Steve Barron   \n",
       "1557  Classics|Comedy|Drama|Musical and Performing Arts      Gordon Douglas   \n",
       "1558    Comedy|Drama|Kids and Family|Sports and Fitness  David Mickey Evans   \n",
       "1559  Action and Adventure|Art House and Internation...                 NaN   \n",
       "\n",
       "                                                writer  theater_date  \\\n",
       "0                                       Ernest Tidyman   Oct 9, 1971   \n",
       "1                         David Cronenberg|Don DeLillo  Aug 17, 2012   \n",
       "2                                       Allison Anders  Sep 13, 1996   \n",
       "3                      Paul Attanasio|Michael Crichton   Dec 9, 1994   \n",
       "4                                         Giles Cooper           NaN   \n",
       "...                                                ...           ...   \n",
       "1555                                               NaN  Aug 18, 2006   \n",
       "1556  Terry Turner|Tom Davis|Dan Aykroyd|Bonnie Turner  Jul 23, 1993   \n",
       "1557                                               NaN   Jan 1, 1962   \n",
       "1558                  David Mickey Evans|Robert Gunter   Apr 1, 1993   \n",
       "1559                                        Luc Besson  Sep 27, 2001   \n",
       "\n",
       "          dvd_date currency  box_office      runtime             studio  \n",
       "0     Sep 25, 2001      NaN         NaN  104 minutes                NaN  \n",
       "1      Jan 1, 2013        $     600,000  108 minutes  Entertainment One  \n",
       "2     Apr 18, 2000      NaN         NaN  116 minutes                NaN  \n",
       "3     Aug 27, 1997      NaN         NaN  128 minutes                NaN  \n",
       "4              NaN      NaN         NaN  200 minutes                NaN  \n",
       "...            ...      ...         ...          ...                ...  \n",
       "1555   Jan 2, 2007        $  33,886,034  106 minutes    New Line Cinema  \n",
       "1556  Apr 17, 2001      NaN         NaN   88 minutes  Paramount Vantage  \n",
       "1557  May 11, 2004      NaN         NaN  111 minutes                NaN  \n",
       "1558  Jan 29, 2002      NaN         NaN  101 minutes                NaN  \n",
       "1559  Feb 11, 2003      NaN         NaN   94 minutes  Columbia Pictures  \n",
       "\n",
       "[1560 rows x 12 columns]"
      ]
     },
     "execution_count": 35,
     "metadata": {},
     "output_type": "execute_result"
    }
   ],
   "source": [
    "dfrt = DATA['rt.movie_info.'].copy()\n",
    "dfrt"
   ]
  },
  {
   "cell_type": "markdown",
   "metadata": {},
   "source": [
    "## Questions\n",
    "\n",
    "- **Where are the gross box office numbers?**\n",
    "    - rt.movie_info.\n",
    "        - Key: ?\n",
    "        \n",
    "    - tn.movie_budgets\n",
    "        - Key:\n",
    "        \n",
    "    - bom.movie_gross\n",
    "        - Key: \n",
    "        \n",
    "- **What website is that table from?**\n",
    "    - What other tables are from the same source and can be joined easily?\n",
    "\n",
    "- **What columns may require extensive pre-processing?**\n",
    "    - Any Genre columns\n",
    "        - `rt.movie.info.['genre']`"
   ]
  },
  {
   "cell_type": "code",
   "execution_count": 90,
   "metadata": {
    "ExecuteTime": {
     "end_time": "2020-05-23T18:41:46.680041Z",
     "start_time": "2020-05-23T18:41:46.666898Z"
    }
   },
   "outputs": [
    {
     "data": {
      "text/html": [
       "<div>\n",
       "<style scoped>\n",
       "    .dataframe tbody tr th:only-of-type {\n",
       "        vertical-align: middle;\n",
       "    }\n",
       "\n",
       "    .dataframe tbody tr th {\n",
       "        vertical-align: top;\n",
       "    }\n",
       "\n",
       "    .dataframe thead th {\n",
       "        text-align: right;\n",
       "    }\n",
       "</style>\n",
       "<table border=\"1\" class=\"dataframe\">\n",
       "  <thead>\n",
       "    <tr style=\"text-align: right;\">\n",
       "      <th></th>\n",
       "      <th>id</th>\n",
       "      <th>release_date</th>\n",
       "      <th>movie</th>\n",
       "      <th>production_budget</th>\n",
       "      <th>domestic_gross</th>\n",
       "      <th>worldwide_gross</th>\n",
       "    </tr>\n",
       "  </thead>\n",
       "  <tbody>\n",
       "    <tr>\n",
       "      <td>0</td>\n",
       "      <td>1</td>\n",
       "      <td>Dec 18, 2009</td>\n",
       "      <td>Avatar</td>\n",
       "      <td>$425,000,000</td>\n",
       "      <td>$760,507,625</td>\n",
       "      <td>$2,776,345,279</td>\n",
       "    </tr>\n",
       "    <tr>\n",
       "      <td>1</td>\n",
       "      <td>2</td>\n",
       "      <td>May 20, 2011</td>\n",
       "      <td>Pirates of the Caribbean: On Stranger Tides</td>\n",
       "      <td>$410,600,000</td>\n",
       "      <td>$241,063,875</td>\n",
       "      <td>$1,045,663,875</td>\n",
       "    </tr>\n",
       "    <tr>\n",
       "      <td>2</td>\n",
       "      <td>3</td>\n",
       "      <td>Jun 7, 2019</td>\n",
       "      <td>Dark Phoenix</td>\n",
       "      <td>$350,000,000</td>\n",
       "      <td>$42,762,350</td>\n",
       "      <td>$149,762,350</td>\n",
       "    </tr>\n",
       "    <tr>\n",
       "      <td>3</td>\n",
       "      <td>4</td>\n",
       "      <td>May 1, 2015</td>\n",
       "      <td>Avengers: Age of Ultron</td>\n",
       "      <td>$330,600,000</td>\n",
       "      <td>$459,005,868</td>\n",
       "      <td>$1,403,013,963</td>\n",
       "    </tr>\n",
       "    <tr>\n",
       "      <td>4</td>\n",
       "      <td>5</td>\n",
       "      <td>Dec 15, 2017</td>\n",
       "      <td>Star Wars Ep. VIII: The Last Jedi</td>\n",
       "      <td>$317,000,000</td>\n",
       "      <td>$620,181,382</td>\n",
       "      <td>$1,316,721,747</td>\n",
       "    </tr>\n",
       "    <tr>\n",
       "      <td>...</td>\n",
       "      <td>...</td>\n",
       "      <td>...</td>\n",
       "      <td>...</td>\n",
       "      <td>...</td>\n",
       "      <td>...</td>\n",
       "      <td>...</td>\n",
       "    </tr>\n",
       "    <tr>\n",
       "      <td>5777</td>\n",
       "      <td>78</td>\n",
       "      <td>Dec 31, 2018</td>\n",
       "      <td>Red 11</td>\n",
       "      <td>$7,000</td>\n",
       "      <td>$0</td>\n",
       "      <td>$0</td>\n",
       "    </tr>\n",
       "    <tr>\n",
       "      <td>5778</td>\n",
       "      <td>79</td>\n",
       "      <td>Apr 2, 1999</td>\n",
       "      <td>Following</td>\n",
       "      <td>$6,000</td>\n",
       "      <td>$48,482</td>\n",
       "      <td>$240,495</td>\n",
       "    </tr>\n",
       "    <tr>\n",
       "      <td>5779</td>\n",
       "      <td>80</td>\n",
       "      <td>Jul 13, 2005</td>\n",
       "      <td>Return to the Land of Wonders</td>\n",
       "      <td>$5,000</td>\n",
       "      <td>$1,338</td>\n",
       "      <td>$1,338</td>\n",
       "    </tr>\n",
       "    <tr>\n",
       "      <td>5780</td>\n",
       "      <td>81</td>\n",
       "      <td>Sep 29, 2015</td>\n",
       "      <td>A Plague So Pleasant</td>\n",
       "      <td>$1,400</td>\n",
       "      <td>$0</td>\n",
       "      <td>$0</td>\n",
       "    </tr>\n",
       "    <tr>\n",
       "      <td>5781</td>\n",
       "      <td>82</td>\n",
       "      <td>Aug 5, 2005</td>\n",
       "      <td>My Date With Drew</td>\n",
       "      <td>$1,100</td>\n",
       "      <td>$181,041</td>\n",
       "      <td>$181,041</td>\n",
       "    </tr>\n",
       "  </tbody>\n",
       "</table>\n",
       "<p>5782 rows × 6 columns</p>\n",
       "</div>"
      ],
      "text/plain": [
       "      id  release_date                                        movie  \\\n",
       "0      1  Dec 18, 2009                                       Avatar   \n",
       "1      2  May 20, 2011  Pirates of the Caribbean: On Stranger Tides   \n",
       "2      3   Jun 7, 2019                                 Dark Phoenix   \n",
       "3      4   May 1, 2015                      Avengers: Age of Ultron   \n",
       "4      5  Dec 15, 2017            Star Wars Ep. VIII: The Last Jedi   \n",
       "...   ..           ...                                          ...   \n",
       "5777  78  Dec 31, 2018                                       Red 11   \n",
       "5778  79   Apr 2, 1999                                    Following   \n",
       "5779  80  Jul 13, 2005                Return to the Land of Wonders   \n",
       "5780  81  Sep 29, 2015                         A Plague So Pleasant   \n",
       "5781  82   Aug 5, 2005                            My Date With Drew   \n",
       "\n",
       "     production_budget domestic_gross worldwide_gross  \n",
       "0         $425,000,000   $760,507,625  $2,776,345,279  \n",
       "1         $410,600,000   $241,063,875  $1,045,663,875  \n",
       "2         $350,000,000    $42,762,350    $149,762,350  \n",
       "3         $330,600,000   $459,005,868  $1,403,013,963  \n",
       "4         $317,000,000   $620,181,382  $1,316,721,747  \n",
       "...                ...            ...             ...  \n",
       "5777            $7,000             $0              $0  \n",
       "5778            $6,000        $48,482        $240,495  \n",
       "5779            $5,000         $1,338          $1,338  \n",
       "5780            $1,400             $0              $0  \n",
       "5781            $1,100       $181,041        $181,041  \n",
       "\n",
       "[5782 rows x 6 columns]"
      ]
     },
     "execution_count": 90,
     "metadata": {},
     "output_type": "execute_result"
    }
   ],
   "source": [
    "tn_budgets = DATA['tn.movie_budgets'].copy()\n",
    "tn_budgets"
   ]
  },
  {
   "cell_type": "code",
   "execution_count": 91,
   "metadata": {
    "ExecuteTime": {
     "end_time": "2020-05-23T18:41:53.574565Z",
     "start_time": "2020-05-23T18:41:53.560820Z"
    }
   },
   "outputs": [
    {
     "data": {
      "text/html": [
       "<div>\n",
       "<style scoped>\n",
       "    .dataframe tbody tr th:only-of-type {\n",
       "        vertical-align: middle;\n",
       "    }\n",
       "\n",
       "    .dataframe tbody tr th {\n",
       "        vertical-align: top;\n",
       "    }\n",
       "\n",
       "    .dataframe thead th {\n",
       "        text-align: right;\n",
       "    }\n",
       "</style>\n",
       "<table border=\"1\" class=\"dataframe\">\n",
       "  <thead>\n",
       "    <tr style=\"text-align: right;\">\n",
       "      <th></th>\n",
       "      <th>title</th>\n",
       "      <th>studio</th>\n",
       "      <th>domestic_gross</th>\n",
       "      <th>foreign_gross</th>\n",
       "      <th>year</th>\n",
       "    </tr>\n",
       "  </thead>\n",
       "  <tbody>\n",
       "    <tr>\n",
       "      <td>0</td>\n",
       "      <td>Toy Story 3</td>\n",
       "      <td>BV</td>\n",
       "      <td>415000000.0</td>\n",
       "      <td>652000000</td>\n",
       "      <td>2010</td>\n",
       "    </tr>\n",
       "    <tr>\n",
       "      <td>1</td>\n",
       "      <td>Alice in Wonderland (2010)</td>\n",
       "      <td>BV</td>\n",
       "      <td>334200000.0</td>\n",
       "      <td>691300000</td>\n",
       "      <td>2010</td>\n",
       "    </tr>\n",
       "    <tr>\n",
       "      <td>2</td>\n",
       "      <td>Harry Potter and the Deathly Hallows Part 1</td>\n",
       "      <td>WB</td>\n",
       "      <td>296000000.0</td>\n",
       "      <td>664300000</td>\n",
       "      <td>2010</td>\n",
       "    </tr>\n",
       "    <tr>\n",
       "      <td>3</td>\n",
       "      <td>Inception</td>\n",
       "      <td>WB</td>\n",
       "      <td>292600000.0</td>\n",
       "      <td>535700000</td>\n",
       "      <td>2010</td>\n",
       "    </tr>\n",
       "    <tr>\n",
       "      <td>4</td>\n",
       "      <td>Shrek Forever After</td>\n",
       "      <td>P/DW</td>\n",
       "      <td>238700000.0</td>\n",
       "      <td>513900000</td>\n",
       "      <td>2010</td>\n",
       "    </tr>\n",
       "    <tr>\n",
       "      <td>...</td>\n",
       "      <td>...</td>\n",
       "      <td>...</td>\n",
       "      <td>...</td>\n",
       "      <td>...</td>\n",
       "      <td>...</td>\n",
       "    </tr>\n",
       "    <tr>\n",
       "      <td>3382</td>\n",
       "      <td>The Quake</td>\n",
       "      <td>Magn.</td>\n",
       "      <td>6200.0</td>\n",
       "      <td>NaN</td>\n",
       "      <td>2018</td>\n",
       "    </tr>\n",
       "    <tr>\n",
       "      <td>3383</td>\n",
       "      <td>Edward II (2018 re-release)</td>\n",
       "      <td>FM</td>\n",
       "      <td>4800.0</td>\n",
       "      <td>NaN</td>\n",
       "      <td>2018</td>\n",
       "    </tr>\n",
       "    <tr>\n",
       "      <td>3384</td>\n",
       "      <td>El Pacto</td>\n",
       "      <td>Sony</td>\n",
       "      <td>2500.0</td>\n",
       "      <td>NaN</td>\n",
       "      <td>2018</td>\n",
       "    </tr>\n",
       "    <tr>\n",
       "      <td>3385</td>\n",
       "      <td>The Swan</td>\n",
       "      <td>Synergetic</td>\n",
       "      <td>2400.0</td>\n",
       "      <td>NaN</td>\n",
       "      <td>2018</td>\n",
       "    </tr>\n",
       "    <tr>\n",
       "      <td>3386</td>\n",
       "      <td>An Actor Prepares</td>\n",
       "      <td>Grav.</td>\n",
       "      <td>1700.0</td>\n",
       "      <td>NaN</td>\n",
       "      <td>2018</td>\n",
       "    </tr>\n",
       "  </tbody>\n",
       "</table>\n",
       "<p>3387 rows × 5 columns</p>\n",
       "</div>"
      ],
      "text/plain": [
       "                                            title      studio  domestic_gross  \\\n",
       "0                                     Toy Story 3          BV     415000000.0   \n",
       "1                      Alice in Wonderland (2010)          BV     334200000.0   \n",
       "2     Harry Potter and the Deathly Hallows Part 1          WB     296000000.0   \n",
       "3                                       Inception          WB     292600000.0   \n",
       "4                             Shrek Forever After        P/DW     238700000.0   \n",
       "...                                           ...         ...             ...   \n",
       "3382                                    The Quake       Magn.          6200.0   \n",
       "3383                  Edward II (2018 re-release)          FM          4800.0   \n",
       "3384                                     El Pacto        Sony          2500.0   \n",
       "3385                                     The Swan  Synergetic          2400.0   \n",
       "3386                            An Actor Prepares       Grav.          1700.0   \n",
       "\n",
       "     foreign_gross  year  \n",
       "0        652000000  2010  \n",
       "1        691300000  2010  \n",
       "2        664300000  2010  \n",
       "3        535700000  2010  \n",
       "4        513900000  2010  \n",
       "...            ...   ...  \n",
       "3382           NaN  2018  \n",
       "3383           NaN  2018  \n",
       "3384           NaN  2018  \n",
       "3385           NaN  2018  \n",
       "3386           NaN  2018  \n",
       "\n",
       "[3387 rows x 5 columns]"
      ]
     },
     "execution_count": 91,
     "metadata": {},
     "output_type": "execute_result"
    }
   ],
   "source": [
    "bom_gross = DATA['bom.movie_gross'].copy()\n",
    "bom_gross"
   ]
  },
  {
   "cell_type": "code",
   "execution_count": null,
   "metadata": {},
   "outputs": [],
   "source": []
  },
  {
   "cell_type": "code",
   "execution_count": 87,
   "metadata": {
    "ExecuteTime": {
     "end_time": "2020-05-23T18:41:11.844710Z",
     "start_time": "2020-05-23T18:41:11.842664Z"
    }
   },
   "outputs": [],
   "source": [
    "# def find_movie(movie):\n",
    "    "
   ]
  },
  {
   "cell_type": "code",
   "execution_count": 86,
   "metadata": {
    "ExecuteTime": {
     "end_time": "2020-05-23T18:40:12.600346Z",
     "start_time": "2020-05-23T18:40:12.594697Z"
    }
   },
   "outputs": [
    {
     "data": {
      "text/plain": [
       "0"
      ]
     },
     "execution_count": 86,
     "metadata": {},
     "output_type": "execute_result"
    }
   ],
   "source": [
    "bom_gross['title'].str.contains('Avater').sum()"
   ]
  },
  {
   "cell_type": "code",
   "execution_count": null,
   "metadata": {},
   "outputs": [],
   "source": [
    "bom_gross['title'].str.contains('Avater').sum()"
   ]
  },
  {
   "cell_type": "code",
   "execution_count": 72,
   "metadata": {
    "ExecuteTime": {
     "end_time": "2020-05-23T18:37:36.971679Z",
     "start_time": "2020-05-23T18:37:36.959364Z"
    }
   },
   "outputs": [
    {
     "data": {
      "text/html": [
       "<div>\n",
       "<style scoped>\n",
       "    .dataframe tbody tr th:only-of-type {\n",
       "        vertical-align: middle;\n",
       "    }\n",
       "\n",
       "    .dataframe tbody tr th {\n",
       "        vertical-align: top;\n",
       "    }\n",
       "\n",
       "    .dataframe thead th {\n",
       "        text-align: right;\n",
       "    }\n",
       "</style>\n",
       "<table border=\"1\" class=\"dataframe\">\n",
       "  <thead>\n",
       "    <tr style=\"text-align: right;\">\n",
       "      <th></th>\n",
       "      <th>id</th>\n",
       "      <th>release_date</th>\n",
       "      <th>movie</th>\n",
       "      <th>production_budget</th>\n",
       "      <th>domestic_gross</th>\n",
       "      <th>worldwide_gross</th>\n",
       "    </tr>\n",
       "  </thead>\n",
       "  <tbody>\n",
       "    <tr>\n",
       "      <td>0</td>\n",
       "      <td>1</td>\n",
       "      <td>Dec 18, 2009</td>\n",
       "      <td>Avatar</td>\n",
       "      <td>$425,000,000</td>\n",
       "      <td>$760,507,625</td>\n",
       "      <td>$2,776,345,279</td>\n",
       "    </tr>\n",
       "    <tr>\n",
       "      <td>1</td>\n",
       "      <td>2</td>\n",
       "      <td>May 20, 2011</td>\n",
       "      <td>Pirates of the Caribbean: On Stranger Tides</td>\n",
       "      <td>$410,600,000</td>\n",
       "      <td>$241,063,875</td>\n",
       "      <td>$1,045,663,875</td>\n",
       "    </tr>\n",
       "    <tr>\n",
       "      <td>2</td>\n",
       "      <td>3</td>\n",
       "      <td>Jun 7, 2019</td>\n",
       "      <td>Dark Phoenix</td>\n",
       "      <td>$350,000,000</td>\n",
       "      <td>$42,762,350</td>\n",
       "      <td>$149,762,350</td>\n",
       "    </tr>\n",
       "    <tr>\n",
       "      <td>3</td>\n",
       "      <td>4</td>\n",
       "      <td>May 1, 2015</td>\n",
       "      <td>Avengers: Age of Ultron</td>\n",
       "      <td>$330,600,000</td>\n",
       "      <td>$459,005,868</td>\n",
       "      <td>$1,403,013,963</td>\n",
       "    </tr>\n",
       "    <tr>\n",
       "      <td>4</td>\n",
       "      <td>5</td>\n",
       "      <td>Dec 15, 2017</td>\n",
       "      <td>Star Wars Ep. VIII: The Last Jedi</td>\n",
       "      <td>$317,000,000</td>\n",
       "      <td>$620,181,382</td>\n",
       "      <td>$1,316,721,747</td>\n",
       "    </tr>\n",
       "    <tr>\n",
       "      <td>...</td>\n",
       "      <td>...</td>\n",
       "      <td>...</td>\n",
       "      <td>...</td>\n",
       "      <td>...</td>\n",
       "      <td>...</td>\n",
       "      <td>...</td>\n",
       "    </tr>\n",
       "    <tr>\n",
       "      <td>5777</td>\n",
       "      <td>78</td>\n",
       "      <td>Dec 31, 2018</td>\n",
       "      <td>Red 11</td>\n",
       "      <td>$7,000</td>\n",
       "      <td>$0</td>\n",
       "      <td>$0</td>\n",
       "    </tr>\n",
       "    <tr>\n",
       "      <td>5778</td>\n",
       "      <td>79</td>\n",
       "      <td>Apr 2, 1999</td>\n",
       "      <td>Following</td>\n",
       "      <td>$6,000</td>\n",
       "      <td>$48,482</td>\n",
       "      <td>$240,495</td>\n",
       "    </tr>\n",
       "    <tr>\n",
       "      <td>5779</td>\n",
       "      <td>80</td>\n",
       "      <td>Jul 13, 2005</td>\n",
       "      <td>Return to the Land of Wonders</td>\n",
       "      <td>$5,000</td>\n",
       "      <td>$1,338</td>\n",
       "      <td>$1,338</td>\n",
       "    </tr>\n",
       "    <tr>\n",
       "      <td>5780</td>\n",
       "      <td>81</td>\n",
       "      <td>Sep 29, 2015</td>\n",
       "      <td>A Plague So Pleasant</td>\n",
       "      <td>$1,400</td>\n",
       "      <td>$0</td>\n",
       "      <td>$0</td>\n",
       "    </tr>\n",
       "    <tr>\n",
       "      <td>5781</td>\n",
       "      <td>82</td>\n",
       "      <td>Aug 5, 2005</td>\n",
       "      <td>My Date With Drew</td>\n",
       "      <td>$1,100</td>\n",
       "      <td>$181,041</td>\n",
       "      <td>$181,041</td>\n",
       "    </tr>\n",
       "  </tbody>\n",
       "</table>\n",
       "<p>5782 rows × 6 columns</p>\n",
       "</div>"
      ],
      "text/plain": [
       "      id  release_date                                        movie  \\\n",
       "0      1  Dec 18, 2009                                       Avatar   \n",
       "1      2  May 20, 2011  Pirates of the Caribbean: On Stranger Tides   \n",
       "2      3   Jun 7, 2019                                 Dark Phoenix   \n",
       "3      4   May 1, 2015                      Avengers: Age of Ultron   \n",
       "4      5  Dec 15, 2017            Star Wars Ep. VIII: The Last Jedi   \n",
       "...   ..           ...                                          ...   \n",
       "5777  78  Dec 31, 2018                                       Red 11   \n",
       "5778  79   Apr 2, 1999                                    Following   \n",
       "5779  80  Jul 13, 2005                Return to the Land of Wonders   \n",
       "5780  81  Sep 29, 2015                         A Plague So Pleasant   \n",
       "5781  82   Aug 5, 2005                            My Date With Drew   \n",
       "\n",
       "     production_budget domestic_gross worldwide_gross  \n",
       "0         $425,000,000   $760,507,625  $2,776,345,279  \n",
       "1         $410,600,000   $241,063,875  $1,045,663,875  \n",
       "2         $350,000,000    $42,762,350    $149,762,350  \n",
       "3         $330,600,000   $459,005,868  $1,403,013,963  \n",
       "4         $317,000,000   $620,181,382  $1,316,721,747  \n",
       "...                ...            ...             ...  \n",
       "5777            $7,000             $0              $0  \n",
       "5778            $6,000        $48,482        $240,495  \n",
       "5779            $5,000         $1,338          $1,338  \n",
       "5780            $1,400             $0              $0  \n",
       "5781            $1,100       $181,041        $181,041  \n",
       "\n",
       "[5782 rows x 6 columns]"
      ]
     },
     "execution_count": 72,
     "metadata": {},
     "output_type": "execute_result"
    }
   ],
   "source": [
    "DATA['tn.movie_budgets']"
   ]
  },
  {
   "cell_type": "markdown",
   "metadata": {},
   "source": [
    "## Aligning The Data"
   ]
  },
  {
   "cell_type": "markdown",
   "metadata": {},
   "source": [
    "- Make a dictionary of column name to use as key for each dataframe stored in DATA\n",
    "\n",
    "<details >\n",
    "    <summary style=\"font-size:1.1em;background-color:lightblue;width:80%;text-align:center;                   \"> Key Columns</summary>    \n",
    "    \n",
    "```python\n",
    "KEY_COLS = {'imdb.title.crew': 'tconst', \n",
    "        'tmdb.movies': 'id',\n",
    "        'imdb.title.akas': 'title_id',\n",
    "        'imdb.title.ratings': 'tconst',\n",
    "        'imdb.name.basics': 'nconst',\n",
    "        'rt.reviews.': 'id',\n",
    "        'imdb.title.basics': 'tconst',\n",
    "        'rt.movie_info.': 'id',\n",
    "        'tn.movie_budgets': 'id',\n",
    "        'bom.movie_gross': 'title',\n",
    "        'imdb.title.principals': 'tconst'}\n",
    "```\n"
   ]
  },
  {
   "cell_type": "code",
   "execution_count": 37,
   "metadata": {
    "ExecuteTime": {
     "end_time": "2020-05-23T18:21:00.074671Z",
     "start_time": "2020-05-23T18:21:00.072107Z"
    }
   },
   "outputs": [],
   "source": [
    "# keys = list(DATA.keys())\n",
    "\n",
    "KEY_COLS = {'imdb.title.crew': 'tconst', \n",
    "        'tmdb.movies': 'id',\n",
    "        'imdb.title.akas': 'title_id',\n",
    "        'imdb.title.ratings': 'tconst',\n",
    "        'imdb.name.basics': 'nconst',\n",
    "        'rt.reviews.': 'id',\n",
    "        'imdb.title.basics': 'tconst',\n",
    "        'rt.movie_info.': 'id',\n",
    "        'tn.movie_budgets': 'id',\n",
    "        'bom.movie_gross': 'title',\n",
    "        'imdb.title.principals': 'tconst'}"
   ]
  },
  {
   "cell_type": "code",
   "execution_count": 38,
   "metadata": {
    "ExecuteTime": {
     "end_time": "2020-05-23T18:21:00.088108Z",
     "start_time": "2020-05-23T18:21:00.075911Z"
    },
    "collapsed": true
   },
   "outputs": [
    {
     "data": {
      "text/html": [
       "<div>\n",
       "<style scoped>\n",
       "    .dataframe tbody tr th:only-of-type {\n",
       "        vertical-align: middle;\n",
       "    }\n",
       "\n",
       "    .dataframe tbody tr th {\n",
       "        vertical-align: top;\n",
       "    }\n",
       "\n",
       "    .dataframe thead th {\n",
       "        text-align: right;\n",
       "    }\n",
       "</style>\n",
       "<table border=\"1\" class=\"dataframe\">\n",
       "  <thead>\n",
       "    <tr style=\"text-align: right;\">\n",
       "      <th></th>\n",
       "      <th>tconst</th>\n",
       "      <th>ordering</th>\n",
       "      <th>nconst</th>\n",
       "      <th>category</th>\n",
       "      <th>job</th>\n",
       "      <th>characters</th>\n",
       "    </tr>\n",
       "  </thead>\n",
       "  <tbody>\n",
       "    <tr>\n",
       "      <td>0</td>\n",
       "      <td>tt0111414</td>\n",
       "      <td>1</td>\n",
       "      <td>nm0246005</td>\n",
       "      <td>actor</td>\n",
       "      <td>NaN</td>\n",
       "      <td>[\"The Man\"]</td>\n",
       "    </tr>\n",
       "    <tr>\n",
       "      <td>1</td>\n",
       "      <td>tt0111414</td>\n",
       "      <td>2</td>\n",
       "      <td>nm0398271</td>\n",
       "      <td>director</td>\n",
       "      <td>NaN</td>\n",
       "      <td>NaN</td>\n",
       "    </tr>\n",
       "    <tr>\n",
       "      <td>2</td>\n",
       "      <td>tt0111414</td>\n",
       "      <td>3</td>\n",
       "      <td>nm3739909</td>\n",
       "      <td>producer</td>\n",
       "      <td>producer</td>\n",
       "      <td>NaN</td>\n",
       "    </tr>\n",
       "    <tr>\n",
       "      <td>3</td>\n",
       "      <td>tt0323808</td>\n",
       "      <td>10</td>\n",
       "      <td>nm0059247</td>\n",
       "      <td>editor</td>\n",
       "      <td>NaN</td>\n",
       "      <td>NaN</td>\n",
       "    </tr>\n",
       "    <tr>\n",
       "      <td>4</td>\n",
       "      <td>tt0323808</td>\n",
       "      <td>1</td>\n",
       "      <td>nm3579312</td>\n",
       "      <td>actress</td>\n",
       "      <td>NaN</td>\n",
       "      <td>[\"Beth Boothby\"]</td>\n",
       "    </tr>\n",
       "    <tr>\n",
       "      <td>...</td>\n",
       "      <td>...</td>\n",
       "      <td>...</td>\n",
       "      <td>...</td>\n",
       "      <td>...</td>\n",
       "      <td>...</td>\n",
       "      <td>...</td>\n",
       "    </tr>\n",
       "    <tr>\n",
       "      <td>1028181</td>\n",
       "      <td>tt9692684</td>\n",
       "      <td>1</td>\n",
       "      <td>nm0186469</td>\n",
       "      <td>actor</td>\n",
       "      <td>NaN</td>\n",
       "      <td>[\"Ebenezer Scrooge\"]</td>\n",
       "    </tr>\n",
       "    <tr>\n",
       "      <td>1028182</td>\n",
       "      <td>tt9692684</td>\n",
       "      <td>2</td>\n",
       "      <td>nm4929530</td>\n",
       "      <td>self</td>\n",
       "      <td>NaN</td>\n",
       "      <td>[\"Herself\",\"Regan\"]</td>\n",
       "    </tr>\n",
       "    <tr>\n",
       "      <td>1028183</td>\n",
       "      <td>tt9692684</td>\n",
       "      <td>3</td>\n",
       "      <td>nm10441594</td>\n",
       "      <td>director</td>\n",
       "      <td>NaN</td>\n",
       "      <td>NaN</td>\n",
       "    </tr>\n",
       "    <tr>\n",
       "      <td>1028184</td>\n",
       "      <td>tt9692684</td>\n",
       "      <td>4</td>\n",
       "      <td>nm6009913</td>\n",
       "      <td>writer</td>\n",
       "      <td>writer</td>\n",
       "      <td>NaN</td>\n",
       "    </tr>\n",
       "    <tr>\n",
       "      <td>1028185</td>\n",
       "      <td>tt9692684</td>\n",
       "      <td>5</td>\n",
       "      <td>nm10441595</td>\n",
       "      <td>producer</td>\n",
       "      <td>producer</td>\n",
       "      <td>NaN</td>\n",
       "    </tr>\n",
       "  </tbody>\n",
       "</table>\n",
       "<p>1028186 rows × 6 columns</p>\n",
       "</div>"
      ],
      "text/plain": [
       "            tconst  ordering      nconst  category       job  \\\n",
       "0        tt0111414         1   nm0246005     actor       NaN   \n",
       "1        tt0111414         2   nm0398271  director       NaN   \n",
       "2        tt0111414         3   nm3739909  producer  producer   \n",
       "3        tt0323808        10   nm0059247    editor       NaN   \n",
       "4        tt0323808         1   nm3579312   actress       NaN   \n",
       "...            ...       ...         ...       ...       ...   \n",
       "1028181  tt9692684         1   nm0186469     actor       NaN   \n",
       "1028182  tt9692684         2   nm4929530      self       NaN   \n",
       "1028183  tt9692684         3  nm10441594  director       NaN   \n",
       "1028184  tt9692684         4   nm6009913    writer    writer   \n",
       "1028185  tt9692684         5  nm10441595  producer  producer   \n",
       "\n",
       "                   characters  \n",
       "0                 [\"The Man\"]  \n",
       "1                         NaN  \n",
       "2                         NaN  \n",
       "3                         NaN  \n",
       "4            [\"Beth Boothby\"]  \n",
       "...                       ...  \n",
       "1028181  [\"Ebenezer Scrooge\"]  \n",
       "1028182   [\"Herself\",\"Regan\"]  \n",
       "1028183                   NaN  \n",
       "1028184                   NaN  \n",
       "1028185                   NaN  \n",
       "\n",
       "[1028186 rows x 6 columns]"
      ]
     },
     "execution_count": 38,
     "metadata": {},
     "output_type": "execute_result"
    }
   ],
   "source": [
    "DATA['imdb.title.principals']"
   ]
  },
  {
   "cell_type": "code",
   "execution_count": 39,
   "metadata": {
    "ExecuteTime": {
     "end_time": "2020-05-23T18:21:00.211749Z",
     "start_time": "2020-05-23T18:21:00.089593Z"
    }
   },
   "outputs": [
    {
     "name": "stdout",
     "output_type": "stream",
     "text": [
      "imdb.title.crew\n",
      "tconst\n",
      "\n",
      "\n",
      "tmdb.movies\n",
      "N/A\n",
      "\n",
      "imdb.title.akas\n",
      "N/A\n",
      "\n",
      "imdb.title.ratings\n",
      "tconst\n",
      "\n",
      "\n",
      "imdb.name.basics\n",
      "N/A\n",
      "\n",
      "rt.reviews.\n",
      "N/A\n",
      "\n",
      "imdb.title.basics\n",
      "tconst\n",
      "\n",
      "\n",
      "rt.movie_info.\n",
      "N/A\n",
      "\n",
      "tn.movie_budgets\n",
      "N/A\n",
      "\n",
      "bom.movie_gross\n",
      "N/A\n",
      "\n",
      "imdb.title.principals\n",
      "tconst\n",
      "\n",
      "\n"
     ]
    }
   ],
   "source": [
    "unique_tconst = {}\n",
    "for table_name,key_col in KEY_COLS.items():\n",
    "    table = DATA[table_name]\n",
    "    print(table_name)\n",
    "#     print(key_col)\n",
    "\n",
    "    if 'tconst' in key_col:\n",
    "        print(key_col)\n",
    "        print()\n",
    "\n",
    "        unique_tconst[table_name] = table[key_col].unique()\n",
    "    else:\n",
    "        print('N/A')\n",
    "        \n",
    "    print()\n"
   ]
  },
  {
   "cell_type": "code",
   "execution_count": 40,
   "metadata": {
    "ExecuteTime": {
     "end_time": "2020-05-23T18:21:00.217182Z",
     "start_time": "2020-05-23T18:21:00.213107Z"
    }
   },
   "outputs": [
    {
     "data": {
      "text/plain": [
       "{'imdb.title.crew': array(['tt0285252', 'tt0438973', 'tt0462036', ..., 'tt9001494',\n",
       "        'tt9004986', 'tt9010172'], dtype=object),\n",
       " 'imdb.title.ratings': array(['tt10356526', 'tt10384606', 'tt1042974', ..., 'tt9851050',\n",
       "        'tt9886934', 'tt9894098'], dtype=object),\n",
       " 'imdb.title.basics': array(['tt0063540', 'tt0066787', 'tt0069049', ..., 'tt9916706',\n",
       "        'tt9916730', 'tt9916754'], dtype=object),\n",
       " 'imdb.title.principals': array(['tt0111414', 'tt0323808', 'tt0417610', ..., 'tt9681728',\n",
       "        'tt9689618', 'tt9692684'], dtype=object)}"
      ]
     },
     "execution_count": 40,
     "metadata": {},
     "output_type": "execute_result"
    }
   ],
   "source": [
    "unique_tconst"
   ]
  },
  {
   "cell_type": "code",
   "execution_count": 41,
   "metadata": {
    "ExecuteTime": {
     "end_time": "2020-05-23T18:21:00.222944Z",
     "start_time": "2020-05-23T18:21:00.218702Z"
    }
   },
   "outputs": [
    {
     "data": {
      "text/plain": [
       "[146144, 73856, 146144, 143454]"
      ]
     },
     "execution_count": 41,
     "metadata": {},
     "output_type": "execute_result"
    }
   ],
   "source": [
    "[len(v) for x,v in unique_tconst.items()]"
   ]
  },
  {
   "cell_type": "code",
   "execution_count": 42,
   "metadata": {
    "ExecuteTime": {
     "end_time": "2020-05-23T18:21:00.228838Z",
     "start_time": "2020-05-23T18:21:00.224727Z"
    }
   },
   "outputs": [
    {
     "data": {
      "text/plain": [
       "['imdb.title.crew', 'imdb.title.basics']"
      ]
     },
     "execution_count": 42,
     "metadata": {},
     "output_type": "execute_result"
    }
   ],
   "source": [
    "matching_key_cols = [k for k in unique_tconst if len(unique_tconst[k])==146144 ]\n",
    "matching_key_cols"
   ]
  },
  {
   "cell_type": "code",
   "execution_count": 43,
   "metadata": {
    "ExecuteTime": {
     "end_time": "2020-05-23T18:21:00.419695Z",
     "start_time": "2020-05-23T18:21:00.230434Z"
    }
   },
   "outputs": [
    {
     "data": {
      "text/html": [
       "<div>\n",
       "<style scoped>\n",
       "    .dataframe tbody tr th:only-of-type {\n",
       "        vertical-align: middle;\n",
       "    }\n",
       "\n",
       "    .dataframe tbody tr th {\n",
       "        vertical-align: top;\n",
       "    }\n",
       "\n",
       "    .dataframe thead th {\n",
       "        text-align: right;\n",
       "    }\n",
       "</style>\n",
       "<table border=\"1\" class=\"dataframe\">\n",
       "  <thead>\n",
       "    <tr style=\"text-align: right;\">\n",
       "      <th></th>\n",
       "      <th>tconst</th>\n",
       "      <th>directors</th>\n",
       "      <th>writers</th>\n",
       "      <th>primary_title</th>\n",
       "      <th>original_title</th>\n",
       "      <th>start_year</th>\n",
       "      <th>runtime_minutes</th>\n",
       "      <th>genres</th>\n",
       "    </tr>\n",
       "  </thead>\n",
       "  <tbody>\n",
       "    <tr>\n",
       "      <td>0</td>\n",
       "      <td>tt0285252</td>\n",
       "      <td>nm0899854</td>\n",
       "      <td>nm0899854</td>\n",
       "      <td>Life's a Beach</td>\n",
       "      <td>Life's a Beach</td>\n",
       "      <td>2012</td>\n",
       "      <td>100.0</td>\n",
       "      <td>Comedy</td>\n",
       "    </tr>\n",
       "    <tr>\n",
       "      <td>1</td>\n",
       "      <td>tt0438973</td>\n",
       "      <td>NaN</td>\n",
       "      <td>nm0175726,nm1802864</td>\n",
       "      <td>Sealand</td>\n",
       "      <td>Sealand</td>\n",
       "      <td>2019</td>\n",
       "      <td>NaN</td>\n",
       "      <td>Biography,Drama</td>\n",
       "    </tr>\n",
       "    <tr>\n",
       "      <td>2</td>\n",
       "      <td>tt0462036</td>\n",
       "      <td>nm1940585</td>\n",
       "      <td>nm1940585</td>\n",
       "      <td>Steve Phoenix: The Untold Story</td>\n",
       "      <td>Steve Phoenix: The Untold Story</td>\n",
       "      <td>2012</td>\n",
       "      <td>110.0</td>\n",
       "      <td>Drama</td>\n",
       "    </tr>\n",
       "    <tr>\n",
       "      <td>3</td>\n",
       "      <td>tt0835418</td>\n",
       "      <td>nm0151540</td>\n",
       "      <td>nm0310087,nm0841532</td>\n",
       "      <td>The Babymakers</td>\n",
       "      <td>The Babymakers</td>\n",
       "      <td>2012</td>\n",
       "      <td>95.0</td>\n",
       "      <td>Comedy</td>\n",
       "    </tr>\n",
       "    <tr>\n",
       "      <td>4</td>\n",
       "      <td>tt0878654</td>\n",
       "      <td>nm0089502,nm2291498,nm2292011</td>\n",
       "      <td>nm0284943</td>\n",
       "      <td>Bulletface</td>\n",
       "      <td>Bulletface</td>\n",
       "      <td>2010</td>\n",
       "      <td>82.0</td>\n",
       "      <td>Thriller</td>\n",
       "    </tr>\n",
       "    <tr>\n",
       "      <td>...</td>\n",
       "      <td>...</td>\n",
       "      <td>...</td>\n",
       "      <td>...</td>\n",
       "      <td>...</td>\n",
       "      <td>...</td>\n",
       "      <td>...</td>\n",
       "      <td>...</td>\n",
       "      <td>...</td>\n",
       "    </tr>\n",
       "    <tr>\n",
       "      <td>146139</td>\n",
       "      <td>tt8999974</td>\n",
       "      <td>nm10122357</td>\n",
       "      <td>nm10122357</td>\n",
       "      <td>Madre Luna</td>\n",
       "      <td>Madre Luna</td>\n",
       "      <td>2018</td>\n",
       "      <td>80.0</td>\n",
       "      <td>Documentary</td>\n",
       "    </tr>\n",
       "    <tr>\n",
       "      <td>146140</td>\n",
       "      <td>tt9001390</td>\n",
       "      <td>nm6711477</td>\n",
       "      <td>nm6711477</td>\n",
       "      <td>The woman and the river</td>\n",
       "      <td>The woman and the river</td>\n",
       "      <td>2017</td>\n",
       "      <td>88.0</td>\n",
       "      <td>Drama,Mystery</td>\n",
       "    </tr>\n",
       "    <tr>\n",
       "      <td>146141</td>\n",
       "      <td>tt9001494</td>\n",
       "      <td>nm10123242,nm10123248</td>\n",
       "      <td>NaN</td>\n",
       "      <td>Stone Mountain Georgia 08.28.18</td>\n",
       "      <td>Stone Mountain Georgia 08.28.18</td>\n",
       "      <td>2018</td>\n",
       "      <td>5.0</td>\n",
       "      <td>Documentary,History,News</td>\n",
       "    </tr>\n",
       "    <tr>\n",
       "      <td>146142</td>\n",
       "      <td>tt9004986</td>\n",
       "      <td>nm4993825</td>\n",
       "      <td>nm4993825</td>\n",
       "      <td>Syndebukken: Prosessen mot Harry Lindstrøm</td>\n",
       "      <td>Syndebukken: Prosessen mot Harry Lindstrøm</td>\n",
       "      <td>2018</td>\n",
       "      <td>NaN</td>\n",
       "      <td>Documentary</td>\n",
       "    </tr>\n",
       "    <tr>\n",
       "      <td>146143</td>\n",
       "      <td>tt9010172</td>\n",
       "      <td>NaN</td>\n",
       "      <td>nm8352242</td>\n",
       "      <td>A Moment in Time</td>\n",
       "      <td>A Moment in Time</td>\n",
       "      <td>2013</td>\n",
       "      <td>NaN</td>\n",
       "      <td>Drama</td>\n",
       "    </tr>\n",
       "  </tbody>\n",
       "</table>\n",
       "<p>146144 rows × 8 columns</p>\n",
       "</div>"
      ],
      "text/plain": [
       "           tconst                      directors              writers  \\\n",
       "0       tt0285252                      nm0899854            nm0899854   \n",
       "1       tt0438973                            NaN  nm0175726,nm1802864   \n",
       "2       tt0462036                      nm1940585            nm1940585   \n",
       "3       tt0835418                      nm0151540  nm0310087,nm0841532   \n",
       "4       tt0878654  nm0089502,nm2291498,nm2292011            nm0284943   \n",
       "...           ...                            ...                  ...   \n",
       "146139  tt8999974                     nm10122357           nm10122357   \n",
       "146140  tt9001390                      nm6711477            nm6711477   \n",
       "146141  tt9001494          nm10123242,nm10123248                  NaN   \n",
       "146142  tt9004986                      nm4993825            nm4993825   \n",
       "146143  tt9010172                            NaN            nm8352242   \n",
       "\n",
       "                                     primary_title  \\\n",
       "0                                   Life's a Beach   \n",
       "1                                          Sealand   \n",
       "2                  Steve Phoenix: The Untold Story   \n",
       "3                                   The Babymakers   \n",
       "4                                       Bulletface   \n",
       "...                                            ...   \n",
       "146139                                  Madre Luna   \n",
       "146140                     The woman and the river   \n",
       "146141             Stone Mountain Georgia 08.28.18   \n",
       "146142  Syndebukken: Prosessen mot Harry Lindstrøm   \n",
       "146143                            A Moment in Time   \n",
       "\n",
       "                                    original_title  start_year  \\\n",
       "0                                   Life's a Beach        2012   \n",
       "1                                          Sealand        2019   \n",
       "2                  Steve Phoenix: The Untold Story        2012   \n",
       "3                                   The Babymakers        2012   \n",
       "4                                       Bulletface        2010   \n",
       "...                                            ...         ...   \n",
       "146139                                  Madre Luna        2018   \n",
       "146140                     The woman and the river        2017   \n",
       "146141             Stone Mountain Georgia 08.28.18        2018   \n",
       "146142  Syndebukken: Prosessen mot Harry Lindstrøm        2018   \n",
       "146143                            A Moment in Time        2013   \n",
       "\n",
       "        runtime_minutes                    genres  \n",
       "0                 100.0                    Comedy  \n",
       "1                   NaN           Biography,Drama  \n",
       "2                 110.0                     Drama  \n",
       "3                  95.0                    Comedy  \n",
       "4                  82.0                  Thriller  \n",
       "...                 ...                       ...  \n",
       "146139             80.0               Documentary  \n",
       "146140             88.0             Drama,Mystery  \n",
       "146141              5.0  Documentary,History,News  \n",
       "146142              NaN               Documentary  \n",
       "146143              NaN                     Drama  \n",
       "\n",
       "[146144 rows x 8 columns]"
      ]
     },
     "execution_count": 43,
     "metadata": {},
     "output_type": "execute_result"
    }
   ],
   "source": [
    "df_imdb = pd.merge(DATA['imdb.title.crew'],DATA['imdb.title.basics'],\n",
    "                   how='outer',suffixes=('crew','basics') )\n",
    "df_imdb"
   ]
  },
  {
   "cell_type": "code",
   "execution_count": 44,
   "metadata": {
    "ExecuteTime": {
     "end_time": "2020-05-23T18:21:00.424714Z",
     "start_time": "2020-05-23T18:21:00.420991Z"
    }
   },
   "outputs": [
    {
     "data": {
      "text/plain": [
       "['imdb.title.ratings', 'imdb.title.principals']"
      ]
     },
     "execution_count": 44,
     "metadata": {},
     "output_type": "execute_result"
    }
   ],
   "source": [
    "non_matching_key_cols = [k for k in unique_tconst if len(unique_tconst[k])!=146144 ]\n",
    "non_matching_key_cols"
   ]
  },
  {
   "cell_type": "code",
   "execution_count": 45,
   "metadata": {
    "ExecuteTime": {
     "end_time": "2020-05-23T18:21:00.429715Z",
     "start_time": "2020-05-23T18:21:00.426163Z"
    }
   },
   "outputs": [
    {
     "data": {
      "text/plain": [
       "[(73856, 3), (1028186, 6)]"
      ]
     },
     "execution_count": 45,
     "metadata": {},
     "output_type": "execute_result"
    }
   ],
   "source": [
    "[DATA[x].shape for x in non_matching_key_cols] "
   ]
  },
  {
   "cell_type": "markdown",
   "metadata": {},
   "source": [
    "### Notes: COLUMNNS OF INTEREST\n",
    "    - \"averagerating\"(imdb.ratings)"
   ]
  },
  {
   "cell_type": "code",
   "execution_count": 46,
   "metadata": {
    "ExecuteTime": {
     "end_time": "2020-05-23T18:21:00.450343Z",
     "start_time": "2020-05-23T18:21:00.430961Z"
    }
   },
   "outputs": [
    {
     "data": {
      "text/html": [
       "<div>\n",
       "<style scoped>\n",
       "    .dataframe tbody tr th:only-of-type {\n",
       "        vertical-align: middle;\n",
       "    }\n",
       "\n",
       "    .dataframe tbody tr th {\n",
       "        vertical-align: top;\n",
       "    }\n",
       "\n",
       "    .dataframe thead th {\n",
       "        text-align: right;\n",
       "    }\n",
       "</style>\n",
       "<table border=\"1\" class=\"dataframe\">\n",
       "  <thead>\n",
       "    <tr style=\"text-align: right;\">\n",
       "      <th></th>\n",
       "      <th>tconst</th>\n",
       "      <th>averagerating</th>\n",
       "      <th>numvotes</th>\n",
       "    </tr>\n",
       "  </thead>\n",
       "  <tbody>\n",
       "    <tr>\n",
       "      <td>0</td>\n",
       "      <td>tt10356526</td>\n",
       "      <td>8.3</td>\n",
       "      <td>31</td>\n",
       "    </tr>\n",
       "    <tr>\n",
       "      <td>1</td>\n",
       "      <td>tt10384606</td>\n",
       "      <td>8.9</td>\n",
       "      <td>559</td>\n",
       "    </tr>\n",
       "    <tr>\n",
       "      <td>2</td>\n",
       "      <td>tt1042974</td>\n",
       "      <td>6.4</td>\n",
       "      <td>20</td>\n",
       "    </tr>\n",
       "    <tr>\n",
       "      <td>3</td>\n",
       "      <td>tt1043726</td>\n",
       "      <td>4.2</td>\n",
       "      <td>50352</td>\n",
       "    </tr>\n",
       "    <tr>\n",
       "      <td>4</td>\n",
       "      <td>tt1060240</td>\n",
       "      <td>6.5</td>\n",
       "      <td>21</td>\n",
       "    </tr>\n",
       "    <tr>\n",
       "      <td>...</td>\n",
       "      <td>...</td>\n",
       "      <td>...</td>\n",
       "      <td>...</td>\n",
       "    </tr>\n",
       "    <tr>\n",
       "      <td>73851</td>\n",
       "      <td>tt9805820</td>\n",
       "      <td>8.1</td>\n",
       "      <td>25</td>\n",
       "    </tr>\n",
       "    <tr>\n",
       "      <td>73852</td>\n",
       "      <td>tt9844256</td>\n",
       "      <td>7.5</td>\n",
       "      <td>24</td>\n",
       "    </tr>\n",
       "    <tr>\n",
       "      <td>73853</td>\n",
       "      <td>tt9851050</td>\n",
       "      <td>4.7</td>\n",
       "      <td>14</td>\n",
       "    </tr>\n",
       "    <tr>\n",
       "      <td>73854</td>\n",
       "      <td>tt9886934</td>\n",
       "      <td>7.0</td>\n",
       "      <td>5</td>\n",
       "    </tr>\n",
       "    <tr>\n",
       "      <td>73855</td>\n",
       "      <td>tt9894098</td>\n",
       "      <td>6.3</td>\n",
       "      <td>128</td>\n",
       "    </tr>\n",
       "  </tbody>\n",
       "</table>\n",
       "<p>73856 rows × 3 columns</p>\n",
       "</div>"
      ],
      "text/plain": [
       "           tconst  averagerating  numvotes\n",
       "0      tt10356526            8.3        31\n",
       "1      tt10384606            8.9       559\n",
       "2       tt1042974            6.4        20\n",
       "3       tt1043726            4.2     50352\n",
       "4       tt1060240            6.5        21\n",
       "...           ...            ...       ...\n",
       "73851   tt9805820            8.1        25\n",
       "73852   tt9844256            7.5        24\n",
       "73853   tt9851050            4.7        14\n",
       "73854   tt9886934            7.0         5\n",
       "73855   tt9894098            6.3       128\n",
       "\n",
       "[73856 rows x 3 columns]"
      ]
     },
     "metadata": {},
     "output_type": "display_data"
    },
    {
     "data": {
      "text/html": [
       "<div>\n",
       "<style scoped>\n",
       "    .dataframe tbody tr th:only-of-type {\n",
       "        vertical-align: middle;\n",
       "    }\n",
       "\n",
       "    .dataframe tbody tr th {\n",
       "        vertical-align: top;\n",
       "    }\n",
       "\n",
       "    .dataframe thead th {\n",
       "        text-align: right;\n",
       "    }\n",
       "</style>\n",
       "<table border=\"1\" class=\"dataframe\">\n",
       "  <thead>\n",
       "    <tr style=\"text-align: right;\">\n",
       "      <th></th>\n",
       "      <th>tconst</th>\n",
       "      <th>ordering</th>\n",
       "      <th>nconst</th>\n",
       "      <th>category</th>\n",
       "      <th>job</th>\n",
       "      <th>characters</th>\n",
       "    </tr>\n",
       "  </thead>\n",
       "  <tbody>\n",
       "    <tr>\n",
       "      <td>0</td>\n",
       "      <td>tt0111414</td>\n",
       "      <td>1</td>\n",
       "      <td>nm0246005</td>\n",
       "      <td>actor</td>\n",
       "      <td>NaN</td>\n",
       "      <td>[\"The Man\"]</td>\n",
       "    </tr>\n",
       "    <tr>\n",
       "      <td>1</td>\n",
       "      <td>tt0111414</td>\n",
       "      <td>2</td>\n",
       "      <td>nm0398271</td>\n",
       "      <td>director</td>\n",
       "      <td>NaN</td>\n",
       "      <td>NaN</td>\n",
       "    </tr>\n",
       "    <tr>\n",
       "      <td>2</td>\n",
       "      <td>tt0111414</td>\n",
       "      <td>3</td>\n",
       "      <td>nm3739909</td>\n",
       "      <td>producer</td>\n",
       "      <td>producer</td>\n",
       "      <td>NaN</td>\n",
       "    </tr>\n",
       "    <tr>\n",
       "      <td>3</td>\n",
       "      <td>tt0323808</td>\n",
       "      <td>10</td>\n",
       "      <td>nm0059247</td>\n",
       "      <td>editor</td>\n",
       "      <td>NaN</td>\n",
       "      <td>NaN</td>\n",
       "    </tr>\n",
       "    <tr>\n",
       "      <td>4</td>\n",
       "      <td>tt0323808</td>\n",
       "      <td>1</td>\n",
       "      <td>nm3579312</td>\n",
       "      <td>actress</td>\n",
       "      <td>NaN</td>\n",
       "      <td>[\"Beth Boothby\"]</td>\n",
       "    </tr>\n",
       "    <tr>\n",
       "      <td>...</td>\n",
       "      <td>...</td>\n",
       "      <td>...</td>\n",
       "      <td>...</td>\n",
       "      <td>...</td>\n",
       "      <td>...</td>\n",
       "      <td>...</td>\n",
       "    </tr>\n",
       "    <tr>\n",
       "      <td>1028181</td>\n",
       "      <td>tt9692684</td>\n",
       "      <td>1</td>\n",
       "      <td>nm0186469</td>\n",
       "      <td>actor</td>\n",
       "      <td>NaN</td>\n",
       "      <td>[\"Ebenezer Scrooge\"]</td>\n",
       "    </tr>\n",
       "    <tr>\n",
       "      <td>1028182</td>\n",
       "      <td>tt9692684</td>\n",
       "      <td>2</td>\n",
       "      <td>nm4929530</td>\n",
       "      <td>self</td>\n",
       "      <td>NaN</td>\n",
       "      <td>[\"Herself\",\"Regan\"]</td>\n",
       "    </tr>\n",
       "    <tr>\n",
       "      <td>1028183</td>\n",
       "      <td>tt9692684</td>\n",
       "      <td>3</td>\n",
       "      <td>nm10441594</td>\n",
       "      <td>director</td>\n",
       "      <td>NaN</td>\n",
       "      <td>NaN</td>\n",
       "    </tr>\n",
       "    <tr>\n",
       "      <td>1028184</td>\n",
       "      <td>tt9692684</td>\n",
       "      <td>4</td>\n",
       "      <td>nm6009913</td>\n",
       "      <td>writer</td>\n",
       "      <td>writer</td>\n",
       "      <td>NaN</td>\n",
       "    </tr>\n",
       "    <tr>\n",
       "      <td>1028185</td>\n",
       "      <td>tt9692684</td>\n",
       "      <td>5</td>\n",
       "      <td>nm10441595</td>\n",
       "      <td>producer</td>\n",
       "      <td>producer</td>\n",
       "      <td>NaN</td>\n",
       "    </tr>\n",
       "  </tbody>\n",
       "</table>\n",
       "<p>1028186 rows × 6 columns</p>\n",
       "</div>"
      ],
      "text/plain": [
       "            tconst  ordering      nconst  category       job  \\\n",
       "0        tt0111414         1   nm0246005     actor       NaN   \n",
       "1        tt0111414         2   nm0398271  director       NaN   \n",
       "2        tt0111414         3   nm3739909  producer  producer   \n",
       "3        tt0323808        10   nm0059247    editor       NaN   \n",
       "4        tt0323808         1   nm3579312   actress       NaN   \n",
       "...            ...       ...         ...       ...       ...   \n",
       "1028181  tt9692684         1   nm0186469     actor       NaN   \n",
       "1028182  tt9692684         2   nm4929530      self       NaN   \n",
       "1028183  tt9692684         3  nm10441594  director       NaN   \n",
       "1028184  tt9692684         4   nm6009913    writer    writer   \n",
       "1028185  tt9692684         5  nm10441595  producer  producer   \n",
       "\n",
       "                   characters  \n",
       "0                 [\"The Man\"]  \n",
       "1                         NaN  \n",
       "2                         NaN  \n",
       "3                         NaN  \n",
       "4            [\"Beth Boothby\"]  \n",
       "...                       ...  \n",
       "1028181  [\"Ebenezer Scrooge\"]  \n",
       "1028182   [\"Herself\",\"Regan\"]  \n",
       "1028183                   NaN  \n",
       "1028184                   NaN  \n",
       "1028185                   NaN  \n",
       "\n",
       "[1028186 rows x 6 columns]"
      ]
     },
     "metadata": {},
     "output_type": "display_data"
    }
   ],
   "source": [
    "display(DATA[non_matching_key_cols[0]],DATA[non_matching_key_cols[1]])"
   ]
  },
  {
   "cell_type": "code",
   "execution_count": 47,
   "metadata": {
    "ExecuteTime": {
     "end_time": "2020-05-23T18:21:00.467889Z",
     "start_time": "2020-05-23T18:21:00.453019Z"
    }
   },
   "outputs": [
    {
     "data": {
      "text/html": [
       "<div>\n",
       "<style scoped>\n",
       "    .dataframe tbody tr th:only-of-type {\n",
       "        vertical-align: middle;\n",
       "    }\n",
       "\n",
       "    .dataframe tbody tr th {\n",
       "        vertical-align: top;\n",
       "    }\n",
       "\n",
       "    .dataframe thead th {\n",
       "        text-align: right;\n",
       "    }\n",
       "</style>\n",
       "<table border=\"1\" class=\"dataframe\">\n",
       "  <thead>\n",
       "    <tr style=\"text-align: right;\">\n",
       "      <th></th>\n",
       "      <th>tconst</th>\n",
       "      <th>directors</th>\n",
       "      <th>writers</th>\n",
       "      <th>primary_title</th>\n",
       "      <th>original_title</th>\n",
       "      <th>start_year</th>\n",
       "      <th>runtime_minutes</th>\n",
       "      <th>genres</th>\n",
       "    </tr>\n",
       "  </thead>\n",
       "  <tbody>\n",
       "    <tr>\n",
       "      <td>0</td>\n",
       "      <td>tt0285252</td>\n",
       "      <td>nm0899854</td>\n",
       "      <td>nm0899854</td>\n",
       "      <td>Life's a Beach</td>\n",
       "      <td>Life's a Beach</td>\n",
       "      <td>2012</td>\n",
       "      <td>100.0</td>\n",
       "      <td>Comedy</td>\n",
       "    </tr>\n",
       "    <tr>\n",
       "      <td>1</td>\n",
       "      <td>tt0438973</td>\n",
       "      <td>NaN</td>\n",
       "      <td>nm0175726,nm1802864</td>\n",
       "      <td>Sealand</td>\n",
       "      <td>Sealand</td>\n",
       "      <td>2019</td>\n",
       "      <td>NaN</td>\n",
       "      <td>Biography,Drama</td>\n",
       "    </tr>\n",
       "    <tr>\n",
       "      <td>2</td>\n",
       "      <td>tt0462036</td>\n",
       "      <td>nm1940585</td>\n",
       "      <td>nm1940585</td>\n",
       "      <td>Steve Phoenix: The Untold Story</td>\n",
       "      <td>Steve Phoenix: The Untold Story</td>\n",
       "      <td>2012</td>\n",
       "      <td>110.0</td>\n",
       "      <td>Drama</td>\n",
       "    </tr>\n",
       "    <tr>\n",
       "      <td>3</td>\n",
       "      <td>tt0835418</td>\n",
       "      <td>nm0151540</td>\n",
       "      <td>nm0310087,nm0841532</td>\n",
       "      <td>The Babymakers</td>\n",
       "      <td>The Babymakers</td>\n",
       "      <td>2012</td>\n",
       "      <td>95.0</td>\n",
       "      <td>Comedy</td>\n",
       "    </tr>\n",
       "    <tr>\n",
       "      <td>4</td>\n",
       "      <td>tt0878654</td>\n",
       "      <td>nm0089502,nm2291498,nm2292011</td>\n",
       "      <td>nm0284943</td>\n",
       "      <td>Bulletface</td>\n",
       "      <td>Bulletface</td>\n",
       "      <td>2010</td>\n",
       "      <td>82.0</td>\n",
       "      <td>Thriller</td>\n",
       "    </tr>\n",
       "    <tr>\n",
       "      <td>...</td>\n",
       "      <td>...</td>\n",
       "      <td>...</td>\n",
       "      <td>...</td>\n",
       "      <td>...</td>\n",
       "      <td>...</td>\n",
       "      <td>...</td>\n",
       "      <td>...</td>\n",
       "      <td>...</td>\n",
       "    </tr>\n",
       "    <tr>\n",
       "      <td>146139</td>\n",
       "      <td>tt8999974</td>\n",
       "      <td>nm10122357</td>\n",
       "      <td>nm10122357</td>\n",
       "      <td>Madre Luna</td>\n",
       "      <td>Madre Luna</td>\n",
       "      <td>2018</td>\n",
       "      <td>80.0</td>\n",
       "      <td>Documentary</td>\n",
       "    </tr>\n",
       "    <tr>\n",
       "      <td>146140</td>\n",
       "      <td>tt9001390</td>\n",
       "      <td>nm6711477</td>\n",
       "      <td>nm6711477</td>\n",
       "      <td>The woman and the river</td>\n",
       "      <td>The woman and the river</td>\n",
       "      <td>2017</td>\n",
       "      <td>88.0</td>\n",
       "      <td>Drama,Mystery</td>\n",
       "    </tr>\n",
       "    <tr>\n",
       "      <td>146141</td>\n",
       "      <td>tt9001494</td>\n",
       "      <td>nm10123242,nm10123248</td>\n",
       "      <td>NaN</td>\n",
       "      <td>Stone Mountain Georgia 08.28.18</td>\n",
       "      <td>Stone Mountain Georgia 08.28.18</td>\n",
       "      <td>2018</td>\n",
       "      <td>5.0</td>\n",
       "      <td>Documentary,History,News</td>\n",
       "    </tr>\n",
       "    <tr>\n",
       "      <td>146142</td>\n",
       "      <td>tt9004986</td>\n",
       "      <td>nm4993825</td>\n",
       "      <td>nm4993825</td>\n",
       "      <td>Syndebukken: Prosessen mot Harry Lindstrøm</td>\n",
       "      <td>Syndebukken: Prosessen mot Harry Lindstrøm</td>\n",
       "      <td>2018</td>\n",
       "      <td>NaN</td>\n",
       "      <td>Documentary</td>\n",
       "    </tr>\n",
       "    <tr>\n",
       "      <td>146143</td>\n",
       "      <td>tt9010172</td>\n",
       "      <td>NaN</td>\n",
       "      <td>nm8352242</td>\n",
       "      <td>A Moment in Time</td>\n",
       "      <td>A Moment in Time</td>\n",
       "      <td>2013</td>\n",
       "      <td>NaN</td>\n",
       "      <td>Drama</td>\n",
       "    </tr>\n",
       "  </tbody>\n",
       "</table>\n",
       "<p>146144 rows × 8 columns</p>\n",
       "</div>"
      ],
      "text/plain": [
       "           tconst                      directors              writers  \\\n",
       "0       tt0285252                      nm0899854            nm0899854   \n",
       "1       tt0438973                            NaN  nm0175726,nm1802864   \n",
       "2       tt0462036                      nm1940585            nm1940585   \n",
       "3       tt0835418                      nm0151540  nm0310087,nm0841532   \n",
       "4       tt0878654  nm0089502,nm2291498,nm2292011            nm0284943   \n",
       "...           ...                            ...                  ...   \n",
       "146139  tt8999974                     nm10122357           nm10122357   \n",
       "146140  tt9001390                      nm6711477            nm6711477   \n",
       "146141  tt9001494          nm10123242,nm10123248                  NaN   \n",
       "146142  tt9004986                      nm4993825            nm4993825   \n",
       "146143  tt9010172                            NaN            nm8352242   \n",
       "\n",
       "                                     primary_title  \\\n",
       "0                                   Life's a Beach   \n",
       "1                                          Sealand   \n",
       "2                  Steve Phoenix: The Untold Story   \n",
       "3                                   The Babymakers   \n",
       "4                                       Bulletface   \n",
       "...                                            ...   \n",
       "146139                                  Madre Luna   \n",
       "146140                     The woman and the river   \n",
       "146141             Stone Mountain Georgia 08.28.18   \n",
       "146142  Syndebukken: Prosessen mot Harry Lindstrøm   \n",
       "146143                            A Moment in Time   \n",
       "\n",
       "                                    original_title  start_year  \\\n",
       "0                                   Life's a Beach        2012   \n",
       "1                                          Sealand        2019   \n",
       "2                  Steve Phoenix: The Untold Story        2012   \n",
       "3                                   The Babymakers        2012   \n",
       "4                                       Bulletface        2010   \n",
       "...                                            ...         ...   \n",
       "146139                                  Madre Luna        2018   \n",
       "146140                     The woman and the river        2017   \n",
       "146141             Stone Mountain Georgia 08.28.18        2018   \n",
       "146142  Syndebukken: Prosessen mot Harry Lindstrøm        2018   \n",
       "146143                            A Moment in Time        2013   \n",
       "\n",
       "        runtime_minutes                    genres  \n",
       "0                 100.0                    Comedy  \n",
       "1                   NaN           Biography,Drama  \n",
       "2                 110.0                     Drama  \n",
       "3                  95.0                    Comedy  \n",
       "4                  82.0                  Thriller  \n",
       "...                 ...                       ...  \n",
       "146139             80.0               Documentary  \n",
       "146140             88.0             Drama,Mystery  \n",
       "146141              5.0  Documentary,History,News  \n",
       "146142              NaN               Documentary  \n",
       "146143              NaN                     Drama  \n",
       "\n",
       "[146144 rows x 8 columns]"
      ]
     },
     "execution_count": 47,
     "metadata": {},
     "output_type": "execute_result"
    }
   ],
   "source": [
    "df_imdb"
   ]
  },
  {
   "cell_type": "code",
   "execution_count": 48,
   "metadata": {
    "ExecuteTime": {
     "end_time": "2020-05-23T18:21:00.478503Z",
     "start_time": "2020-05-23T18:21:00.469531Z"
    }
   },
   "outputs": [
    {
     "data": {
      "text/html": [
       "<div>\n",
       "<style scoped>\n",
       "    .dataframe tbody tr th:only-of-type {\n",
       "        vertical-align: middle;\n",
       "    }\n",
       "\n",
       "    .dataframe tbody tr th {\n",
       "        vertical-align: top;\n",
       "    }\n",
       "\n",
       "    .dataframe thead th {\n",
       "        text-align: right;\n",
       "    }\n",
       "</style>\n",
       "<table border=\"1\" class=\"dataframe\">\n",
       "  <thead>\n",
       "    <tr style=\"text-align: right;\">\n",
       "      <th></th>\n",
       "      <th>tconst</th>\n",
       "      <th>averagerating</th>\n",
       "      <th>numvotes</th>\n",
       "    </tr>\n",
       "  </thead>\n",
       "  <tbody>\n",
       "    <tr>\n",
       "      <td>0</td>\n",
       "      <td>tt10356526</td>\n",
       "      <td>8.3</td>\n",
       "      <td>31</td>\n",
       "    </tr>\n",
       "    <tr>\n",
       "      <td>1</td>\n",
       "      <td>tt10384606</td>\n",
       "      <td>8.9</td>\n",
       "      <td>559</td>\n",
       "    </tr>\n",
       "    <tr>\n",
       "      <td>2</td>\n",
       "      <td>tt1042974</td>\n",
       "      <td>6.4</td>\n",
       "      <td>20</td>\n",
       "    </tr>\n",
       "    <tr>\n",
       "      <td>3</td>\n",
       "      <td>tt1043726</td>\n",
       "      <td>4.2</td>\n",
       "      <td>50352</td>\n",
       "    </tr>\n",
       "    <tr>\n",
       "      <td>4</td>\n",
       "      <td>tt1060240</td>\n",
       "      <td>6.5</td>\n",
       "      <td>21</td>\n",
       "    </tr>\n",
       "    <tr>\n",
       "      <td>...</td>\n",
       "      <td>...</td>\n",
       "      <td>...</td>\n",
       "      <td>...</td>\n",
       "    </tr>\n",
       "    <tr>\n",
       "      <td>73851</td>\n",
       "      <td>tt9805820</td>\n",
       "      <td>8.1</td>\n",
       "      <td>25</td>\n",
       "    </tr>\n",
       "    <tr>\n",
       "      <td>73852</td>\n",
       "      <td>tt9844256</td>\n",
       "      <td>7.5</td>\n",
       "      <td>24</td>\n",
       "    </tr>\n",
       "    <tr>\n",
       "      <td>73853</td>\n",
       "      <td>tt9851050</td>\n",
       "      <td>4.7</td>\n",
       "      <td>14</td>\n",
       "    </tr>\n",
       "    <tr>\n",
       "      <td>73854</td>\n",
       "      <td>tt9886934</td>\n",
       "      <td>7.0</td>\n",
       "      <td>5</td>\n",
       "    </tr>\n",
       "    <tr>\n",
       "      <td>73855</td>\n",
       "      <td>tt9894098</td>\n",
       "      <td>6.3</td>\n",
       "      <td>128</td>\n",
       "    </tr>\n",
       "  </tbody>\n",
       "</table>\n",
       "<p>73856 rows × 3 columns</p>\n",
       "</div>"
      ],
      "text/plain": [
       "           tconst  averagerating  numvotes\n",
       "0      tt10356526            8.3        31\n",
       "1      tt10384606            8.9       559\n",
       "2       tt1042974            6.4        20\n",
       "3       tt1043726            4.2     50352\n",
       "4       tt1060240            6.5        21\n",
       "...           ...            ...       ...\n",
       "73851   tt9805820            8.1        25\n",
       "73852   tt9844256            7.5        24\n",
       "73853   tt9851050            4.7        14\n",
       "73854   tt9886934            7.0         5\n",
       "73855   tt9894098            6.3       128\n",
       "\n",
       "[73856 rows x 3 columns]"
      ]
     },
     "execution_count": 48,
     "metadata": {},
     "output_type": "execute_result"
    }
   ],
   "source": [
    "DATA['imdb.title.ratings']"
   ]
  },
  {
   "cell_type": "code",
   "execution_count": 49,
   "metadata": {
    "ExecuteTime": {
     "end_time": "2020-05-23T18:21:00.587297Z",
     "start_time": "2020-05-23T18:21:00.479845Z"
    }
   },
   "outputs": [
    {
     "data": {
      "text/html": [
       "<div>\n",
       "<style scoped>\n",
       "    .dataframe tbody tr th:only-of-type {\n",
       "        vertical-align: middle;\n",
       "    }\n",
       "\n",
       "    .dataframe tbody tr th {\n",
       "        vertical-align: top;\n",
       "    }\n",
       "\n",
       "    .dataframe thead th {\n",
       "        text-align: right;\n",
       "    }\n",
       "</style>\n",
       "<table border=\"1\" class=\"dataframe\">\n",
       "  <thead>\n",
       "    <tr style=\"text-align: right;\">\n",
       "      <th></th>\n",
       "      <th>tconst</th>\n",
       "      <th>directors</th>\n",
       "      <th>writers</th>\n",
       "      <th>primary_title</th>\n",
       "      <th>original_title</th>\n",
       "      <th>start_year</th>\n",
       "      <th>runtime_minutes</th>\n",
       "      <th>genres</th>\n",
       "      <th>averagerating</th>\n",
       "      <th>numvotes</th>\n",
       "    </tr>\n",
       "  </thead>\n",
       "  <tbody>\n",
       "    <tr>\n",
       "      <td>0</td>\n",
       "      <td>tt0285252</td>\n",
       "      <td>nm0899854</td>\n",
       "      <td>nm0899854</td>\n",
       "      <td>Life's a Beach</td>\n",
       "      <td>Life's a Beach</td>\n",
       "      <td>2012</td>\n",
       "      <td>100.0</td>\n",
       "      <td>Comedy</td>\n",
       "      <td>3.9</td>\n",
       "      <td>219.0</td>\n",
       "    </tr>\n",
       "    <tr>\n",
       "      <td>1</td>\n",
       "      <td>tt0438973</td>\n",
       "      <td>NaN</td>\n",
       "      <td>nm0175726,nm1802864</td>\n",
       "      <td>Sealand</td>\n",
       "      <td>Sealand</td>\n",
       "      <td>2019</td>\n",
       "      <td>NaN</td>\n",
       "      <td>Biography,Drama</td>\n",
       "      <td>NaN</td>\n",
       "      <td>NaN</td>\n",
       "    </tr>\n",
       "    <tr>\n",
       "      <td>2</td>\n",
       "      <td>tt0462036</td>\n",
       "      <td>nm1940585</td>\n",
       "      <td>nm1940585</td>\n",
       "      <td>Steve Phoenix: The Untold Story</td>\n",
       "      <td>Steve Phoenix: The Untold Story</td>\n",
       "      <td>2012</td>\n",
       "      <td>110.0</td>\n",
       "      <td>Drama</td>\n",
       "      <td>5.5</td>\n",
       "      <td>18.0</td>\n",
       "    </tr>\n",
       "    <tr>\n",
       "      <td>3</td>\n",
       "      <td>tt0835418</td>\n",
       "      <td>nm0151540</td>\n",
       "      <td>nm0310087,nm0841532</td>\n",
       "      <td>The Babymakers</td>\n",
       "      <td>The Babymakers</td>\n",
       "      <td>2012</td>\n",
       "      <td>95.0</td>\n",
       "      <td>Comedy</td>\n",
       "      <td>5.0</td>\n",
       "      <td>8147.0</td>\n",
       "    </tr>\n",
       "    <tr>\n",
       "      <td>4</td>\n",
       "      <td>tt0878654</td>\n",
       "      <td>nm0089502,nm2291498,nm2292011</td>\n",
       "      <td>nm0284943</td>\n",
       "      <td>Bulletface</td>\n",
       "      <td>Bulletface</td>\n",
       "      <td>2010</td>\n",
       "      <td>82.0</td>\n",
       "      <td>Thriller</td>\n",
       "      <td>5.8</td>\n",
       "      <td>875.0</td>\n",
       "    </tr>\n",
       "    <tr>\n",
       "      <td>...</td>\n",
       "      <td>...</td>\n",
       "      <td>...</td>\n",
       "      <td>...</td>\n",
       "      <td>...</td>\n",
       "      <td>...</td>\n",
       "      <td>...</td>\n",
       "      <td>...</td>\n",
       "      <td>...</td>\n",
       "      <td>...</td>\n",
       "      <td>...</td>\n",
       "    </tr>\n",
       "    <tr>\n",
       "      <td>146139</td>\n",
       "      <td>tt8999974</td>\n",
       "      <td>nm10122357</td>\n",
       "      <td>nm10122357</td>\n",
       "      <td>Madre Luna</td>\n",
       "      <td>Madre Luna</td>\n",
       "      <td>2018</td>\n",
       "      <td>80.0</td>\n",
       "      <td>Documentary</td>\n",
       "      <td>NaN</td>\n",
       "      <td>NaN</td>\n",
       "    </tr>\n",
       "    <tr>\n",
       "      <td>146140</td>\n",
       "      <td>tt9001390</td>\n",
       "      <td>nm6711477</td>\n",
       "      <td>nm6711477</td>\n",
       "      <td>The woman and the river</td>\n",
       "      <td>The woman and the river</td>\n",
       "      <td>2017</td>\n",
       "      <td>88.0</td>\n",
       "      <td>Drama,Mystery</td>\n",
       "      <td>NaN</td>\n",
       "      <td>NaN</td>\n",
       "    </tr>\n",
       "    <tr>\n",
       "      <td>146141</td>\n",
       "      <td>tt9001494</td>\n",
       "      <td>nm10123242,nm10123248</td>\n",
       "      <td>NaN</td>\n",
       "      <td>Stone Mountain Georgia 08.28.18</td>\n",
       "      <td>Stone Mountain Georgia 08.28.18</td>\n",
       "      <td>2018</td>\n",
       "      <td>5.0</td>\n",
       "      <td>Documentary,History,News</td>\n",
       "      <td>NaN</td>\n",
       "      <td>NaN</td>\n",
       "    </tr>\n",
       "    <tr>\n",
       "      <td>146142</td>\n",
       "      <td>tt9004986</td>\n",
       "      <td>nm4993825</td>\n",
       "      <td>nm4993825</td>\n",
       "      <td>Syndebukken: Prosessen mot Harry Lindstrøm</td>\n",
       "      <td>Syndebukken: Prosessen mot Harry Lindstrøm</td>\n",
       "      <td>2018</td>\n",
       "      <td>NaN</td>\n",
       "      <td>Documentary</td>\n",
       "      <td>8.4</td>\n",
       "      <td>7.0</td>\n",
       "    </tr>\n",
       "    <tr>\n",
       "      <td>146143</td>\n",
       "      <td>tt9010172</td>\n",
       "      <td>NaN</td>\n",
       "      <td>nm8352242</td>\n",
       "      <td>A Moment in Time</td>\n",
       "      <td>A Moment in Time</td>\n",
       "      <td>2013</td>\n",
       "      <td>NaN</td>\n",
       "      <td>Drama</td>\n",
       "      <td>NaN</td>\n",
       "      <td>NaN</td>\n",
       "    </tr>\n",
       "  </tbody>\n",
       "</table>\n",
       "<p>146144 rows × 10 columns</p>\n",
       "</div>"
      ],
      "text/plain": [
       "           tconst                      directors              writers  \\\n",
       "0       tt0285252                      nm0899854            nm0899854   \n",
       "1       tt0438973                            NaN  nm0175726,nm1802864   \n",
       "2       tt0462036                      nm1940585            nm1940585   \n",
       "3       tt0835418                      nm0151540  nm0310087,nm0841532   \n",
       "4       tt0878654  nm0089502,nm2291498,nm2292011            nm0284943   \n",
       "...           ...                            ...                  ...   \n",
       "146139  tt8999974                     nm10122357           nm10122357   \n",
       "146140  tt9001390                      nm6711477            nm6711477   \n",
       "146141  tt9001494          nm10123242,nm10123248                  NaN   \n",
       "146142  tt9004986                      nm4993825            nm4993825   \n",
       "146143  tt9010172                            NaN            nm8352242   \n",
       "\n",
       "                                     primary_title  \\\n",
       "0                                   Life's a Beach   \n",
       "1                                          Sealand   \n",
       "2                  Steve Phoenix: The Untold Story   \n",
       "3                                   The Babymakers   \n",
       "4                                       Bulletface   \n",
       "...                                            ...   \n",
       "146139                                  Madre Luna   \n",
       "146140                     The woman and the river   \n",
       "146141             Stone Mountain Georgia 08.28.18   \n",
       "146142  Syndebukken: Prosessen mot Harry Lindstrøm   \n",
       "146143                            A Moment in Time   \n",
       "\n",
       "                                    original_title  start_year  \\\n",
       "0                                   Life's a Beach        2012   \n",
       "1                                          Sealand        2019   \n",
       "2                  Steve Phoenix: The Untold Story        2012   \n",
       "3                                   The Babymakers        2012   \n",
       "4                                       Bulletface        2010   \n",
       "...                                            ...         ...   \n",
       "146139                                  Madre Luna        2018   \n",
       "146140                     The woman and the river        2017   \n",
       "146141             Stone Mountain Georgia 08.28.18        2018   \n",
       "146142  Syndebukken: Prosessen mot Harry Lindstrøm        2018   \n",
       "146143                            A Moment in Time        2013   \n",
       "\n",
       "        runtime_minutes                    genres  averagerating  numvotes  \n",
       "0                 100.0                    Comedy            3.9     219.0  \n",
       "1                   NaN           Biography,Drama            NaN       NaN  \n",
       "2                 110.0                     Drama            5.5      18.0  \n",
       "3                  95.0                    Comedy            5.0    8147.0  \n",
       "4                  82.0                  Thriller            5.8     875.0  \n",
       "...                 ...                       ...            ...       ...  \n",
       "146139             80.0               Documentary            NaN       NaN  \n",
       "146140             88.0             Drama,Mystery            NaN       NaN  \n",
       "146141              5.0  Documentary,History,News            NaN       NaN  \n",
       "146142              NaN               Documentary            8.4       7.0  \n",
       "146143              NaN                     Drama            NaN       NaN  \n",
       "\n",
       "[146144 rows x 10 columns]"
      ]
     },
     "execution_count": 49,
     "metadata": {},
     "output_type": "execute_result"
    }
   ],
   "source": [
    "df = pd.merge(df_imdb, DATA['imdb.title.ratings'],on='tconst',how='outer')\n",
    "df"
   ]
  },
  {
   "cell_type": "code",
   "execution_count": 50,
   "metadata": {
    "ExecuteTime": {
     "end_time": "2020-05-23T18:21:00.725809Z",
     "start_time": "2020-05-23T18:21:00.588391Z"
    }
   },
   "outputs": [
    {
     "name": "stdout",
     "output_type": "stream",
     "text": [
      "<class 'pandas.core.frame.DataFrame'>\n",
      "Int64Index: 146144 entries, 0 to 146143\n",
      "Data columns (total 10 columns):\n",
      "tconst             146144 non-null object\n",
      "directors          140417 non-null object\n",
      "writers            110261 non-null object\n",
      "primary_title      146144 non-null object\n",
      "original_title     146123 non-null object\n",
      "start_year         146144 non-null int64\n",
      "runtime_minutes    114405 non-null float64\n",
      "genres             140736 non-null object\n",
      "averagerating      73856 non-null float64\n",
      "numvotes           73856 non-null float64\n",
      "dtypes: float64(3), int64(1), object(6)\n",
      "memory usage: 12.3+ MB\n"
     ]
    }
   ],
   "source": [
    "df.info()"
   ]
  },
  {
   "cell_type": "code",
   "execution_count": 51,
   "metadata": {
    "ExecuteTime": {
     "end_time": "2020-05-23T18:21:00.729965Z",
     "start_time": "2020-05-23T18:21:00.727139Z"
    }
   },
   "outputs": [],
   "source": [
    "plt.rcParams['figure.figsize'] = [12,10]"
   ]
  },
  {
   "cell_type": "code",
   "execution_count": 52,
   "metadata": {
    "ExecuteTime": {
     "end_time": "2020-05-23T18:21:12.088039Z",
     "start_time": "2020-05-23T18:21:00.732150Z"
    }
   },
   "outputs": [
    {
     "data": {
      "image/png": "[encoded data removed]",
      "text/plain": [
       "<Figure size 864x720 with 16 Axes>"
      ]
     },
     "metadata": {
      "needs_background": "light"
     },
     "output_type": "display_data"
    }
   ],
   "source": [
    "scatmat = pd.plotting.scatter_matrix(df);"
   ]
  },
  {
   "cell_type": "code",
   "execution_count": 53,
   "metadata": {
    "ExecuteTime": {
     "end_time": "2020-05-23T18:21:12.941682Z",
     "start_time": "2020-05-23T18:21:12.089632Z"
    }
   },
   "outputs": [
    {
     "data": {
      "text/plain": [
       "<matplotlib.axes._subplots.AxesSubplot at 0x1a5f6296a0>"
      ]
     },
     "execution_count": 53,
     "metadata": {},
     "output_type": "execute_result"
    },
    {
     "data": {
      "image/png": "[encoded data removed]",
      "text/plain": [
       "<Figure size 1800x720 with 2 Axes>"
      ]
     },
     "metadata": {
      "needs_background": "light"
     },
     "output_type": "display_data"
    }
   ],
   "source": [
    "import missingno as ms\n",
    "ms.matrix(df)"
   ]
  },
  {
   "cell_type": "code",
   "execution_count": 54,
   "metadata": {
    "ExecuteTime": {
     "end_time": "2020-05-23T18:21:12.969983Z",
     "start_time": "2020-05-23T18:21:12.942889Z"
    }
   },
   "outputs": [
    {
     "data": {
      "text/plain": [
       "tconst                 0\n",
       "directors           3342\n",
       "writers            10649\n",
       "primary_title          0\n",
       "original_title        17\n",
       "start_year             0\n",
       "runtime_minutes    31739\n",
       "genres              3236\n",
       "averagerating      24119\n",
       "numvotes           24119\n",
       "dtype: int64"
      ]
     },
     "execution_count": 54,
     "metadata": {},
     "output_type": "execute_result"
    }
   ],
   "source": [
    "df[df['runtime_minutes'].isna()].isna().sum()"
   ]
  },
  {
   "cell_type": "code",
   "execution_count": 55,
   "metadata": {
    "ExecuteTime": {
     "end_time": "2020-05-23T18:21:13.024145Z",
     "start_time": "2020-05-23T18:21:12.971646Z"
    }
   },
   "outputs": [
    {
     "data": {
      "text/html": [
       "<div>\n",
       "<style scoped>\n",
       "    .dataframe tbody tr th:only-of-type {\n",
       "        vertical-align: middle;\n",
       "    }\n",
       "\n",
       "    .dataframe tbody tr th {\n",
       "        vertical-align: top;\n",
       "    }\n",
       "\n",
       "    .dataframe thead th {\n",
       "        text-align: right;\n",
       "    }\n",
       "</style>\n",
       "<table border=\"1\" class=\"dataframe\">\n",
       "  <thead>\n",
       "    <tr style=\"text-align: right;\">\n",
       "      <th></th>\n",
       "      <th>tconst</th>\n",
       "      <th>directors</th>\n",
       "      <th>writers</th>\n",
       "      <th>primary_title</th>\n",
       "      <th>original_title</th>\n",
       "      <th>start_year</th>\n",
       "      <th>runtime_minutes</th>\n",
       "      <th>genres</th>\n",
       "      <th>averagerating</th>\n",
       "      <th>numvotes</th>\n",
       "    </tr>\n",
       "  </thead>\n",
       "  <tbody>\n",
       "    <tr>\n",
       "      <td>0</td>\n",
       "      <td>tt0285252</td>\n",
       "      <td>nm0899854</td>\n",
       "      <td>nm0899854</td>\n",
       "      <td>Life's a Beach</td>\n",
       "      <td>Life's a Beach</td>\n",
       "      <td>2012</td>\n",
       "      <td>100.0</td>\n",
       "      <td>Comedy</td>\n",
       "      <td>3.9</td>\n",
       "      <td>219.0</td>\n",
       "    </tr>\n",
       "    <tr>\n",
       "      <td>2</td>\n",
       "      <td>tt0462036</td>\n",
       "      <td>nm1940585</td>\n",
       "      <td>nm1940585</td>\n",
       "      <td>Steve Phoenix: The Untold Story</td>\n",
       "      <td>Steve Phoenix: The Untold Story</td>\n",
       "      <td>2012</td>\n",
       "      <td>110.0</td>\n",
       "      <td>Drama</td>\n",
       "      <td>5.5</td>\n",
       "      <td>18.0</td>\n",
       "    </tr>\n",
       "    <tr>\n",
       "      <td>3</td>\n",
       "      <td>tt0835418</td>\n",
       "      <td>nm0151540</td>\n",
       "      <td>nm0310087,nm0841532</td>\n",
       "      <td>The Babymakers</td>\n",
       "      <td>The Babymakers</td>\n",
       "      <td>2012</td>\n",
       "      <td>95.0</td>\n",
       "      <td>Comedy</td>\n",
       "      <td>5.0</td>\n",
       "      <td>8147.0</td>\n",
       "    </tr>\n",
       "    <tr>\n",
       "      <td>4</td>\n",
       "      <td>tt0878654</td>\n",
       "      <td>nm0089502,nm2291498,nm2292011</td>\n",
       "      <td>nm0284943</td>\n",
       "      <td>Bulletface</td>\n",
       "      <td>Bulletface</td>\n",
       "      <td>2010</td>\n",
       "      <td>82.0</td>\n",
       "      <td>Thriller</td>\n",
       "      <td>5.8</td>\n",
       "      <td>875.0</td>\n",
       "    </tr>\n",
       "    <tr>\n",
       "      <td>5</td>\n",
       "      <td>tt0879859</td>\n",
       "      <td>nm2416460</td>\n",
       "      <td>NaN</td>\n",
       "      <td>Torn</td>\n",
       "      <td>Torn</td>\n",
       "      <td>2010</td>\n",
       "      <td>NaN</td>\n",
       "      <td>Thriller</td>\n",
       "      <td>6.8</td>\n",
       "      <td>21.0</td>\n",
       "    </tr>\n",
       "    <tr>\n",
       "      <td>...</td>\n",
       "      <td>...</td>\n",
       "      <td>...</td>\n",
       "      <td>...</td>\n",
       "      <td>...</td>\n",
       "      <td>...</td>\n",
       "      <td>...</td>\n",
       "      <td>...</td>\n",
       "      <td>...</td>\n",
       "      <td>...</td>\n",
       "      <td>...</td>\n",
       "    </tr>\n",
       "    <tr>\n",
       "      <td>146120</td>\n",
       "      <td>tt8947660</td>\n",
       "      <td>nm10097606</td>\n",
       "      <td>nm10097614</td>\n",
       "      <td>Goyenda Tatar</td>\n",
       "      <td>Goyenda Tatar</td>\n",
       "      <td>2019</td>\n",
       "      <td>NaN</td>\n",
       "      <td>Adventure</td>\n",
       "      <td>8.1</td>\n",
       "      <td>21.0</td>\n",
       "    </tr>\n",
       "    <tr>\n",
       "      <td>146122</td>\n",
       "      <td>tt8948614</td>\n",
       "      <td>nm0827830,nm0839064</td>\n",
       "      <td>NaN</td>\n",
       "      <td>Reversing Roe</td>\n",
       "      <td>Reversing Roe</td>\n",
       "      <td>2018</td>\n",
       "      <td>99.0</td>\n",
       "      <td>Documentary</td>\n",
       "      <td>7.4</td>\n",
       "      <td>696.0</td>\n",
       "    </tr>\n",
       "    <tr>\n",
       "      <td>146123</td>\n",
       "      <td>tt8954732</td>\n",
       "      <td>nm0737517</td>\n",
       "      <td>nm0076820,nm2997602</td>\n",
       "      <td>The Princess Switch</td>\n",
       "      <td>The Princess Switch</td>\n",
       "      <td>2018</td>\n",
       "      <td>101.0</td>\n",
       "      <td>Romance</td>\n",
       "      <td>6.0</td>\n",
       "      <td>13993.0</td>\n",
       "    </tr>\n",
       "    <tr>\n",
       "      <td>146132</td>\n",
       "      <td>tt8991416</td>\n",
       "      <td>nm7731173</td>\n",
       "      <td>nm7731173</td>\n",
       "      <td>Doozy</td>\n",
       "      <td>Doozy</td>\n",
       "      <td>2018</td>\n",
       "      <td>70.0</td>\n",
       "      <td>Animation,Comedy</td>\n",
       "      <td>6.7</td>\n",
       "      <td>13.0</td>\n",
       "    </tr>\n",
       "    <tr>\n",
       "      <td>146142</td>\n",
       "      <td>tt9004986</td>\n",
       "      <td>nm4993825</td>\n",
       "      <td>nm4993825</td>\n",
       "      <td>Syndebukken: Prosessen mot Harry Lindstrøm</td>\n",
       "      <td>Syndebukken: Prosessen mot Harry Lindstrøm</td>\n",
       "      <td>2018</td>\n",
       "      <td>NaN</td>\n",
       "      <td>Documentary</td>\n",
       "      <td>8.4</td>\n",
       "      <td>7.0</td>\n",
       "    </tr>\n",
       "  </tbody>\n",
       "</table>\n",
       "<p>73856 rows × 10 columns</p>\n",
       "</div>"
      ],
      "text/plain": [
       "           tconst                      directors              writers  \\\n",
       "0       tt0285252                      nm0899854            nm0899854   \n",
       "2       tt0462036                      nm1940585            nm1940585   \n",
       "3       tt0835418                      nm0151540  nm0310087,nm0841532   \n",
       "4       tt0878654  nm0089502,nm2291498,nm2292011            nm0284943   \n",
       "5       tt0879859                      nm2416460                  NaN   \n",
       "...           ...                            ...                  ...   \n",
       "146120  tt8947660                     nm10097606           nm10097614   \n",
       "146122  tt8948614            nm0827830,nm0839064                  NaN   \n",
       "146123  tt8954732                      nm0737517  nm0076820,nm2997602   \n",
       "146132  tt8991416                      nm7731173            nm7731173   \n",
       "146142  tt9004986                      nm4993825            nm4993825   \n",
       "\n",
       "                                     primary_title  \\\n",
       "0                                   Life's a Beach   \n",
       "2                  Steve Phoenix: The Untold Story   \n",
       "3                                   The Babymakers   \n",
       "4                                       Bulletface   \n",
       "5                                             Torn   \n",
       "...                                            ...   \n",
       "146120                               Goyenda Tatar   \n",
       "146122                               Reversing Roe   \n",
       "146123                         The Princess Switch   \n",
       "146132                                       Doozy   \n",
       "146142  Syndebukken: Prosessen mot Harry Lindstrøm   \n",
       "\n",
       "                                    original_title  start_year  \\\n",
       "0                                   Life's a Beach        2012   \n",
       "2                  Steve Phoenix: The Untold Story        2012   \n",
       "3                                   The Babymakers        2012   \n",
       "4                                       Bulletface        2010   \n",
       "5                                             Torn        2010   \n",
       "...                                            ...         ...   \n",
       "146120                               Goyenda Tatar        2019   \n",
       "146122                               Reversing Roe        2018   \n",
       "146123                         The Princess Switch        2018   \n",
       "146132                                       Doozy        2018   \n",
       "146142  Syndebukken: Prosessen mot Harry Lindstrøm        2018   \n",
       "\n",
       "        runtime_minutes            genres  averagerating  numvotes  \n",
       "0                 100.0            Comedy            3.9     219.0  \n",
       "2                 110.0             Drama            5.5      18.0  \n",
       "3                  95.0            Comedy            5.0    8147.0  \n",
       "4                  82.0          Thriller            5.8     875.0  \n",
       "5                   NaN          Thriller            6.8      21.0  \n",
       "...                 ...               ...            ...       ...  \n",
       "146120              NaN         Adventure            8.1      21.0  \n",
       "146122             99.0       Documentary            7.4     696.0  \n",
       "146123            101.0           Romance            6.0   13993.0  \n",
       "146132             70.0  Animation,Comedy            6.7      13.0  \n",
       "146142              NaN       Documentary            8.4       7.0  \n",
       "\n",
       "[73856 rows x 10 columns]"
      ]
     },
     "execution_count": 55,
     "metadata": {},
     "output_type": "execute_result"
    }
   ],
   "source": [
    "rated = df[df['averagerating'].notnull()].copy()\n",
    "rated"
   ]
  },
  {
   "cell_type": "code",
   "execution_count": 56,
   "metadata": {
    "ExecuteTime": {
     "end_time": "2020-05-23T18:21:23.280857Z",
     "start_time": "2020-05-23T18:21:13.025703Z"
    }
   },
   "outputs": [
    {
     "data": {
      "image/png": "[encoded data removed]",
      "text/plain": [
       "<Figure size 864x720 with 16 Axes>"
      ]
     },
     "metadata": {
      "needs_background": "light"
     },
     "output_type": "display_data"
    }
   ],
   "source": [
    "scatmat = pd.plotting.scatter_matrix(rated);"
   ]
  },
  {
   "cell_type": "code",
   "execution_count": 57,
   "metadata": {
    "ExecuteTime": {
     "end_time": "2020-05-23T18:21:26.957205Z",
     "start_time": "2020-05-23T18:21:23.282274Z"
    }
   },
   "outputs": [
    {
     "data": {
      "text/plain": [
       "<seaborn.axisgrid.JointGrid at 0x1a1f9ad240>"
      ]
     },
     "execution_count": 57,
     "metadata": {},
     "output_type": "execute_result"
    },
    {
     "data": {
      "image/png": "[encoded data removed]",
      "text/plain": [
       "<Figure size 432x432 with 3 Axes>"
      ]
     },
     "metadata": {
      "needs_background": "light"
     },
     "output_type": "display_data"
    }
   ],
   "source": [
    "import seaborn as sns\n",
    "sns.jointplot('averagerating','runtime_minutes',data=rated,kind='reg')"
   ]
  },
  {
   "cell_type": "code",
   "execution_count": 58,
   "metadata": {
    "ExecuteTime": {
     "end_time": "2020-05-23T18:21:27.245328Z",
     "start_time": "2020-05-23T18:21:26.959154Z"
    }
   },
   "outputs": [
    {
     "data": {
      "text/plain": [
       "<matplotlib.axes._subplots.AxesSubplot at 0x1a26b1df60>"
      ]
     },
     "execution_count": 58,
     "metadata": {},
     "output_type": "execute_result"
    },
    {
     "data": {
      "image/png": "[encoded data removed]",
      "text/plain": [
       "<Figure size 864x720 with 1 Axes>"
      ]
     },
     "metadata": {
      "needs_background": "light"
     },
     "output_type": "display_data"
    }
   ],
   "source": [
    "sns.boxplot(x='start_year',y='runtime_minutes',data=rated)"
   ]
  },
  {
   "cell_type": "code",
   "execution_count": 59,
   "metadata": {
    "ExecuteTime": {
     "end_time": "2020-05-23T18:21:27.250486Z",
     "start_time": "2020-05-23T18:21:27.246350Z"
    }
   },
   "outputs": [
    {
     "data": {
      "text/plain": [
       "0         100.0\n",
       "2         110.0\n",
       "3          95.0\n",
       "4          82.0\n",
       "5           NaN\n",
       "          ...  \n",
       "146120      NaN\n",
       "146122     99.0\n",
       "146123    101.0\n",
       "146132     70.0\n",
       "146142      NaN\n",
       "Name: runtime_minutes, Length: 73856, dtype: float64"
      ]
     },
     "execution_count": 59,
     "metadata": {},
     "output_type": "execute_result"
    }
   ],
   "source": [
    "import scipy.stats as st\n",
    "\n",
    "rated['runtime_minutes']"
   ]
  },
  {
   "cell_type": "code",
   "execution_count": 60,
   "metadata": {
    "ExecuteTime": {
     "end_time": "2020-05-23T18:21:27.283521Z",
     "start_time": "2020-05-23T18:21:27.251745Z"
    }
   },
   "outputs": [
    {
     "data": {
      "text/plain": [
       "tconst             0.000000\n",
       "directors          0.010182\n",
       "writers            0.142994\n",
       "primary_title      0.000000\n",
       "original_title     0.000000\n",
       "start_year         0.000000\n",
       "runtime_minutes    0.103174\n",
       "genres             0.010886\n",
       "averagerating      0.000000\n",
       "numvotes           0.000000\n",
       "dtype: float64"
      ]
     },
     "execution_count": 60,
     "metadata": {},
     "output_type": "execute_result"
    }
   ],
   "source": [
    "rated.isna().sum()/len(rated)"
   ]
  },
  {
   "cell_type": "code",
   "execution_count": 61,
   "metadata": {
    "ExecuteTime": {
     "end_time": "2020-05-23T18:21:27.327923Z",
     "start_time": "2020-05-23T18:21:27.285121Z"
    }
   },
   "outputs": [],
   "source": [
    "rated.dropna(inplace=True)"
   ]
  },
  {
   "cell_type": "code",
   "execution_count": 62,
   "metadata": {
    "ExecuteTime": {
     "end_time": "2020-05-23T18:21:27.335857Z",
     "start_time": "2020-05-23T18:21:27.329476Z"
    }
   },
   "outputs": [
    {
     "data": {
      "text/plain": [
       "414"
      ]
     },
     "execution_count": 62,
     "metadata": {},
     "output_type": "execute_result"
    }
   ],
   "source": [
    "idx_outs = np.abs(st.zscore(rated['runtime_minutes'])) >3\n",
    "idx_outs.sum()"
   ]
  },
  {
   "cell_type": "code",
   "execution_count": 63,
   "metadata": {
    "ExecuteTime": {
     "end_time": "2020-05-23T18:21:29.851065Z",
     "start_time": "2020-05-23T18:21:27.337284Z"
    }
   },
   "outputs": [
    {
     "data": {
      "text/plain": [
       "<seaborn.axisgrid.JointGrid at 0x1a3581b518>"
      ]
     },
     "execution_count": 63,
     "metadata": {},
     "output_type": "execute_result"
    },
    {
     "data": {
      "image/png": "[encoded data removed]",
      "text/plain": [
       "<Figure size 432x432 with 3 Axes>"
      ]
     },
     "metadata": {
      "needs_background": "light"
     },
     "output_type": "display_data"
    }
   ],
   "source": [
    "sns.jointplot('averagerating','runtime_minutes',data=rated,kind='reg')"
   ]
  },
  {
   "cell_type": "code",
   "execution_count": 64,
   "metadata": {
    "ExecuteTime": {
     "end_time": "2020-05-23T18:21:29.856078Z",
     "start_time": "2020-05-23T18:21:29.852485Z"
    }
   },
   "outputs": [],
   "source": [
    "rated['outlier'] = idx_outs"
   ]
  },
  {
   "cell_type": "code",
   "execution_count": 65,
   "metadata": {
    "ExecuteTime": {
     "end_time": "2020-05-23T18:21:32.381025Z",
     "start_time": "2020-05-23T18:21:29.857730Z"
    }
   },
   "outputs": [
    {
     "data": {
      "text/plain": [
       "<seaborn.axisgrid.FacetGrid at 0x1a34563828>"
      ]
     },
     "execution_count": 65,
     "metadata": {},
     "output_type": "execute_result"
    },
    {
     "data": {
      "image/png": "[encoded data removed]",
      "text/plain": [
       "<Figure size 422.125x360 with 1 Axes>"
      ]
     },
     "metadata": {
      "needs_background": "light"
     },
     "output_type": "display_data"
    }
   ],
   "source": [
    "sns.lmplot(x='averagerating',y='runtime_minutes',data=rated,hue='outlier')"
   ]
  },
  {
   "cell_type": "code",
   "execution_count": 66,
   "metadata": {
    "ExecuteTime": {
     "end_time": "2020-05-23T18:21:34.802757Z",
     "start_time": "2020-05-23T18:21:32.382611Z"
    }
   },
   "outputs": [
    {
     "data": {
      "text/plain": [
       "<seaborn.axisgrid.FacetGrid at 0x1a336a2d68>"
      ]
     },
     "execution_count": 66,
     "metadata": {},
     "output_type": "execute_result"
    },
    {
     "data": {
      "image/png": "[encoded data removed]",
      "text/plain": [
       "<Figure size 422.125x360 with 1 Axes>"
      ]
     },
     "metadata": {
      "needs_background": "light"
     },
     "output_type": "display_data"
    }
   ],
   "source": [
    "sns.lmplot(x='averagerating',y='runtime_minutes',data=rated[~idx_outs],hue='outlier')"
   ]
  },
  {
   "cell_type": "code",
   "execution_count": 70,
   "metadata": {
    "ExecuteTime": {
     "end_time": "2020-05-23T18:26:25.796753Z",
     "start_time": "2020-05-23T18:26:25.794712Z"
    }
   },
   "outputs": [],
   "source": [
    "# stop"
   ]
  },
  {
   "cell_type": "markdown",
   "metadata": {},
   "source": [
    "# Joining dfrt (gross) + df_imdb"
   ]
  },
  {
   "cell_type": "code",
   "execution_count": 68,
   "metadata": {
    "ExecuteTime": {
     "end_time": "2020-05-23T18:25:34.877389Z",
     "start_time": "2020-05-23T18:25:34.863516Z"
    }
   },
   "outputs": [
    {
     "data": {
      "text/html": [
       "<div>\n",
       "<style scoped>\n",
       "    .dataframe tbody tr th:only-of-type {\n",
       "        vertical-align: middle;\n",
       "    }\n",
       "\n",
       "    .dataframe tbody tr th {\n",
       "        vertical-align: top;\n",
       "    }\n",
       "\n",
       "    .dataframe thead th {\n",
       "        text-align: right;\n",
       "    }\n",
       "</style>\n",
       "<table border=\"1\" class=\"dataframe\">\n",
       "  <thead>\n",
       "    <tr style=\"text-align: right;\">\n",
       "      <th></th>\n",
       "      <th>id</th>\n",
       "      <th>synopsis</th>\n",
       "      <th>rating</th>\n",
       "      <th>genre</th>\n",
       "      <th>director</th>\n",
       "      <th>writer</th>\n",
       "      <th>theater_date</th>\n",
       "      <th>dvd_date</th>\n",
       "      <th>currency</th>\n",
       "      <th>box_office</th>\n",
       "      <th>runtime</th>\n",
       "      <th>studio</th>\n",
       "    </tr>\n",
       "  </thead>\n",
       "  <tbody>\n",
       "    <tr>\n",
       "      <td>0</td>\n",
       "      <td>1</td>\n",
       "      <td>This gritty, fast-paced, and innovative police...</td>\n",
       "      <td>R</td>\n",
       "      <td>Action and Adventure|Classics|Drama</td>\n",
       "      <td>William Friedkin</td>\n",
       "      <td>Ernest Tidyman</td>\n",
       "      <td>Oct 9, 1971</td>\n",
       "      <td>Sep 25, 2001</td>\n",
       "      <td>NaN</td>\n",
       "      <td>NaN</td>\n",
       "      <td>104 minutes</td>\n",
       "      <td>NaN</td>\n",
       "    </tr>\n",
       "    <tr>\n",
       "      <td>1</td>\n",
       "      <td>3</td>\n",
       "      <td>New York City, not-too-distant-future: Eric Pa...</td>\n",
       "      <td>R</td>\n",
       "      <td>Drama|Science Fiction and Fantasy</td>\n",
       "      <td>David Cronenberg</td>\n",
       "      <td>David Cronenberg|Don DeLillo</td>\n",
       "      <td>Aug 17, 2012</td>\n",
       "      <td>Jan 1, 2013</td>\n",
       "      <td>$</td>\n",
       "      <td>600,000</td>\n",
       "      <td>108 minutes</td>\n",
       "      <td>Entertainment One</td>\n",
       "    </tr>\n",
       "    <tr>\n",
       "      <td>2</td>\n",
       "      <td>5</td>\n",
       "      <td>Illeana Douglas delivers a superb performance ...</td>\n",
       "      <td>R</td>\n",
       "      <td>Drama|Musical and Performing Arts</td>\n",
       "      <td>Allison Anders</td>\n",
       "      <td>Allison Anders</td>\n",
       "      <td>Sep 13, 1996</td>\n",
       "      <td>Apr 18, 2000</td>\n",
       "      <td>NaN</td>\n",
       "      <td>NaN</td>\n",
       "      <td>116 minutes</td>\n",
       "      <td>NaN</td>\n",
       "    </tr>\n",
       "    <tr>\n",
       "      <td>3</td>\n",
       "      <td>6</td>\n",
       "      <td>Michael Douglas runs afoul of a treacherous su...</td>\n",
       "      <td>R</td>\n",
       "      <td>Drama|Mystery and Suspense</td>\n",
       "      <td>Barry Levinson</td>\n",
       "      <td>Paul Attanasio|Michael Crichton</td>\n",
       "      <td>Dec 9, 1994</td>\n",
       "      <td>Aug 27, 1997</td>\n",
       "      <td>NaN</td>\n",
       "      <td>NaN</td>\n",
       "      <td>128 minutes</td>\n",
       "      <td>NaN</td>\n",
       "    </tr>\n",
       "    <tr>\n",
       "      <td>4</td>\n",
       "      <td>7</td>\n",
       "      <td>NaN</td>\n",
       "      <td>NR</td>\n",
       "      <td>Drama|Romance</td>\n",
       "      <td>Rodney Bennett</td>\n",
       "      <td>Giles Cooper</td>\n",
       "      <td>NaN</td>\n",
       "      <td>NaN</td>\n",
       "      <td>NaN</td>\n",
       "      <td>NaN</td>\n",
       "      <td>200 minutes</td>\n",
       "      <td>NaN</td>\n",
       "    </tr>\n",
       "  </tbody>\n",
       "</table>\n",
       "</div>"
      ],
      "text/plain": [
       "   id                                           synopsis rating  \\\n",
       "0   1  This gritty, fast-paced, and innovative police...      R   \n",
       "1   3  New York City, not-too-distant-future: Eric Pa...      R   \n",
       "2   5  Illeana Douglas delivers a superb performance ...      R   \n",
       "3   6  Michael Douglas runs afoul of a treacherous su...      R   \n",
       "4   7                                                NaN     NR   \n",
       "\n",
       "                                 genre          director  \\\n",
       "0  Action and Adventure|Classics|Drama  William Friedkin   \n",
       "1    Drama|Science Fiction and Fantasy  David Cronenberg   \n",
       "2    Drama|Musical and Performing Arts    Allison Anders   \n",
       "3           Drama|Mystery and Suspense    Barry Levinson   \n",
       "4                        Drama|Romance    Rodney Bennett   \n",
       "\n",
       "                            writer  theater_date      dvd_date currency  \\\n",
       "0                   Ernest Tidyman   Oct 9, 1971  Sep 25, 2001      NaN   \n",
       "1     David Cronenberg|Don DeLillo  Aug 17, 2012   Jan 1, 2013        $   \n",
       "2                   Allison Anders  Sep 13, 1996  Apr 18, 2000      NaN   \n",
       "3  Paul Attanasio|Michael Crichton   Dec 9, 1994  Aug 27, 1997      NaN   \n",
       "4                     Giles Cooper           NaN           NaN      NaN   \n",
       "\n",
       "  box_office      runtime             studio  \n",
       "0        NaN  104 minutes                NaN  \n",
       "1    600,000  108 minutes  Entertainment One  \n",
       "2        NaN  116 minutes                NaN  \n",
       "3        NaN  128 minutes                NaN  \n",
       "4        NaN  200 minutes                NaN  "
      ]
     },
     "execution_count": 68,
     "metadata": {},
     "output_type": "execute_result"
    }
   ],
   "source": [
    "dfrt.head()"
   ]
  },
  {
   "cell_type": "code",
   "execution_count": 69,
   "metadata": {
    "ExecuteTime": {
     "end_time": "2020-05-23T18:25:35.084900Z",
     "start_time": "2020-05-23T18:25:35.072362Z"
    }
   },
   "outputs": [
    {
     "data": {
      "text/html": [
       "<div>\n",
       "<style scoped>\n",
       "    .dataframe tbody tr th:only-of-type {\n",
       "        vertical-align: middle;\n",
       "    }\n",
       "\n",
       "    .dataframe tbody tr th {\n",
       "        vertical-align: top;\n",
       "    }\n",
       "\n",
       "    .dataframe thead th {\n",
       "        text-align: right;\n",
       "    }\n",
       "</style>\n",
       "<table border=\"1\" class=\"dataframe\">\n",
       "  <thead>\n",
       "    <tr style=\"text-align: right;\">\n",
       "      <th></th>\n",
       "      <th>tconst</th>\n",
       "      <th>directors</th>\n",
       "      <th>writers</th>\n",
       "      <th>primary_title</th>\n",
       "      <th>original_title</th>\n",
       "      <th>start_year</th>\n",
       "      <th>runtime_minutes</th>\n",
       "      <th>genres</th>\n",
       "      <th>averagerating</th>\n",
       "      <th>numvotes</th>\n",
       "    </tr>\n",
       "  </thead>\n",
       "  <tbody>\n",
       "    <tr>\n",
       "      <td>0</td>\n",
       "      <td>tt0285252</td>\n",
       "      <td>nm0899854</td>\n",
       "      <td>nm0899854</td>\n",
       "      <td>Life's a Beach</td>\n",
       "      <td>Life's a Beach</td>\n",
       "      <td>2012</td>\n",
       "      <td>100.0</td>\n",
       "      <td>Comedy</td>\n",
       "      <td>3.9</td>\n",
       "      <td>219.0</td>\n",
       "    </tr>\n",
       "    <tr>\n",
       "      <td>1</td>\n",
       "      <td>tt0438973</td>\n",
       "      <td>NaN</td>\n",
       "      <td>nm0175726,nm1802864</td>\n",
       "      <td>Sealand</td>\n",
       "      <td>Sealand</td>\n",
       "      <td>2019</td>\n",
       "      <td>NaN</td>\n",
       "      <td>Biography,Drama</td>\n",
       "      <td>NaN</td>\n",
       "      <td>NaN</td>\n",
       "    </tr>\n",
       "    <tr>\n",
       "      <td>2</td>\n",
       "      <td>tt0462036</td>\n",
       "      <td>nm1940585</td>\n",
       "      <td>nm1940585</td>\n",
       "      <td>Steve Phoenix: The Untold Story</td>\n",
       "      <td>Steve Phoenix: The Untold Story</td>\n",
       "      <td>2012</td>\n",
       "      <td>110.0</td>\n",
       "      <td>Drama</td>\n",
       "      <td>5.5</td>\n",
       "      <td>18.0</td>\n",
       "    </tr>\n",
       "    <tr>\n",
       "      <td>3</td>\n",
       "      <td>tt0835418</td>\n",
       "      <td>nm0151540</td>\n",
       "      <td>nm0310087,nm0841532</td>\n",
       "      <td>The Babymakers</td>\n",
       "      <td>The Babymakers</td>\n",
       "      <td>2012</td>\n",
       "      <td>95.0</td>\n",
       "      <td>Comedy</td>\n",
       "      <td>5.0</td>\n",
       "      <td>8147.0</td>\n",
       "    </tr>\n",
       "    <tr>\n",
       "      <td>4</td>\n",
       "      <td>tt0878654</td>\n",
       "      <td>nm0089502,nm2291498,nm2292011</td>\n",
       "      <td>nm0284943</td>\n",
       "      <td>Bulletface</td>\n",
       "      <td>Bulletface</td>\n",
       "      <td>2010</td>\n",
       "      <td>82.0</td>\n",
       "      <td>Thriller</td>\n",
       "      <td>5.8</td>\n",
       "      <td>875.0</td>\n",
       "    </tr>\n",
       "  </tbody>\n",
       "</table>\n",
       "</div>"
      ],
      "text/plain": [
       "      tconst                      directors              writers  \\\n",
       "0  tt0285252                      nm0899854            nm0899854   \n",
       "1  tt0438973                            NaN  nm0175726,nm1802864   \n",
       "2  tt0462036                      nm1940585            nm1940585   \n",
       "3  tt0835418                      nm0151540  nm0310087,nm0841532   \n",
       "4  tt0878654  nm0089502,nm2291498,nm2292011            nm0284943   \n",
       "\n",
       "                     primary_title                   original_title  \\\n",
       "0                   Life's a Beach                   Life's a Beach   \n",
       "1                          Sealand                          Sealand   \n",
       "2  Steve Phoenix: The Untold Story  Steve Phoenix: The Untold Story   \n",
       "3                   The Babymakers                   The Babymakers   \n",
       "4                       Bulletface                       Bulletface   \n",
       "\n",
       "   start_year  runtime_minutes           genres  averagerating  numvotes  \n",
       "0        2012            100.0           Comedy            3.9     219.0  \n",
       "1        2019              NaN  Biography,Drama            NaN       NaN  \n",
       "2        2012            110.0            Drama            5.5      18.0  \n",
       "3        2012             95.0           Comedy            5.0    8147.0  \n",
       "4        2010             82.0         Thriller            5.8     875.0  "
      ]
     },
     "execution_count": 69,
     "metadata": {},
     "output_type": "execute_result"
    }
   ],
   "source": [
    "df.head()"
   ]
  },
  {
   "cell_type": "markdown",
   "metadata": {},
   "source": [
    "# Using Movie DataBase API\n",
    "- https://rapidapi.com/rapidapi/api/movie-database-imdb-alternative/details"
   ]
  },
  {
   "cell_type": "code",
   "execution_count": 102,
   "metadata": {
    "ExecuteTime": {
     "end_time": "2020-05-23T21:36:46.342256Z",
     "start_time": "2020-05-23T21:36:46.334101Z"
    }
   },
   "outputs": [
    {
     "ename": "NameError",
     "evalue": "name 'stop' is not defined",
     "output_type": "error",
     "traceback": [
      "\u001b[0;31m---------------------------------------------------------------------------\u001b[0m",
      "\u001b[0;31mNameError\u001b[0m                                 Traceback (most recent call last)",
      "\u001b[0;32m<ipython-input-102-4f76a9dad686>\u001b[0m in \u001b[0;36m<module>\u001b[0;34m\u001b[0m\n\u001b[0;32m----> 1\u001b[0;31m \u001b[0mstop\u001b[0m\u001b[0;34m\u001b[0m\u001b[0;34m\u001b[0m\u001b[0m\n\u001b[0m",
      "\u001b[0;31mNameError\u001b[0m: name 'stop' is not defined"
     ]
    }
   ],
   "source": [
    "stop"
   ]
  },
  {
   "cell_type": "code",
   "execution_count": 106,
   "metadata": {
    "ExecuteTime": {
     "end_time": "2020-05-23T21:36:56.231489Z",
     "start_time": "2020-05-23T21:36:56.219522Z"
    }
   },
   "outputs": [
    {
     "data": {
      "text/html": [
       "<div>\n",
       "<style scoped>\n",
       "    .dataframe tbody tr th:only-of-type {\n",
       "        vertical-align: middle;\n",
       "    }\n",
       "\n",
       "    .dataframe tbody tr th {\n",
       "        vertical-align: top;\n",
       "    }\n",
       "\n",
       "    .dataframe thead th {\n",
       "        text-align: right;\n",
       "    }\n",
       "</style>\n",
       "<table border=\"1\" class=\"dataframe\">\n",
       "  <thead>\n",
       "    <tr style=\"text-align: right;\">\n",
       "      <th></th>\n",
       "      <th>id</th>\n",
       "      <th>release_date</th>\n",
       "      <th>movie</th>\n",
       "      <th>production_budget</th>\n",
       "      <th>domestic_gross</th>\n",
       "      <th>worldwide_gross</th>\n",
       "    </tr>\n",
       "  </thead>\n",
       "  <tbody>\n",
       "    <tr>\n",
       "      <td>0</td>\n",
       "      <td>1</td>\n",
       "      <td>Dec 18, 2009</td>\n",
       "      <td>Avatar</td>\n",
       "      <td>$425,000,000</td>\n",
       "      <td>$760,507,625</td>\n",
       "      <td>$2,776,345,279</td>\n",
       "    </tr>\n",
       "    <tr>\n",
       "      <td>1</td>\n",
       "      <td>2</td>\n",
       "      <td>May 20, 2011</td>\n",
       "      <td>Pirates of the Caribbean: On Stranger Tides</td>\n",
       "      <td>$410,600,000</td>\n",
       "      <td>$241,063,875</td>\n",
       "      <td>$1,045,663,875</td>\n",
       "    </tr>\n",
       "    <tr>\n",
       "      <td>2</td>\n",
       "      <td>3</td>\n",
       "      <td>Jun 7, 2019</td>\n",
       "      <td>Dark Phoenix</td>\n",
       "      <td>$350,000,000</td>\n",
       "      <td>$42,762,350</td>\n",
       "      <td>$149,762,350</td>\n",
       "    </tr>\n",
       "    <tr>\n",
       "      <td>3</td>\n",
       "      <td>4</td>\n",
       "      <td>May 1, 2015</td>\n",
       "      <td>Avengers: Age of Ultron</td>\n",
       "      <td>$330,600,000</td>\n",
       "      <td>$459,005,868</td>\n",
       "      <td>$1,403,013,963</td>\n",
       "    </tr>\n",
       "    <tr>\n",
       "      <td>4</td>\n",
       "      <td>5</td>\n",
       "      <td>Dec 15, 2017</td>\n",
       "      <td>Star Wars Ep. VIII: The Last Jedi</td>\n",
       "      <td>$317,000,000</td>\n",
       "      <td>$620,181,382</td>\n",
       "      <td>$1,316,721,747</td>\n",
       "    </tr>\n",
       "    <tr>\n",
       "      <td>...</td>\n",
       "      <td>...</td>\n",
       "      <td>...</td>\n",
       "      <td>...</td>\n",
       "      <td>...</td>\n",
       "      <td>...</td>\n",
       "      <td>...</td>\n",
       "    </tr>\n",
       "    <tr>\n",
       "      <td>5777</td>\n",
       "      <td>78</td>\n",
       "      <td>Dec 31, 2018</td>\n",
       "      <td>Red 11</td>\n",
       "      <td>$7,000</td>\n",
       "      <td>$0</td>\n",
       "      <td>$0</td>\n",
       "    </tr>\n",
       "    <tr>\n",
       "      <td>5778</td>\n",
       "      <td>79</td>\n",
       "      <td>Apr 2, 1999</td>\n",
       "      <td>Following</td>\n",
       "      <td>$6,000</td>\n",
       "      <td>$48,482</td>\n",
       "      <td>$240,495</td>\n",
       "    </tr>\n",
       "    <tr>\n",
       "      <td>5779</td>\n",
       "      <td>80</td>\n",
       "      <td>Jul 13, 2005</td>\n",
       "      <td>Return to the Land of Wonders</td>\n",
       "      <td>$5,000</td>\n",
       "      <td>$1,338</td>\n",
       "      <td>$1,338</td>\n",
       "    </tr>\n",
       "    <tr>\n",
       "      <td>5780</td>\n",
       "      <td>81</td>\n",
       "      <td>Sep 29, 2015</td>\n",
       "      <td>A Plague So Pleasant</td>\n",
       "      <td>$1,400</td>\n",
       "      <td>$0</td>\n",
       "      <td>$0</td>\n",
       "    </tr>\n",
       "    <tr>\n",
       "      <td>5781</td>\n",
       "      <td>82</td>\n",
       "      <td>Aug 5, 2005</td>\n",
       "      <td>My Date With Drew</td>\n",
       "      <td>$1,100</td>\n",
       "      <td>$181,041</td>\n",
       "      <td>$181,041</td>\n",
       "    </tr>\n",
       "  </tbody>\n",
       "</table>\n",
       "<p>5782 rows × 6 columns</p>\n",
       "</div>"
      ],
      "text/plain": [
       "      id  release_date                                        movie  \\\n",
       "0      1  Dec 18, 2009                                       Avatar   \n",
       "1      2  May 20, 2011  Pirates of the Caribbean: On Stranger Tides   \n",
       "2      3   Jun 7, 2019                                 Dark Phoenix   \n",
       "3      4   May 1, 2015                      Avengers: Age of Ultron   \n",
       "4      5  Dec 15, 2017            Star Wars Ep. VIII: The Last Jedi   \n",
       "...   ..           ...                                          ...   \n",
       "5777  78  Dec 31, 2018                                       Red 11   \n",
       "5778  79   Apr 2, 1999                                    Following   \n",
       "5779  80  Jul 13, 2005                Return to the Land of Wonders   \n",
       "5780  81  Sep 29, 2015                         A Plague So Pleasant   \n",
       "5781  82   Aug 5, 2005                            My Date With Drew   \n",
       "\n",
       "     production_budget domestic_gross worldwide_gross  \n",
       "0         $425,000,000   $760,507,625  $2,776,345,279  \n",
       "1         $410,600,000   $241,063,875  $1,045,663,875  \n",
       "2         $350,000,000    $42,762,350    $149,762,350  \n",
       "3         $330,600,000   $459,005,868  $1,403,013,963  \n",
       "4         $317,000,000   $620,181,382  $1,316,721,747  \n",
       "...                ...            ...             ...  \n",
       "5777            $7,000             $0              $0  \n",
       "5778            $6,000        $48,482        $240,495  \n",
       "5779            $5,000         $1,338          $1,338  \n",
       "5780            $1,400             $0              $0  \n",
       "5781            $1,100       $181,041        $181,041  \n",
       "\n",
       "[5782 rows x 6 columns]"
      ]
     },
     "execution_count": 106,
     "metadata": {},
     "output_type": "execute_result"
    }
   ],
   "source": [
    "df = DATA['tn.movie_budgets']\n",
    "df"
   ]
  },
  {
   "cell_type": "code",
   "execution_count": 107,
   "metadata": {
    "ExecuteTime": {
     "end_time": "2020-05-23T21:37:12.288809Z",
     "start_time": "2020-05-23T21:37:12.283225Z"
    }
   },
   "outputs": [
    {
     "data": {
      "text/plain": [
       "0                                            Avatar\n",
       "1       Pirates of the Caribbean: On Stranger Tides\n",
       "2                                      Dark Phoenix\n",
       "3                           Avengers: Age of Ultron\n",
       "4                 Star Wars Ep. VIII: The Last Jedi\n",
       "                           ...                     \n",
       "5777                                         Red 11\n",
       "5778                                      Following\n",
       "5779                  Return to the Land of Wonders\n",
       "5780                           A Plague So Pleasant\n",
       "5781                              My Date With Drew\n",
       "Name: movie, Length: 5782, dtype: object"
      ]
     },
     "execution_count": 107,
     "metadata": {},
     "output_type": "execute_result"
    }
   ],
   "source": [
    "df['movie']"
   ]
  },
  {
   "cell_type": "code",
   "execution_count": 157,
   "metadata": {
    "ExecuteTime": {
     "end_time": "2020-05-23T21:48:34.689523Z",
     "start_time": "2020-05-23T21:48:34.684304Z"
    }
   },
   "outputs": [],
   "source": [
    "import requests\n",
    "\n",
    "def get_mdb_api(query,query_params={}):\n",
    "    \"\"\"Submits a query using Movie DataBase\"\"\"\n",
    "    url = \"https://movie-database-imdb-alternative.p.rapidapi.com/\"\n",
    "\n",
    "    querystring = {\"r\":\"json\",\"s\":query,**query_params}\n",
    "\n",
    "    headers = {\n",
    "        'x-rapidapi-host': \"movie-database-imdb-alternative.p.rapidapi.com\",\n",
    "        'x-rapidapi-key': \"1ef8e1baa6msh959ec491b7e59fcp1c32b8jsn7c8644b514b1\"\n",
    "        }\n",
    "\n",
    "    response = requests.request(\"GET\", url, headers=headers, params=querystring)\n",
    "    return response\n",
    "\n",
    "def make_records_df(response):\n",
    "    \"\"\"Takes response from get_mdb_api (or the response.json()) and extracts\n",
    "    the search results to return as a df\"\"\"\n",
    "    if not isinstance(response,dict):\n",
    "        r = response.json()\n",
    "    else:\n",
    "        r = response\n",
    "    records = r['Search']\n",
    "    return pd.DataFrame.from_records(records)\n",
    "#     print(response.text)"
   ]
  },
  {
   "cell_type": "code",
   "execution_count": 154,
   "metadata": {
    "ExecuteTime": {
     "end_time": "2020-05-23T21:47:35.510886Z",
     "start_time": "2020-05-23T21:47:34.331119Z"
    }
   },
   "outputs": [],
   "source": [
    "resp = get_mdb_api('Dark Phoenix')"
   ]
  },
  {
   "cell_type": "code",
   "execution_count": 156,
   "metadata": {
    "ExecuteTime": {
     "end_time": "2020-05-23T21:47:41.200275Z",
     "start_time": "2020-05-23T21:47:41.190977Z"
    }
   },
   "outputs": [
    {
     "data": {
      "text/html": [
       "<div>\n",
       "<style scoped>\n",
       "    .dataframe tbody tr th:only-of-type {\n",
       "        vertical-align: middle;\n",
       "    }\n",
       "\n",
       "    .dataframe tbody tr th {\n",
       "        vertical-align: top;\n",
       "    }\n",
       "\n",
       "    .dataframe thead th {\n",
       "        text-align: right;\n",
       "    }\n",
       "</style>\n",
       "<table border=\"1\" class=\"dataframe\">\n",
       "  <thead>\n",
       "    <tr style=\"text-align: right;\">\n",
       "      <th></th>\n",
       "      <th>Title</th>\n",
       "      <th>Year</th>\n",
       "      <th>imdbID</th>\n",
       "      <th>Type</th>\n",
       "      <th>Poster</th>\n",
       "    </tr>\n",
       "  </thead>\n",
       "  <tbody>\n",
       "    <tr>\n",
       "      <td>0</td>\n",
       "      <td>X-Men: Dark Phoenix</td>\n",
       "      <td>2019</td>\n",
       "      <td>tt6565702</td>\n",
       "      <td>movie</td>\n",
       "      <td>https://m.media-amazon.com/images/M/MV5BMmZmYT...</td>\n",
       "    </tr>\n",
       "    <tr>\n",
       "      <td>1</td>\n",
       "      <td>X-Men: Dark Phoenix LIVE Red Carpet World Prem...</td>\n",
       "      <td>2019</td>\n",
       "      <td>tt10440726</td>\n",
       "      <td>movie</td>\n",
       "      <td>https://m.media-amazon.com/images/M/MV5BMjEzZT...</td>\n",
       "    </tr>\n",
       "  </tbody>\n",
       "</table>\n",
       "</div>"
      ],
      "text/plain": [
       "                                               Title  Year      imdbID   Type  \\\n",
       "0                                X-Men: Dark Phoenix  2019   tt6565702  movie   \n",
       "1  X-Men: Dark Phoenix LIVE Red Carpet World Prem...  2019  tt10440726  movie   \n",
       "\n",
       "                                              Poster  \n",
       "0  https://m.media-amazon.com/images/M/MV5BMmZmYT...  \n",
       "1  https://m.media-amazon.com/images/M/MV5BMjEzZT...  "
      ]
     },
     "execution_count": 156,
     "metadata": {},
     "output_type": "execute_result"
    }
   ],
   "source": [
    "make_records_df(resp)"
   ]
  },
  {
   "cell_type": "markdown",
   "metadata": {},
   "source": [
    "### Testing with 1 Movie"
   ]
  },
  {
   "cell_type": "code",
   "execution_count": 127,
   "metadata": {
    "ExecuteTime": {
     "end_time": "2020-05-23T21:40:48.354785Z",
     "start_time": "2020-05-23T21:40:48.345529Z"
    }
   },
   "outputs": [
    {
     "data": {
      "text/html": [
       "<div>\n",
       "<style scoped>\n",
       "    .dataframe tbody tr th:only-of-type {\n",
       "        vertical-align: middle;\n",
       "    }\n",
       "\n",
       "    .dataframe tbody tr th {\n",
       "        vertical-align: top;\n",
       "    }\n",
       "\n",
       "    .dataframe thead th {\n",
       "        text-align: right;\n",
       "    }\n",
       "</style>\n",
       "<table border=\"1\" class=\"dataframe\">\n",
       "  <thead>\n",
       "    <tr style=\"text-align: right;\">\n",
       "      <th></th>\n",
       "      <th>id</th>\n",
       "      <th>release_date</th>\n",
       "      <th>movie</th>\n",
       "      <th>production_budget</th>\n",
       "      <th>domestic_gross</th>\n",
       "      <th>worldwide_gross</th>\n",
       "    </tr>\n",
       "  </thead>\n",
       "  <tbody>\n",
       "    <tr>\n",
       "      <td>0</td>\n",
       "      <td>1</td>\n",
       "      <td>Dec 18, 2009</td>\n",
       "      <td>Avatar</td>\n",
       "      <td>$425,000,000</td>\n",
       "      <td>$760,507,625</td>\n",
       "      <td>$2,776,345,279</td>\n",
       "    </tr>\n",
       "  </tbody>\n",
       "</table>\n",
       "</div>"
      ],
      "text/plain": [
       "   id  release_date   movie production_budget domestic_gross worldwide_gross\n",
       "0   1  Dec 18, 2009  Avatar      $425,000,000   $760,507,625  $2,776,345,279"
      ]
     },
     "execution_count": 127,
     "metadata": {},
     "output_type": "execute_result"
    }
   ],
   "source": [
    "test_movie = df.loc[df['movie']=='Avatar']\n",
    "test_movie"
   ]
  },
  {
   "cell_type": "code",
   "execution_count": 126,
   "metadata": {
    "ExecuteTime": {
     "end_time": "2020-05-23T21:40:38.353667Z",
     "start_time": "2020-05-23T21:40:38.349992Z"
    }
   },
   "outputs": [
    {
     "data": {
      "text/plain": [
       "array(['Avatar'], dtype=object)"
      ]
     },
     "execution_count": 126,
     "metadata": {},
     "output_type": "execute_result"
    }
   ],
   "source": []
  },
  {
   "cell_type": "code",
   "execution_count": 128,
   "metadata": {
    "ExecuteTime": {
     "end_time": "2020-05-23T21:41:03.065728Z",
     "start_time": "2020-05-23T21:41:02.885434Z"
    }
   },
   "outputs": [
    {
     "data": {
      "text/plain": [
       "<Response [200]>"
      ]
     },
     "execution_count": 128,
     "metadata": {},
     "output_type": "execute_result"
    }
   ],
   "source": [
    "test = get_mdb_api(test_movie['movie'])\n",
    "test"
   ]
  },
  {
   "cell_type": "code",
   "execution_count": 129,
   "metadata": {
    "ExecuteTime": {
     "end_time": "2020-05-23T21:41:05.369614Z",
     "start_time": "2020-05-23T21:41:05.364804Z"
    }
   },
   "outputs": [
    {
     "data": {
      "text/plain": [
       "{'Search': [{'Title': 'Avatar',\n",
       "   'Year': '2009',\n",
       "   'imdbID': 'tt0499549',\n",
       "   'Type': 'movie',\n",
       "   'Poster': 'https://m.media-amazon.com/images/M/MV5BMTYwOTEwNjAzMl5BMl5BanBnXkFtZTcwODc5MTUwMw@@._V1_SX300.jpg'},\n",
       "  {'Title': 'Avatar: The Last Airbender',\n",
       "   'Year': '2005–2008',\n",
       "   'imdbID': 'tt0417299',\n",
       "   'Type': 'series',\n",
       "   'Poster': 'https://m.media-amazon.com/images/M/MV5BODc5YTBhMTItMjhkNi00ZTIxLWI0YjAtNTZmOTY0YjRlZGQ0XkEyXkFqcGdeQXVyODUwNjEzMzg@._V1_SX300.jpg'},\n",
       "  {'Title': 'Avatar: The Last Airbender',\n",
       "   'Year': '2006',\n",
       "   'imdbID': 'tt0959552',\n",
       "   'Type': 'game',\n",
       "   'Poster': 'https://m.media-amazon.com/images/M/MV5BNjUwNzA5Nzc4N15BMl5BanBnXkFtZTgwNjM1ODY4MDE@._V1_SX300.jpg'},\n",
       "  {'Title': \"The King's Avatar\",\n",
       "   'Year': '2017–',\n",
       "   'imdbID': 'tt6859260',\n",
       "   'Type': 'series',\n",
       "   'Poster': 'https://m.media-amazon.com/images/M/MV5BZjIyMjE5ZDYtMTQxNC00NTEzLTgwYzYtMmM0NDg3OWFlYWM5XkEyXkFqcGdeQXVyNjMxNzQ2NTQ@._V1_SX300.jpg'},\n",
       "  {'Title': 'Avatar: The Game',\n",
       "   'Year': '2009',\n",
       "   'imdbID': 'tt1517155',\n",
       "   'Type': 'game',\n",
       "   'Poster': 'https://m.media-amazon.com/images/M/MV5BMTYxODI2OTI4MF5BMl5BanBnXkFtZTcwNjI1NzMwMw@@._V1_SX300.jpg'},\n",
       "  {'Title': \"The King's Avatar\",\n",
       "   'Year': '2019',\n",
       "   'imdbID': 'tt10732794',\n",
       "   'Type': 'series',\n",
       "   'Poster': 'https://m.media-amazon.com/images/M/MV5BOGMxZDc1N2ItODI3NS00MDIwLWJkYzAtMTgyMDZlN2FlNGYzXkEyXkFqcGdeQXVyMjQ0OTYxOTc@._V1_SX300.jpg'},\n",
       "  {'Title': 'Avatar: Creating the World of Pandora',\n",
       "   'Year': '2010',\n",
       "   'imdbID': 'tt1599280',\n",
       "   'Type': 'movie',\n",
       "   'Poster': 'N/A'},\n",
       "  {'Title': 'Avatar: The Last Airbender - Into the Inferno',\n",
       "   'Year': '2008',\n",
       "   'imdbID': 'tt1459460',\n",
       "   'Type': 'game',\n",
       "   'Poster': 'https://m.media-amazon.com/images/M/MV5BOWFjYWUwZTMtNjM2Mi00YjU3LWI2NjQtZTNhOTRhM2Q3YmJkXkEyXkFqcGdeQXVyMzM4MjM0Nzg@._V1_SX300.jpg'},\n",
       "  {'Title': 'The Guild: Do You Wanna Date My Avatar',\n",
       "   'Year': '2009',\n",
       "   'imdbID': 'tt3051150',\n",
       "   'Type': 'movie',\n",
       "   'Poster': 'N/A'},\n",
       "  {'Title': 'Avatar: The Last Airbender - The Burning Earth',\n",
       "   'Year': '2007',\n",
       "   'imdbID': 'tt1459461',\n",
       "   'Type': 'game',\n",
       "   'Poster': 'https://m.media-amazon.com/images/M/MV5BM2M5N2FkY2EtMTJmMy00NjdmLWEwYmEtYjljOWI0MjQ1M2MyXkEyXkFqcGdeQXVyMzM4MjM0Nzg@._V1_SX300.jpg'}],\n",
       " 'totalResults': '54',\n",
       " 'Response': 'True'}"
      ]
     },
     "execution_count": 129,
     "metadata": {},
     "output_type": "execute_result"
    }
   ],
   "source": [
    "resp = test.json()\n",
    "resp"
   ]
  },
  {
   "cell_type": "code",
   "execution_count": 130,
   "metadata": {
    "ExecuteTime": {
     "end_time": "2020-05-23T21:41:09.150993Z",
     "start_time": "2020-05-23T21:41:09.147471Z"
    }
   },
   "outputs": [
    {
     "data": {
      "text/plain": [
       "dict_keys(['Search', 'totalResults', 'Response'])"
      ]
     },
     "execution_count": 130,
     "metadata": {},
     "output_type": "execute_result"
    }
   ],
   "source": [
    "resp.keys()"
   ]
  },
  {
   "cell_type": "code",
   "execution_count": 133,
   "metadata": {
    "ExecuteTime": {
     "end_time": "2020-05-23T21:41:39.678984Z",
     "start_time": "2020-05-23T21:41:39.668501Z"
    }
   },
   "outputs": [
    {
     "data": {
      "text/html": [
       "<div>\n",
       "<style scoped>\n",
       "    .dataframe tbody tr th:only-of-type {\n",
       "        vertical-align: middle;\n",
       "    }\n",
       "\n",
       "    .dataframe tbody tr th {\n",
       "        vertical-align: top;\n",
       "    }\n",
       "\n",
       "    .dataframe thead th {\n",
       "        text-align: right;\n",
       "    }\n",
       "</style>\n",
       "<table border=\"1\" class=\"dataframe\">\n",
       "  <thead>\n",
       "    <tr style=\"text-align: right;\">\n",
       "      <th></th>\n",
       "      <th>Title</th>\n",
       "      <th>Year</th>\n",
       "      <th>imdbID</th>\n",
       "      <th>Type</th>\n",
       "      <th>Poster</th>\n",
       "    </tr>\n",
       "  </thead>\n",
       "  <tbody>\n",
       "    <tr>\n",
       "      <td>0</td>\n",
       "      <td>Avatar</td>\n",
       "      <td>2009</td>\n",
       "      <td>tt0499549</td>\n",
       "      <td>movie</td>\n",
       "      <td>https://m.media-amazon.com/images/M/MV5BMTYwOT...</td>\n",
       "    </tr>\n",
       "    <tr>\n",
       "      <td>1</td>\n",
       "      <td>Avatar: The Last Airbender</td>\n",
       "      <td>2005–2008</td>\n",
       "      <td>tt0417299</td>\n",
       "      <td>series</td>\n",
       "      <td>https://m.media-amazon.com/images/M/MV5BODc5YT...</td>\n",
       "    </tr>\n",
       "    <tr>\n",
       "      <td>2</td>\n",
       "      <td>Avatar: The Last Airbender</td>\n",
       "      <td>2006</td>\n",
       "      <td>tt0959552</td>\n",
       "      <td>game</td>\n",
       "      <td>https://m.media-amazon.com/images/M/MV5BNjUwNz...</td>\n",
       "    </tr>\n",
       "    <tr>\n",
       "      <td>3</td>\n",
       "      <td>The King's Avatar</td>\n",
       "      <td>2017–</td>\n",
       "      <td>tt6859260</td>\n",
       "      <td>series</td>\n",
       "      <td>https://m.media-amazon.com/images/M/MV5BZjIyMj...</td>\n",
       "    </tr>\n",
       "    <tr>\n",
       "      <td>4</td>\n",
       "      <td>Avatar: The Game</td>\n",
       "      <td>2009</td>\n",
       "      <td>tt1517155</td>\n",
       "      <td>game</td>\n",
       "      <td>https://m.media-amazon.com/images/M/MV5BMTYxOD...</td>\n",
       "    </tr>\n",
       "    <tr>\n",
       "      <td>5</td>\n",
       "      <td>The King's Avatar</td>\n",
       "      <td>2019</td>\n",
       "      <td>tt10732794</td>\n",
       "      <td>series</td>\n",
       "      <td>https://m.media-amazon.com/images/M/MV5BOGMxZD...</td>\n",
       "    </tr>\n",
       "    <tr>\n",
       "      <td>6</td>\n",
       "      <td>Avatar: Creating the World of Pandora</td>\n",
       "      <td>2010</td>\n",
       "      <td>tt1599280</td>\n",
       "      <td>movie</td>\n",
       "      <td>N/A</td>\n",
       "    </tr>\n",
       "    <tr>\n",
       "      <td>7</td>\n",
       "      <td>Avatar: The Last Airbender - Into the Inferno</td>\n",
       "      <td>2008</td>\n",
       "      <td>tt1459460</td>\n",
       "      <td>game</td>\n",
       "      <td>https://m.media-amazon.com/images/M/MV5BOWFjYW...</td>\n",
       "    </tr>\n",
       "    <tr>\n",
       "      <td>8</td>\n",
       "      <td>The Guild: Do You Wanna Date My Avatar</td>\n",
       "      <td>2009</td>\n",
       "      <td>tt3051150</td>\n",
       "      <td>movie</td>\n",
       "      <td>N/A</td>\n",
       "    </tr>\n",
       "    <tr>\n",
       "      <td>9</td>\n",
       "      <td>Avatar: The Last Airbender - The Burning Earth</td>\n",
       "      <td>2007</td>\n",
       "      <td>tt1459461</td>\n",
       "      <td>game</td>\n",
       "      <td>https://m.media-amazon.com/images/M/MV5BM2M5N2...</td>\n",
       "    </tr>\n",
       "  </tbody>\n",
       "</table>\n",
       "</div>"
      ],
      "text/plain": [
       "                                            Title       Year      imdbID  \\\n",
       "0                                          Avatar       2009   tt0499549   \n",
       "1                      Avatar: The Last Airbender  2005–2008   tt0417299   \n",
       "2                      Avatar: The Last Airbender       2006   tt0959552   \n",
       "3                               The King's Avatar      2017–   tt6859260   \n",
       "4                                Avatar: The Game       2009   tt1517155   \n",
       "5                               The King's Avatar       2019  tt10732794   \n",
       "6           Avatar: Creating the World of Pandora       2010   tt1599280   \n",
       "7   Avatar: The Last Airbender - Into the Inferno       2008   tt1459460   \n",
       "8          The Guild: Do You Wanna Date My Avatar       2009   tt3051150   \n",
       "9  Avatar: The Last Airbender - The Burning Earth       2007   tt1459461   \n",
       "\n",
       "     Type                                             Poster  \n",
       "0   movie  https://m.media-amazon.com/images/M/MV5BMTYwOT...  \n",
       "1  series  https://m.media-amazon.com/images/M/MV5BODc5YT...  \n",
       "2    game  https://m.media-amazon.com/images/M/MV5BNjUwNz...  \n",
       "3  series  https://m.media-amazon.com/images/M/MV5BZjIyMj...  \n",
       "4    game  https://m.media-amazon.com/images/M/MV5BMTYxOD...  \n",
       "5  series  https://m.media-amazon.com/images/M/MV5BOGMxZD...  \n",
       "6   movie                                                N/A  \n",
       "7    game  https://m.media-amazon.com/images/M/MV5BOWFjYW...  \n",
       "8   movie                                                N/A  \n",
       "9    game  https://m.media-amazon.com/images/M/MV5BM2M5N2...  "
      ]
     },
     "execution_count": 133,
     "metadata": {},
     "output_type": "execute_result"
    }
   ],
   "source": [
    "res_df = pd.DataFrame.from_records(resp['Search'])\n",
    "res_df"
   ]
  },
  {
   "cell_type": "code",
   "execution_count": 141,
   "metadata": {
    "ExecuteTime": {
     "end_time": "2020-05-23T21:42:40.055871Z",
     "start_time": "2020-05-23T21:42:40.051267Z"
    }
   },
   "outputs": [
    {
     "data": {
      "text/plain": [
       "id                                1\n",
       "release_date           Dec 18, 2009\n",
       "movie                        Avatar\n",
       "production_budget      $425,000,000\n",
       "domestic_gross         $760,507,625\n",
       "worldwide_gross      $2,776,345,279\n",
       "Name: 0, dtype: object"
      ]
     },
     "execution_count": 141,
     "metadata": {},
     "output_type": "execute_result"
    }
   ],
   "source": [
    "test_movie.T[0]"
   ]
  },
  {
   "cell_type": "code",
   "execution_count": 145,
   "metadata": {
    "ExecuteTime": {
     "end_time": "2020-05-23T21:43:06.604700Z",
     "start_time": "2020-05-23T21:43:06.600540Z"
    }
   },
   "outputs": [
    {
     "data": {
      "text/plain": [
       "0    Avatar\n",
       "Name: movie, dtype: object"
      ]
     },
     "execution_count": 145,
     "metadata": {},
     "output_type": "execute_result"
    }
   ],
   "source": [
    "test_movie['movie']"
   ]
  },
  {
   "cell_type": "code",
   "execution_count": 147,
   "metadata": {
    "ExecuteTime": {
     "end_time": "2020-05-23T21:43:24.504294Z",
     "start_time": "2020-05-23T21:43:24.500456Z"
    }
   },
   "outputs": [
    {
     "data": {
      "text/plain": [
       "0                                            Avatar\n",
       "1                        Avatar: The Last Airbender\n",
       "2                        Avatar: The Last Airbender\n",
       "3                                 The King's Avatar\n",
       "4                                  Avatar: The Game\n",
       "5                                 The King's Avatar\n",
       "6             Avatar: Creating the World of Pandora\n",
       "7     Avatar: The Last Airbender - Into the Inferno\n",
       "8            The Guild: Do You Wanna Date My Avatar\n",
       "9    Avatar: The Last Airbender - The Burning Earth\n",
       "Name: Title, dtype: object"
      ]
     },
     "execution_count": 147,
     "metadata": {},
     "output_type": "execute_result"
    }
   ],
   "source": [
    "res_df['Title']"
   ]
  },
  {
   "cell_type": "code",
   "execution_count": 150,
   "metadata": {
    "ExecuteTime": {
     "end_time": "2020-05-23T21:44:26.826301Z",
     "start_time": "2020-05-23T21:44:26.817359Z"
    }
   },
   "outputs": [
    {
     "data": {
      "text/html": [
       "<div>\n",
       "<style scoped>\n",
       "    .dataframe tbody tr th:only-of-type {\n",
       "        vertical-align: middle;\n",
       "    }\n",
       "\n",
       "    .dataframe tbody tr th {\n",
       "        vertical-align: top;\n",
       "    }\n",
       "\n",
       "    .dataframe thead th {\n",
       "        text-align: right;\n",
       "    }\n",
       "</style>\n",
       "<table border=\"1\" class=\"dataframe\">\n",
       "  <thead>\n",
       "    <tr style=\"text-align: right;\">\n",
       "      <th></th>\n",
       "      <th>Title</th>\n",
       "      <th>Year</th>\n",
       "      <th>imdbID</th>\n",
       "      <th>Type</th>\n",
       "      <th>Poster</th>\n",
       "    </tr>\n",
       "  </thead>\n",
       "  <tbody>\n",
       "    <tr>\n",
       "      <td>0</td>\n",
       "      <td>Avatar</td>\n",
       "      <td>2009</td>\n",
       "      <td>tt0499549</td>\n",
       "      <td>movie</td>\n",
       "      <td>https://m.media-amazon.com/images/M/MV5BMTYwOT...</td>\n",
       "    </tr>\n",
       "  </tbody>\n",
       "</table>\n",
       "</div>"
      ],
      "text/plain": [
       "    Title  Year     imdbID   Type  \\\n",
       "0  Avatar  2009  tt0499549  movie   \n",
       "\n",
       "                                              Poster  \n",
       "0  https://m.media-amazon.com/images/M/MV5BMTYwOT...  "
      ]
     },
     "execution_count": 150,
     "metadata": {},
     "output_type": "execute_result"
    }
   ],
   "source": [
    "## Check which result matches \n",
    "matches = res_df['Title'].isin(test_movie['movie'])\n",
    "res_df[matches]"
   ]
  },
  {
   "cell_type": "code",
   "execution_count": 152,
   "metadata": {
    "ExecuteTime": {
     "end_time": "2020-05-23T21:44:53.362548Z",
     "start_time": "2020-05-23T21:44:53.354301Z"
    }
   },
   "outputs": [
    {
     "data": {
      "text/html": [
       "<div>\n",
       "<style scoped>\n",
       "    .dataframe tbody tr th:only-of-type {\n",
       "        vertical-align: middle;\n",
       "    }\n",
       "\n",
       "    .dataframe tbody tr th {\n",
       "        vertical-align: top;\n",
       "    }\n",
       "\n",
       "    .dataframe thead th {\n",
       "        text-align: right;\n",
       "    }\n",
       "</style>\n",
       "<table border=\"1\" class=\"dataframe\">\n",
       "  <thead>\n",
       "    <tr style=\"text-align: right;\">\n",
       "      <th></th>\n",
       "      <th>id</th>\n",
       "      <th>release_date</th>\n",
       "      <th>movie</th>\n",
       "      <th>production_budget</th>\n",
       "      <th>domestic_gross</th>\n",
       "      <th>worldwide_gross</th>\n",
       "    </tr>\n",
       "  </thead>\n",
       "  <tbody>\n",
       "    <tr>\n",
       "      <td>0</td>\n",
       "      <td>1</td>\n",
       "      <td>Dec 18, 2009</td>\n",
       "      <td>Avatar</td>\n",
       "      <td>$425,000,000</td>\n",
       "      <td>$760,507,625</td>\n",
       "      <td>$2,776,345,279</td>\n",
       "    </tr>\n",
       "  </tbody>\n",
       "</table>\n",
       "</div>"
      ],
      "text/plain": [
       "   id  release_date   movie production_budget domestic_gross worldwide_gross\n",
       "0   1  Dec 18, 2009  Avatar      $425,000,000   $760,507,625  $2,776,345,279"
      ]
     },
     "execution_count": 152,
     "metadata": {},
     "output_type": "execute_result"
    }
   ],
   "source": [
    "test_movie"
   ]
  },
  {
   "cell_type": "code",
   "execution_count": null,
   "metadata": {},
   "outputs": [],
   "source": []
  }
 ],
 "metadata": {
  "kernelspec": {
   "display_name": "Python 3",
   "language": "python",
   "name": "python3"
  },
  "language_info": {
   "codemirror_mode": {
    "name": "ipython",
    "version": 3
   },
   "file_extension": ".py",
   "mimetype": "text/x-python",
   "name": "python",
   "nbconvert_exporter": "python",
   "pygments_lexer": "ipython3",
   "version": "3.6.9"
  },
  "toc": {
   "base_numbering": 1,
   "nav_menu": {},
   "number_sections": false,
   "sideBar": true,
   "skip_h1_title": false,
   "title_cell": "Table of Contents",
   "title_sidebar": "Contents",
   "toc_cell": false,
   "toc_position": {},
   "toc_section_display": true,
   "toc_window_display": true
  }
 },
 "nbformat": 4,
 "nbformat_minor": 2
}
