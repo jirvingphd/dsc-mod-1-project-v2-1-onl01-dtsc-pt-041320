{
 "cells": [
  {
   "cell_type": "markdown",
   "metadata": {},
   "source": [
    "## Final Project Submission\n",
    "\n",
    "Please fill out:\n",
    "* Student name: \n",
    "* Student pace: self paced / part time / full time\n",
    "* Scheduled project review date/time: \n",
    "* Instructor name: \n",
    "* Blog post URL:\n"
   ]
  },
  {
   "cell_type": "code",
   "execution_count": 25,
   "metadata": {
    "ExecuteTime": {
     "end_time": "2020-05-31T16:42:50.090530Z",
     "start_time": "2020-05-31T16:42:50.088478Z"
    },
    "scrolled": false
   },
   "outputs": [],
   "source": [
    "# import  IPython.display as dp\n",
    "# with open('README.md','r+', encoding='utf-8') as f:\n",
    "#     dp.display(dp.Markdown(f.read()))"
   ]
  },
  {
   "cell_type": "markdown",
   "metadata": {},
   "source": [
    "> ### Your team is charged with doing data analysis and creating a presentation that explores what type of films are currently doing the best at the box office. You must then translate those findings into actionable insights that the CEO can use when deciding what type of films they should be creating."
   ]
  },
  {
   "cell_type": "code",
   "execution_count": 1,
   "metadata": {
    "ExecuteTime": {
     "end_time": "2020-06-03T18:34:10.358190Z",
     "start_time": "2020-06-03T18:34:07.487761Z"
    }
   },
   "outputs": [
    {
     "name": "stderr",
     "output_type": "stream",
     "text": [
      "\n",
      "Bad key \"text.kerning_factor\" on line 4 in\n",
      "/opt/anaconda3/envs/learn-env/lib/python3.6/site-packages/matplotlib/mpl-data/stylelib/_classic_test_patch.mplstyle.\n",
      "You probably need to get an updated matplotlibrc file from\n",
      "http://github.com/matplotlib/matplotlib/blob/master/matplotlibrc.template\n",
      "or from the matplotlib source distribution\n"
     ]
    },
    {
     "name": "stdout",
     "output_type": "stream",
     "text": [
      "fsds v0.2.9 loaded.  Read the docs: https://fs-ds.readthedocs.io/en/latest/ \n"
     ]
    },
    {
     "data": {
      "text/html": [
       "<style  type=\"text/css\" >\n",
       "</style><table id=\"T_d0ce00c6_a5c8_11ea_b317_4865ee12e626\" ><caption>Loaded Packages and Handles</caption><thead>    <tr>        <th class=\"col_heading level0 col0\" >Handle</th>        <th class=\"col_heading level0 col1\" >Package</th>        <th class=\"col_heading level0 col2\" >Description</th>    </tr></thead><tbody>\n",
       "                <tr>\n",
       "                                <td id=\"T_d0ce00c6_a5c8_11ea_b317_4865ee12e626row0_col0\" class=\"data row0 col0\" >dp</td>\n",
       "                        <td id=\"T_d0ce00c6_a5c8_11ea_b317_4865ee12e626row0_col1\" class=\"data row0 col1\" >IPython.display</td>\n",
       "                        <td id=\"T_d0ce00c6_a5c8_11ea_b317_4865ee12e626row0_col2\" class=\"data row0 col2\" >Display modules with helpful display and clearing commands.</td>\n",
       "            </tr>\n",
       "            <tr>\n",
       "                                <td id=\"T_d0ce00c6_a5c8_11ea_b317_4865ee12e626row1_col0\" class=\"data row1 col0\" >fs</td>\n",
       "                        <td id=\"T_d0ce00c6_a5c8_11ea_b317_4865ee12e626row1_col1\" class=\"data row1 col1\" >fsds</td>\n",
       "                        <td id=\"T_d0ce00c6_a5c8_11ea_b317_4865ee12e626row1_col2\" class=\"data row1 col2\" >Custom data science bootcamp student package</td>\n",
       "            </tr>\n",
       "            <tr>\n",
       "                                <td id=\"T_d0ce00c6_a5c8_11ea_b317_4865ee12e626row2_col0\" class=\"data row2 col0\" >mpl</td>\n",
       "                        <td id=\"T_d0ce00c6_a5c8_11ea_b317_4865ee12e626row2_col1\" class=\"data row2 col1\" >matplotlib</td>\n",
       "                        <td id=\"T_d0ce00c6_a5c8_11ea_b317_4865ee12e626row2_col2\" class=\"data row2 col2\" >Matplotlib's base OOP module with formatting artists</td>\n",
       "            </tr>\n",
       "            <tr>\n",
       "                                <td id=\"T_d0ce00c6_a5c8_11ea_b317_4865ee12e626row3_col0\" class=\"data row3 col0\" >plt</td>\n",
       "                        <td id=\"T_d0ce00c6_a5c8_11ea_b317_4865ee12e626row3_col1\" class=\"data row3 col1\" >matplotlib.pyplot</td>\n",
       "                        <td id=\"T_d0ce00c6_a5c8_11ea_b317_4865ee12e626row3_col2\" class=\"data row3 col2\" >Matplotlib's matlab-like plotting module</td>\n",
       "            </tr>\n",
       "            <tr>\n",
       "                                <td id=\"T_d0ce00c6_a5c8_11ea_b317_4865ee12e626row4_col0\" class=\"data row4 col0\" >np</td>\n",
       "                        <td id=\"T_d0ce00c6_a5c8_11ea_b317_4865ee12e626row4_col1\" class=\"data row4 col1\" >numpy</td>\n",
       "                        <td id=\"T_d0ce00c6_a5c8_11ea_b317_4865ee12e626row4_col2\" class=\"data row4 col2\" >scientific computing with Python</td>\n",
       "            </tr>\n",
       "            <tr>\n",
       "                                <td id=\"T_d0ce00c6_a5c8_11ea_b317_4865ee12e626row5_col0\" class=\"data row5 col0\" >pd</td>\n",
       "                        <td id=\"T_d0ce00c6_a5c8_11ea_b317_4865ee12e626row5_col1\" class=\"data row5 col1\" >pandas</td>\n",
       "                        <td id=\"T_d0ce00c6_a5c8_11ea_b317_4865ee12e626row5_col2\" class=\"data row5 col2\" >High performance data structures and tools</td>\n",
       "            </tr>\n",
       "            <tr>\n",
       "                                <td id=\"T_d0ce00c6_a5c8_11ea_b317_4865ee12e626row6_col0\" class=\"data row6 col0\" >sns</td>\n",
       "                        <td id=\"T_d0ce00c6_a5c8_11ea_b317_4865ee12e626row6_col1\" class=\"data row6 col1\" >seaborn</td>\n",
       "                        <td id=\"T_d0ce00c6_a5c8_11ea_b317_4865ee12e626row6_col2\" class=\"data row6 col2\" >High-level data visualization library based on matplotlib</td>\n",
       "            </tr>\n",
       "    </tbody></table>"
      ],
      "text/plain": [
       "<pandas.io.formats.style.Styler at 0x131dc24e0>"
      ]
     },
     "metadata": {},
     "output_type": "display_data"
    }
   ],
   "source": [
    "# Your code here - remember to use markdown cells for comments as well!\n",
    "!pip install -U fsds\n",
    "from fsds.imports import *"
   ]
  },
  {
   "cell_type": "code",
   "execution_count": null,
   "metadata": {},
   "outputs": [],
   "source": []
  },
  {
   "cell_type": "code",
   "execution_count": 2,
   "metadata": {
    "ExecuteTime": {
     "end_time": "2020-06-03T18:34:10.364409Z",
     "start_time": "2020-06-03T18:34:10.360015Z"
    }
   },
   "outputs": [
    {
     "data": {
      "text/plain": [
       "['zippedData/imdb.title.crew.csv.gz',\n",
       " 'zippedData/tmdb.movies.csv.gz',\n",
       " 'zippedData/imdb.title.akas.csv.gz',\n",
       " 'zippedData/imdb.title.ratings.csv.gz',\n",
       " 'zippedData/imdb.name.basics.csv.gz',\n",
       " 'zippedData/rt.reviews.tsv.gz',\n",
       " 'zippedData/imdb.title.basics.csv.gz',\n",
       " 'zippedData/rt.movie_info.tsv.gz',\n",
       " 'zippedData/tn.movie_budgets.csv.gz',\n",
       " 'zippedData/bom.movie_gross.csv.gz',\n",
       " 'zippedData/imdb.title.principals.csv.gz']"
      ]
     },
     "execution_count": 2,
     "metadata": {},
     "output_type": "execute_result"
    }
   ],
   "source": [
    "import os,glob\n",
    "# display(os.listdir('zippedData'))\n",
    "\n",
    "\n",
    "files = glob.glob('zippedData/*')\n",
    "files"
   ]
  },
  {
   "cell_type": "code",
   "execution_count": 3,
   "metadata": {
    "ExecuteTime": {
     "end_time": "2020-06-03T18:34:10.369325Z",
     "start_time": "2020-06-03T18:34:10.365871Z"
    }
   },
   "outputs": [
    {
     "data": {
      "text/plain": [
       "['zippedData/imdb.title.crew.csv.gz',\n",
       " 'zippedData/tmdb.movies.csv.gz',\n",
       " 'zippedData/imdb.title.akas.csv.gz',\n",
       " 'zippedData/imdb.title.ratings.csv.gz',\n",
       " 'zippedData/imdb.name.basics.csv.gz',\n",
       " 'zippedData/rt.reviews.tsv.gz',\n",
       " 'zippedData/imdb.title.basics.csv.gz',\n",
       " 'zippedData/rt.movie_info.tsv.gz',\n",
       " 'zippedData/tn.movie_budgets.csv.gz',\n",
       " 'zippedData/bom.movie_gross.csv.gz',\n",
       " 'zippedData/imdb.title.principals.csv.gz']"
      ]
     },
     "execution_count": 3,
     "metadata": {},
     "output_type": "execute_result"
    }
   ],
   "source": [
    "files = glob.glob('zippedData/*')\n",
    "files"
   ]
  },
  {
   "cell_type": "code",
   "execution_count": 4,
   "metadata": {
    "ExecuteTime": {
     "end_time": "2020-06-03T18:34:10.374641Z",
     "start_time": "2020-06-03T18:34:10.370888Z"
    }
   },
   "outputs": [
    {
     "data": {
      "text/plain": [
       "'imdb.title.crew'"
      ]
     },
     "execution_count": 4,
     "metadata": {},
     "output_type": "execute_result"
    }
   ],
   "source": [
    "os.path.split(files[0])[-1].replace('.csv.gz','')"
   ]
  },
  {
   "cell_type": "code",
   "execution_count": 5,
   "metadata": {
    "ExecuteTime": {
     "end_time": "2020-06-03T18:34:14.638422Z",
     "start_time": "2020-06-03T18:34:10.951639Z"
    }
   },
   "outputs": [
    {
     "name": "stdout",
     "output_type": "stream",
     "text": [
      "zippedData/imdb.title.crew.csv.gz\n",
      "zippedData/tmdb.movies.csv.gz\n",
      "zippedData/imdb.title.akas.csv.gz\n",
      "zippedData/imdb.title.ratings.csv.gz\n",
      "zippedData/imdb.name.basics.csv.gz\n",
      "zippedData/rt.reviews.tsv.gz\n",
      "zippedData/imdb.title.basics.csv.gz\n",
      "zippedData/rt.movie_info.tsv.gz\n",
      "zippedData/tn.movie_budgets.csv.gz\n",
      "zippedData/bom.movie_gross.csv.gz\n",
      "zippedData/imdb.title.principals.csv.gz\n"
     ]
    }
   ],
   "source": [
    "DATA = {}\n",
    "for file in files:\n",
    "    print(file)\n",
    "    key = os.path.split(file)[-1].replace('.csv.gz','').replace('tsv.gz','')\n",
    "    if \".tsv\" in file:\n",
    "        sep='\\t'\n",
    "        encode = 'latin-1'#'utf-8'\n",
    "    else:\n",
    "        sep=','\n",
    "        encode='utf-8'\n",
    "    DATA[key] = pd.read_csv(file,sep=sep,encoding=encode)#,index_col=0)"
   ]
  },
  {
   "cell_type": "markdown",
   "metadata": {},
   "source": [
    "# Preview Data"
   ]
  },
  {
   "cell_type": "markdown",
   "metadata": {},
   "source": [
    "## Questions\n",
    "\n",
    "- **Where are the gross box office numbers?**\n",
    "    - rt.movie_info.\n",
    "        - Key: ?\n",
    "        \n",
    "    - tn.movie_budgets\n",
    "        - Key:\n",
    "        \n",
    "    - bom.movie_gross\n",
    "        - Key: \n",
    "        \n",
    "- **What website is that table from?**\n",
    "    - What other tables are from the same source and can be joined easily?\n",
    "\n",
    "- **What columns may require extensive pre-processing?**\n",
    "    - Any Genre columns\n",
    "        - `rt.movie.info.['genre']`"
   ]
  },
  {
   "cell_type": "code",
   "execution_count": 6,
   "metadata": {
    "ExecuteTime": {
     "end_time": "2020-06-03T18:34:14.678298Z",
     "start_time": "2020-06-03T18:34:14.639838Z"
    },
    "scrolled": false
   },
   "outputs": [
    {
     "data": {
      "text/html": [
       "<style  type=\"text/css\" >\n",
       "</style><table id=\"T_d35e25b4_a5c8_11ea_8c2b_4865ee12e626\" ><caption>imdb.title.crew</caption><thead>    <tr>        <th class=\"blank level0\" ></th>        <th class=\"col_heading level0 col0\" >tconst</th>        <th class=\"col_heading level0 col1\" >directors</th>        <th class=\"col_heading level0 col2\" >writers</th>    </tr></thead><tbody>\n",
       "                <tr>\n",
       "                        <th id=\"T_d35e25b4_a5c8_11ea_8c2b_4865ee12e626level0_row0\" class=\"row_heading level0 row0\" >0</th>\n",
       "                        <td id=\"T_d35e25b4_a5c8_11ea_8c2b_4865ee12e626row0_col0\" class=\"data row0 col0\" >tt0285252</td>\n",
       "                        <td id=\"T_d35e25b4_a5c8_11ea_8c2b_4865ee12e626row0_col1\" class=\"data row0 col1\" >nm0899854</td>\n",
       "                        <td id=\"T_d35e25b4_a5c8_11ea_8c2b_4865ee12e626row0_col2\" class=\"data row0 col2\" >nm0899854</td>\n",
       "            </tr>\n",
       "            <tr>\n",
       "                        <th id=\"T_d35e25b4_a5c8_11ea_8c2b_4865ee12e626level0_row1\" class=\"row_heading level0 row1\" >1</th>\n",
       "                        <td id=\"T_d35e25b4_a5c8_11ea_8c2b_4865ee12e626row1_col0\" class=\"data row1 col0\" >tt0438973</td>\n",
       "                        <td id=\"T_d35e25b4_a5c8_11ea_8c2b_4865ee12e626row1_col1\" class=\"data row1 col1\" >nan</td>\n",
       "                        <td id=\"T_d35e25b4_a5c8_11ea_8c2b_4865ee12e626row1_col2\" class=\"data row1 col2\" >nm0175726,nm1802864</td>\n",
       "            </tr>\n",
       "    </tbody></table>"
      ],
      "text/plain": [
       "<pandas.io.formats.style.Styler at 0x1325f1b38>"
      ]
     },
     "metadata": {},
     "output_type": "display_data"
    },
    {
     "name": "stdout",
     "output_type": "stream",
     "text": [
      "146144\n",
      "\n"
     ]
    },
    {
     "data": {
      "text/html": [
       "<style  type=\"text/css\" >\n",
       "</style><table id=\"T_d35e9330_a5c8_11ea_bb11_4865ee12e626\" ><caption>tmdb.movies</caption><thead>    <tr>        <th class=\"blank level0\" ></th>        <th class=\"col_heading level0 col0\" >Unnamed: 0</th>        <th class=\"col_heading level0 col1\" >genre_ids</th>        <th class=\"col_heading level0 col2\" >id</th>        <th class=\"col_heading level0 col3\" >original_language</th>        <th class=\"col_heading level0 col4\" >original_title</th>        <th class=\"col_heading level0 col5\" >popularity</th>        <th class=\"col_heading level0 col6\" >release_date</th>        <th class=\"col_heading level0 col7\" >title</th>        <th class=\"col_heading level0 col8\" >vote_average</th>        <th class=\"col_heading level0 col9\" >vote_count</th>    </tr></thead><tbody>\n",
       "                <tr>\n",
       "                        <th id=\"T_d35e9330_a5c8_11ea_bb11_4865ee12e626level0_row0\" class=\"row_heading level0 row0\" >0</th>\n",
       "                        <td id=\"T_d35e9330_a5c8_11ea_bb11_4865ee12e626row0_col0\" class=\"data row0 col0\" >0</td>\n",
       "                        <td id=\"T_d35e9330_a5c8_11ea_bb11_4865ee12e626row0_col1\" class=\"data row0 col1\" >[12, 14, 10751]</td>\n",
       "                        <td id=\"T_d35e9330_a5c8_11ea_bb11_4865ee12e626row0_col2\" class=\"data row0 col2\" >12444</td>\n",
       "                        <td id=\"T_d35e9330_a5c8_11ea_bb11_4865ee12e626row0_col3\" class=\"data row0 col3\" >en</td>\n",
       "                        <td id=\"T_d35e9330_a5c8_11ea_bb11_4865ee12e626row0_col4\" class=\"data row0 col4\" >Harry Potter and the Deathly Hallows: Part 1</td>\n",
       "                        <td id=\"T_d35e9330_a5c8_11ea_bb11_4865ee12e626row0_col5\" class=\"data row0 col5\" >33.533</td>\n",
       "                        <td id=\"T_d35e9330_a5c8_11ea_bb11_4865ee12e626row0_col6\" class=\"data row0 col6\" >2010-11-19</td>\n",
       "                        <td id=\"T_d35e9330_a5c8_11ea_bb11_4865ee12e626row0_col7\" class=\"data row0 col7\" >Harry Potter and the Deathly Hallows: Part 1</td>\n",
       "                        <td id=\"T_d35e9330_a5c8_11ea_bb11_4865ee12e626row0_col8\" class=\"data row0 col8\" >7.7</td>\n",
       "                        <td id=\"T_d35e9330_a5c8_11ea_bb11_4865ee12e626row0_col9\" class=\"data row0 col9\" >10788</td>\n",
       "            </tr>\n",
       "            <tr>\n",
       "                        <th id=\"T_d35e9330_a5c8_11ea_bb11_4865ee12e626level0_row1\" class=\"row_heading level0 row1\" >1</th>\n",
       "                        <td id=\"T_d35e9330_a5c8_11ea_bb11_4865ee12e626row1_col0\" class=\"data row1 col0\" >1</td>\n",
       "                        <td id=\"T_d35e9330_a5c8_11ea_bb11_4865ee12e626row1_col1\" class=\"data row1 col1\" >[14, 12, 16, 10751]</td>\n",
       "                        <td id=\"T_d35e9330_a5c8_11ea_bb11_4865ee12e626row1_col2\" class=\"data row1 col2\" >10191</td>\n",
       "                        <td id=\"T_d35e9330_a5c8_11ea_bb11_4865ee12e626row1_col3\" class=\"data row1 col3\" >en</td>\n",
       "                        <td id=\"T_d35e9330_a5c8_11ea_bb11_4865ee12e626row1_col4\" class=\"data row1 col4\" >How to Train Your Dragon</td>\n",
       "                        <td id=\"T_d35e9330_a5c8_11ea_bb11_4865ee12e626row1_col5\" class=\"data row1 col5\" >28.734</td>\n",
       "                        <td id=\"T_d35e9330_a5c8_11ea_bb11_4865ee12e626row1_col6\" class=\"data row1 col6\" >2010-03-26</td>\n",
       "                        <td id=\"T_d35e9330_a5c8_11ea_bb11_4865ee12e626row1_col7\" class=\"data row1 col7\" >How to Train Your Dragon</td>\n",
       "                        <td id=\"T_d35e9330_a5c8_11ea_bb11_4865ee12e626row1_col8\" class=\"data row1 col8\" >7.7</td>\n",
       "                        <td id=\"T_d35e9330_a5c8_11ea_bb11_4865ee12e626row1_col9\" class=\"data row1 col9\" >7610</td>\n",
       "            </tr>\n",
       "    </tbody></table>"
      ],
      "text/plain": [
       "<pandas.io.formats.style.Styler at 0x13268b9b0>"
      ]
     },
     "metadata": {},
     "output_type": "display_data"
    },
    {
     "name": "stdout",
     "output_type": "stream",
     "text": [
      "26517\n",
      "\n"
     ]
    },
    {
     "data": {
      "text/html": [
       "<style  type=\"text/css\" >\n",
       "</style><table id=\"T_d35f2a1e_a5c8_11ea_8f17_4865ee12e626\" ><caption>imdb.title.akas</caption><thead>    <tr>        <th class=\"blank level0\" ></th>        <th class=\"col_heading level0 col0\" >title_id</th>        <th class=\"col_heading level0 col1\" >ordering</th>        <th class=\"col_heading level0 col2\" >title</th>        <th class=\"col_heading level0 col3\" >region</th>        <th class=\"col_heading level0 col4\" >language</th>        <th class=\"col_heading level0 col5\" >types</th>        <th class=\"col_heading level0 col6\" >attributes</th>        <th class=\"col_heading level0 col7\" >is_original_title</th>    </tr></thead><tbody>\n",
       "                <tr>\n",
       "                        <th id=\"T_d35f2a1e_a5c8_11ea_8f17_4865ee12e626level0_row0\" class=\"row_heading level0 row0\" >0</th>\n",
       "                        <td id=\"T_d35f2a1e_a5c8_11ea_8f17_4865ee12e626row0_col0\" class=\"data row0 col0\" >tt0369610</td>\n",
       "                        <td id=\"T_d35f2a1e_a5c8_11ea_8f17_4865ee12e626row0_col1\" class=\"data row0 col1\" >10</td>\n",
       "                        <td id=\"T_d35f2a1e_a5c8_11ea_8f17_4865ee12e626row0_col2\" class=\"data row0 col2\" >Джурасик свят</td>\n",
       "                        <td id=\"T_d35f2a1e_a5c8_11ea_8f17_4865ee12e626row0_col3\" class=\"data row0 col3\" >BG</td>\n",
       "                        <td id=\"T_d35f2a1e_a5c8_11ea_8f17_4865ee12e626row0_col4\" class=\"data row0 col4\" >bg</td>\n",
       "                        <td id=\"T_d35f2a1e_a5c8_11ea_8f17_4865ee12e626row0_col5\" class=\"data row0 col5\" >nan</td>\n",
       "                        <td id=\"T_d35f2a1e_a5c8_11ea_8f17_4865ee12e626row0_col6\" class=\"data row0 col6\" >nan</td>\n",
       "                        <td id=\"T_d35f2a1e_a5c8_11ea_8f17_4865ee12e626row0_col7\" class=\"data row0 col7\" >0</td>\n",
       "            </tr>\n",
       "            <tr>\n",
       "                        <th id=\"T_d35f2a1e_a5c8_11ea_8f17_4865ee12e626level0_row1\" class=\"row_heading level0 row1\" >1</th>\n",
       "                        <td id=\"T_d35f2a1e_a5c8_11ea_8f17_4865ee12e626row1_col0\" class=\"data row1 col0\" >tt0369610</td>\n",
       "                        <td id=\"T_d35f2a1e_a5c8_11ea_8f17_4865ee12e626row1_col1\" class=\"data row1 col1\" >11</td>\n",
       "                        <td id=\"T_d35f2a1e_a5c8_11ea_8f17_4865ee12e626row1_col2\" class=\"data row1 col2\" >Jurashikku warudo</td>\n",
       "                        <td id=\"T_d35f2a1e_a5c8_11ea_8f17_4865ee12e626row1_col3\" class=\"data row1 col3\" >JP</td>\n",
       "                        <td id=\"T_d35f2a1e_a5c8_11ea_8f17_4865ee12e626row1_col4\" class=\"data row1 col4\" >nan</td>\n",
       "                        <td id=\"T_d35f2a1e_a5c8_11ea_8f17_4865ee12e626row1_col5\" class=\"data row1 col5\" >imdbDisplay</td>\n",
       "                        <td id=\"T_d35f2a1e_a5c8_11ea_8f17_4865ee12e626row1_col6\" class=\"data row1 col6\" >nan</td>\n",
       "                        <td id=\"T_d35f2a1e_a5c8_11ea_8f17_4865ee12e626row1_col7\" class=\"data row1 col7\" >0</td>\n",
       "            </tr>\n",
       "    </tbody></table>"
      ],
      "text/plain": [
       "<pandas.io.formats.style.Styler at 0x1325f1be0>"
      ]
     },
     "metadata": {},
     "output_type": "display_data"
    },
    {
     "name": "stdout",
     "output_type": "stream",
     "text": [
      "331703\n",
      "\n"
     ]
    },
    {
     "data": {
      "text/html": [
       "<style  type=\"text/css\" >\n",
       "</style><table id=\"T_d35fb8b4_a5c8_11ea_ba6f_4865ee12e626\" ><caption>imdb.title.ratings</caption><thead>    <tr>        <th class=\"blank level0\" ></th>        <th class=\"col_heading level0 col0\" >tconst</th>        <th class=\"col_heading level0 col1\" >averagerating</th>        <th class=\"col_heading level0 col2\" >numvotes</th>    </tr></thead><tbody>\n",
       "                <tr>\n",
       "                        <th id=\"T_d35fb8b4_a5c8_11ea_ba6f_4865ee12e626level0_row0\" class=\"row_heading level0 row0\" >0</th>\n",
       "                        <td id=\"T_d35fb8b4_a5c8_11ea_ba6f_4865ee12e626row0_col0\" class=\"data row0 col0\" >tt10356526</td>\n",
       "                        <td id=\"T_d35fb8b4_a5c8_11ea_ba6f_4865ee12e626row0_col1\" class=\"data row0 col1\" >8.3</td>\n",
       "                        <td id=\"T_d35fb8b4_a5c8_11ea_ba6f_4865ee12e626row0_col2\" class=\"data row0 col2\" >31</td>\n",
       "            </tr>\n",
       "            <tr>\n",
       "                        <th id=\"T_d35fb8b4_a5c8_11ea_ba6f_4865ee12e626level0_row1\" class=\"row_heading level0 row1\" >1</th>\n",
       "                        <td id=\"T_d35fb8b4_a5c8_11ea_ba6f_4865ee12e626row1_col0\" class=\"data row1 col0\" >tt10384606</td>\n",
       "                        <td id=\"T_d35fb8b4_a5c8_11ea_ba6f_4865ee12e626row1_col1\" class=\"data row1 col1\" >8.9</td>\n",
       "                        <td id=\"T_d35fb8b4_a5c8_11ea_ba6f_4865ee12e626row1_col2\" class=\"data row1 col2\" >559</td>\n",
       "            </tr>\n",
       "    </tbody></table>"
      ],
      "text/plain": [
       "<pandas.io.formats.style.Styler at 0x150219e10>"
      ]
     },
     "metadata": {},
     "output_type": "display_data"
    },
    {
     "name": "stdout",
     "output_type": "stream",
     "text": [
      "73856\n",
      "\n"
     ]
    },
    {
     "data": {
      "text/html": [
       "<style  type=\"text/css\" >\n",
       "</style><table id=\"T_d3601fc0_a5c8_11ea_a3b1_4865ee12e626\" ><caption>imdb.name.basics</caption><thead>    <tr>        <th class=\"blank level0\" ></th>        <th class=\"col_heading level0 col0\" >nconst</th>        <th class=\"col_heading level0 col1\" >primary_name</th>        <th class=\"col_heading level0 col2\" >birth_year</th>        <th class=\"col_heading level0 col3\" >death_year</th>        <th class=\"col_heading level0 col4\" >primary_profession</th>        <th class=\"col_heading level0 col5\" >known_for_titles</th>    </tr></thead><tbody>\n",
       "                <tr>\n",
       "                        <th id=\"T_d3601fc0_a5c8_11ea_a3b1_4865ee12e626level0_row0\" class=\"row_heading level0 row0\" >0</th>\n",
       "                        <td id=\"T_d3601fc0_a5c8_11ea_a3b1_4865ee12e626row0_col0\" class=\"data row0 col0\" >nm0061671</td>\n",
       "                        <td id=\"T_d3601fc0_a5c8_11ea_a3b1_4865ee12e626row0_col1\" class=\"data row0 col1\" >Mary Ellen Bauder</td>\n",
       "                        <td id=\"T_d3601fc0_a5c8_11ea_a3b1_4865ee12e626row0_col2\" class=\"data row0 col2\" >nan</td>\n",
       "                        <td id=\"T_d3601fc0_a5c8_11ea_a3b1_4865ee12e626row0_col3\" class=\"data row0 col3\" >nan</td>\n",
       "                        <td id=\"T_d3601fc0_a5c8_11ea_a3b1_4865ee12e626row0_col4\" class=\"data row0 col4\" >miscellaneous,production_manager,producer</td>\n",
       "                        <td id=\"T_d3601fc0_a5c8_11ea_a3b1_4865ee12e626row0_col5\" class=\"data row0 col5\" >tt0837562,tt2398241,tt0844471,tt0118553</td>\n",
       "            </tr>\n",
       "            <tr>\n",
       "                        <th id=\"T_d3601fc0_a5c8_11ea_a3b1_4865ee12e626level0_row1\" class=\"row_heading level0 row1\" >1</th>\n",
       "                        <td id=\"T_d3601fc0_a5c8_11ea_a3b1_4865ee12e626row1_col0\" class=\"data row1 col0\" >nm0061865</td>\n",
       "                        <td id=\"T_d3601fc0_a5c8_11ea_a3b1_4865ee12e626row1_col1\" class=\"data row1 col1\" >Joseph Bauer</td>\n",
       "                        <td id=\"T_d3601fc0_a5c8_11ea_a3b1_4865ee12e626row1_col2\" class=\"data row1 col2\" >nan</td>\n",
       "                        <td id=\"T_d3601fc0_a5c8_11ea_a3b1_4865ee12e626row1_col3\" class=\"data row1 col3\" >nan</td>\n",
       "                        <td id=\"T_d3601fc0_a5c8_11ea_a3b1_4865ee12e626row1_col4\" class=\"data row1 col4\" >composer,music_department,sound_department</td>\n",
       "                        <td id=\"T_d3601fc0_a5c8_11ea_a3b1_4865ee12e626row1_col5\" class=\"data row1 col5\" >tt0896534,tt6791238,tt0287072,tt1682940</td>\n",
       "            </tr>\n",
       "    </tbody></table>"
      ],
      "text/plain": [
       "<pandas.io.formats.style.Styler at 0x150246390>"
      ]
     },
     "metadata": {},
     "output_type": "display_data"
    },
    {
     "name": "stdout",
     "output_type": "stream",
     "text": [
      "606648\n",
      "\n"
     ]
    },
    {
     "data": {
      "text/html": [
       "<style  type=\"text/css\" >\n",
       "</style><table id=\"T_d36092a2_a5c8_11ea_b9ff_4865ee12e626\" ><caption>rt.reviews.</caption><thead>    <tr>        <th class=\"blank level0\" ></th>        <th class=\"col_heading level0 col0\" >id</th>        <th class=\"col_heading level0 col1\" >review</th>        <th class=\"col_heading level0 col2\" >rating</th>        <th class=\"col_heading level0 col3\" >fresh</th>        <th class=\"col_heading level0 col4\" >critic</th>        <th class=\"col_heading level0 col5\" >top_critic</th>        <th class=\"col_heading level0 col6\" >publisher</th>        <th class=\"col_heading level0 col7\" >date</th>    </tr></thead><tbody>\n",
       "                <tr>\n",
       "                        <th id=\"T_d36092a2_a5c8_11ea_b9ff_4865ee12e626level0_row0\" class=\"row_heading level0 row0\" >0</th>\n",
       "                        <td id=\"T_d36092a2_a5c8_11ea_b9ff_4865ee12e626row0_col0\" class=\"data row0 col0\" >3</td>\n",
       "                        <td id=\"T_d36092a2_a5c8_11ea_b9ff_4865ee12e626row0_col1\" class=\"data row0 col1\" >A distinctly gallows take on contemporary financial mores, as one absurdly rich man's limo ride across town for a haircut functions as a state-of-the-nation discourse. </td>\n",
       "                        <td id=\"T_d36092a2_a5c8_11ea_b9ff_4865ee12e626row0_col2\" class=\"data row0 col2\" >3/5</td>\n",
       "                        <td id=\"T_d36092a2_a5c8_11ea_b9ff_4865ee12e626row0_col3\" class=\"data row0 col3\" >fresh</td>\n",
       "                        <td id=\"T_d36092a2_a5c8_11ea_b9ff_4865ee12e626row0_col4\" class=\"data row0 col4\" >PJ Nabarro</td>\n",
       "                        <td id=\"T_d36092a2_a5c8_11ea_b9ff_4865ee12e626row0_col5\" class=\"data row0 col5\" >0</td>\n",
       "                        <td id=\"T_d36092a2_a5c8_11ea_b9ff_4865ee12e626row0_col6\" class=\"data row0 col6\" >Patrick Nabarro</td>\n",
       "                        <td id=\"T_d36092a2_a5c8_11ea_b9ff_4865ee12e626row0_col7\" class=\"data row0 col7\" >November 10, 2018</td>\n",
       "            </tr>\n",
       "            <tr>\n",
       "                        <th id=\"T_d36092a2_a5c8_11ea_b9ff_4865ee12e626level0_row1\" class=\"row_heading level0 row1\" >1</th>\n",
       "                        <td id=\"T_d36092a2_a5c8_11ea_b9ff_4865ee12e626row1_col0\" class=\"data row1 col0\" >3</td>\n",
       "                        <td id=\"T_d36092a2_a5c8_11ea_b9ff_4865ee12e626row1_col1\" class=\"data row1 col1\" >It's an allegory in search of a meaning that never arrives...It's just old-fashioned bad storytelling.</td>\n",
       "                        <td id=\"T_d36092a2_a5c8_11ea_b9ff_4865ee12e626row1_col2\" class=\"data row1 col2\" >nan</td>\n",
       "                        <td id=\"T_d36092a2_a5c8_11ea_b9ff_4865ee12e626row1_col3\" class=\"data row1 col3\" >rotten</td>\n",
       "                        <td id=\"T_d36092a2_a5c8_11ea_b9ff_4865ee12e626row1_col4\" class=\"data row1 col4\" >Annalee Newitz</td>\n",
       "                        <td id=\"T_d36092a2_a5c8_11ea_b9ff_4865ee12e626row1_col5\" class=\"data row1 col5\" >0</td>\n",
       "                        <td id=\"T_d36092a2_a5c8_11ea_b9ff_4865ee12e626row1_col6\" class=\"data row1 col6\" >io9.com</td>\n",
       "                        <td id=\"T_d36092a2_a5c8_11ea_b9ff_4865ee12e626row1_col7\" class=\"data row1 col7\" >May 23, 2018</td>\n",
       "            </tr>\n",
       "    </tbody></table>"
      ],
      "text/plain": [
       "<pandas.io.formats.style.Styler at 0x1502467f0>"
      ]
     },
     "metadata": {},
     "output_type": "display_data"
    },
    {
     "name": "stdout",
     "output_type": "stream",
     "text": [
      "54432\n",
      "\n"
     ]
    },
    {
     "data": {
      "text/html": [
       "<style  type=\"text/css\" >\n",
       "</style><table id=\"T_d361224c_a5c8_11ea_8915_4865ee12e626\" ><caption>imdb.title.basics</caption><thead>    <tr>        <th class=\"blank level0\" ></th>        <th class=\"col_heading level0 col0\" >tconst</th>        <th class=\"col_heading level0 col1\" >primary_title</th>        <th class=\"col_heading level0 col2\" >original_title</th>        <th class=\"col_heading level0 col3\" >start_year</th>        <th class=\"col_heading level0 col4\" >runtime_minutes</th>        <th class=\"col_heading level0 col5\" >genres</th>    </tr></thead><tbody>\n",
       "                <tr>\n",
       "                        <th id=\"T_d361224c_a5c8_11ea_8915_4865ee12e626level0_row0\" class=\"row_heading level0 row0\" >0</th>\n",
       "                        <td id=\"T_d361224c_a5c8_11ea_8915_4865ee12e626row0_col0\" class=\"data row0 col0\" >tt0063540</td>\n",
       "                        <td id=\"T_d361224c_a5c8_11ea_8915_4865ee12e626row0_col1\" class=\"data row0 col1\" >Sunghursh</td>\n",
       "                        <td id=\"T_d361224c_a5c8_11ea_8915_4865ee12e626row0_col2\" class=\"data row0 col2\" >Sunghursh</td>\n",
       "                        <td id=\"T_d361224c_a5c8_11ea_8915_4865ee12e626row0_col3\" class=\"data row0 col3\" >2013</td>\n",
       "                        <td id=\"T_d361224c_a5c8_11ea_8915_4865ee12e626row0_col4\" class=\"data row0 col4\" >175</td>\n",
       "                        <td id=\"T_d361224c_a5c8_11ea_8915_4865ee12e626row0_col5\" class=\"data row0 col5\" >Action,Crime,Drama</td>\n",
       "            </tr>\n",
       "            <tr>\n",
       "                        <th id=\"T_d361224c_a5c8_11ea_8915_4865ee12e626level0_row1\" class=\"row_heading level0 row1\" >1</th>\n",
       "                        <td id=\"T_d361224c_a5c8_11ea_8915_4865ee12e626row1_col0\" class=\"data row1 col0\" >tt0066787</td>\n",
       "                        <td id=\"T_d361224c_a5c8_11ea_8915_4865ee12e626row1_col1\" class=\"data row1 col1\" >One Day Before the Rainy Season</td>\n",
       "                        <td id=\"T_d361224c_a5c8_11ea_8915_4865ee12e626row1_col2\" class=\"data row1 col2\" >Ashad Ka Ek Din</td>\n",
       "                        <td id=\"T_d361224c_a5c8_11ea_8915_4865ee12e626row1_col3\" class=\"data row1 col3\" >2019</td>\n",
       "                        <td id=\"T_d361224c_a5c8_11ea_8915_4865ee12e626row1_col4\" class=\"data row1 col4\" >114</td>\n",
       "                        <td id=\"T_d361224c_a5c8_11ea_8915_4865ee12e626row1_col5\" class=\"data row1 col5\" >Biography,Drama</td>\n",
       "            </tr>\n",
       "    </tbody></table>"
      ],
      "text/plain": [
       "<pandas.io.formats.style.Styler at 0x13268b940>"
      ]
     },
     "metadata": {},
     "output_type": "display_data"
    },
    {
     "name": "stdout",
     "output_type": "stream",
     "text": [
      "146144\n",
      "\n"
     ]
    },
    {
     "data": {
      "text/html": [
       "<style  type=\"text/css\" >\n",
       "</style><table id=\"T_d3619b66_a5c8_11ea_98c2_4865ee12e626\" ><caption>rt.movie_info.</caption><thead>    <tr>        <th class=\"blank level0\" ></th>        <th class=\"col_heading level0 col0\" >id</th>        <th class=\"col_heading level0 col1\" >synopsis</th>        <th class=\"col_heading level0 col2\" >rating</th>        <th class=\"col_heading level0 col3\" >genre</th>        <th class=\"col_heading level0 col4\" >director</th>        <th class=\"col_heading level0 col5\" >writer</th>        <th class=\"col_heading level0 col6\" >theater_date</th>        <th class=\"col_heading level0 col7\" >dvd_date</th>        <th class=\"col_heading level0 col8\" >currency</th>        <th class=\"col_heading level0 col9\" >box_office</th>        <th class=\"col_heading level0 col10\" >runtime</th>        <th class=\"col_heading level0 col11\" >studio</th>    </tr></thead><tbody>\n",
       "                <tr>\n",
       "                        <th id=\"T_d3619b66_a5c8_11ea_98c2_4865ee12e626level0_row0\" class=\"row_heading level0 row0\" >0</th>\n",
       "                        <td id=\"T_d3619b66_a5c8_11ea_98c2_4865ee12e626row0_col0\" class=\"data row0 col0\" >1</td>\n",
       "                        <td id=\"T_d3619b66_a5c8_11ea_98c2_4865ee12e626row0_col1\" class=\"data row0 col1\" >This gritty, fast-paced, and innovative police drama earned five Academy Awards, including Best Picture, Best Adapted Screenplay (written by Ernest Tidyman), and Best Actor (Gene Hackman). Jimmy \"Popeye\" Doyle (Hackman) and his partner, Buddy Russo (Roy Scheider), are New York City police detectives on narcotics detail, trying to track down the source of heroin from Europe into the United States. Suave Alain Charnier (Fernando Rey) is the French drug kingpin who provides a large percentage of New York City's dope, and Pierre Nicoli (Marcel Bozzuffi) is a hired killer and Charnier's right-hand man. Acting on a hunch, Popeye and Buddy start tailing Sal Boca (Tony Lo Bianco) and his wife, Angie (Arlene Faber), who live pretty high for a couple whose corner store brings in about 7,000 dollars a year. It turns out Popeye's suspicions are right -- Sal and Angie are the New York agents for Charnier, who will be smuggling 32 million dollars' worth of heroin into the city in a car shipped over from France. The French Connection broke plenty of new ground for screen thrillers; Popeye Doyle was a highly unusual \"hero,\" an often violent, racist, and mean-spirited cop whose dedication to his job fell just short of dangerous obsession. The film's high point, a high-speed car chase with Popeye tailing an elevated train, was one of the most viscerally exciting screen moments of its day and set the stage for dozens of action sequences to follow. And the film's grimy realism (and downbeat ending) was a big change from the buff-and-shine gloss and good-guys-always-win heroics of most police dramas that preceded it. The French Connection was inspired by a true story, and Eddie Egan and Sonny Grosso, Popeye and Buddy's real life counterparts, both have small roles in the film. A sequel followed four years later.</td>\n",
       "                        <td id=\"T_d3619b66_a5c8_11ea_98c2_4865ee12e626row0_col2\" class=\"data row0 col2\" >R</td>\n",
       "                        <td id=\"T_d3619b66_a5c8_11ea_98c2_4865ee12e626row0_col3\" class=\"data row0 col3\" >Action and Adventure|Classics|Drama</td>\n",
       "                        <td id=\"T_d3619b66_a5c8_11ea_98c2_4865ee12e626row0_col4\" class=\"data row0 col4\" >William Friedkin</td>\n",
       "                        <td id=\"T_d3619b66_a5c8_11ea_98c2_4865ee12e626row0_col5\" class=\"data row0 col5\" >Ernest Tidyman</td>\n",
       "                        <td id=\"T_d3619b66_a5c8_11ea_98c2_4865ee12e626row0_col6\" class=\"data row0 col6\" >Oct 9, 1971</td>\n",
       "                        <td id=\"T_d3619b66_a5c8_11ea_98c2_4865ee12e626row0_col7\" class=\"data row0 col7\" >Sep 25, 2001</td>\n",
       "                        <td id=\"T_d3619b66_a5c8_11ea_98c2_4865ee12e626row0_col8\" class=\"data row0 col8\" >nan</td>\n",
       "                        <td id=\"T_d3619b66_a5c8_11ea_98c2_4865ee12e626row0_col9\" class=\"data row0 col9\" >nan</td>\n",
       "                        <td id=\"T_d3619b66_a5c8_11ea_98c2_4865ee12e626row0_col10\" class=\"data row0 col10\" >104 minutes</td>\n",
       "                        <td id=\"T_d3619b66_a5c8_11ea_98c2_4865ee12e626row0_col11\" class=\"data row0 col11\" >nan</td>\n",
       "            </tr>\n",
       "            <tr>\n",
       "                        <th id=\"T_d3619b66_a5c8_11ea_98c2_4865ee12e626level0_row1\" class=\"row_heading level0 row1\" >1</th>\n",
       "                        <td id=\"T_d3619b66_a5c8_11ea_98c2_4865ee12e626row1_col0\" class=\"data row1 col0\" >3</td>\n",
       "                        <td id=\"T_d3619b66_a5c8_11ea_98c2_4865ee12e626row1_col1\" class=\"data row1 col1\" >New York City, not-too-distant-future: Eric Packer, a 28 year-old finance golden boy dreaming of living in a civilization ahead of this one, watches a dark shadow cast over the firmament of the Wall Street galaxy, of which he is the uncontested king. As he is chauffeured across midtown Manhattan to get a haircut at his father's old barber, his anxious eyes are glued to the yuan's exchange rate: it is mounting against all expectations, destroying Eric's bet against it. Eric Packer is losing his empire with every tick of the clock. Meanwhile, an eruption of wild activity unfolds in the city's streets. Petrified as the threats of the real world infringe upon his cloud of virtual convictions, his paranoia intensifies during the course of his 24-hour cross-town odyssey. Packer starts to piece together clues that lead him to a most terrifying secret: his imminent assassination. -- (C) Official Site</td>\n",
       "                        <td id=\"T_d3619b66_a5c8_11ea_98c2_4865ee12e626row1_col2\" class=\"data row1 col2\" >R</td>\n",
       "                        <td id=\"T_d3619b66_a5c8_11ea_98c2_4865ee12e626row1_col3\" class=\"data row1 col3\" >Drama|Science Fiction and Fantasy</td>\n",
       "                        <td id=\"T_d3619b66_a5c8_11ea_98c2_4865ee12e626row1_col4\" class=\"data row1 col4\" >David Cronenberg</td>\n",
       "                        <td id=\"T_d3619b66_a5c8_11ea_98c2_4865ee12e626row1_col5\" class=\"data row1 col5\" >David Cronenberg|Don DeLillo</td>\n",
       "                        <td id=\"T_d3619b66_a5c8_11ea_98c2_4865ee12e626row1_col6\" class=\"data row1 col6\" >Aug 17, 2012</td>\n",
       "                        <td id=\"T_d3619b66_a5c8_11ea_98c2_4865ee12e626row1_col7\" class=\"data row1 col7\" >Jan 1, 2013</td>\n",
       "                        <td id=\"T_d3619b66_a5c8_11ea_98c2_4865ee12e626row1_col8\" class=\"data row1 col8\" >$</td>\n",
       "                        <td id=\"T_d3619b66_a5c8_11ea_98c2_4865ee12e626row1_col9\" class=\"data row1 col9\" >600,000</td>\n",
       "                        <td id=\"T_d3619b66_a5c8_11ea_98c2_4865ee12e626row1_col10\" class=\"data row1 col10\" >108 minutes</td>\n",
       "                        <td id=\"T_d3619b66_a5c8_11ea_98c2_4865ee12e626row1_col11\" class=\"data row1 col11\" >Entertainment One</td>\n",
       "            </tr>\n",
       "    </tbody></table>"
      ],
      "text/plain": [
       "<pandas.io.formats.style.Styler at 0x1502199b0>"
      ]
     },
     "metadata": {},
     "output_type": "display_data"
    },
    {
     "name": "stdout",
     "output_type": "stream",
     "text": [
      "1560\n",
      "\n"
     ]
    },
    {
     "data": {
      "text/html": [
       "<style  type=\"text/css\" >\n",
       "</style><table id=\"T_d3622fe2_a5c8_11ea_8e69_4865ee12e626\" ><caption>tn.movie_budgets</caption><thead>    <tr>        <th class=\"blank level0\" ></th>        <th class=\"col_heading level0 col0\" >id</th>        <th class=\"col_heading level0 col1\" >release_date</th>        <th class=\"col_heading level0 col2\" >movie</th>        <th class=\"col_heading level0 col3\" >production_budget</th>        <th class=\"col_heading level0 col4\" >domestic_gross</th>        <th class=\"col_heading level0 col5\" >worldwide_gross</th>    </tr></thead><tbody>\n",
       "                <tr>\n",
       "                        <th id=\"T_d3622fe2_a5c8_11ea_8e69_4865ee12e626level0_row0\" class=\"row_heading level0 row0\" >0</th>\n",
       "                        <td id=\"T_d3622fe2_a5c8_11ea_8e69_4865ee12e626row0_col0\" class=\"data row0 col0\" >1</td>\n",
       "                        <td id=\"T_d3622fe2_a5c8_11ea_8e69_4865ee12e626row0_col1\" class=\"data row0 col1\" >Dec 18, 2009</td>\n",
       "                        <td id=\"T_d3622fe2_a5c8_11ea_8e69_4865ee12e626row0_col2\" class=\"data row0 col2\" >Avatar</td>\n",
       "                        <td id=\"T_d3622fe2_a5c8_11ea_8e69_4865ee12e626row0_col3\" class=\"data row0 col3\" >$425,000,000</td>\n",
       "                        <td id=\"T_d3622fe2_a5c8_11ea_8e69_4865ee12e626row0_col4\" class=\"data row0 col4\" >$760,507,625</td>\n",
       "                        <td id=\"T_d3622fe2_a5c8_11ea_8e69_4865ee12e626row0_col5\" class=\"data row0 col5\" >$2,776,345,279</td>\n",
       "            </tr>\n",
       "            <tr>\n",
       "                        <th id=\"T_d3622fe2_a5c8_11ea_8e69_4865ee12e626level0_row1\" class=\"row_heading level0 row1\" >1</th>\n",
       "                        <td id=\"T_d3622fe2_a5c8_11ea_8e69_4865ee12e626row1_col0\" class=\"data row1 col0\" >2</td>\n",
       "                        <td id=\"T_d3622fe2_a5c8_11ea_8e69_4865ee12e626row1_col1\" class=\"data row1 col1\" >May 20, 2011</td>\n",
       "                        <td id=\"T_d3622fe2_a5c8_11ea_8e69_4865ee12e626row1_col2\" class=\"data row1 col2\" >Pirates of the Caribbean: On Stranger Tides</td>\n",
       "                        <td id=\"T_d3622fe2_a5c8_11ea_8e69_4865ee12e626row1_col3\" class=\"data row1 col3\" >$410,600,000</td>\n",
       "                        <td id=\"T_d3622fe2_a5c8_11ea_8e69_4865ee12e626row1_col4\" class=\"data row1 col4\" >$241,063,875</td>\n",
       "                        <td id=\"T_d3622fe2_a5c8_11ea_8e69_4865ee12e626row1_col5\" class=\"data row1 col5\" >$1,045,663,875</td>\n",
       "            </tr>\n",
       "    </tbody></table>"
      ],
      "text/plain": [
       "<pandas.io.formats.style.Styler at 0x150219e10>"
      ]
     },
     "metadata": {},
     "output_type": "display_data"
    },
    {
     "name": "stdout",
     "output_type": "stream",
     "text": [
      "5782\n",
      "\n"
     ]
    },
    {
     "data": {
      "text/html": [
       "<style  type=\"text/css\" >\n",
       "</style><table id=\"T_d36299a8_a5c8_11ea_be2f_4865ee12e626\" ><caption>bom.movie_gross</caption><thead>    <tr>        <th class=\"blank level0\" ></th>        <th class=\"col_heading level0 col0\" >title</th>        <th class=\"col_heading level0 col1\" >studio</th>        <th class=\"col_heading level0 col2\" >domestic_gross</th>        <th class=\"col_heading level0 col3\" >foreign_gross</th>        <th class=\"col_heading level0 col4\" >year</th>    </tr></thead><tbody>\n",
       "                <tr>\n",
       "                        <th id=\"T_d36299a8_a5c8_11ea_be2f_4865ee12e626level0_row0\" class=\"row_heading level0 row0\" >0</th>\n",
       "                        <td id=\"T_d36299a8_a5c8_11ea_be2f_4865ee12e626row0_col0\" class=\"data row0 col0\" >Toy Story 3</td>\n",
       "                        <td id=\"T_d36299a8_a5c8_11ea_be2f_4865ee12e626row0_col1\" class=\"data row0 col1\" >BV</td>\n",
       "                        <td id=\"T_d36299a8_a5c8_11ea_be2f_4865ee12e626row0_col2\" class=\"data row0 col2\" >4.15e+08</td>\n",
       "                        <td id=\"T_d36299a8_a5c8_11ea_be2f_4865ee12e626row0_col3\" class=\"data row0 col3\" >652000000</td>\n",
       "                        <td id=\"T_d36299a8_a5c8_11ea_be2f_4865ee12e626row0_col4\" class=\"data row0 col4\" >2010</td>\n",
       "            </tr>\n",
       "            <tr>\n",
       "                        <th id=\"T_d36299a8_a5c8_11ea_be2f_4865ee12e626level0_row1\" class=\"row_heading level0 row1\" >1</th>\n",
       "                        <td id=\"T_d36299a8_a5c8_11ea_be2f_4865ee12e626row1_col0\" class=\"data row1 col0\" >Alice in Wonderland (2010)</td>\n",
       "                        <td id=\"T_d36299a8_a5c8_11ea_be2f_4865ee12e626row1_col1\" class=\"data row1 col1\" >BV</td>\n",
       "                        <td id=\"T_d36299a8_a5c8_11ea_be2f_4865ee12e626row1_col2\" class=\"data row1 col2\" >3.342e+08</td>\n",
       "                        <td id=\"T_d36299a8_a5c8_11ea_be2f_4865ee12e626row1_col3\" class=\"data row1 col3\" >691300000</td>\n",
       "                        <td id=\"T_d36299a8_a5c8_11ea_be2f_4865ee12e626row1_col4\" class=\"data row1 col4\" >2010</td>\n",
       "            </tr>\n",
       "    </tbody></table>"
      ],
      "text/plain": [
       "<pandas.io.formats.style.Styler at 0x150246390>"
      ]
     },
     "metadata": {},
     "output_type": "display_data"
    },
    {
     "name": "stdout",
     "output_type": "stream",
     "text": [
      "3387\n",
      "\n"
     ]
    },
    {
     "data": {
      "text/html": [
       "<style  type=\"text/css\" >\n",
       "</style><table id=\"T_d362fbfa_a5c8_11ea_825a_4865ee12e626\" ><caption>imdb.title.principals</caption><thead>    <tr>        <th class=\"blank level0\" ></th>        <th class=\"col_heading level0 col0\" >tconst</th>        <th class=\"col_heading level0 col1\" >ordering</th>        <th class=\"col_heading level0 col2\" >nconst</th>        <th class=\"col_heading level0 col3\" >category</th>        <th class=\"col_heading level0 col4\" >job</th>        <th class=\"col_heading level0 col5\" >characters</th>    </tr></thead><tbody>\n",
       "                <tr>\n",
       "                        <th id=\"T_d362fbfa_a5c8_11ea_825a_4865ee12e626level0_row0\" class=\"row_heading level0 row0\" >0</th>\n",
       "                        <td id=\"T_d362fbfa_a5c8_11ea_825a_4865ee12e626row0_col0\" class=\"data row0 col0\" >tt0111414</td>\n",
       "                        <td id=\"T_d362fbfa_a5c8_11ea_825a_4865ee12e626row0_col1\" class=\"data row0 col1\" >1</td>\n",
       "                        <td id=\"T_d362fbfa_a5c8_11ea_825a_4865ee12e626row0_col2\" class=\"data row0 col2\" >nm0246005</td>\n",
       "                        <td id=\"T_d362fbfa_a5c8_11ea_825a_4865ee12e626row0_col3\" class=\"data row0 col3\" >actor</td>\n",
       "                        <td id=\"T_d362fbfa_a5c8_11ea_825a_4865ee12e626row0_col4\" class=\"data row0 col4\" >nan</td>\n",
       "                        <td id=\"T_d362fbfa_a5c8_11ea_825a_4865ee12e626row0_col5\" class=\"data row0 col5\" >[\"The Man\"]</td>\n",
       "            </tr>\n",
       "            <tr>\n",
       "                        <th id=\"T_d362fbfa_a5c8_11ea_825a_4865ee12e626level0_row1\" class=\"row_heading level0 row1\" >1</th>\n",
       "                        <td id=\"T_d362fbfa_a5c8_11ea_825a_4865ee12e626row1_col0\" class=\"data row1 col0\" >tt0111414</td>\n",
       "                        <td id=\"T_d362fbfa_a5c8_11ea_825a_4865ee12e626row1_col1\" class=\"data row1 col1\" >2</td>\n",
       "                        <td id=\"T_d362fbfa_a5c8_11ea_825a_4865ee12e626row1_col2\" class=\"data row1 col2\" >nm0398271</td>\n",
       "                        <td id=\"T_d362fbfa_a5c8_11ea_825a_4865ee12e626row1_col3\" class=\"data row1 col3\" >director</td>\n",
       "                        <td id=\"T_d362fbfa_a5c8_11ea_825a_4865ee12e626row1_col4\" class=\"data row1 col4\" >nan</td>\n",
       "                        <td id=\"T_d362fbfa_a5c8_11ea_825a_4865ee12e626row1_col5\" class=\"data row1 col5\" >nan</td>\n",
       "            </tr>\n",
       "    </tbody></table>"
      ],
      "text/plain": [
       "<pandas.io.formats.style.Styler at 0x150246ef0>"
      ]
     },
     "metadata": {},
     "output_type": "display_data"
    },
    {
     "name": "stdout",
     "output_type": "stream",
     "text": [
      "1028186\n",
      "\n"
     ]
    }
   ],
   "source": [
    "for tablename, data in DATA.items():\n",
    "#     print('---'*20+'\\n'+f\"{tablename}:\")\n",
    "    try:\n",
    "        display(data.head(2).style.set_caption(f\"{tablename}\"))\n",
    "        print(len(data))\n",
    "    except:\n",
    "        display(data.head(2).reset_index().style.set_caption(f\"{tablename}\"))\n",
    "    print()"
   ]
  },
  {
   "cell_type": "markdown",
   "metadata": {},
   "source": [
    "## Join rt.movie_info (`dfrt`) & tn.movie_budgets (`tn_budgets`)"
   ]
  },
  {
   "cell_type": "code",
   "execution_count": null,
   "metadata": {},
   "outputs": [],
   "source": []
  },
  {
   "cell_type": "code",
   "execution_count": 32,
   "metadata": {
    "ExecuteTime": {
     "end_time": "2020-05-31T16:42:56.676556Z",
     "start_time": "2020-05-31T16:42:56.540430Z"
    }
   },
   "outputs": [
    {
     "data": {
      "text/html": [
       "<div>\n",
       "<style scoped>\n",
       "    .dataframe tbody tr th:only-of-type {\n",
       "        vertical-align: middle;\n",
       "    }\n",
       "\n",
       "    .dataframe tbody tr th {\n",
       "        vertical-align: top;\n",
       "    }\n",
       "\n",
       "    .dataframe thead th {\n",
       "        text-align: right;\n",
       "    }\n",
       "</style>\n",
       "<table border=\"1\" class=\"dataframe\">\n",
       "  <thead>\n",
       "    <tr style=\"text-align: right;\">\n",
       "      <th></th>\n",
       "      <th>id</th>\n",
       "      <th>synopsis</th>\n",
       "      <th>rating</th>\n",
       "      <th>genre</th>\n",
       "      <th>director</th>\n",
       "      <th>writer</th>\n",
       "      <th>theater_date</th>\n",
       "      <th>dvd_date</th>\n",
       "      <th>currency</th>\n",
       "      <th>box_office</th>\n",
       "      <th>runtime</th>\n",
       "      <th>studio</th>\n",
       "      <th>date_index</th>\n",
       "    </tr>\n",
       "  </thead>\n",
       "  <tbody>\n",
       "    <tr>\n",
       "      <th>0</th>\n",
       "      <td>1</td>\n",
       "      <td>This gritty, fast-paced, and innovative police...</td>\n",
       "      <td>R</td>\n",
       "      <td>Action and Adventure|Classics|Drama</td>\n",
       "      <td>William Friedkin</td>\n",
       "      <td>Ernest Tidyman</td>\n",
       "      <td>Oct 9, 1971</td>\n",
       "      <td>Sep 25, 2001</td>\n",
       "      <td>NaN</td>\n",
       "      <td>NaN</td>\n",
       "      <td>104 minutes</td>\n",
       "      <td>NaN</td>\n",
       "      <td>1971-10-09</td>\n",
       "    </tr>\n",
       "    <tr>\n",
       "      <th>1</th>\n",
       "      <td>3</td>\n",
       "      <td>New York City, not-too-distant-future: Eric Pa...</td>\n",
       "      <td>R</td>\n",
       "      <td>Drama|Science Fiction and Fantasy</td>\n",
       "      <td>David Cronenberg</td>\n",
       "      <td>David Cronenberg|Don DeLillo</td>\n",
       "      <td>Aug 17, 2012</td>\n",
       "      <td>Jan 1, 2013</td>\n",
       "      <td>$</td>\n",
       "      <td>600,000</td>\n",
       "      <td>108 minutes</td>\n",
       "      <td>Entertainment One</td>\n",
       "      <td>2012-08-17</td>\n",
       "    </tr>\n",
       "    <tr>\n",
       "      <th>2</th>\n",
       "      <td>5</td>\n",
       "      <td>Illeana Douglas delivers a superb performance ...</td>\n",
       "      <td>R</td>\n",
       "      <td>Drama|Musical and Performing Arts</td>\n",
       "      <td>Allison Anders</td>\n",
       "      <td>Allison Anders</td>\n",
       "      <td>Sep 13, 1996</td>\n",
       "      <td>Apr 18, 2000</td>\n",
       "      <td>NaN</td>\n",
       "      <td>NaN</td>\n",
       "      <td>116 minutes</td>\n",
       "      <td>NaN</td>\n",
       "      <td>1996-09-13</td>\n",
       "    </tr>\n",
       "  </tbody>\n",
       "</table>\n",
       "</div>"
      ],
      "text/plain": [
       "   id                                           synopsis rating  \\\n",
       "0   1  This gritty, fast-paced, and innovative police...      R   \n",
       "1   3  New York City, not-too-distant-future: Eric Pa...      R   \n",
       "2   5  Illeana Douglas delivers a superb performance ...      R   \n",
       "\n",
       "                                 genre          director  \\\n",
       "0  Action and Adventure|Classics|Drama  William Friedkin   \n",
       "1    Drama|Science Fiction and Fantasy  David Cronenberg   \n",
       "2    Drama|Musical and Performing Arts    Allison Anders   \n",
       "\n",
       "                         writer  theater_date      dvd_date currency  \\\n",
       "0                Ernest Tidyman   Oct 9, 1971  Sep 25, 2001      NaN   \n",
       "1  David Cronenberg|Don DeLillo  Aug 17, 2012   Jan 1, 2013        $   \n",
       "2                Allison Anders  Sep 13, 1996  Apr 18, 2000      NaN   \n",
       "\n",
       "  box_office      runtime             studio date_index  \n",
       "0        NaN  104 minutes                NaN 1971-10-09  \n",
       "1    600,000  108 minutes  Entertainment One 2012-08-17  \n",
       "2        NaN  116 minutes                NaN 1996-09-13  "
      ]
     },
     "execution_count": 32,
     "metadata": {},
     "output_type": "execute_result"
    }
   ],
   "source": [
    "dfrt = DATA['rt.movie_info.'].copy()\n",
    "dfrt['date_index'] = pd.to_datetime(dfrt['theater_date'])\n",
    "dfrt.head(3)"
   ]
  },
  {
   "cell_type": "code",
   "execution_count": 33,
   "metadata": {
    "ExecuteTime": {
     "end_time": "2020-05-31T16:42:56.695584Z",
     "start_time": "2020-05-31T16:42:56.678694Z"
    }
   },
   "outputs": [
    {
     "data": {
      "text/html": [
       "<div>\n",
       "<style scoped>\n",
       "    .dataframe tbody tr th:only-of-type {\n",
       "        vertical-align: middle;\n",
       "    }\n",
       "\n",
       "    .dataframe tbody tr th {\n",
       "        vertical-align: top;\n",
       "    }\n",
       "\n",
       "    .dataframe thead th {\n",
       "        text-align: right;\n",
       "    }\n",
       "</style>\n",
       "<table border=\"1\" class=\"dataframe\">\n",
       "  <thead>\n",
       "    <tr style=\"text-align: right;\">\n",
       "      <th></th>\n",
       "      <th>id</th>\n",
       "      <th>synopsis</th>\n",
       "      <th>rating</th>\n",
       "      <th>genre</th>\n",
       "      <th>director</th>\n",
       "      <th>writer</th>\n",
       "      <th>theater_date</th>\n",
       "      <th>dvd_date</th>\n",
       "      <th>currency</th>\n",
       "      <th>box_office</th>\n",
       "      <th>runtime</th>\n",
       "      <th>studio</th>\n",
       "      <th>date_index</th>\n",
       "    </tr>\n",
       "  </thead>\n",
       "  <tbody>\n",
       "    <tr>\n",
       "      <th>0</th>\n",
       "      <td>1</td>\n",
       "      <td>This gritty, fast-paced, and innovative police...</td>\n",
       "      <td>R</td>\n",
       "      <td>Action and Adventure|Classics|Drama</td>\n",
       "      <td>William Friedkin</td>\n",
       "      <td>Ernest Tidyman</td>\n",
       "      <td>Oct 9, 1971</td>\n",
       "      <td>Sep 25, 2001</td>\n",
       "      <td>NaN</td>\n",
       "      <td>NaN</td>\n",
       "      <td>104.0</td>\n",
       "      <td>NaN</td>\n",
       "      <td>1971-10-09</td>\n",
       "    </tr>\n",
       "    <tr>\n",
       "      <th>1</th>\n",
       "      <td>3</td>\n",
       "      <td>New York City, not-too-distant-future: Eric Pa...</td>\n",
       "      <td>R</td>\n",
       "      <td>Drama|Science Fiction and Fantasy</td>\n",
       "      <td>David Cronenberg</td>\n",
       "      <td>David Cronenberg|Don DeLillo</td>\n",
       "      <td>Aug 17, 2012</td>\n",
       "      <td>Jan 1, 2013</td>\n",
       "      <td>$</td>\n",
       "      <td>600,000</td>\n",
       "      <td>108.0</td>\n",
       "      <td>Entertainment One</td>\n",
       "      <td>2012-08-17</td>\n",
       "    </tr>\n",
       "    <tr>\n",
       "      <th>2</th>\n",
       "      <td>5</td>\n",
       "      <td>Illeana Douglas delivers a superb performance ...</td>\n",
       "      <td>R</td>\n",
       "      <td>Drama|Musical and Performing Arts</td>\n",
       "      <td>Allison Anders</td>\n",
       "      <td>Allison Anders</td>\n",
       "      <td>Sep 13, 1996</td>\n",
       "      <td>Apr 18, 2000</td>\n",
       "      <td>NaN</td>\n",
       "      <td>NaN</td>\n",
       "      <td>116.0</td>\n",
       "      <td>NaN</td>\n",
       "      <td>1996-09-13</td>\n",
       "    </tr>\n",
       "    <tr>\n",
       "      <th>3</th>\n",
       "      <td>6</td>\n",
       "      <td>Michael Douglas runs afoul of a treacherous su...</td>\n",
       "      <td>R</td>\n",
       "      <td>Drama|Mystery and Suspense</td>\n",
       "      <td>Barry Levinson</td>\n",
       "      <td>Paul Attanasio|Michael Crichton</td>\n",
       "      <td>Dec 9, 1994</td>\n",
       "      <td>Aug 27, 1997</td>\n",
       "      <td>NaN</td>\n",
       "      <td>NaN</td>\n",
       "      <td>128.0</td>\n",
       "      <td>NaN</td>\n",
       "      <td>1994-12-09</td>\n",
       "    </tr>\n",
       "    <tr>\n",
       "      <th>4</th>\n",
       "      <td>7</td>\n",
       "      <td>NaN</td>\n",
       "      <td>NR</td>\n",
       "      <td>Drama|Romance</td>\n",
       "      <td>Rodney Bennett</td>\n",
       "      <td>Giles Cooper</td>\n",
       "      <td>NaN</td>\n",
       "      <td>NaN</td>\n",
       "      <td>NaN</td>\n",
       "      <td>NaN</td>\n",
       "      <td>200.0</td>\n",
       "      <td>NaN</td>\n",
       "      <td>NaT</td>\n",
       "    </tr>\n",
       "  </tbody>\n",
       "</table>\n",
       "</div>"
      ],
      "text/plain": [
       "   id                                           synopsis rating  \\\n",
       "0   1  This gritty, fast-paced, and innovative police...      R   \n",
       "1   3  New York City, not-too-distant-future: Eric Pa...      R   \n",
       "2   5  Illeana Douglas delivers a superb performance ...      R   \n",
       "3   6  Michael Douglas runs afoul of a treacherous su...      R   \n",
       "4   7                                                NaN     NR   \n",
       "\n",
       "                                 genre          director  \\\n",
       "0  Action and Adventure|Classics|Drama  William Friedkin   \n",
       "1    Drama|Science Fiction and Fantasy  David Cronenberg   \n",
       "2    Drama|Musical and Performing Arts    Allison Anders   \n",
       "3           Drama|Mystery and Suspense    Barry Levinson   \n",
       "4                        Drama|Romance    Rodney Bennett   \n",
       "\n",
       "                            writer  theater_date      dvd_date currency  \\\n",
       "0                   Ernest Tidyman   Oct 9, 1971  Sep 25, 2001      NaN   \n",
       "1     David Cronenberg|Don DeLillo  Aug 17, 2012   Jan 1, 2013        $   \n",
       "2                   Allison Anders  Sep 13, 1996  Apr 18, 2000      NaN   \n",
       "3  Paul Attanasio|Michael Crichton   Dec 9, 1994  Aug 27, 1997      NaN   \n",
       "4                     Giles Cooper           NaN           NaN      NaN   \n",
       "\n",
       "  box_office  runtime             studio date_index  \n",
       "0        NaN    104.0                NaN 1971-10-09  \n",
       "1    600,000    108.0  Entertainment One 2012-08-17  \n",
       "2        NaN    116.0                NaN 1996-09-13  \n",
       "3        NaN    128.0                NaN 1994-12-09  \n",
       "4        NaN    200.0                NaN        NaT  "
      ]
     },
     "execution_count": 33,
     "metadata": {},
     "output_type": "execute_result"
    }
   ],
   "source": [
    "## ADDRESS NUMERIC COLUMNS TO CONVERT\n",
    "dfrt['runtime'] = dfrt['runtime'].str.replace(' minutes','').astype(float)\n",
    "dfrt.head()"
   ]
  },
  {
   "cell_type": "code",
   "execution_count": 34,
   "metadata": {
    "ExecuteTime": {
     "end_time": "2020-05-31T16:42:56.700059Z",
     "start_time": "2020-05-31T16:42:56.697130Z"
    }
   },
   "outputs": [
    {
     "data": {
      "text/plain": [
       "(1560, 13)"
      ]
     },
     "execution_count": 34,
     "metadata": {},
     "output_type": "execute_result"
    }
   ],
   "source": [
    "dfrt.shape"
   ]
  },
  {
   "cell_type": "code",
   "execution_count": 35,
   "metadata": {
    "ExecuteTime": {
     "end_time": "2020-05-31T16:42:56.710523Z",
     "start_time": "2020-05-31T16:42:56.701322Z"
    }
   },
   "outputs": [
    {
     "data": {
      "text/html": [
       "<div>\n",
       "<style scoped>\n",
       "    .dataframe tbody tr th:only-of-type {\n",
       "        vertical-align: middle;\n",
       "    }\n",
       "\n",
       "    .dataframe tbody tr th {\n",
       "        vertical-align: top;\n",
       "    }\n",
       "\n",
       "    .dataframe thead th {\n",
       "        text-align: right;\n",
       "    }\n",
       "</style>\n",
       "<table border=\"1\" class=\"dataframe\">\n",
       "  <thead>\n",
       "    <tr style=\"text-align: right;\">\n",
       "      <th></th>\n",
       "      <th>id</th>\n",
       "      <th>release_date</th>\n",
       "      <th>movie</th>\n",
       "      <th>production_budget</th>\n",
       "      <th>domestic_gross</th>\n",
       "      <th>worldwide_gross</th>\n",
       "    </tr>\n",
       "  </thead>\n",
       "  <tbody>\n",
       "    <tr>\n",
       "      <th>0</th>\n",
       "      <td>1</td>\n",
       "      <td>Dec 18, 2009</td>\n",
       "      <td>Avatar</td>\n",
       "      <td>$425,000,000</td>\n",
       "      <td>$760,507,625</td>\n",
       "      <td>$2,776,345,279</td>\n",
       "    </tr>\n",
       "    <tr>\n",
       "      <th>1</th>\n",
       "      <td>2</td>\n",
       "      <td>May 20, 2011</td>\n",
       "      <td>Pirates of the Caribbean: On Stranger Tides</td>\n",
       "      <td>$410,600,000</td>\n",
       "      <td>$241,063,875</td>\n",
       "      <td>$1,045,663,875</td>\n",
       "    </tr>\n",
       "    <tr>\n",
       "      <th>2</th>\n",
       "      <td>3</td>\n",
       "      <td>Jun 7, 2019</td>\n",
       "      <td>Dark Phoenix</td>\n",
       "      <td>$350,000,000</td>\n",
       "      <td>$42,762,350</td>\n",
       "      <td>$149,762,350</td>\n",
       "    </tr>\n",
       "    <tr>\n",
       "      <th>3</th>\n",
       "      <td>4</td>\n",
       "      <td>May 1, 2015</td>\n",
       "      <td>Avengers: Age of Ultron</td>\n",
       "      <td>$330,600,000</td>\n",
       "      <td>$459,005,868</td>\n",
       "      <td>$1,403,013,963</td>\n",
       "    </tr>\n",
       "    <tr>\n",
       "      <th>4</th>\n",
       "      <td>5</td>\n",
       "      <td>Dec 15, 2017</td>\n",
       "      <td>Star Wars Ep. VIII: The Last Jedi</td>\n",
       "      <td>$317,000,000</td>\n",
       "      <td>$620,181,382</td>\n",
       "      <td>$1,316,721,747</td>\n",
       "    </tr>\n",
       "  </tbody>\n",
       "</table>\n",
       "</div>"
      ],
      "text/plain": [
       "   id  release_date                                        movie  \\\n",
       "0   1  Dec 18, 2009                                       Avatar   \n",
       "1   2  May 20, 2011  Pirates of the Caribbean: On Stranger Tides   \n",
       "2   3   Jun 7, 2019                                 Dark Phoenix   \n",
       "3   4   May 1, 2015                      Avengers: Age of Ultron   \n",
       "4   5  Dec 15, 2017            Star Wars Ep. VIII: The Last Jedi   \n",
       "\n",
       "  production_budget domestic_gross worldwide_gross  \n",
       "0      $425,000,000   $760,507,625  $2,776,345,279  \n",
       "1      $410,600,000   $241,063,875  $1,045,663,875  \n",
       "2      $350,000,000    $42,762,350    $149,762,350  \n",
       "3      $330,600,000   $459,005,868  $1,403,013,963  \n",
       "4      $317,000,000   $620,181,382  $1,316,721,747  "
      ]
     },
     "execution_count": 35,
     "metadata": {},
     "output_type": "execute_result"
    }
   ],
   "source": [
    "tn_budgets = DATA['tn.movie_budgets'].copy()\n",
    "tn_budgets.head()"
   ]
  },
  {
   "cell_type": "code",
   "execution_count": 36,
   "metadata": {
    "ExecuteTime": {
     "end_time": "2020-05-31T16:42:56.747199Z",
     "start_time": "2020-05-31T16:42:56.711834Z"
    }
   },
   "outputs": [
    {
     "data": {
      "text/html": [
       "<div>\n",
       "<style scoped>\n",
       "    .dataframe tbody tr th:only-of-type {\n",
       "        vertical-align: middle;\n",
       "    }\n",
       "\n",
       "    .dataframe tbody tr th {\n",
       "        vertical-align: top;\n",
       "    }\n",
       "\n",
       "    .dataframe thead th {\n",
       "        text-align: right;\n",
       "    }\n",
       "</style>\n",
       "<table border=\"1\" class=\"dataframe\">\n",
       "  <thead>\n",
       "    <tr style=\"text-align: right;\">\n",
       "      <th></th>\n",
       "      <th>id</th>\n",
       "      <th>release_date</th>\n",
       "      <th>movie</th>\n",
       "      <th>production_budget</th>\n",
       "      <th>domestic_gross</th>\n",
       "      <th>worldwide_gross</th>\n",
       "    </tr>\n",
       "  </thead>\n",
       "  <tbody>\n",
       "    <tr>\n",
       "      <th>0</th>\n",
       "      <td>1</td>\n",
       "      <td>Dec 18, 2009</td>\n",
       "      <td>Avatar</td>\n",
       "      <td>425000000</td>\n",
       "      <td>760507625</td>\n",
       "      <td>2776345279</td>\n",
       "    </tr>\n",
       "    <tr>\n",
       "      <th>1</th>\n",
       "      <td>2</td>\n",
       "      <td>May 20, 2011</td>\n",
       "      <td>Pirates of the Caribbean: On Stranger Tides</td>\n",
       "      <td>410600000</td>\n",
       "      <td>241063875</td>\n",
       "      <td>1045663875</td>\n",
       "    </tr>\n",
       "    <tr>\n",
       "      <th>2</th>\n",
       "      <td>3</td>\n",
       "      <td>Jun 7, 2019</td>\n",
       "      <td>Dark Phoenix</td>\n",
       "      <td>350000000</td>\n",
       "      <td>42762350</td>\n",
       "      <td>149762350</td>\n",
       "    </tr>\n",
       "    <tr>\n",
       "      <th>3</th>\n",
       "      <td>4</td>\n",
       "      <td>May 1, 2015</td>\n",
       "      <td>Avengers: Age of Ultron</td>\n",
       "      <td>330600000</td>\n",
       "      <td>459005868</td>\n",
       "      <td>1403013963</td>\n",
       "    </tr>\n",
       "    <tr>\n",
       "      <th>4</th>\n",
       "      <td>5</td>\n",
       "      <td>Dec 15, 2017</td>\n",
       "      <td>Star Wars Ep. VIII: The Last Jedi</td>\n",
       "      <td>317000000</td>\n",
       "      <td>620181382</td>\n",
       "      <td>1316721747</td>\n",
       "    </tr>\n",
       "    <tr>\n",
       "      <th>...</th>\n",
       "      <td>...</td>\n",
       "      <td>...</td>\n",
       "      <td>...</td>\n",
       "      <td>...</td>\n",
       "      <td>...</td>\n",
       "      <td>...</td>\n",
       "    </tr>\n",
       "    <tr>\n",
       "      <th>5777</th>\n",
       "      <td>78</td>\n",
       "      <td>Dec 31, 2018</td>\n",
       "      <td>Red 11</td>\n",
       "      <td>7000</td>\n",
       "      <td>0</td>\n",
       "      <td>0</td>\n",
       "    </tr>\n",
       "    <tr>\n",
       "      <th>5778</th>\n",
       "      <td>79</td>\n",
       "      <td>Apr 2, 1999</td>\n",
       "      <td>Following</td>\n",
       "      <td>6000</td>\n",
       "      <td>48482</td>\n",
       "      <td>240495</td>\n",
       "    </tr>\n",
       "    <tr>\n",
       "      <th>5779</th>\n",
       "      <td>80</td>\n",
       "      <td>Jul 13, 2005</td>\n",
       "      <td>Return to the Land of Wonders</td>\n",
       "      <td>5000</td>\n",
       "      <td>1338</td>\n",
       "      <td>1338</td>\n",
       "    </tr>\n",
       "    <tr>\n",
       "      <th>5780</th>\n",
       "      <td>81</td>\n",
       "      <td>Sep 29, 2015</td>\n",
       "      <td>A Plague So Pleasant</td>\n",
       "      <td>1400</td>\n",
       "      <td>0</td>\n",
       "      <td>0</td>\n",
       "    </tr>\n",
       "    <tr>\n",
       "      <th>5781</th>\n",
       "      <td>82</td>\n",
       "      <td>Aug 5, 2005</td>\n",
       "      <td>My Date With Drew</td>\n",
       "      <td>1100</td>\n",
       "      <td>181041</td>\n",
       "      <td>181041</td>\n",
       "    </tr>\n",
       "  </tbody>\n",
       "</table>\n",
       "<p>5782 rows × 6 columns</p>\n",
       "</div>"
      ],
      "text/plain": [
       "      id  release_date                                        movie  \\\n",
       "0      1  Dec 18, 2009                                       Avatar   \n",
       "1      2  May 20, 2011  Pirates of the Caribbean: On Stranger Tides   \n",
       "2      3   Jun 7, 2019                                 Dark Phoenix   \n",
       "3      4   May 1, 2015                      Avengers: Age of Ultron   \n",
       "4      5  Dec 15, 2017            Star Wars Ep. VIII: The Last Jedi   \n",
       "...   ..           ...                                          ...   \n",
       "5777  78  Dec 31, 2018                                       Red 11   \n",
       "5778  79   Apr 2, 1999                                    Following   \n",
       "5779  80  Jul 13, 2005                Return to the Land of Wonders   \n",
       "5780  81  Sep 29, 2015                         A Plague So Pleasant   \n",
       "5781  82   Aug 5, 2005                            My Date With Drew   \n",
       "\n",
       "      production_budget  domestic_gross  worldwide_gross  \n",
       "0             425000000       760507625       2776345279  \n",
       "1             410600000       241063875       1045663875  \n",
       "2             350000000        42762350        149762350  \n",
       "3             330600000       459005868       1403013963  \n",
       "4             317000000       620181382       1316721747  \n",
       "...                 ...             ...              ...  \n",
       "5777               7000               0                0  \n",
       "5778               6000           48482           240495  \n",
       "5779               5000            1338             1338  \n",
       "5780               1400               0                0  \n",
       "5781               1100          181041           181041  \n",
       "\n",
       "[5782 rows x 6 columns]"
      ]
     },
     "execution_count": 36,
     "metadata": {},
     "output_type": "execute_result"
    }
   ],
   "source": [
    "## Fix Currency\n",
    "num_cols = ['production_budget','domestic_gross','worldwide_gross']\n",
    "for col in num_cols:\n",
    "    tn_budgets[col] = pd.to_numeric(tn_budgets[col].apply(lambda x: x.replace('$','').replace(',','')))#,errors='coerce')\n",
    "    \n",
    "tn_budgets"
   ]
  },
  {
   "cell_type": "markdown",
   "metadata": {},
   "source": [
    "### Make df1"
   ]
  },
  {
   "cell_type": "code",
   "execution_count": 37,
   "metadata": {
    "ExecuteTime": {
     "end_time": "2020-05-31T16:42:57.385411Z",
     "start_time": "2020-05-31T16:42:56.748701Z"
    }
   },
   "outputs": [
    {
     "data": {
      "text/html": [
       "<div>\n",
       "<style scoped>\n",
       "    .dataframe tbody tr th:only-of-type {\n",
       "        vertical-align: middle;\n",
       "    }\n",
       "\n",
       "    .dataframe tbody tr th {\n",
       "        vertical-align: top;\n",
       "    }\n",
       "\n",
       "    .dataframe thead th {\n",
       "        text-align: right;\n",
       "    }\n",
       "</style>\n",
       "<table border=\"1\" class=\"dataframe\">\n",
       "  <thead>\n",
       "    <tr style=\"text-align: right;\">\n",
       "      <th></th>\n",
       "      <th>id_x</th>\n",
       "      <th>synopsis</th>\n",
       "      <th>rating</th>\n",
       "      <th>genre</th>\n",
       "      <th>director</th>\n",
       "      <th>writer</th>\n",
       "      <th>theater_date</th>\n",
       "      <th>dvd_date</th>\n",
       "      <th>currency</th>\n",
       "      <th>box_office</th>\n",
       "      <th>runtime</th>\n",
       "      <th>studio</th>\n",
       "      <th>date_index</th>\n",
       "      <th>index</th>\n",
       "      <th>id_y</th>\n",
       "      <th>release_date</th>\n",
       "      <th>movie</th>\n",
       "      <th>production_budget</th>\n",
       "      <th>domestic_gross</th>\n",
       "      <th>worldwide_gross</th>\n",
       "    </tr>\n",
       "  </thead>\n",
       "  <tbody>\n",
       "    <tr>\n",
       "      <th>0</th>\n",
       "      <td>1</td>\n",
       "      <td>This gritty, fast-paced, and innovative police...</td>\n",
       "      <td>R</td>\n",
       "      <td>Action and Adventure|Classics|Drama</td>\n",
       "      <td>William Friedkin</td>\n",
       "      <td>Ernest Tidyman</td>\n",
       "      <td>Oct 9, 1971</td>\n",
       "      <td>Sep 25, 2001</td>\n",
       "      <td>NaN</td>\n",
       "      <td>NaN</td>\n",
       "      <td>104.0</td>\n",
       "      <td>NaN</td>\n",
       "      <td>1971-10-09</td>\n",
       "      <td>1971-10-09</td>\n",
       "      <td>71</td>\n",
       "      <td>Oct 9, 1971</td>\n",
       "      <td>The French Connection</td>\n",
       "      <td>2200000</td>\n",
       "      <td>41158757</td>\n",
       "      <td>41158757</td>\n",
       "    </tr>\n",
       "    <tr>\n",
       "      <th>1</th>\n",
       "      <td>3</td>\n",
       "      <td>New York City, not-too-distant-future: Eric Pa...</td>\n",
       "      <td>R</td>\n",
       "      <td>Drama|Science Fiction and Fantasy</td>\n",
       "      <td>David Cronenberg</td>\n",
       "      <td>David Cronenberg|Don DeLillo</td>\n",
       "      <td>Aug 17, 2012</td>\n",
       "      <td>Jan 1, 2013</td>\n",
       "      <td>$</td>\n",
       "      <td>600,000</td>\n",
       "      <td>108.0</td>\n",
       "      <td>Entertainment One</td>\n",
       "      <td>2012-08-17</td>\n",
       "      <td>2012-08-17</td>\n",
       "      <td>81</td>\n",
       "      <td>Aug 17, 2012</td>\n",
       "      <td>The Expendables 2</td>\n",
       "      <td>100000000</td>\n",
       "      <td>85028192</td>\n",
       "      <td>311979256</td>\n",
       "    </tr>\n",
       "    <tr>\n",
       "      <th>2</th>\n",
       "      <td>3</td>\n",
       "      <td>New York City, not-too-distant-future: Eric Pa...</td>\n",
       "      <td>R</td>\n",
       "      <td>Drama|Science Fiction and Fantasy</td>\n",
       "      <td>David Cronenberg</td>\n",
       "      <td>David Cronenberg|Don DeLillo</td>\n",
       "      <td>Aug 17, 2012</td>\n",
       "      <td>Jan 1, 2013</td>\n",
       "      <td>$</td>\n",
       "      <td>600,000</td>\n",
       "      <td>108.0</td>\n",
       "      <td>Entertainment One</td>\n",
       "      <td>2012-08-17</td>\n",
       "      <td>2012-08-17</td>\n",
       "      <td>89</td>\n",
       "      <td>Aug 17, 2012</td>\n",
       "      <td>ParaNorman</td>\n",
       "      <td>60000000</td>\n",
       "      <td>56003051</td>\n",
       "      <td>108119662</td>\n",
       "    </tr>\n",
       "    <tr>\n",
       "      <th>3</th>\n",
       "      <td>3</td>\n",
       "      <td>New York City, not-too-distant-future: Eric Pa...</td>\n",
       "      <td>R</td>\n",
       "      <td>Drama|Science Fiction and Fantasy</td>\n",
       "      <td>David Cronenberg</td>\n",
       "      <td>David Cronenberg|Don DeLillo</td>\n",
       "      <td>Aug 17, 2012</td>\n",
       "      <td>Jan 1, 2013</td>\n",
       "      <td>$</td>\n",
       "      <td>600,000</td>\n",
       "      <td>108.0</td>\n",
       "      <td>Entertainment One</td>\n",
       "      <td>2012-08-17</td>\n",
       "      <td>2012-08-17</td>\n",
       "      <td>96</td>\n",
       "      <td>Aug 17, 2012</td>\n",
       "      <td>Sparkle</td>\n",
       "      <td>10000000</td>\n",
       "      <td>24397469</td>\n",
       "      <td>24660323</td>\n",
       "    </tr>\n",
       "    <tr>\n",
       "      <th>4</th>\n",
       "      <td>3</td>\n",
       "      <td>New York City, not-too-distant-future: Eric Pa...</td>\n",
       "      <td>R</td>\n",
       "      <td>Drama|Science Fiction and Fantasy</td>\n",
       "      <td>David Cronenberg</td>\n",
       "      <td>David Cronenberg|Don DeLillo</td>\n",
       "      <td>Aug 17, 2012</td>\n",
       "      <td>Jan 1, 2013</td>\n",
       "      <td>$</td>\n",
       "      <td>600,000</td>\n",
       "      <td>108.0</td>\n",
       "      <td>Entertainment One</td>\n",
       "      <td>2012-08-17</td>\n",
       "      <td>2012-08-17</td>\n",
       "      <td>4</td>\n",
       "      <td>Aug 17, 2012</td>\n",
       "      <td>The Awakening</td>\n",
       "      <td>4900000</td>\n",
       "      <td>95933</td>\n",
       "      <td>6924321</td>\n",
       "    </tr>\n",
       "    <tr>\n",
       "      <th>...</th>\n",
       "      <td>...</td>\n",
       "      <td>...</td>\n",
       "      <td>...</td>\n",
       "      <td>...</td>\n",
       "      <td>...</td>\n",
       "      <td>...</td>\n",
       "      <td>...</td>\n",
       "      <td>...</td>\n",
       "      <td>...</td>\n",
       "      <td>...</td>\n",
       "      <td>...</td>\n",
       "      <td>...</td>\n",
       "      <td>...</td>\n",
       "      <td>...</td>\n",
       "      <td>...</td>\n",
       "      <td>...</td>\n",
       "      <td>...</td>\n",
       "      <td>...</td>\n",
       "      <td>...</td>\n",
       "      <td>...</td>\n",
       "    </tr>\n",
       "    <tr>\n",
       "      <th>2067</th>\n",
       "      <td>1995</td>\n",
       "      <td>Special government agent James West, long on c...</td>\n",
       "      <td>PG-13</td>\n",
       "      <td>Action and Adventure|Comedy|Western</td>\n",
       "      <td>Barry Sonnenfeld</td>\n",
       "      <td>NaN</td>\n",
       "      <td>Jun 30, 1999</td>\n",
       "      <td>Nov 30, 1999</td>\n",
       "      <td>NaN</td>\n",
       "      <td>NaN</td>\n",
       "      <td>107.0</td>\n",
       "      <td>Warner Bros. Pictures</td>\n",
       "      <td>1999-06-30</td>\n",
       "      <td>1999-06-30</td>\n",
       "      <td>62</td>\n",
       "      <td>Jun 30, 1999</td>\n",
       "      <td>South Park: Bigger, Longer &amp; Uncut</td>\n",
       "      <td>21000000</td>\n",
       "      <td>52037603</td>\n",
       "      <td>52037603</td>\n",
       "    </tr>\n",
       "    <tr>\n",
       "      <th>2068</th>\n",
       "      <td>1996</td>\n",
       "      <td>Forget terrorists or hijackers -- there's a ha...</td>\n",
       "      <td>R</td>\n",
       "      <td>Action and Adventure|Horror|Mystery and Suspense</td>\n",
       "      <td>NaN</td>\n",
       "      <td>NaN</td>\n",
       "      <td>Aug 18, 2006</td>\n",
       "      <td>Jan 2, 2007</td>\n",
       "      <td>$</td>\n",
       "      <td>33,886,034</td>\n",
       "      <td>106.0</td>\n",
       "      <td>New Line Cinema</td>\n",
       "      <td>2006-08-18</td>\n",
       "      <td>2006-08-18</td>\n",
       "      <td>75</td>\n",
       "      <td>Aug 18, 2006</td>\n",
       "      <td>Snakes on a Plane</td>\n",
       "      <td>33000000</td>\n",
       "      <td>34020814</td>\n",
       "      <td>62020814</td>\n",
       "    </tr>\n",
       "    <tr>\n",
       "      <th>2069</th>\n",
       "      <td>1996</td>\n",
       "      <td>Forget terrorists or hijackers -- there's a ha...</td>\n",
       "      <td>R</td>\n",
       "      <td>Action and Adventure|Horror|Mystery and Suspense</td>\n",
       "      <td>NaN</td>\n",
       "      <td>NaN</td>\n",
       "      <td>Aug 18, 2006</td>\n",
       "      <td>Jan 2, 2007</td>\n",
       "      <td>$</td>\n",
       "      <td>33,886,034</td>\n",
       "      <td>106.0</td>\n",
       "      <td>New Line Cinema</td>\n",
       "      <td>2006-08-18</td>\n",
       "      <td>2006-08-18</td>\n",
       "      <td>22</td>\n",
       "      <td>Aug 18, 2006</td>\n",
       "      <td>The Illusionist</td>\n",
       "      <td>16500000</td>\n",
       "      <td>39868642</td>\n",
       "      <td>83792062</td>\n",
       "    </tr>\n",
       "    <tr>\n",
       "      <th>2070</th>\n",
       "      <td>1996</td>\n",
       "      <td>Forget terrorists or hijackers -- there's a ha...</td>\n",
       "      <td>R</td>\n",
       "      <td>Action and Adventure|Horror|Mystery and Suspense</td>\n",
       "      <td>NaN</td>\n",
       "      <td>NaN</td>\n",
       "      <td>Aug 18, 2006</td>\n",
       "      <td>Jan 2, 2007</td>\n",
       "      <td>$</td>\n",
       "      <td>33,886,034</td>\n",
       "      <td>106.0</td>\n",
       "      <td>New Line Cinema</td>\n",
       "      <td>2006-08-18</td>\n",
       "      <td>2006-08-18</td>\n",
       "      <td>6</td>\n",
       "      <td>Aug 18, 2006</td>\n",
       "      <td>Trust the Man</td>\n",
       "      <td>9000000</td>\n",
       "      <td>1530535</td>\n",
       "      <td>2548378</td>\n",
       "    </tr>\n",
       "    <tr>\n",
       "      <th>2071</th>\n",
       "      <td>1996</td>\n",
       "      <td>Forget terrorists or hijackers -- there's a ha...</td>\n",
       "      <td>R</td>\n",
       "      <td>Action and Adventure|Horror|Mystery and Suspense</td>\n",
       "      <td>NaN</td>\n",
       "      <td>NaN</td>\n",
       "      <td>Aug 18, 2006</td>\n",
       "      <td>Jan 2, 2007</td>\n",
       "      <td>$</td>\n",
       "      <td>33,886,034</td>\n",
       "      <td>106.0</td>\n",
       "      <td>New Line Cinema</td>\n",
       "      <td>2006-08-18</td>\n",
       "      <td>2006-08-18</td>\n",
       "      <td>32</td>\n",
       "      <td>Aug 18, 2006</td>\n",
       "      <td>10th &amp; Wolf</td>\n",
       "      <td>8000000</td>\n",
       "      <td>54702</td>\n",
       "      <td>143782</td>\n",
       "    </tr>\n",
       "  </tbody>\n",
       "</table>\n",
       "<p>2072 rows × 20 columns</p>\n",
       "</div>"
      ],
      "text/plain": [
       "      id_x                                           synopsis rating  \\\n",
       "0        1  This gritty, fast-paced, and innovative police...      R   \n",
       "1        3  New York City, not-too-distant-future: Eric Pa...      R   \n",
       "2        3  New York City, not-too-distant-future: Eric Pa...      R   \n",
       "3        3  New York City, not-too-distant-future: Eric Pa...      R   \n",
       "4        3  New York City, not-too-distant-future: Eric Pa...      R   \n",
       "...    ...                                                ...    ...   \n",
       "2067  1995  Special government agent James West, long on c...  PG-13   \n",
       "2068  1996  Forget terrorists or hijackers -- there's a ha...      R   \n",
       "2069  1996  Forget terrorists or hijackers -- there's a ha...      R   \n",
       "2070  1996  Forget terrorists or hijackers -- there's a ha...      R   \n",
       "2071  1996  Forget terrorists or hijackers -- there's a ha...      R   \n",
       "\n",
       "                                                 genre          director  \\\n",
       "0                  Action and Adventure|Classics|Drama  William Friedkin   \n",
       "1                    Drama|Science Fiction and Fantasy  David Cronenberg   \n",
       "2                    Drama|Science Fiction and Fantasy  David Cronenberg   \n",
       "3                    Drama|Science Fiction and Fantasy  David Cronenberg   \n",
       "4                    Drama|Science Fiction and Fantasy  David Cronenberg   \n",
       "...                                                ...               ...   \n",
       "2067               Action and Adventure|Comedy|Western  Barry Sonnenfeld   \n",
       "2068  Action and Adventure|Horror|Mystery and Suspense               NaN   \n",
       "2069  Action and Adventure|Horror|Mystery and Suspense               NaN   \n",
       "2070  Action and Adventure|Horror|Mystery and Suspense               NaN   \n",
       "2071  Action and Adventure|Horror|Mystery and Suspense               NaN   \n",
       "\n",
       "                            writer  theater_date      dvd_date currency  \\\n",
       "0                   Ernest Tidyman   Oct 9, 1971  Sep 25, 2001      NaN   \n",
       "1     David Cronenberg|Don DeLillo  Aug 17, 2012   Jan 1, 2013        $   \n",
       "2     David Cronenberg|Don DeLillo  Aug 17, 2012   Jan 1, 2013        $   \n",
       "3     David Cronenberg|Don DeLillo  Aug 17, 2012   Jan 1, 2013        $   \n",
       "4     David Cronenberg|Don DeLillo  Aug 17, 2012   Jan 1, 2013        $   \n",
       "...                            ...           ...           ...      ...   \n",
       "2067                           NaN  Jun 30, 1999  Nov 30, 1999      NaN   \n",
       "2068                           NaN  Aug 18, 2006   Jan 2, 2007        $   \n",
       "2069                           NaN  Aug 18, 2006   Jan 2, 2007        $   \n",
       "2070                           NaN  Aug 18, 2006   Jan 2, 2007        $   \n",
       "2071                           NaN  Aug 18, 2006   Jan 2, 2007        $   \n",
       "\n",
       "      box_office  runtime                 studio date_index      index  id_y  \\\n",
       "0            NaN    104.0                    NaN 1971-10-09 1971-10-09    71   \n",
       "1        600,000    108.0      Entertainment One 2012-08-17 2012-08-17    81   \n",
       "2        600,000    108.0      Entertainment One 2012-08-17 2012-08-17    89   \n",
       "3        600,000    108.0      Entertainment One 2012-08-17 2012-08-17    96   \n",
       "4        600,000    108.0      Entertainment One 2012-08-17 2012-08-17     4   \n",
       "...          ...      ...                    ...        ...        ...   ...   \n",
       "2067         NaN    107.0  Warner Bros. Pictures 1999-06-30 1999-06-30    62   \n",
       "2068  33,886,034    106.0        New Line Cinema 2006-08-18 2006-08-18    75   \n",
       "2069  33,886,034    106.0        New Line Cinema 2006-08-18 2006-08-18    22   \n",
       "2070  33,886,034    106.0        New Line Cinema 2006-08-18 2006-08-18     6   \n",
       "2071  33,886,034    106.0        New Line Cinema 2006-08-18 2006-08-18    32   \n",
       "\n",
       "      release_date                               movie  production_budget  \\\n",
       "0      Oct 9, 1971               The French Connection            2200000   \n",
       "1     Aug 17, 2012                   The Expendables 2          100000000   \n",
       "2     Aug 17, 2012                          ParaNorman           60000000   \n",
       "3     Aug 17, 2012                             Sparkle           10000000   \n",
       "4     Aug 17, 2012                       The Awakening            4900000   \n",
       "...            ...                                 ...                ...   \n",
       "2067  Jun 30, 1999  South Park: Bigger, Longer & Uncut           21000000   \n",
       "2068  Aug 18, 2006                   Snakes on a Plane           33000000   \n",
       "2069  Aug 18, 2006                     The Illusionist           16500000   \n",
       "2070  Aug 18, 2006                       Trust the Man            9000000   \n",
       "2071  Aug 18, 2006                         10th & Wolf            8000000   \n",
       "\n",
       "      domestic_gross  worldwide_gross  \n",
       "0           41158757         41158757  \n",
       "1           85028192        311979256  \n",
       "2           56003051        108119662  \n",
       "3           24397469         24660323  \n",
       "4              95933          6924321  \n",
       "...              ...              ...  \n",
       "2067        52037603         52037603  \n",
       "2068        34020814         62020814  \n",
       "2069        39868642         83792062  \n",
       "2070         1530535          2548378  \n",
       "2071           54702           143782  \n",
       "\n",
       "[2072 rows x 20 columns]"
      ]
     },
     "execution_count": 37,
     "metadata": {},
     "output_type": "execute_result"
    }
   ],
   "source": [
    "## Make indices as datetime to test merge\n",
    "left ='theater_date'\n",
    "right = 'release_date'\n",
    "\n",
    "rt_index = pd.to_datetime(dfrt[left])\n",
    "tn_index = pd.to_datetime(tn_budgets[right])\n",
    "\n",
    "dfrt['index'] = rt_index.copy()\n",
    "tn_budgets['index'] = tn_index.copy()\n",
    "\n",
    "## Merge idex \n",
    "df1= pd.merge(dfrt,tn_budgets, on='index')\n",
    "df1"
   ]
  },
  {
   "cell_type": "markdown",
   "metadata": {},
   "source": [
    "### Saving & Cleaning Main DF So Far"
   ]
  },
  {
   "cell_type": "code",
   "execution_count": 39,
   "metadata": {
    "ExecuteTime": {
     "end_time": "2020-05-31T16:43:26.726099Z",
     "start_time": "2020-05-31T16:43:26.723605Z"
    }
   },
   "outputs": [],
   "source": [
    "import os\n",
    "os.makedirs('data/',exist_ok=True)"
   ]
  },
  {
   "cell_type": "code",
   "execution_count": 40,
   "metadata": {
    "ExecuteTime": {
     "end_time": "2020-05-31T16:43:27.015190Z",
     "start_time": "2020-05-31T16:43:26.974681Z"
    }
   },
   "outputs": [
    {
     "name": "stdout",
     "output_type": "stream",
     "text": [
      "<class 'pandas.core.frame.DataFrame'>\n",
      "RangeIndex: 2072 entries, 0 to 2071\n",
      "Data columns (total 20 columns):\n",
      " #   Column             Non-Null Count  Dtype  \n",
      "---  ------             --------------  -----  \n",
      " 0   id_x               2072 non-null   int64  \n",
      " 1   synopsis           2071 non-null   object \n",
      " 2   rating             2072 non-null   object \n",
      " 3   genre              2072 non-null   object \n",
      " 4   director           1832 non-null   object \n",
      " 5   writer             1708 non-null   object \n",
      " 6   theater_date       2072 non-null   object \n",
      " 7   dvd_date           2072 non-null   object \n",
      " 8   currency           1207 non-null   object \n",
      " 9   box_office         1207 non-null   object \n",
      " 10  runtime            2057 non-null   float64\n",
      " 11  studio             1523 non-null   object \n",
      " 12  date_index         2072 non-null   object \n",
      " 13  index              2072 non-null   object \n",
      " 14  id_y               2072 non-null   int64  \n",
      " 15  release_date       2072 non-null   object \n",
      " 16  movie              2072 non-null   object \n",
      " 17  production_budget  2072 non-null   int64  \n",
      " 18  domestic_gross     2072 non-null   int64  \n",
      " 19  worldwide_gross    2072 non-null   int64  \n",
      "dtypes: float64(1), int64(5), object(14)\n",
      "memory usage: 323.9+ KB\n"
     ]
    }
   ],
   "source": [
    "# df1.to_csv('data/df1_rt_tn_merged.csv',index=False)\n",
    "df1=pd.read_csv('data/df1_rt_tn_merged.csv')\n",
    "df1.info()"
   ]
  },
  {
   "cell_type": "code",
   "execution_count": 41,
   "metadata": {
    "ExecuteTime": {
     "end_time": "2020-05-31T16:43:27.169764Z",
     "start_time": "2020-05-31T16:43:27.167150Z"
    }
   },
   "outputs": [],
   "source": [
    "plt.style.use('seaborn-talk')"
   ]
  },
  {
   "cell_type": "code",
   "execution_count": 42,
   "metadata": {
    "ExecuteTime": {
     "end_time": "2020-05-31T16:43:28.195076Z",
     "start_time": "2020-05-31T16:43:27.349841Z"
    }
   },
   "outputs": [
    {
     "data": {
      "text/plain": [
       "<matplotlib.axes._subplots.AxesSubplot at 0x1536aa240>"
      ]
     },
     "execution_count": 42,
     "metadata": {},
     "output_type": "execute_result"
    },
    {
     "data": {
      "image/png": "[encoded data removed]",
      "text/plain": [
       "<Figure size 1800x720 with 2 Axes>"
      ]
     },
     "metadata": {
      "needs_background": "light"
     },
     "output_type": "display_data"
    }
   ],
   "source": [
    "import missingno as ms\n",
    "ms.matrix(df1)"
   ]
  },
  {
   "cell_type": "code",
   "execution_count": 43,
   "metadata": {
    "ExecuteTime": {
     "end_time": "2020-05-31T16:43:28.198305Z",
     "start_time": "2020-05-31T16:43:28.196449Z"
    }
   },
   "outputs": [],
   "source": [
    "# df1.plot(kind='scatter',x='production_budget',y='domestic_gross')"
   ]
  },
  {
   "cell_type": "code",
   "execution_count": 44,
   "metadata": {
    "ExecuteTime": {
     "end_time": "2020-05-31T16:43:28.251656Z",
     "start_time": "2020-05-31T16:43:28.199751Z"
    }
   },
   "outputs": [
    {
     "data": {
      "text/html": [
       "<style  type=\"text/css\" >\n",
       "    #T_da911bfe_a35d_11ea_a600_acde48001122row0_col2 {\n",
       "            width:  10em;\n",
       "             height:  80%;\n",
       "        }    #T_da911bfe_a35d_11ea_a600_acde48001122row0_col3 {\n",
       "            background-color:  #fc8767;\n",
       "            color:  #000000;\n",
       "        }    #T_da911bfe_a35d_11ea_a600_acde48001122row1_col2 {\n",
       "            width:  10em;\n",
       "             height:  80%;\n",
       "            background:  linear-gradient(90deg,#d65f5f 0.1%, transparent 0.1%);\n",
       "        }    #T_da911bfe_a35d_11ea_a600_acde48001122row1_col3 {\n",
       "            background-color:  #fc8767;\n",
       "            color:  #000000;\n",
       "        }    #T_da911bfe_a35d_11ea_a600_acde48001122row2_col2 {\n",
       "            width:  10em;\n",
       "             height:  80%;\n",
       "        }    #T_da911bfe_a35d_11ea_a600_acde48001122row2_col3 {\n",
       "            background-color:  #fff5f0;\n",
       "            color:  #000000;\n",
       "        }    #T_da911bfe_a35d_11ea_a600_acde48001122row3_col2 {\n",
       "            width:  10em;\n",
       "             height:  80%;\n",
       "        }    #T_da911bfe_a35d_11ea_a600_acde48001122row3_col3 {\n",
       "            background-color:  #fee5d8;\n",
       "            color:  #000000;\n",
       "        }    #T_da911bfe_a35d_11ea_a600_acde48001122row4_col2 {\n",
       "            width:  10em;\n",
       "             height:  80%;\n",
       "            background:  linear-gradient(90deg,#d65f5f 27.7%, transparent 27.7%);\n",
       "        }    #T_da911bfe_a35d_11ea_a600_acde48001122row4_col3 {\n",
       "            background-color:  #fca486;\n",
       "            color:  #000000;\n",
       "        }    #T_da911bfe_a35d_11ea_a600_acde48001122row5_col2 {\n",
       "            width:  10em;\n",
       "             height:  80%;\n",
       "            background:  linear-gradient(90deg,#d65f5f 42.1%, transparent 42.1%);\n",
       "        }    #T_da911bfe_a35d_11ea_a600_acde48001122row5_col3 {\n",
       "            background-color:  #fca486;\n",
       "            color:  #000000;\n",
       "        }    #T_da911bfe_a35d_11ea_a600_acde48001122row6_col2 {\n",
       "            width:  10em;\n",
       "             height:  80%;\n",
       "        }    #T_da911bfe_a35d_11ea_a600_acde48001122row6_col3 {\n",
       "            background-color:  #fca082;\n",
       "            color:  #000000;\n",
       "        }    #T_da911bfe_a35d_11ea_a600_acde48001122row7_col2 {\n",
       "            width:  10em;\n",
       "             height:  80%;\n",
       "        }    #T_da911bfe_a35d_11ea_a600_acde48001122row7_col3 {\n",
       "            background-color:  #fcab8f;\n",
       "            color:  #000000;\n",
       "        }    #T_da911bfe_a35d_11ea_a600_acde48001122row8_col2 {\n",
       "            width:  10em;\n",
       "             height:  80%;\n",
       "            background:  linear-gradient(90deg,#d65f5f 100.0%, transparent 100.0%);\n",
       "        }    #T_da911bfe_a35d_11ea_a600_acde48001122row8_col3 {\n",
       "            background-color:  #fff5f0;\n",
       "            color:  #000000;\n",
       "        }    #T_da911bfe_a35d_11ea_a600_acde48001122row9_col2 {\n",
       "            width:  10em;\n",
       "             height:  80%;\n",
       "            background:  linear-gradient(90deg,#d65f5f 100.0%, transparent 100.0%);\n",
       "        }    #T_da911bfe_a35d_11ea_a600_acde48001122row9_col3 {\n",
       "            background-color:  #fdcebb;\n",
       "            color:  #000000;\n",
       "        }    #T_da911bfe_a35d_11ea_a600_acde48001122row10_col2 {\n",
       "            width:  10em;\n",
       "             height:  80%;\n",
       "            background:  linear-gradient(90deg,#d65f5f 1.7%, transparent 1.7%);\n",
       "        }    #T_da911bfe_a35d_11ea_a600_acde48001122row10_col3 {\n",
       "            background-color:  #ffece3;\n",
       "            color:  #000000;\n",
       "        }    #T_da911bfe_a35d_11ea_a600_acde48001122row11_col2 {\n",
       "            width:  10em;\n",
       "             height:  80%;\n",
       "            background:  linear-gradient(90deg,#d65f5f 63.5%, transparent 63.5%);\n",
       "        }    #T_da911bfe_a35d_11ea_a600_acde48001122row11_col3 {\n",
       "            background-color:  #fee5d9;\n",
       "            color:  #000000;\n",
       "        }    #T_da911bfe_a35d_11ea_a600_acde48001122row12_col2 {\n",
       "            width:  10em;\n",
       "             height:  80%;\n",
       "        }    #T_da911bfe_a35d_11ea_a600_acde48001122row12_col3 {\n",
       "            background-color:  #fca082;\n",
       "            color:  #000000;\n",
       "        }    #T_da911bfe_a35d_11ea_a600_acde48001122row13_col2 {\n",
       "            width:  10em;\n",
       "             height:  80%;\n",
       "        }    #T_da911bfe_a35d_11ea_a600_acde48001122row13_col3 {\n",
       "            background-color:  #fca082;\n",
       "            color:  #000000;\n",
       "        }    #T_da911bfe_a35d_11ea_a600_acde48001122row14_col2 {\n",
       "            width:  10em;\n",
       "             height:  80%;\n",
       "        }    #T_da911bfe_a35d_11ea_a600_acde48001122row14_col3 {\n",
       "            background-color:  #ffebe2;\n",
       "            color:  #000000;\n",
       "        }    #T_da911bfe_a35d_11ea_a600_acde48001122row15_col2 {\n",
       "            width:  10em;\n",
       "             height:  80%;\n",
       "        }    #T_da911bfe_a35d_11ea_a600_acde48001122row15_col3 {\n",
       "            background-color:  #fca082;\n",
       "            color:  #000000;\n",
       "        }    #T_da911bfe_a35d_11ea_a600_acde48001122row16_col2 {\n",
       "            width:  10em;\n",
       "             height:  80%;\n",
       "        }    #T_da911bfe_a35d_11ea_a600_acde48001122row16_col3 {\n",
       "            background-color:  #67000d;\n",
       "            color:  #f1f1f1;\n",
       "        }    #T_da911bfe_a35d_11ea_a600_acde48001122row17_col2 {\n",
       "            width:  10em;\n",
       "             height:  80%;\n",
       "        }    #T_da911bfe_a35d_11ea_a600_acde48001122row17_col3 {\n",
       "            background-color:  #fed8c7;\n",
       "            color:  #000000;\n",
       "        }    #T_da911bfe_a35d_11ea_a600_acde48001122row18_col2 {\n",
       "            width:  10em;\n",
       "             height:  80%;\n",
       "        }    #T_da911bfe_a35d_11ea_a600_acde48001122row18_col3 {\n",
       "            background-color:  #75030f;\n",
       "            color:  #f1f1f1;\n",
       "        }    #T_da911bfe_a35d_11ea_a600_acde48001122row19_col2 {\n",
       "            width:  10em;\n",
       "             height:  80%;\n",
       "        }    #T_da911bfe_a35d_11ea_a600_acde48001122row19_col3 {\n",
       "            background-color:  #6f020e;\n",
       "            color:  #f1f1f1;\n",
       "        }</style><table id=\"T_da911bfe_a35d_11ea_a600_acde48001122\" ><thead>    <tr>        <th class=\"blank level0\" ></th>        <th class=\"col_heading level0 col0\" >dtype</th>        <th class=\"col_heading level0 col1\" >num_null</th>        <th class=\"col_heading level0 col2\" >% null</th>        <th class=\"col_heading level0 col3\" >nunique</th>    </tr></thead><tbody>\n",
       "                <tr>\n",
       "                        <th id=\"T_da911bfe_a35d_11ea_a600_acde48001122level0_row0\" class=\"row_heading level0 row0\" >id_x</th>\n",
       "                        <td id=\"T_da911bfe_a35d_11ea_a600_acde48001122row0_col0\" class=\"data row0 col0\" >int64</td>\n",
       "                        <td id=\"T_da911bfe_a35d_11ea_a600_acde48001122row0_col1\" class=\"data row0 col1\" >0</td>\n",
       "                        <td id=\"T_da911bfe_a35d_11ea_a600_acde48001122row0_col2\" class=\"data row0 col2\" >0.000000</td>\n",
       "                        <td id=\"T_da911bfe_a35d_11ea_a600_acde48001122row0_col3\" class=\"data row0 col3\" >671</td>\n",
       "            </tr>\n",
       "            <tr>\n",
       "                        <th id=\"T_da911bfe_a35d_11ea_a600_acde48001122level0_row1\" class=\"row_heading level0 row1\" >synopsis</th>\n",
       "                        <td id=\"T_da911bfe_a35d_11ea_a600_acde48001122row1_col0\" class=\"data row1 col0\" >object</td>\n",
       "                        <td id=\"T_da911bfe_a35d_11ea_a600_acde48001122row1_col1\" class=\"data row1 col1\" >1</td>\n",
       "                        <td id=\"T_da911bfe_a35d_11ea_a600_acde48001122row1_col2\" class=\"data row1 col2\" >0.050000</td>\n",
       "                        <td id=\"T_da911bfe_a35d_11ea_a600_acde48001122row1_col3\" class=\"data row1 col3\" >669</td>\n",
       "            </tr>\n",
       "            <tr>\n",
       "                        <th id=\"T_da911bfe_a35d_11ea_a600_acde48001122level0_row2\" class=\"row_heading level0 row2\" >rating</th>\n",
       "                        <td id=\"T_da911bfe_a35d_11ea_a600_acde48001122row2_col0\" class=\"data row2 col0\" >object</td>\n",
       "                        <td id=\"T_da911bfe_a35d_11ea_a600_acde48001122row2_col1\" class=\"data row2 col1\" >0</td>\n",
       "                        <td id=\"T_da911bfe_a35d_11ea_a600_acde48001122row2_col2\" class=\"data row2 col2\" >0.000000</td>\n",
       "                        <td id=\"T_da911bfe_a35d_11ea_a600_acde48001122row2_col3\" class=\"data row2 col3\" >6</td>\n",
       "            </tr>\n",
       "            <tr>\n",
       "                        <th id=\"T_da911bfe_a35d_11ea_a600_acde48001122level0_row3\" class=\"row_heading level0 row3\" >genre</th>\n",
       "                        <td id=\"T_da911bfe_a35d_11ea_a600_acde48001122row3_col0\" class=\"data row3 col0\" >object</td>\n",
       "                        <td id=\"T_da911bfe_a35d_11ea_a600_acde48001122row3_col1\" class=\"data row3 col1\" >0</td>\n",
       "                        <td id=\"T_da911bfe_a35d_11ea_a600_acde48001122row3_col2\" class=\"data row3 col2\" >0.000000</td>\n",
       "                        <td id=\"T_da911bfe_a35d_11ea_a600_acde48001122row3_col3\" class=\"data row3 col3\" >162</td>\n",
       "            </tr>\n",
       "            <tr>\n",
       "                        <th id=\"T_da911bfe_a35d_11ea_a600_acde48001122level0_row4\" class=\"row_heading level0 row4\" >director</th>\n",
       "                        <td id=\"T_da911bfe_a35d_11ea_a600_acde48001122row4_col0\" class=\"data row4 col0\" >object</td>\n",
       "                        <td id=\"T_da911bfe_a35d_11ea_a600_acde48001122row4_col1\" class=\"data row4 col1\" >240</td>\n",
       "                        <td id=\"T_da911bfe_a35d_11ea_a600_acde48001122row4_col2\" class=\"data row4 col2\" >11.580000</td>\n",
       "                        <td id=\"T_da911bfe_a35d_11ea_a600_acde48001122row4_col3\" class=\"data row4 col3\" >527</td>\n",
       "            </tr>\n",
       "            <tr>\n",
       "                        <th id=\"T_da911bfe_a35d_11ea_a600_acde48001122level0_row5\" class=\"row_heading level0 row5\" >writer</th>\n",
       "                        <td id=\"T_da911bfe_a35d_11ea_a600_acde48001122row5_col0\" class=\"data row5 col0\" >object</td>\n",
       "                        <td id=\"T_da911bfe_a35d_11ea_a600_acde48001122row5_col1\" class=\"data row5 col1\" >364</td>\n",
       "                        <td id=\"T_da911bfe_a35d_11ea_a600_acde48001122row5_col2\" class=\"data row5 col2\" >17.570000</td>\n",
       "                        <td id=\"T_da911bfe_a35d_11ea_a600_acde48001122row5_col3\" class=\"data row5 col3\" >531</td>\n",
       "            </tr>\n",
       "            <tr>\n",
       "                        <th id=\"T_da911bfe_a35d_11ea_a600_acde48001122level0_row6\" class=\"row_heading level0 row6\" >theater_date</th>\n",
       "                        <td id=\"T_da911bfe_a35d_11ea_a600_acde48001122row6_col0\" class=\"data row6 col0\" >object</td>\n",
       "                        <td id=\"T_da911bfe_a35d_11ea_a600_acde48001122row6_col1\" class=\"data row6 col1\" >0</td>\n",
       "                        <td id=\"T_da911bfe_a35d_11ea_a600_acde48001122row6_col2\" class=\"data row6 col2\" >0.000000</td>\n",
       "                        <td id=\"T_da911bfe_a35d_11ea_a600_acde48001122row6_col3\" class=\"data row6 col3\" >550</td>\n",
       "            </tr>\n",
       "            <tr>\n",
       "                        <th id=\"T_da911bfe_a35d_11ea_a600_acde48001122level0_row7\" class=\"row_heading level0 row7\" >dvd_date</th>\n",
       "                        <td id=\"T_da911bfe_a35d_11ea_a600_acde48001122row7_col0\" class=\"data row7 col0\" >object</td>\n",
       "                        <td id=\"T_da911bfe_a35d_11ea_a600_acde48001122row7_col1\" class=\"data row7 col1\" >0</td>\n",
       "                        <td id=\"T_da911bfe_a35d_11ea_a600_acde48001122row7_col2\" class=\"data row7 col2\" >0.000000</td>\n",
       "                        <td id=\"T_da911bfe_a35d_11ea_a600_acde48001122row7_col3\" class=\"data row7 col3\" >492</td>\n",
       "            </tr>\n",
       "            <tr>\n",
       "                        <th id=\"T_da911bfe_a35d_11ea_a600_acde48001122level0_row8\" class=\"row_heading level0 row8\" >currency</th>\n",
       "                        <td id=\"T_da911bfe_a35d_11ea_a600_acde48001122row8_col0\" class=\"data row8 col0\" >object</td>\n",
       "                        <td id=\"T_da911bfe_a35d_11ea_a600_acde48001122row8_col1\" class=\"data row8 col1\" >865</td>\n",
       "                        <td id=\"T_da911bfe_a35d_11ea_a600_acde48001122row8_col2\" class=\"data row8 col2\" >41.750000</td>\n",
       "                        <td id=\"T_da911bfe_a35d_11ea_a600_acde48001122row8_col3\" class=\"data row8 col3\" >1</td>\n",
       "            </tr>\n",
       "            <tr>\n",
       "                        <th id=\"T_da911bfe_a35d_11ea_a600_acde48001122level0_row9\" class=\"row_heading level0 row9\" >box_office</th>\n",
       "                        <td id=\"T_da911bfe_a35d_11ea_a600_acde48001122row9_col0\" class=\"data row9 col0\" >object</td>\n",
       "                        <td id=\"T_da911bfe_a35d_11ea_a600_acde48001122row9_col1\" class=\"data row9 col1\" >865</td>\n",
       "                        <td id=\"T_da911bfe_a35d_11ea_a600_acde48001122row9_col2\" class=\"data row9 col2\" >41.750000</td>\n",
       "                        <td id=\"T_da911bfe_a35d_11ea_a600_acde48001122row9_col3\" class=\"data row9 col3\" >306</td>\n",
       "            </tr>\n",
       "            <tr>\n",
       "                        <th id=\"T_da911bfe_a35d_11ea_a600_acde48001122level0_row10\" class=\"row_heading level0 row10\" >runtime</th>\n",
       "                        <td id=\"T_da911bfe_a35d_11ea_a600_acde48001122row10_col0\" class=\"data row10 col0\" >float64</td>\n",
       "                        <td id=\"T_da911bfe_a35d_11ea_a600_acde48001122row10_col1\" class=\"data row10 col1\" >15</td>\n",
       "                        <td id=\"T_da911bfe_a35d_11ea_a600_acde48001122row10_col2\" class=\"data row10 col2\" >0.720000</td>\n",
       "                        <td id=\"T_da911bfe_a35d_11ea_a600_acde48001122row10_col3\" class=\"data row10 col3\" >93</td>\n",
       "            </tr>\n",
       "            <tr>\n",
       "                        <th id=\"T_da911bfe_a35d_11ea_a600_acde48001122level0_row11\" class=\"row_heading level0 row11\" >studio</th>\n",
       "                        <td id=\"T_da911bfe_a35d_11ea_a600_acde48001122row11_col0\" class=\"data row11 col0\" >object</td>\n",
       "                        <td id=\"T_da911bfe_a35d_11ea_a600_acde48001122row11_col1\" class=\"data row11 col1\" >549</td>\n",
       "                        <td id=\"T_da911bfe_a35d_11ea_a600_acde48001122row11_col2\" class=\"data row11 col2\" >26.500000</td>\n",
       "                        <td id=\"T_da911bfe_a35d_11ea_a600_acde48001122row11_col3\" class=\"data row11 col3\" >156</td>\n",
       "            </tr>\n",
       "            <tr>\n",
       "                        <th id=\"T_da911bfe_a35d_11ea_a600_acde48001122level0_row12\" class=\"row_heading level0 row12\" >date_index</th>\n",
       "                        <td id=\"T_da911bfe_a35d_11ea_a600_acde48001122row12_col0\" class=\"data row12 col0\" >object</td>\n",
       "                        <td id=\"T_da911bfe_a35d_11ea_a600_acde48001122row12_col1\" class=\"data row12 col1\" >0</td>\n",
       "                        <td id=\"T_da911bfe_a35d_11ea_a600_acde48001122row12_col2\" class=\"data row12 col2\" >0.000000</td>\n",
       "                        <td id=\"T_da911bfe_a35d_11ea_a600_acde48001122row12_col3\" class=\"data row12 col3\" >550</td>\n",
       "            </tr>\n",
       "            <tr>\n",
       "                        <th id=\"T_da911bfe_a35d_11ea_a600_acde48001122level0_row13\" class=\"row_heading level0 row13\" >index</th>\n",
       "                        <td id=\"T_da911bfe_a35d_11ea_a600_acde48001122row13_col0\" class=\"data row13 col0\" >object</td>\n",
       "                        <td id=\"T_da911bfe_a35d_11ea_a600_acde48001122row13_col1\" class=\"data row13 col1\" >0</td>\n",
       "                        <td id=\"T_da911bfe_a35d_11ea_a600_acde48001122row13_col2\" class=\"data row13 col2\" >0.000000</td>\n",
       "                        <td id=\"T_da911bfe_a35d_11ea_a600_acde48001122row13_col3\" class=\"data row13 col3\" >550</td>\n",
       "            </tr>\n",
       "            <tr>\n",
       "                        <th id=\"T_da911bfe_a35d_11ea_a600_acde48001122level0_row14\" class=\"row_heading level0 row14\" >id_y</th>\n",
       "                        <td id=\"T_da911bfe_a35d_11ea_a600_acde48001122row14_col0\" class=\"data row14 col0\" >int64</td>\n",
       "                        <td id=\"T_da911bfe_a35d_11ea_a600_acde48001122row14_col1\" class=\"data row14 col1\" >0</td>\n",
       "                        <td id=\"T_da911bfe_a35d_11ea_a600_acde48001122row14_col2\" class=\"data row14 col2\" >0.000000</td>\n",
       "                        <td id=\"T_da911bfe_a35d_11ea_a600_acde48001122row14_col3\" class=\"data row14 col3\" >100</td>\n",
       "            </tr>\n",
       "            <tr>\n",
       "                        <th id=\"T_da911bfe_a35d_11ea_a600_acde48001122level0_row15\" class=\"row_heading level0 row15\" >release_date</th>\n",
       "                        <td id=\"T_da911bfe_a35d_11ea_a600_acde48001122row15_col0\" class=\"data row15 col0\" >object</td>\n",
       "                        <td id=\"T_da911bfe_a35d_11ea_a600_acde48001122row15_col1\" class=\"data row15 col1\" >0</td>\n",
       "                        <td id=\"T_da911bfe_a35d_11ea_a600_acde48001122row15_col2\" class=\"data row15 col2\" >0.000000</td>\n",
       "                        <td id=\"T_da911bfe_a35d_11ea_a600_acde48001122row15_col3\" class=\"data row15 col3\" >550</td>\n",
       "            </tr>\n",
       "            <tr>\n",
       "                        <th id=\"T_da911bfe_a35d_11ea_a600_acde48001122level0_row16\" class=\"row_heading level0 row16\" >movie</th>\n",
       "                        <td id=\"T_da911bfe_a35d_11ea_a600_acde48001122row16_col0\" class=\"data row16 col0\" >object</td>\n",
       "                        <td id=\"T_da911bfe_a35d_11ea_a600_acde48001122row16_col1\" class=\"data row16 col1\" >0</td>\n",
       "                        <td id=\"T_da911bfe_a35d_11ea_a600_acde48001122row16_col2\" class=\"data row16 col2\" >0.000000</td>\n",
       "                        <td id=\"T_da911bfe_a35d_11ea_a600_acde48001122row16_col3\" class=\"data row16 col3\" >1643</td>\n",
       "            </tr>\n",
       "            <tr>\n",
       "                        <th id=\"T_da911bfe_a35d_11ea_a600_acde48001122level0_row17\" class=\"row_heading level0 row17\" >production_budget</th>\n",
       "                        <td id=\"T_da911bfe_a35d_11ea_a600_acde48001122row17_col0\" class=\"data row17 col0\" >int64</td>\n",
       "                        <td id=\"T_da911bfe_a35d_11ea_a600_acde48001122row17_col1\" class=\"data row17 col1\" >0</td>\n",
       "                        <td id=\"T_da911bfe_a35d_11ea_a600_acde48001122row17_col2\" class=\"data row17 col2\" >0.000000</td>\n",
       "                        <td id=\"T_da911bfe_a35d_11ea_a600_acde48001122row17_col3\" class=\"data row17 col3\" >253</td>\n",
       "            </tr>\n",
       "            <tr>\n",
       "                        <th id=\"T_da911bfe_a35d_11ea_a600_acde48001122level0_row18\" class=\"row_heading level0 row18\" >domestic_gross</th>\n",
       "                        <td id=\"T_da911bfe_a35d_11ea_a600_acde48001122row18_col0\" class=\"data row18 col0\" >int64</td>\n",
       "                        <td id=\"T_da911bfe_a35d_11ea_a600_acde48001122row18_col1\" class=\"data row18 col1\" >0</td>\n",
       "                        <td id=\"T_da911bfe_a35d_11ea_a600_acde48001122row18_col2\" class=\"data row18 col2\" >0.000000</td>\n",
       "                        <td id=\"T_da911bfe_a35d_11ea_a600_acde48001122row18_col3\" class=\"data row18 col3\" >1597</td>\n",
       "            </tr>\n",
       "            <tr>\n",
       "                        <th id=\"T_da911bfe_a35d_11ea_a600_acde48001122level0_row19\" class=\"row_heading level0 row19\" >worldwide_gross</th>\n",
       "                        <td id=\"T_da911bfe_a35d_11ea_a600_acde48001122row19_col0\" class=\"data row19 col0\" >int64</td>\n",
       "                        <td id=\"T_da911bfe_a35d_11ea_a600_acde48001122row19_col1\" class=\"data row19 col1\" >0</td>\n",
       "                        <td id=\"T_da911bfe_a35d_11ea_a600_acde48001122row19_col2\" class=\"data row19 col2\" >0.000000</td>\n",
       "                        <td id=\"T_da911bfe_a35d_11ea_a600_acde48001122row19_col3\" class=\"data row19 col3\" >1615</td>\n",
       "            </tr>\n",
       "    </tbody></table>"
      ],
      "text/plain": [
       "<pandas.io.formats.style.Styler at 0x12f6ae438>"
      ]
     },
     "metadata": {},
     "output_type": "display_data"
    }
   ],
   "source": [
    "def column_report(df1,styled=False,cmap='Reds'):\n",
    "    \"\"\"Returns a report of the dtypes, num null, % null, and num of unique values\n",
    "    \"\"\"\n",
    "    report = pd.DataFrame(index=df1.columns)\n",
    "\n",
    "    report['dtype']=df1.dtypes\n",
    "\n",
    "    report['num_null'] = df1.isna().sum()\n",
    "    report['% null'] = round(df1.isna().sum()/len(df1)*100,2)\n",
    "\n",
    "    report['nunique'] = df1.nunique()\n",
    "    \n",
    "    if styled:\n",
    "        s = report.style.bar('% null').background_gradient(subset=['nunique'],\n",
    "                                                           cmap=cmap)\n",
    "        display(s)\n",
    "    else:\n",
    "        return report#.style.background_gradient(subset=['num_null'],cmap='Reds')\n",
    "\n",
    "\n",
    "column_report(df1,True)#.style.bar('% null').background_gradient(subset=['nunique'],"
   ]
  },
  {
   "cell_type": "markdown",
   "metadata": {},
   "source": [
    "# ADDING TMDB API"
   ]
  },
  {
   "cell_type": "markdown",
   "metadata": {},
   "source": [
    "## Extracting Movies with tmbd api\n"
   ]
  },
  {
   "cell_type": "markdown",
   "metadata": {
    "ExecuteTime": {
     "end_time": "2020-05-30T18:16:30.192199Z",
     "start_time": "2020-05-30T18:16:30.189768Z"
    }
   },
   "source": [
    "### References"
   ]
  },
  {
   "cell_type": "markdown",
   "metadata": {},
   "source": [
    "- Getting Started \n",
    "    - https://developers.themoviedb.org/3/getting-started/introduction"
   ]
  },
  {
   "cell_type": "markdown",
   "metadata": {},
   "source": [
    "- API info saved in ~/.secret/tmdg_api.json\n",
    "    - https://www.themoviedb.org/settings/api\n",
    "```python\n",
    "f\"https://api.themoviedb.org/3/movie/76341?api_key={api_key}\"\n",
    "```\n",
    "\n",
    "- How to authenticate?\n",
    "    - [Authentification](https://developers.themoviedb.org/3/getting-started/authentication)\n",
    "    - [Create auth token](https://developers.themoviedb.org/3/authentication/create-request-token)"
   ]
  },
  {
   "cell_type": "code",
   "execution_count": 57,
   "metadata": {
    "ExecuteTime": {
     "end_time": "2020-05-31T16:45:06.088013Z",
     "start_time": "2020-05-31T16:45:06.065625Z"
    }
   },
   "outputs": [
    {
     "data": {
      "text/html": [
       "<div>\n",
       "<style scoped>\n",
       "    .dataframe tbody tr th:only-of-type {\n",
       "        vertical-align: middle;\n",
       "    }\n",
       "\n",
       "    .dataframe tbody tr th {\n",
       "        vertical-align: top;\n",
       "    }\n",
       "\n",
       "    .dataframe thead th {\n",
       "        text-align: right;\n",
       "    }\n",
       "</style>\n",
       "<table border=\"1\" class=\"dataframe\">\n",
       "  <thead>\n",
       "    <tr style=\"text-align: right;\">\n",
       "      <th></th>\n",
       "      <th>genre_ids</th>\n",
       "      <th>id</th>\n",
       "      <th>original_language</th>\n",
       "      <th>original_title</th>\n",
       "      <th>popularity</th>\n",
       "      <th>release_date</th>\n",
       "      <th>title</th>\n",
       "      <th>vote_average</th>\n",
       "      <th>vote_count</th>\n",
       "    </tr>\n",
       "  </thead>\n",
       "  <tbody>\n",
       "    <tr>\n",
       "      <th>0</th>\n",
       "      <td>[12, 14, 10751]</td>\n",
       "      <td>12444</td>\n",
       "      <td>en</td>\n",
       "      <td>Harry Potter and the Deathly Hallows: Part 1</td>\n",
       "      <td>33.533</td>\n",
       "      <td>2010-11-19</td>\n",
       "      <td>Harry Potter and the Deathly Hallows: Part 1</td>\n",
       "      <td>7.7</td>\n",
       "      <td>10788</td>\n",
       "    </tr>\n",
       "    <tr>\n",
       "      <th>1</th>\n",
       "      <td>[14, 12, 16, 10751]</td>\n",
       "      <td>10191</td>\n",
       "      <td>en</td>\n",
       "      <td>How to Train Your Dragon</td>\n",
       "      <td>28.734</td>\n",
       "      <td>2010-03-26</td>\n",
       "      <td>How to Train Your Dragon</td>\n",
       "      <td>7.7</td>\n",
       "      <td>7610</td>\n",
       "    </tr>\n",
       "    <tr>\n",
       "      <th>2</th>\n",
       "      <td>[12, 28, 878]</td>\n",
       "      <td>10138</td>\n",
       "      <td>en</td>\n",
       "      <td>Iron Man 2</td>\n",
       "      <td>28.515</td>\n",
       "      <td>2010-05-07</td>\n",
       "      <td>Iron Man 2</td>\n",
       "      <td>6.8</td>\n",
       "      <td>12368</td>\n",
       "    </tr>\n",
       "    <tr>\n",
       "      <th>3</th>\n",
       "      <td>[16, 35, 10751]</td>\n",
       "      <td>862</td>\n",
       "      <td>en</td>\n",
       "      <td>Toy Story</td>\n",
       "      <td>28.005</td>\n",
       "      <td>1995-11-22</td>\n",
       "      <td>Toy Story</td>\n",
       "      <td>7.9</td>\n",
       "      <td>10174</td>\n",
       "    </tr>\n",
       "    <tr>\n",
       "      <th>4</th>\n",
       "      <td>[28, 878, 12]</td>\n",
       "      <td>27205</td>\n",
       "      <td>en</td>\n",
       "      <td>Inception</td>\n",
       "      <td>27.920</td>\n",
       "      <td>2010-07-16</td>\n",
       "      <td>Inception</td>\n",
       "      <td>8.3</td>\n",
       "      <td>22186</td>\n",
       "    </tr>\n",
       "    <tr>\n",
       "      <th>...</th>\n",
       "      <td>...</td>\n",
       "      <td>...</td>\n",
       "      <td>...</td>\n",
       "      <td>...</td>\n",
       "      <td>...</td>\n",
       "      <td>...</td>\n",
       "      <td>...</td>\n",
       "      <td>...</td>\n",
       "      <td>...</td>\n",
       "    </tr>\n",
       "    <tr>\n",
       "      <th>26512</th>\n",
       "      <td>[27, 18]</td>\n",
       "      <td>488143</td>\n",
       "      <td>en</td>\n",
       "      <td>Laboratory Conditions</td>\n",
       "      <td>0.600</td>\n",
       "      <td>2018-10-13</td>\n",
       "      <td>Laboratory Conditions</td>\n",
       "      <td>0.0</td>\n",
       "      <td>1</td>\n",
       "    </tr>\n",
       "    <tr>\n",
       "      <th>26513</th>\n",
       "      <td>[18, 53]</td>\n",
       "      <td>485975</td>\n",
       "      <td>en</td>\n",
       "      <td>_EXHIBIT_84xxx_</td>\n",
       "      <td>0.600</td>\n",
       "      <td>2018-05-01</td>\n",
       "      <td>_EXHIBIT_84xxx_</td>\n",
       "      <td>0.0</td>\n",
       "      <td>1</td>\n",
       "    </tr>\n",
       "    <tr>\n",
       "      <th>26514</th>\n",
       "      <td>[14, 28, 12]</td>\n",
       "      <td>381231</td>\n",
       "      <td>en</td>\n",
       "      <td>The Last One</td>\n",
       "      <td>0.600</td>\n",
       "      <td>2018-10-01</td>\n",
       "      <td>The Last One</td>\n",
       "      <td>0.0</td>\n",
       "      <td>1</td>\n",
       "    </tr>\n",
       "    <tr>\n",
       "      <th>26515</th>\n",
       "      <td>[10751, 12, 28]</td>\n",
       "      <td>366854</td>\n",
       "      <td>en</td>\n",
       "      <td>Trailer Made</td>\n",
       "      <td>0.600</td>\n",
       "      <td>2018-06-22</td>\n",
       "      <td>Trailer Made</td>\n",
       "      <td>0.0</td>\n",
       "      <td>1</td>\n",
       "    </tr>\n",
       "    <tr>\n",
       "      <th>26516</th>\n",
       "      <td>[53, 27]</td>\n",
       "      <td>309885</td>\n",
       "      <td>en</td>\n",
       "      <td>The Church</td>\n",
       "      <td>0.600</td>\n",
       "      <td>2018-10-05</td>\n",
       "      <td>The Church</td>\n",
       "      <td>0.0</td>\n",
       "      <td>1</td>\n",
       "    </tr>\n",
       "  </tbody>\n",
       "</table>\n",
       "<p>26517 rows × 9 columns</p>\n",
       "</div>"
      ],
      "text/plain": [
       "                 genre_ids      id original_language  \\\n",
       "0          [12, 14, 10751]   12444                en   \n",
       "1      [14, 12, 16, 10751]   10191                en   \n",
       "2            [12, 28, 878]   10138                en   \n",
       "3          [16, 35, 10751]     862                en   \n",
       "4            [28, 878, 12]   27205                en   \n",
       "...                    ...     ...               ...   \n",
       "26512             [27, 18]  488143                en   \n",
       "26513             [18, 53]  485975                en   \n",
       "26514         [14, 28, 12]  381231                en   \n",
       "26515      [10751, 12, 28]  366854                en   \n",
       "26516             [53, 27]  309885                en   \n",
       "\n",
       "                                     original_title  popularity release_date  \\\n",
       "0      Harry Potter and the Deathly Hallows: Part 1      33.533   2010-11-19   \n",
       "1                          How to Train Your Dragon      28.734   2010-03-26   \n",
       "2                                        Iron Man 2      28.515   2010-05-07   \n",
       "3                                         Toy Story      28.005   1995-11-22   \n",
       "4                                         Inception      27.920   2010-07-16   \n",
       "...                                             ...         ...          ...   \n",
       "26512                         Laboratory Conditions       0.600   2018-10-13   \n",
       "26513                               _EXHIBIT_84xxx_       0.600   2018-05-01   \n",
       "26514                                  The Last One       0.600   2018-10-01   \n",
       "26515                                  Trailer Made       0.600   2018-06-22   \n",
       "26516                                    The Church       0.600   2018-10-05   \n",
       "\n",
       "                                              title  vote_average  vote_count  \n",
       "0      Harry Potter and the Deathly Hallows: Part 1           7.7       10788  \n",
       "1                          How to Train Your Dragon           7.7        7610  \n",
       "2                                        Iron Man 2           6.8       12368  \n",
       "3                                         Toy Story           7.9       10174  \n",
       "4                                         Inception           8.3       22186  \n",
       "...                                             ...           ...         ...  \n",
       "26512                         Laboratory Conditions           0.0           1  \n",
       "26513                               _EXHIBIT_84xxx_           0.0           1  \n",
       "26514                                  The Last One           0.0           1  \n",
       "26515                                  Trailer Made           0.0           1  \n",
       "26516                                    The Church           0.0           1  \n",
       "\n",
       "[26517 rows x 9 columns]"
      ]
     },
     "execution_count": 57,
     "metadata": {},
     "output_type": "execute_result"
    }
   ],
   "source": [
    "dftm = DATA['tmdb.movies']\n",
    "dftm.drop(columns=['Unnamed: 0'],inplace=True)\n",
    "dftm"
   ]
  },
  {
   "cell_type": "code",
   "execution_count": null,
   "metadata": {},
   "outputs": [],
   "source": []
  },
  {
   "cell_type": "code",
   "execution_count": 58,
   "metadata": {
    "ExecuteTime": {
     "end_time": "2020-05-31T16:45:15.310539Z",
     "start_time": "2020-05-31T16:45:15.308076Z"
    }
   },
   "outputs": [],
   "source": [
    "import json\n",
    "import pandas as pd\n",
    "import requests"
   ]
  },
  {
   "cell_type": "code",
   "execution_count": 59,
   "metadata": {
    "ExecuteTime": {
     "end_time": "2020-05-31T16:45:15.550024Z",
     "start_time": "2020-05-31T16:45:15.546378Z"
    }
   },
   "outputs": [],
   "source": [
    "with open('/Users/jamesirving/.secret/tmdb_api.json') as f:\n",
    "    api_info = json.load(f)\n",
    "api_key = api_info['api-key']"
   ]
  },
  {
   "cell_type": "code",
   "execution_count": 60,
   "metadata": {
    "ExecuteTime": {
     "end_time": "2020-05-31T16:45:15.890280Z",
     "start_time": "2020-05-31T16:45:15.886913Z"
    }
   },
   "outputs": [
    {
     "data": {
      "text/plain": [
       "'https://api.themoviedb.org/3/movie/76341?api_key=e9a24ea6085f06fdd272dab49ad70c2e'"
      ]
     },
     "execution_count": 60,
     "metadata": {},
     "output_type": "execute_result"
    }
   ],
   "source": [
    "base_url = f\"https://api.themoviedb.org/3/movie/76341?api_key={api_key}\"\n",
    "base_url"
   ]
  },
  {
   "cell_type": "code",
   "execution_count": 61,
   "metadata": {
    "ExecuteTime": {
     "end_time": "2020-05-31T16:45:16.840049Z",
     "start_time": "2020-05-31T16:45:16.837111Z"
    }
   },
   "outputs": [],
   "source": [
    "import requests\n",
    "## get session id\n",
    "def get_session_id():\n",
    "    token_url = f\"https://api.themoviedb.org/3/authentication/token/new?api_key={api_key}\"\n",
    "    response = requests.get(token_url)\n",
    "    display(response)\n",
    "    return response.json()"
   ]
  },
  {
   "cell_type": "code",
   "execution_count": 62,
   "metadata": {
    "ExecuteTime": {
     "end_time": "2020-05-31T16:45:18.633692Z",
     "start_time": "2020-05-31T16:45:18.460265Z"
    }
   },
   "outputs": [
    {
     "data": {
      "text/plain": [
       "<Response [200]>"
      ]
     },
     "metadata": {},
     "output_type": "display_data"
    }
   ],
   "source": [
    "sid = get_session_id()\n",
    "sid_token = sid['request_token'];"
   ]
  },
  {
   "cell_type": "markdown",
   "metadata": {},
   "source": [
    "## Find by id\n",
    "https://developers.themoviedb.org/3/find/find-by-id"
   ]
  },
  {
   "cell_type": "markdown",
   "metadata": {},
   "source": [
    "- Need: \n",
    "    - external_df\n",
    "    \n",
    "    - api_key\n",
    "    - language\n",
    "    - external_source  (imdb_id, freebase_mid, freebase_id, tvdb_id, tvrage_id, facebook_id, twitter_id, instagram_id)\n",
    "    \n",
    "```python\n",
    "url = f\"https://api.themoviedb.org/3/find/tt0111414?api_key={api_key}&language=en-US&external_source={imdb_id}\"\n",
    "```"
   ]
  },
  {
   "cell_type": "code",
   "execution_count": 67,
   "metadata": {
    "ExecuteTime": {
     "end_time": "2020-05-31T16:46:26.504366Z",
     "start_time": "2020-05-31T16:46:26.499822Z"
    }
   },
   "outputs": [
    {
     "data": {
      "text/plain": [
       "12444"
      ]
     },
     "execution_count": 67,
     "metadata": {},
     "output_type": "execute_result"
    }
   ],
   "source": [
    "dftm['id'][0]"
   ]
  },
  {
   "cell_type": "code",
   "execution_count": null,
   "metadata": {},
   "outputs": [],
   "source": []
  },
  {
   "cell_type": "code",
   "execution_count": 68,
   "metadata": {
    "ExecuteTime": {
     "end_time": "2020-05-31T16:46:36.941568Z",
     "start_time": "2020-05-31T16:46:36.937371Z"
    }
   },
   "outputs": [
    {
     "data": {
      "text/plain": [
       "'https://api.themoviedb.org/3/find/12444?api_key=e9a24ea6085f06fdd272dab49ad70c2e&language=en-US&external_source=imdb_id'"
      ]
     },
     "execution_count": 68,
     "metadata": {},
     "output_type": "execute_result"
    }
   ],
   "source": [
    "id_ = dftm['id'][0]\n",
    "source = \"imdb_id\"\n",
    "\n",
    "base_find_url = \"https://api.themoviedb.org/3/find/\"\n",
    "find_query = f\"{base_find_url}{id_}?api_key={api_key}&language=en-US&external_source={source}\"\n",
    "find_query"
   ]
  },
  {
   "cell_type": "code",
   "execution_count": 69,
   "metadata": {
    "ExecuteTime": {
     "end_time": "2020-05-31T16:46:54.798259Z",
     "start_time": "2020-05-31T16:46:54.608767Z"
    }
   },
   "outputs": [
    {
     "data": {
      "text/plain": [
       "<Response [200]>"
      ]
     },
     "execution_count": 69,
     "metadata": {},
     "output_type": "execute_result"
    }
   ],
   "source": [
    "response = requests.get(find_query)\n",
    "response"
   ]
  },
  {
   "cell_type": "code",
   "execution_count": 70,
   "metadata": {
    "ExecuteTime": {
     "end_time": "2020-05-31T16:47:02.268354Z",
     "start_time": "2020-05-31T16:47:02.259717Z"
    }
   },
   "outputs": [
    {
     "data": {
      "text/plain": [
       "{'movie_results': [],\n",
       " 'person_results': [],\n",
       " 'tv_results': [],\n",
       " 'tv_episode_results': [],\n",
       " 'tv_season_results': []}"
      ]
     },
     "execution_count": 70,
     "metadata": {},
     "output_type": "execute_result"
    }
   ],
   "source": [
    "response.json()"
   ]
  },
  {
   "cell_type": "markdown",
   "metadata": {
    "ExecuteTime": {
     "end_time": "2020-05-30T18:16:30.192199Z",
     "start_time": "2020-05-30T18:16:30.189768Z"
    }
   },
   "source": [
    "https://api.themoviedb.org/3/movie/550?api_key=e9a24ea6085f06fdd272dab49ad70c2e"
   ]
  },
  {
   "cell_type": "markdown",
   "metadata": {},
   "source": [
    "## Using `tmdbsimple` package"
   ]
  },
  {
   "cell_type": "code",
   "execution_count": 64,
   "metadata": {
    "ExecuteTime": {
     "end_time": "2020-05-31T16:45:21.924811Z",
     "start_time": "2020-05-31T16:45:21.922758Z"
    }
   },
   "outputs": [],
   "source": [
    "# from fsds_100719 import inspect_variables\n",
    "# inspect_variables(locals())"
   ]
  },
  {
   "cell_type": "code",
   "execution_count": 65,
   "metadata": {
    "ExecuteTime": {
     "end_time": "2020-05-31T16:45:24.361892Z",
     "start_time": "2020-05-31T16:45:24.359496Z"
    }
   },
   "outputs": [],
   "source": [
    "# !pip install tmdbsimple\n",
    "import tmdbsimple as tmdb\n",
    "tmdb.API_KEY = api_key"
   ]
  },
  {
   "cell_type": "code",
   "execution_count": 52,
   "metadata": {
    "ExecuteTime": {
     "end_time": "2020-05-31T16:43:34.482316Z",
     "start_time": "2020-05-31T16:43:34.383795Z"
    }
   },
   "outputs": [
    {
     "data": {
      "text/plain": [
       "{'page': 1,\n",
       " 'total_results': 38,\n",
       " 'total_pages': 2,\n",
       " 'results': [{'popularity': 32.645,\n",
       "   'vote_count': 21363,\n",
       "   'video': False,\n",
       "   'poster_path': '/btnl50ZDJDSCal2NLQIYWw0XxvH.jpg',\n",
       "   'id': 19995,\n",
       "   'adult': False,\n",
       "   'backdrop_path': '/eS8rJ1KzRNBewx9MduiSHM4kr7S.jpg',\n",
       "   'original_language': 'en',\n",
       "   'original_title': 'Avatar',\n",
       "   'genre_ids': [28, 12, 14, 878],\n",
       "   'title': 'Avatar',\n",
       "   'vote_average': 7.4,\n",
       "   'overview': 'In the 22nd century, a paraplegic Marine is dispatched to the moon Pandora on a unique mission, but becomes torn between following orders and protecting an alien civilization.',\n",
       "   'release_date': '2009-12-10'},\n",
       "  {'popularity': 7.949,\n",
       "   'vote_count': 0,\n",
       "   'video': False,\n",
       "   'poster_path': '/krOMOEjDpw3Mf2EuJb9OgmqD6ft.jpg',\n",
       "   'id': 76600,\n",
       "   'adult': False,\n",
       "   'backdrop_path': '/z3ElnHwcf1g56Qlp53yGbPsGXL7.jpg',\n",
       "   'original_language': 'en',\n",
       "   'original_title': 'Avatar 2',\n",
       "   'genre_ids': [28, 12, 14, 878, 53],\n",
       "   'title': 'Avatar 2',\n",
       "   'vote_average': 0,\n",
       "   'overview': 'A sequel to Avatar (2009).',\n",
       "   'release_date': '2021-12-15'},\n",
       "  {'popularity': 7.925,\n",
       "   'vote_count': 0,\n",
       "   'video': False,\n",
       "   'poster_path': '/krOMOEjDpw3Mf2EuJb9OgmqD6ft.jpg',\n",
       "   'id': 83533,\n",
       "   'adult': False,\n",
       "   'backdrop_path': None,\n",
       "   'original_language': 'en',\n",
       "   'original_title': 'Avatar 3',\n",
       "   'genre_ids': [28, 12, 18, 14, 878],\n",
       "   'title': 'Avatar 3',\n",
       "   'vote_average': 0,\n",
       "   'overview': '',\n",
       "   'release_date': '2023-12-21'},\n",
       "  {'popularity': 5.916,\n",
       "   'vote_count': 32,\n",
       "   'video': True,\n",
       "   'poster_path': '/bof9FHKd2rayPEGl0naYdem0baF.jpg',\n",
       "   'id': 183392,\n",
       "   'adult': False,\n",
       "   'backdrop_path': None,\n",
       "   'original_language': 'en',\n",
       "   'original_title': 'Capturing Avatar',\n",
       "   'genre_ids': [99],\n",
       "   'title': 'Capturing Avatar',\n",
       "   'vote_average': 7.9,\n",
       "   'overview': \"Capturing Avatar is a feature length behind-the-scenes documentary about the making of Avatar. It uses footage from the film's development, as well as stock footage from as far back as the production of Titanic in 1995. Also included are numerous interviews with cast, artists, and other crew members. The documentary was released as a bonus feature on the extended collector's edition of Avatar.\",\n",
       "   'release_date': '2010-11-16'},\n",
       "  {'popularity': 5.371,\n",
       "   'vote_count': 0,\n",
       "   'video': False,\n",
       "   'poster_path': '/krOMOEjDpw3Mf2EuJb9OgmqD6ft.jpg',\n",
       "   'id': 216527,\n",
       "   'adult': False,\n",
       "   'backdrop_path': None,\n",
       "   'original_language': 'en',\n",
       "   'original_title': 'Avatar 4',\n",
       "   'genre_ids': [28, 12, 14, 878],\n",
       "   'title': 'Avatar 4',\n",
       "   'vote_average': 0,\n",
       "   'overview': '',\n",
       "   'release_date': '2025-12-18'},\n",
       "  {'popularity': 5.599,\n",
       "   'id': 111332,\n",
       "   'video': False,\n",
       "   'vote_count': 9,\n",
       "   'vote_average': 6.9,\n",
       "   'title': 'Avatar: Creating the World of Pandora',\n",
       "   'release_date': '2010-02-07',\n",
       "   'original_language': 'en',\n",
       "   'original_title': 'Avatar: Creating the World of Pandora',\n",
       "   'genre_ids': [99],\n",
       "   'backdrop_path': None,\n",
       "   'adult': False,\n",
       "   'overview': \"The Making-of James Cameron's Avatar. It shows interesting parts of the work on the set.\",\n",
       "   'poster_path': '/d9oqcfeCyc3zmMal6eJbfj3gatc.jpg'},\n",
       "  {'popularity': 3.146,\n",
       "   'vote_count': 0,\n",
       "   'video': False,\n",
       "   'poster_path': '/krOMOEjDpw3Mf2EuJb9OgmqD6ft.jpg',\n",
       "   'id': 393209,\n",
       "   'adult': False,\n",
       "   'backdrop_path': None,\n",
       "   'original_language': 'en',\n",
       "   'original_title': 'Avatar 5',\n",
       "   'genre_ids': [28, 12, 14, 878],\n",
       "   'title': 'Avatar 5',\n",
       "   'vote_average': 0,\n",
       "   'overview': 'Plot unknown.',\n",
       "   'release_date': '2027-12-16'},\n",
       "  {'popularity': 1.526,\n",
       "   'vote_count': 1,\n",
       "   'video': False,\n",
       "   'poster_path': '/umiyqYzhdSCPrg5WtRyTRCU0cZr.jpg',\n",
       "   'id': 706168,\n",
       "   'adult': False,\n",
       "   'backdrop_path': None,\n",
       "   'original_language': 'en',\n",
       "   'original_title': 'Avatar: The Last Airbender',\n",
       "   'genre_ids': [28, 12, 16, 35, 14],\n",
       "   'title': 'Avatar: The Last Airbender',\n",
       "   'vote_average': 10,\n",
       "   'overview': \"Long ago, the four nations lived together in harmony. But then, everything changed when the Fire Nation attacked. Only the Avatar, master of all four elements, could stop them. But when the world needed him most, he vanished. A hundred years passed and my brother and I discovered the new Avatar, an airbender named Aang. And although his airbending skills are great, he still has a lot to learn before he's ready to save anyone. But I believe Aang can save the world.\",\n",
       "   'release_date': '2005-02-21'},\n",
       "  {'popularity': 0.84,\n",
       "   'id': 421403,\n",
       "   'video': False,\n",
       "   'vote_count': 1,\n",
       "   'vote_average': 6,\n",
       "   'title': 'Avatar',\n",
       "   'release_date': '1941-09-16',\n",
       "   'original_language': 'en',\n",
       "   'original_title': 'Avatar',\n",
       "   'genre_ids': [],\n",
       "   'backdrop_path': None,\n",
       "   'adult': False,\n",
       "   'overview': 'Indranath’s son is ill, Guru Omkarananda suggests he pray to the goddess Kamala. His son improves but bad luck follows Indranath; his son and daughter die. Unable to stand the grief the Queen/Kalyani loses her mental equilibrium. Goddess Kamala manifests as Rupasi, the daughter of Omkarananda. Virodhananda and his son Tribhanga are the incarnation of Narad and Narayan on earth. The kingdom goes through difficult times. Omkarananda is arrested and Rupasi goes to meet Bastabesh/Indranath who is attracted to her. Rupasi takes refuge in Birodhananda’s house to avoid Bastabesh’s advances. Birodhananda is interested in getting his son Tribhanga married to Rupasi. Bastabesh goes after Rupasi/Kamala who blinds him. Finally the gods perform their miracle and a repentant Bastabesh is restored his sight and kingdom.',\n",
       "   'poster_path': None},\n",
       "  {'popularity': 0.986,\n",
       "   'vote_count': 3,\n",
       "   'video': False,\n",
       "   'poster_path': '/oBWVyOdntLJd5bBpE0wkpN6B6vy.jpg',\n",
       "   'id': 278698,\n",
       "   'adult': False,\n",
       "   'backdrop_path': None,\n",
       "   'original_language': 'en',\n",
       "   'original_title': 'Avatar Spirits',\n",
       "   'genre_ids': [16],\n",
       "   'title': 'Avatar Spirits',\n",
       "   'vote_average': 9.7,\n",
       "   'overview': 'A short documentary film, directed by Kurt Mattila, on the creation of Avatar: The Last Airbender. Starring Bryan Konietzko and Michael Dante DiMartino, co-creators of the hit television series.',\n",
       "   'release_date': '2010-06-22'},\n",
       "  {'popularity': 0.6,\n",
       "   'id': 677528,\n",
       "   'video': False,\n",
       "   'vote_count': 0,\n",
       "   'vote_average': 0,\n",
       "   'title': 'Avatar Purusha',\n",
       "   'release_date': '',\n",
       "   'original_language': 'kn',\n",
       "   'original_title': 'Avatar Purusha',\n",
       "   'genre_ids': [35, 10749],\n",
       "   'backdrop_path': '/zNU38gZOGmdNnVMhVqxKu9UkbgE.jpg',\n",
       "   'adult': False,\n",
       "   'overview': 'Avatar Purusha is a romantic entertainer movie directed by Simple Suni and produced by Pushkara Mallikarjunaiah. The movie cast includes Sharan and Ashika Ranganath are in the lead roles along with Sai Kumar, Sudha Rani, Bhavya, Sadhu Kokila, Sri Nagar Kitty, B Suresha and many others are seen in supporting roles while Arjun Janya scored music.',\n",
       "   'poster_path': '/gQ29E9Qy6z5ExsxnpgUTHfpZFO3.jpg'},\n",
       "  {'popularity': 0.6,\n",
       "   'vote_count': 0,\n",
       "   'video': False,\n",
       "   'poster_path': '/dZCj0jiOoDzAzbQM7ryYFEjkjs7.jpg',\n",
       "   'id': 100287,\n",
       "   'adult': False,\n",
       "   'backdrop_path': None,\n",
       "   'original_language': 'da',\n",
       "   'original_title': 'Min Avatar og mig',\n",
       "   'genre_ids': [99, 878],\n",
       "   'title': 'My Avatar and Me',\n",
       "   'vote_average': 0,\n",
       "   'overview': 'is a creative documentary-fiction film and a film that might expand your sense of reality. It is the story about a man who enters the virtual world Second Life to pursue his personal dreams and ambitions. His journey into cyberspace becomes a magic learning experience, which gradually opens the gates to a much larger reality.',\n",
       "   'release_date': '2010-11-10'},\n",
       "  {'popularity': 0.6,\n",
       "   'id': 348369,\n",
       "   'video': True,\n",
       "   'vote_count': 0,\n",
       "   'vote_average': 0,\n",
       "   'title': 'Avatar Days',\n",
       "   'release_date': '2010-02-02',\n",
       "   'original_language': 'en',\n",
       "   'original_title': 'Avatar Days',\n",
       "   'genre_ids': [99],\n",
       "   'backdrop_path': None,\n",
       "   'adult': False,\n",
       "   'overview': \"Originally created for the Darklight Festival's '4 Day Movie' project, Avatar Days is a portrait of four online gamers in Dublin whose daily lives contrast with their virtual identities. Advanced 3D technologies and Motion Capture animation were used to insert the players' in-game characters in place of their real selves against the backdrop of the banal urban landscape which they inhabit.\",\n",
       "   'poster_path': None},\n",
       "  {'popularity': 0.929,\n",
       "   'id': 460441,\n",
       "   'video': False,\n",
       "   'vote_count': 1,\n",
       "   'vote_average': 10,\n",
       "   'title': 'Avatar Flight of Passage',\n",
       "   'release_date': '2017-05-01',\n",
       "   'original_language': 'en',\n",
       "   'original_title': 'Avatar Flight of Passage',\n",
       "   'genre_ids': [12, 10751],\n",
       "   'backdrop_path': None,\n",
       "   'adult': False,\n",
       "   'overview': \"Fly on the back of a mountain banshee during an exhilarating, 3D ride at Pandora - The World of Avatar located inside Disney's Animal Kingdom. Get a banshee’s-eye view of the beauty and grandeur of Pandora on a rite of passage you won’t soon forget!\",\n",
       "   'poster_path': '/oz7sB5Jy2eZvoY2p773QY4TUUM.jpg'},\n",
       "  {'popularity': 0.628,\n",
       "   'id': 668297,\n",
       "   'video': False,\n",
       "   'vote_count': 1,\n",
       "   'vote_average': 3,\n",
       "   'title': 'The Last Avatar',\n",
       "   'release_date': '2014-12-06',\n",
       "   'original_language': 'en',\n",
       "   'original_title': 'The Last Avatar',\n",
       "   'genre_ids': [],\n",
       "   'backdrop_path': '/e8mmDO7fKK93T4lnxl4Z2zjxXZV.jpg',\n",
       "   'adult': False,\n",
       "   'overview': 'The Last Avatar is a mystical adventure film, a story of a young man who leaves Hollywood to find himself. What he finds is beyond his wildest imagination. Based on ancient prophecy, contemporary truth seeking and the future of humanity, The Last Avatar is a film that takes transformational themes and makes them relevant for audiences of all ages. Filled with love, magic, mystery, conspiracy, psychics, underground cities, secret societies, light bodies and much more, The Last Avatar tells the story of the emergence of Kalki Avatar- the final Avatar of our current Age of Chaos. Kalki is also a metaphor for the innate power and potential that lies within humanity to awaken and create a world of truth, harmony and possibility.',\n",
       "   'poster_path': '/XWz5SS5g5mrNEZjv3FiGhqCMOQ.jpg'},\n",
       "  {'popularity': 0.908,\n",
       "   'vote_count': 1,\n",
       "   'video': False,\n",
       "   'poster_path': '/bq11yV7EuSOGyDOgsFawgtw6DIm.jpg',\n",
       "   'id': 709601,\n",
       "   'adult': False,\n",
       "   'backdrop_path': None,\n",
       "   'original_language': 'en',\n",
       "   'original_title': 'Avatar: The Abridged Series',\n",
       "   'genre_ids': [35],\n",
       "   'title': 'Avatar: The Abridged Series',\n",
       "   'vote_average': 10,\n",
       "   'overview': 'A fandubed parody series of the acclaimed Nickelodeon series created by youtube artist and Team Four Star actor; Marc Soskin or (GanXingba).',\n",
       "   'release_date': '2007-07-20'},\n",
       "  {'popularity': 0.6,\n",
       "   'vote_count': 0,\n",
       "   'video': False,\n",
       "   'poster_path': None,\n",
       "   'id': 287003,\n",
       "   'adult': False,\n",
       "   'backdrop_path': None,\n",
       "   'original_language': 'en',\n",
       "   'original_title': 'Avatar: Scene Deconstruction',\n",
       "   'genre_ids': [],\n",
       "   'title': 'Avatar: Scene Deconstruction',\n",
       "   'vote_average': 0,\n",
       "   'overview': 'The deconstruction of the Avatar scenes and sets',\n",
       "   'release_date': '2009-12-18'},\n",
       "  {'popularity': 0.6,\n",
       "   'vote_count': 0,\n",
       "   'video': False,\n",
       "   'poster_path': None,\n",
       "   'id': 287004,\n",
       "   'adult': False,\n",
       "   'backdrop_path': None,\n",
       "   'original_language': 'en',\n",
       "   'original_title': 'Avatar: Production Materials',\n",
       "   'genre_ids': [],\n",
       "   'title': 'Avatar: Production Materials',\n",
       "   'vote_average': 0,\n",
       "   'overview': 'Production material overview of what was used in Avatar',\n",
       "   'release_date': '2009-12-18'},\n",
       "  {'popularity': 0.641,\n",
       "   'vote_count': 0,\n",
       "   'video': False,\n",
       "   'poster_path': None,\n",
       "   'id': 429252,\n",
       "   'adult': False,\n",
       "   'backdrop_path': None,\n",
       "   'original_language': 'en',\n",
       "   'original_title': 'Avatar: The Last Hoodbender',\n",
       "   'genre_ids': [28, 35, 18],\n",
       "   'title': 'Avatar: The Last Hoodbender',\n",
       "   'vote_average': 0,\n",
       "   'overview': 'Will Avatar Mark be able to restore balance to the hood?',\n",
       "   'release_date': '2016-12-06'},\n",
       "  {'popularity': 0.6,\n",
       "   'vote_count': 1,\n",
       "   'video': False,\n",
       "   'poster_path': None,\n",
       "   'id': 424768,\n",
       "   'adult': False,\n",
       "   'backdrop_path': None,\n",
       "   'original_language': 'en',\n",
       "   'original_title': 'Avatar:[2015] Wacken Open Air',\n",
       "   'genre_ids': [],\n",
       "   'title': 'Avatar:[2015] Wacken Open Air',\n",
       "   'vote_average': 8,\n",
       "   'overview': 'Started in the summer of 2001 by drummer John Alfredsson and vocalist Christian Rimmi under the name Lost Soul.  The band offers a free mp3 download to a song called \"Bloody Knuckles\" if one subscribes to their newsletter.  In 2005 they appeared on the compilation “Listen to Your Inner Voice” together with 17 other bands released by Inner Voice Records.',\n",
       "   'release_date': '2015-08-01'}]}"
      ]
     },
     "execution_count": 52,
     "metadata": {},
     "output_type": "execute_result"
    }
   ],
   "source": [
    "search = tmdb.Search()\n",
    "search.movie(query='Avatar')"
   ]
  },
  {
   "cell_type": "code",
   "execution_count": null,
   "metadata": {},
   "outputs": [],
   "source": []
  },
  {
   "cell_type": "code",
   "execution_count": null,
   "metadata": {},
   "outputs": [],
   "source": []
  },
  {
   "cell_type": "markdown",
   "metadata": {},
   "source": [
    "# OLD PLOTS"
   ]
  },
  {
   "cell_type": "code",
   "execution_count": null,
   "metadata": {
    "ExecuteTime": {
     "end_time": "2020-05-30T17:01:10.076378Z",
     "start_time": "2020-05-30T17:01:09.911942Z"
    }
   },
   "outputs": [],
   "source": [
    "rating_domestic = df1.groupby('rating').sum()['domestic_gross']#.plot(kind='barh')\n",
    "rating_domestic.plot(kind='barh')"
   ]
  },
  {
   "cell_type": "markdown",
   "metadata": {},
   "source": [
    "### Cleaning `runtime` to num"
   ]
  },
  {
   "cell_type": "code",
   "execution_count": null,
   "metadata": {
    "ExecuteTime": {
     "end_time": "2020-05-30T17:01:10.104915Z",
     "start_time": "2020-05-30T17:01:10.077451Z"
    }
   },
   "outputs": [],
   "source": [
    "df1"
   ]
  },
  {
   "cell_type": "code",
   "execution_count": null,
   "metadata": {
    "ExecuteTime": {
     "end_time": "2020-05-30T17:01:10.127907Z",
     "start_time": "2020-05-30T17:01:10.106106Z"
    }
   },
   "outputs": [],
   "source": [
    "df1.head()\n"
   ]
  },
  {
   "cell_type": "code",
   "execution_count": null,
   "metadata": {
    "ExecuteTime": {
     "end_time": "2020-05-30T17:01:10.134579Z",
     "start_time": "2020-05-30T17:01:10.129348Z"
    }
   },
   "outputs": [],
   "source": [
    "df1['movie']"
   ]
  },
  {
   "cell_type": "markdown",
   "metadata": {},
   "source": [
    "### Plotly Express"
   ]
  },
  {
   "cell_type": "code",
   "execution_count": null,
   "metadata": {
    "ExecuteTime": {
     "end_time": "2020-05-30T17:01:12.186838Z",
     "start_time": "2020-05-30T17:01:10.135922Z"
    }
   },
   "outputs": [],
   "source": [
    "## Visua\n",
    "import plotly.express as px\n",
    "px.scatter(df1,y='domestic_gross',x='production_budget',hover_name='movie',\n",
    "           hover_data=['domestic_gross','production_budget'],\n",
    "       color='rating',trendline='ols')\n",
    "# px.scatter(df1,y='domestic_gross',\n",
    "#          x='rating',\n",
    "#          color='rating')#"
   ]
  },
  {
   "cell_type": "code",
   "execution_count": null,
   "metadata": {
    "ExecuteTime": {
     "end_time": "2020-05-30T17:01:12.190510Z",
     "start_time": "2020-05-30T17:01:12.188081Z"
    }
   },
   "outputs": [],
   "source": [
    "import plotly.express as px\n",
    "# px.scatter(df1,y='domestic_gross',x='runtime',hover_name='movie',\n",
    "#            hover_data=['domestic_gross','production_budget'],\n",
    "#        color='rating',trendline='ols')\n",
    "# # px.scatter(df1,y='domestic_gross',\n",
    "# #          x='rating',\n",
    "# #          color='rating')#"
   ]
  },
  {
   "cell_type": "code",
   "execution_count": null,
   "metadata": {
    "ExecuteTime": {
     "end_time": "2020-05-30T17:01:12.424631Z",
     "start_time": "2020-05-30T17:01:12.191902Z"
    }
   },
   "outputs": [],
   "source": [
    "fg = sns.catplot(data=df1,x='rating',y='domestic_gross')"
   ]
  },
  {
   "cell_type": "markdown",
   "metadata": {},
   "source": [
    "## Formatting $Millions"
   ]
  },
  {
   "cell_type": "code",
   "execution_count": null,
   "metadata": {
    "ExecuteTime": {
     "end_time": "2020-05-30T17:01:12.429422Z",
     "start_time": "2020-05-30T17:01:12.426090Z"
    }
   },
   "outputs": [],
   "source": [
    "def millions(x, pos):\n",
    "    '''The two args are the value and tick position;\n",
    "    From https://matplotlib.org/3.1.0/gallery/ticks_and_spines/custom_ticker1.html'''\n",
    "    # Ref https://www.w3schools.com/python/ref_string_format.asp\n",
    "    return '$ %1.0fM' % (x * 1e-6)\n",
    "\n",
    "formatter = mpl.ticker.FuncFormatter(millions)"
   ]
  },
  {
   "cell_type": "code",
   "execution_count": null,
   "metadata": {
    "ExecuteTime": {
     "end_time": "2020-05-30T17:01:12.442436Z",
     "start_time": "2020-05-30T17:01:12.433235Z"
    }
   },
   "outputs": [],
   "source": [
    "df1['domestic_gross'].describe()"
   ]
  },
  {
   "cell_type": "code",
   "execution_count": null,
   "metadata": {
    "ExecuteTime": {
     "end_time": "2020-05-30T17:01:12.689678Z",
     "start_time": "2020-05-30T17:01:12.444690Z"
    }
   },
   "outputs": [],
   "source": [
    "sns.boxplot(data=df1,x='rating',y='domestic_gross')"
   ]
  },
  {
   "cell_type": "code",
   "execution_count": null,
   "metadata": {
    "ExecuteTime": {
     "end_time": "2020-05-30T17:01:21.012785Z",
     "start_time": "2020-05-30T17:01:12.691014Z"
    }
   },
   "outputs": [],
   "source": [
    "sns.swarmplot(data=df1,x='rating',y='domestic_gross')"
   ]
  },
  {
   "cell_type": "code",
   "execution_count": null,
   "metadata": {
    "ExecuteTime": {
     "end_time": "2020-05-30T17:01:21.382234Z",
     "start_time": "2020-05-30T17:01:21.016611Z"
    }
   },
   "outputs": [],
   "source": [
    "ax = sns.barplot(data=df1,x='rating',y='domestic_gross',ci=68)\n",
    "ax.yaxis.set_major_formatter(formatter)"
   ]
  },
  {
   "cell_type": "code",
   "execution_count": null,
   "metadata": {
    "ExecuteTime": {
     "end_time": "2020-05-30T17:01:29.221055Z",
     "start_time": "2020-05-30T17:01:21.383502Z"
    }
   },
   "outputs": [],
   "source": [
    "sns.swarmplot(data=df1,x='rating',y='domestic_gross')#,ci=68)"
   ]
  },
  {
   "cell_type": "code",
   "execution_count": null,
   "metadata": {
    "ExecuteTime": {
     "end_time": "2020-05-30T17:01:29.529951Z",
     "start_time": "2020-05-30T17:01:29.222335Z"
    }
   },
   "outputs": [],
   "source": [
    "sns.distplot(df1.groupby('rating').get_group('R')[ 'domestic_gross'])"
   ]
  },
  {
   "cell_type": "code",
   "execution_count": null,
   "metadata": {
    "ExecuteTime": {
     "end_time": "2020-05-30T17:01:29.546208Z",
     "start_time": "2020-05-30T17:01:29.531260Z"
    }
   },
   "outputs": [],
   "source": [
    "DATA['tn.movie_budgets']"
   ]
  },
  {
   "cell_type": "markdown",
   "metadata": {},
   "source": [
    "## Aligning The Data"
   ]
  },
  {
   "cell_type": "markdown",
   "metadata": {},
   "source": [
    "- Make a dictionary of column name to use as key for each dataframe stored in DATA\n",
    "\n",
    "<details >\n",
    "    <summary style=\"font-size:1.1em;background-color:lightblue;width:80%;text-align:center;                   \"> Key Columns</summary>    \n",
    "    \n",
    "```python\n",
    "KEY_COLS = {'imdb.title.crew': 'tconst', \n",
    "        'tmdb.movies': 'id',\n",
    "        'imdb.title.akas': 'title_id',\n",
    "        'imdb.title.ratings': 'tconst',\n",
    "        'imdb.name.basics': 'nconst',\n",
    "        'rt.reviews.': 'id',\n",
    "        'imdb.title.basics': 'tconst',\n",
    "        'rt.movie_info.': 'id',\n",
    "        'tn.movie_budgets': 'id',\n",
    "        'bom.movie_gross': 'title',\n",
    "        'imdb.title.principals': 'tconst'}\n",
    "```\n"
   ]
  },
  {
   "cell_type": "code",
   "execution_count": null,
   "metadata": {
    "ExecuteTime": {
     "end_time": "2020-05-30T17:01:29.551145Z",
     "start_time": "2020-05-30T17:01:29.547907Z"
    }
   },
   "outputs": [],
   "source": [
    "# keys = list(DATA.keys())\n",
    "\n",
    "KEY_COLS = {'imdb.title.crew': 'tconst', \n",
    "        'tmdb.movies': 'id',\n",
    "        'imdb.title.akas': 'title_id',\n",
    "        'imdb.title.ratings': 'tconst',\n",
    "        'imdb.name.basics': 'nconst',\n",
    "        'rt.reviews.': 'id',\n",
    "        'imdb.title.basics': 'tconst',\n",
    "        'rt.movie_info.': 'id',\n",
    "        'tn.movie_budgets': 'id',\n",
    "        'bom.movie_gross': 'title',\n",
    "        'imdb.title.principals': 'tconst'}"
   ]
  },
  {
   "cell_type": "code",
   "execution_count": null,
   "metadata": {
    "ExecuteTime": {
     "end_time": "2020-05-30T17:01:29.568084Z",
     "start_time": "2020-05-30T17:01:29.552631Z"
    }
   },
   "outputs": [],
   "source": [
    "DATA['imdb.title.principals']"
   ]
  },
  {
   "cell_type": "code",
   "execution_count": null,
   "metadata": {
    "ExecuteTime": {
     "end_time": "2020-05-30T17:01:29.688133Z",
     "start_time": "2020-05-30T17:01:29.569518Z"
    }
   },
   "outputs": [],
   "source": [
    "unique_tconst = {}\n",
    "for table_name,key_col in KEY_COLS.items():\n",
    "    table = DATA[table_name]\n",
    "    print(table_name)\n",
    "#     print(key_col)\n",
    "\n",
    "    if 'tconst' in key_col:\n",
    "        print(key_col)\n",
    "        print()\n",
    "\n",
    "        unique_tconst[table_name] = table[key_col].unique()\n",
    "    else:\n",
    "        print('N/A')\n",
    "        \n",
    "    print()\n"
   ]
  },
  {
   "cell_type": "code",
   "execution_count": null,
   "metadata": {
    "ExecuteTime": {
     "end_time": "2020-05-30T17:01:29.693884Z",
     "start_time": "2020-05-30T17:01:29.689707Z"
    }
   },
   "outputs": [],
   "source": [
    "unique_tconst"
   ]
  },
  {
   "cell_type": "code",
   "execution_count": null,
   "metadata": {
    "ExecuteTime": {
     "end_time": "2020-05-30T17:01:29.700074Z",
     "start_time": "2020-05-30T17:01:29.695663Z"
    }
   },
   "outputs": [],
   "source": [
    "[len(v) for x,v in unique_tconst.items()]"
   ]
  },
  {
   "cell_type": "code",
   "execution_count": null,
   "metadata": {
    "ExecuteTime": {
     "end_time": "2020-05-30T17:01:29.705820Z",
     "start_time": "2020-05-30T17:01:29.701785Z"
    }
   },
   "outputs": [],
   "source": [
    "matching_key_cols = [k for k in unique_tconst if len(unique_tconst[k])==146144 ]\n",
    "matching_key_cols"
   ]
  },
  {
   "cell_type": "code",
   "execution_count": null,
   "metadata": {
    "ExecuteTime": {
     "end_time": "2020-05-30T17:01:29.902135Z",
     "start_time": "2020-05-30T17:01:29.707226Z"
    }
   },
   "outputs": [],
   "source": [
    "df_imdb = pd.merge(DATA['imdb.title.crew'],DATA['imdb.title.basics'],\n",
    "                   how='outer',suffixes=('crew','basics') )\n",
    "df_imdb"
   ]
  },
  {
   "cell_type": "code",
   "execution_count": null,
   "metadata": {
    "ExecuteTime": {
     "end_time": "2020-05-30T17:01:29.908772Z",
     "start_time": "2020-05-30T17:01:29.904528Z"
    }
   },
   "outputs": [],
   "source": [
    "non_matching_key_cols = [k for k in unique_tconst if len(unique_tconst[k])!=146144 ]\n",
    "non_matching_key_cols"
   ]
  },
  {
   "cell_type": "code",
   "execution_count": null,
   "metadata": {
    "ExecuteTime": {
     "end_time": "2020-05-30T17:01:29.914085Z",
     "start_time": "2020-05-30T17:01:29.910303Z"
    }
   },
   "outputs": [],
   "source": [
    "[DATA[x].shape for x in non_matching_key_cols] "
   ]
  },
  {
   "cell_type": "markdown",
   "metadata": {},
   "source": [
    "### Notes: COLUMNNS OF INTEREST\n",
    "    - \"averagerating\"(imdb.ratings)"
   ]
  },
  {
   "cell_type": "code",
   "execution_count": null,
   "metadata": {
    "ExecuteTime": {
     "end_time": "2020-05-30T17:01:29.937923Z",
     "start_time": "2020-05-30T17:01:29.915469Z"
    }
   },
   "outputs": [],
   "source": [
    "display(DATA[non_matching_key_cols[0]],DATA[non_matching_key_cols[1]])"
   ]
  },
  {
   "cell_type": "code",
   "execution_count": null,
   "metadata": {
    "ExecuteTime": {
     "end_time": "2020-05-30T17:01:29.958312Z",
     "start_time": "2020-05-30T17:01:29.939333Z"
    }
   },
   "outputs": [],
   "source": [
    "df_imdb"
   ]
  },
  {
   "cell_type": "code",
   "execution_count": null,
   "metadata": {
    "ExecuteTime": {
     "end_time": "2020-05-30T17:01:29.970018Z",
     "start_time": "2020-05-30T17:01:29.959748Z"
    }
   },
   "outputs": [],
   "source": [
    "DATA['imdb.title.ratings']"
   ]
  },
  {
   "cell_type": "code",
   "execution_count": null,
   "metadata": {
    "ExecuteTime": {
     "end_time": "2020-05-30T17:01:30.082520Z",
     "start_time": "2020-05-30T17:01:29.971367Z"
    }
   },
   "outputs": [],
   "source": [
    "df = pd.merge(df_imdb, DATA['imdb.title.ratings'],on='tconst',how='outer')\n",
    "df"
   ]
  },
  {
   "cell_type": "code",
   "execution_count": null,
   "metadata": {
    "ExecuteTime": {
     "end_time": "2020-05-30T17:01:30.192268Z",
     "start_time": "2020-05-30T17:01:30.083826Z"
    }
   },
   "outputs": [],
   "source": [
    "df.info()"
   ]
  },
  {
   "cell_type": "code",
   "execution_count": null,
   "metadata": {
    "ExecuteTime": {
     "end_time": "2020-05-30T17:01:30.196476Z",
     "start_time": "2020-05-30T17:01:30.193741Z"
    }
   },
   "outputs": [],
   "source": [
    "plt.rcParams['figure.figsize'] = [12,10]"
   ]
  },
  {
   "cell_type": "code",
   "execution_count": null,
   "metadata": {
    "ExecuteTime": {
     "end_time": "2020-05-30T17:01:37.809831Z",
     "start_time": "2020-05-30T17:01:30.198008Z"
    }
   },
   "outputs": [],
   "source": [
    "scatmat = pd.plotting.scatter_matrix(df);"
   ]
  },
  {
   "cell_type": "code",
   "execution_count": null,
   "metadata": {
    "ExecuteTime": {
     "end_time": "2020-05-30T17:01:38.802729Z",
     "start_time": "2020-05-30T17:01:37.811164Z"
    }
   },
   "outputs": [],
   "source": [
    "import missingno as ms\n",
    "ms.matrix(df)"
   ]
  },
  {
   "cell_type": "code",
   "execution_count": null,
   "metadata": {
    "ExecuteTime": {
     "end_time": "2020-05-30T17:01:38.832696Z",
     "start_time": "2020-05-30T17:01:38.804072Z"
    }
   },
   "outputs": [],
   "source": [
    "df[df['runtime_minutes'].isna()].isna().sum()"
   ]
  },
  {
   "cell_type": "code",
   "execution_count": null,
   "metadata": {
    "ExecuteTime": {
     "end_time": "2020-05-30T17:01:38.878801Z",
     "start_time": "2020-05-30T17:01:38.834757Z"
    }
   },
   "outputs": [],
   "source": [
    "rated = df[df['averagerating'].notnull()].copy()\n",
    "rated"
   ]
  },
  {
   "cell_type": "code",
   "execution_count": null,
   "metadata": {
    "ExecuteTime": {
     "end_time": "2020-05-30T17:01:46.057831Z",
     "start_time": "2020-05-30T17:01:38.880524Z"
    }
   },
   "outputs": [],
   "source": [
    "scatmat = pd.plotting.scatter_matrix(rated);"
   ]
  },
  {
   "cell_type": "code",
   "execution_count": null,
   "metadata": {
    "ExecuteTime": {
     "end_time": "2020-05-30T17:01:51.043418Z",
     "start_time": "2020-05-30T17:01:46.059404Z"
    }
   },
   "outputs": [],
   "source": [
    "import seaborn as sns\n",
    "sns.jointplot('averagerating','runtime_minutes',data=rated,kind='reg')"
   ]
  },
  {
   "cell_type": "code",
   "execution_count": null,
   "metadata": {
    "ExecuteTime": {
     "end_time": "2020-05-30T17:01:51.357636Z",
     "start_time": "2020-05-30T17:01:51.044685Z"
    }
   },
   "outputs": [],
   "source": [
    "sns.boxplot(x='start_year',y='runtime_minutes',data=rated)"
   ]
  },
  {
   "cell_type": "code",
   "execution_count": null,
   "metadata": {
    "ExecuteTime": {
     "end_time": "2020-05-30T17:01:51.365090Z",
     "start_time": "2020-05-30T17:01:51.358889Z"
    }
   },
   "outputs": [],
   "source": [
    "import scipy.stats as st\n",
    "\n",
    "rated['runtime_minutes']"
   ]
  },
  {
   "cell_type": "code",
   "execution_count": null,
   "metadata": {
    "ExecuteTime": {
     "end_time": "2020-05-30T17:01:51.399261Z",
     "start_time": "2020-05-30T17:01:51.366904Z"
    }
   },
   "outputs": [],
   "source": [
    "rated.isna().sum()/len(rated)"
   ]
  },
  {
   "cell_type": "code",
   "execution_count": null,
   "metadata": {
    "ExecuteTime": {
     "end_time": "2020-05-30T17:01:51.444178Z",
     "start_time": "2020-05-30T17:01:51.400725Z"
    }
   },
   "outputs": [],
   "source": [
    "rated.dropna(inplace=True)"
   ]
  },
  {
   "cell_type": "code",
   "execution_count": null,
   "metadata": {
    "ExecuteTime": {
     "end_time": "2020-05-30T17:01:51.450645Z",
     "start_time": "2020-05-30T17:01:51.445707Z"
    }
   },
   "outputs": [],
   "source": [
    "idx_outs = np.abs(st.zscore(rated['runtime_minutes'])) >3\n",
    "idx_outs.sum()"
   ]
  },
  {
   "cell_type": "code",
   "execution_count": null,
   "metadata": {
    "ExecuteTime": {
     "end_time": "2020-05-30T17:01:55.145833Z",
     "start_time": "2020-05-30T17:01:51.452241Z"
    }
   },
   "outputs": [],
   "source": [
    "sns.jointplot('averagerating','runtime_minutes',data=rated,kind='reg')"
   ]
  },
  {
   "cell_type": "code",
   "execution_count": null,
   "metadata": {
    "ExecuteTime": {
     "end_time": "2020-05-30T17:01:55.150015Z",
     "start_time": "2020-05-30T17:01:55.147122Z"
    }
   },
   "outputs": [],
   "source": [
    "rated['outlier'] = idx_outs"
   ]
  },
  {
   "cell_type": "code",
   "execution_count": null,
   "metadata": {
    "ExecuteTime": {
     "end_time": "2020-05-30T17:01:58.564702Z",
     "start_time": "2020-05-30T17:01:55.151307Z"
    }
   },
   "outputs": [],
   "source": [
    "sns.lmplot(x='averagerating',y='runtime_minutes',data=rated,hue='outlier')"
   ]
  },
  {
   "cell_type": "code",
   "execution_count": null,
   "metadata": {
    "ExecuteTime": {
     "end_time": "2020-05-30T17:02:01.873115Z",
     "start_time": "2020-05-30T17:01:58.565921Z"
    }
   },
   "outputs": [],
   "source": [
    "sns.lmplot(x='averagerating',y='runtime_minutes',data=rated[~idx_outs],hue='outlier')"
   ]
  },
  {
   "cell_type": "code",
   "execution_count": null,
   "metadata": {
    "ExecuteTime": {
     "end_time": "2020-05-30T17:02:01.876345Z",
     "start_time": "2020-05-30T17:02:01.874458Z"
    }
   },
   "outputs": [],
   "source": [
    "# stop"
   ]
  },
  {
   "cell_type": "markdown",
   "metadata": {},
   "source": [
    "# Joining dfrt (gross) + df_imdb"
   ]
  },
  {
   "cell_type": "code",
   "execution_count": null,
   "metadata": {
    "ExecuteTime": {
     "end_time": "2020-05-30T17:02:01.895760Z",
     "start_time": "2020-05-30T17:02:01.877668Z"
    }
   },
   "outputs": [],
   "source": [
    "dfrt.head()"
   ]
  },
  {
   "cell_type": "code",
   "execution_count": null,
   "metadata": {
    "ExecuteTime": {
     "end_time": "2020-05-30T17:02:01.913035Z",
     "start_time": "2020-05-30T17:02:01.897837Z"
    }
   },
   "outputs": [],
   "source": [
    "df.head()"
   ]
  },
  {
   "cell_type": "markdown",
   "metadata": {},
   "source": [
    "# Using Movie DataBase API\n",
    "- https://rapidapi.com/rapidapi/api/movie-database-imdb-alternative/details"
   ]
  },
  {
   "cell_type": "code",
   "execution_count": null,
   "metadata": {
    "ExecuteTime": {
     "end_time": "2020-05-30T17:02:02.182561Z",
     "start_time": "2020-05-30T17:02:01.914449Z"
    }
   },
   "outputs": [],
   "source": [
    "stop"
   ]
  },
  {
   "cell_type": "code",
   "execution_count": null,
   "metadata": {
    "ExecuteTime": {
     "end_time": "2020-05-30T17:02:02.184288Z",
     "start_time": "2020-05-30T17:00:59.570Z"
    }
   },
   "outputs": [],
   "source": [
    "df = DATA['tn.movie_budgets']\n",
    "df"
   ]
  },
  {
   "cell_type": "code",
   "execution_count": null,
   "metadata": {
    "ExecuteTime": {
     "end_time": "2020-05-30T17:02:02.185277Z",
     "start_time": "2020-05-30T17:00:59.573Z"
    }
   },
   "outputs": [],
   "source": [
    "df['movie']"
   ]
  },
  {
   "cell_type": "code",
   "execution_count": null,
   "metadata": {
    "ExecuteTime": {
     "end_time": "2020-05-30T17:02:02.186152Z",
     "start_time": "2020-05-30T17:00:59.575Z"
    }
   },
   "outputs": [],
   "source": [
    "import requests\n",
    "\n",
    "def get_mdb_api(query,query_params={}):\n",
    "    \"\"\"Submits a query using Movie DataBase\"\"\"\n",
    "    url = \"https://movie-database-imdb-alternative.p.rapidapi.com/\"\n",
    "\n",
    "    querystring = {\"r\":\"json\",\"s\":query,**query_params}\n",
    "\n",
    "    headers = {\n",
    "        'x-rapidapi-host': \"movie-database-imdb-alternative.p.rapidapi.com\",\n",
    "        'x-rapidapi-key': \"1ef8e1baa6msh959ec491b7e59fcp1c32b8jsn7c8644b514b1\"\n",
    "        }\n",
    "\n",
    "    response = requests.request(\"GET\", url, headers=headers, params=querystring)\n",
    "    return response\n",
    "\n",
    "def make_records_df(response):\n",
    "    \"\"\"Takes response from get_mdb_api (or the response.json()) and extracts\n",
    "    the search results to return as a df\"\"\"\n",
    "    if not isinstance(response,dict):\n",
    "        r = response.json()\n",
    "    else:\n",
    "        r = response\n",
    "    records = r['Search']\n",
    "    return pd.DataFrame.from_records(records)\n",
    "#     print(response.text)"
   ]
  },
  {
   "cell_type": "code",
   "execution_count": null,
   "metadata": {
    "ExecuteTime": {
     "end_time": "2020-05-30T17:02:02.186954Z",
     "start_time": "2020-05-30T17:00:59.578Z"
    }
   },
   "outputs": [],
   "source": [
    "resp = get_mdb_api('Dark Phoenix')"
   ]
  },
  {
   "cell_type": "code",
   "execution_count": null,
   "metadata": {
    "ExecuteTime": {
     "end_time": "2020-05-30T17:02:02.187919Z",
     "start_time": "2020-05-30T17:00:59.580Z"
    }
   },
   "outputs": [],
   "source": [
    "make_records_df(resp)"
   ]
  },
  {
   "cell_type": "markdown",
   "metadata": {},
   "source": [
    "### Testing with 1 Movie"
   ]
  },
  {
   "cell_type": "code",
   "execution_count": null,
   "metadata": {
    "ExecuteTime": {
     "end_time": "2020-05-30T17:02:02.188775Z",
     "start_time": "2020-05-30T17:00:59.584Z"
    }
   },
   "outputs": [],
   "source": [
    "test_movie = df.loc[df['movie']=='Avatar']\n",
    "test_movie"
   ]
  },
  {
   "cell_type": "code",
   "execution_count": null,
   "metadata": {
    "ExecuteTime": {
     "end_time": "2020-05-23T21:40:38.353667Z",
     "start_time": "2020-05-23T21:40:38.349992Z"
    }
   },
   "outputs": [],
   "source": []
  },
  {
   "cell_type": "code",
   "execution_count": null,
   "metadata": {
    "ExecuteTime": {
     "end_time": "2020-05-30T17:02:02.189506Z",
     "start_time": "2020-05-30T17:00:59.588Z"
    }
   },
   "outputs": [],
   "source": [
    "test = get_mdb_api(test_movie['movie'])\n",
    "test"
   ]
  },
  {
   "cell_type": "code",
   "execution_count": null,
   "metadata": {
    "ExecuteTime": {
     "end_time": "2020-05-30T17:02:02.190872Z",
     "start_time": "2020-05-30T17:00:59.590Z"
    }
   },
   "outputs": [],
   "source": [
    "resp = test.json()\n",
    "resp"
   ]
  },
  {
   "cell_type": "code",
   "execution_count": null,
   "metadata": {
    "ExecuteTime": {
     "end_time": "2020-05-30T17:02:02.192302Z",
     "start_time": "2020-05-30T17:00:59.592Z"
    }
   },
   "outputs": [],
   "source": [
    "resp.keys()"
   ]
  },
  {
   "cell_type": "code",
   "execution_count": null,
   "metadata": {
    "ExecuteTime": {
     "end_time": "2020-05-30T17:02:02.193318Z",
     "start_time": "2020-05-30T17:00:59.594Z"
    }
   },
   "outputs": [],
   "source": [
    "res_df = pd.DataFrame.from_records(resp['Search'])\n",
    "res_df"
   ]
  },
  {
   "cell_type": "code",
   "execution_count": null,
   "metadata": {
    "ExecuteTime": {
     "end_time": "2020-05-30T17:02:02.194366Z",
     "start_time": "2020-05-30T17:00:59.596Z"
    }
   },
   "outputs": [],
   "source": [
    "test_movie.T[0]"
   ]
  },
  {
   "cell_type": "code",
   "execution_count": null,
   "metadata": {
    "ExecuteTime": {
     "end_time": "2020-05-30T17:02:02.195201Z",
     "start_time": "2020-05-30T17:00:59.599Z"
    }
   },
   "outputs": [],
   "source": [
    "test_movie['movie']"
   ]
  },
  {
   "cell_type": "code",
   "execution_count": null,
   "metadata": {
    "ExecuteTime": {
     "end_time": "2020-05-30T17:02:02.196228Z",
     "start_time": "2020-05-30T17:00:59.601Z"
    }
   },
   "outputs": [],
   "source": [
    "res_df['Title']"
   ]
  },
  {
   "cell_type": "code",
   "execution_count": null,
   "metadata": {
    "ExecuteTime": {
     "end_time": "2020-05-30T17:02:02.197040Z",
     "start_time": "2020-05-30T17:00:59.604Z"
    }
   },
   "outputs": [],
   "source": [
    "## Check which result matches \n",
    "matches = res_df['Title'].isin(test_movie['movie'])\n",
    "res_df[matches]"
   ]
  },
  {
   "cell_type": "code",
   "execution_count": null,
   "metadata": {
    "ExecuteTime": {
     "end_time": "2020-05-30T17:02:02.198033Z",
     "start_time": "2020-05-30T17:00:59.606Z"
    }
   },
   "outputs": [],
   "source": [
    "test_movie"
   ]
  },
  {
   "cell_type": "code",
   "execution_count": null,
   "metadata": {},
   "outputs": [],
   "source": []
  }
 ],
 "metadata": {
  "kernelspec": {
   "display_name": "learn-env",
   "language": "python",
   "name": "learn-env"
  },
  "language_info": {
   "codemirror_mode": {
    "name": "ipython",
    "version": 3
   },
   "file_extension": ".py",
   "mimetype": "text/x-python",
   "name": "python",
   "nbconvert_exporter": "python",
   "pygments_lexer": "ipython3",
   "version": "3.6.9"
  },
  "toc": {
   "base_numbering": 1,
   "nav_menu": {},
   "number_sections": false,
   "sideBar": true,
   "skip_h1_title": false,
   "title_cell": "Table of Contents",
   "title_sidebar": "Contents",
   "toc_cell": false,
   "toc_position": {},
   "toc_section_display": true,
   "toc_window_display": true
  }
 },
 "nbformat": 4,
 "nbformat_minor": 2
}
