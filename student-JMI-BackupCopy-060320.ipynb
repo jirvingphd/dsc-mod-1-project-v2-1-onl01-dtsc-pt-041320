{
 "cells": [
  {
   "cell_type": "code",
   "execution_count": null,
   "metadata": {},
   "outputs": [],
   "source": []
  },
  {
   "cell_type": "markdown",
   "metadata": {},
   "source": [
    "## Final Project Submission\n",
    "\n",
    "Please fill out:\n",
    "* Student name: \n",
    "* Student pace: self paced / part time / full time\n",
    "* Scheduled project review date/time: \n",
    "* Instructor name: \n",
    "* Blog post URL:\n"
   ]
  },
  {
   "cell_type": "code",
   "execution_count": 59,
   "metadata": {
    "ExecuteTime": {
     "end_time": "2020-06-03T18:10:18.335802Z",
     "start_time": "2020-06-03T18:10:18.333751Z"
    },
    "scrolled": false
   },
   "outputs": [],
   "source": [
    "# import  IPython.display as dp\n",
    "# with open('README.md','r+', encoding='utf-8') as f:\n",
    "#     dp.display(dp.Markdown(f.read()))"
   ]
  },
  {
   "cell_type": "markdown",
   "metadata": {},
   "source": [
    "> ### Your team is charged with doing data analysis and creating a presentation that explores what type of films are currently doing the best at the box office. You must then translate those findings into actionable insights that the CEO can use when deciding what type of films they should be creating."
   ]
  },
  {
   "cell_type": "code",
   "execution_count": 60,
   "metadata": {
    "ExecuteTime": {
     "end_time": "2020-06-03T18:10:20.286503Z",
     "start_time": "2020-06-03T18:10:18.339369Z"
    }
   },
   "outputs": [
    {
     "name": "stdout",
     "output_type": "stream",
     "text": [
      "Requirement already up-to-date: fsds in /opt/anaconda3/envs/learn-env/lib/python3.6/site-packages (0.2.9)\n",
      "Requirement already satisfied, skipping upgrade: ipywidgets in /opt/anaconda3/envs/learn-env/lib/python3.6/site-packages (from fsds) (7.5.1)\n",
      "Requirement already satisfied, skipping upgrade: pyperclip in /opt/anaconda3/envs/learn-env/lib/python3.6/site-packages (from fsds) (1.8.0)\n",
      "Requirement already satisfied, skipping upgrade: missingno in /opt/anaconda3/envs/learn-env/lib/python3.6/site-packages (from fsds) (0.4.2)\n",
      "Requirement already satisfied, skipping upgrade: pandas-profiling in /opt/anaconda3/envs/learn-env/lib/python3.6/site-packages (from fsds) (2.8.0)\n",
      "Requirement already satisfied, skipping upgrade: pprint in /opt/anaconda3/envs/learn-env/lib/python3.6/site-packages (from fsds) (0.1)\n",
      "Requirement already satisfied, skipping upgrade: pandas in /opt/anaconda3/envs/learn-env/lib/python3.6/site-packages (from fsds) (1.0.4)\n",
      "Requirement already satisfied, skipping upgrade: matplotlib>=3.1.1 in /opt/anaconda3/envs/learn-env/lib/python3.6/site-packages (from fsds) (3.2.1)\n",
      "Requirement already satisfied, skipping upgrade: tzlocal in /opt/anaconda3/envs/learn-env/lib/python3.6/site-packages (from fsds) (2.1)\n",
      "Requirement already satisfied, skipping upgrade: cufflinks in /opt/anaconda3/envs/learn-env/lib/python3.6/site-packages (from fsds) (0.17.3)\n",
      "Requirement already satisfied, skipping upgrade: seaborn in /opt/anaconda3/envs/learn-env/lib/python3.6/site-packages (from fsds) (0.9.0)\n",
      "Requirement already satisfied, skipping upgrade: IPython in /opt/anaconda3/envs/learn-env/lib/python3.6/site-packages (from fsds) (7.8.0)\n",
      "Requirement already satisfied, skipping upgrade: scipy in /opt/anaconda3/envs/learn-env/lib/python3.6/site-packages (from fsds) (1.4.1)\n",
      "Requirement already satisfied, skipping upgrade: scikit-learn>=0.23.1 in /opt/anaconda3/envs/learn-env/lib/python3.6/site-packages (from fsds) (0.23.1)\n",
      "Requirement already satisfied, skipping upgrade: wordcloud in /opt/anaconda3/envs/learn-env/lib/python3.6/site-packages (from fsds) (1.7.0)\n",
      "Requirement already satisfied, skipping upgrade: numpy>=1.18 in /opt/anaconda3/envs/learn-env/lib/python3.6/site-packages (from fsds) (1.18.4)\n",
      "Requirement already satisfied, skipping upgrade: ipykernel>=4.5.1 in /opt/anaconda3/envs/learn-env/lib/python3.6/site-packages (from ipywidgets->fsds) (5.1.2)\n",
      "Requirement already satisfied, skipping upgrade: widgetsnbextension~=3.5.0 in /opt/anaconda3/envs/learn-env/lib/python3.6/site-packages (from ipywidgets->fsds) (3.5.1)\n",
      "Requirement already satisfied, skipping upgrade: traitlets>=4.3.1 in /opt/anaconda3/envs/learn-env/lib/python3.6/site-packages (from ipywidgets->fsds) (4.3.2)\n",
      "Requirement already satisfied, skipping upgrade: nbformat>=4.2.0 in /opt/anaconda3/envs/learn-env/lib/python3.6/site-packages (from ipywidgets->fsds) (4.4.0)\n",
      "Requirement already satisfied, skipping upgrade: tqdm>=4.43.0 in /opt/anaconda3/envs/learn-env/lib/python3.6/site-packages (from pandas-profiling->fsds) (4.46.0)\n",
      "Requirement already satisfied, skipping upgrade: confuse>=1.0.0 in /opt/anaconda3/envs/learn-env/lib/python3.6/site-packages (from pandas-profiling->fsds) (1.1.0)\n",
      "Requirement already satisfied, skipping upgrade: tangled-up-in-unicode>=0.0.6 in /opt/anaconda3/envs/learn-env/lib/python3.6/site-packages (from pandas-profiling->fsds) (0.0.6)\n",
      "Requirement already satisfied, skipping upgrade: htmlmin>=0.1.12 in /opt/anaconda3/envs/learn-env/lib/python3.6/site-packages (from pandas-profiling->fsds) (0.1.12)\n",
      "Requirement already satisfied, skipping upgrade: phik>=0.9.10 in /opt/anaconda3/envs/learn-env/lib/python3.6/site-packages (from pandas-profiling->fsds) (0.10.0)\n",
      "Requirement already satisfied, skipping upgrade: jinja2>=2.11.1 in /opt/anaconda3/envs/learn-env/lib/python3.6/site-packages (from pandas-profiling->fsds) (2.11.2)\n",
      "Requirement already satisfied, skipping upgrade: visions[type_image_path]==0.4.4 in /opt/anaconda3/envs/learn-env/lib/python3.6/site-packages (from pandas-profiling->fsds) (0.4.4)\n",
      "Requirement already satisfied, skipping upgrade: joblib in /opt/anaconda3/envs/learn-env/lib/python3.6/site-packages (from pandas-profiling->fsds) (0.13.2)\n",
      "Requirement already satisfied, skipping upgrade: astropy>=4.0 in /opt/anaconda3/envs/learn-env/lib/python3.6/site-packages (from pandas-profiling->fsds) (4.0.1.post1)\n",
      "Requirement already satisfied, skipping upgrade: requests>=2.23.0 in /opt/anaconda3/envs/learn-env/lib/python3.6/site-packages (from pandas-profiling->fsds) (2.23.0)\n",
      "Requirement already satisfied, skipping upgrade: python-dateutil>=2.6.1 in /opt/anaconda3/envs/learn-env/lib/python3.6/site-packages (from pandas->fsds) (2.8.0)\n",
      "Requirement already satisfied, skipping upgrade: pytz>=2017.2 in /opt/anaconda3/envs/learn-env/lib/python3.6/site-packages (from pandas->fsds) (2019.2)\n",
      "Requirement already satisfied, skipping upgrade: kiwisolver>=1.0.1 in /opt/anaconda3/envs/learn-env/lib/python3.6/site-packages (from matplotlib>=3.1.1->fsds) (1.1.0)\n",
      "Requirement already satisfied, skipping upgrade: pyparsing!=2.0.4,!=2.1.2,!=2.1.6,>=2.0.1 in /opt/anaconda3/envs/learn-env/lib/python3.6/site-packages (from matplotlib>=3.1.1->fsds) (2.4.2)\n",
      "Requirement already satisfied, skipping upgrade: cycler>=0.10 in /opt/anaconda3/envs/learn-env/lib/python3.6/site-packages (from matplotlib>=3.1.1->fsds) (0.10.0)\n",
      "Requirement already satisfied, skipping upgrade: plotly>=4.1.1 in /opt/anaconda3/envs/learn-env/lib/python3.6/site-packages (from cufflinks->fsds) (4.1.1)\n",
      "Requirement already satisfied, skipping upgrade: colorlover>=0.2.1 in /opt/anaconda3/envs/learn-env/lib/python3.6/site-packages (from cufflinks->fsds) (0.3.0)\n",
      "Requirement already satisfied, skipping upgrade: setuptools>=34.4.1 in /Users/jamesirving/.local/lib/python3.6/site-packages (from cufflinks->fsds) (46.1.2)\n",
      "Requirement already satisfied, skipping upgrade: six>=1.9.0 in /opt/anaconda3/envs/learn-env/lib/python3.6/site-packages (from cufflinks->fsds) (1.12.0)\n",
      "Requirement already satisfied, skipping upgrade: prompt-toolkit<2.1.0,>=2.0.0 in /opt/anaconda3/envs/learn-env/lib/python3.6/site-packages (from IPython->fsds) (2.0.9)\n",
      "Requirement already satisfied, skipping upgrade: backcall in /opt/anaconda3/envs/learn-env/lib/python3.6/site-packages (from IPython->fsds) (0.1.0)\n",
      "Requirement already satisfied, skipping upgrade: pickleshare in /opt/anaconda3/envs/learn-env/lib/python3.6/site-packages (from IPython->fsds) (0.7.5)\n",
      "Requirement already satisfied, skipping upgrade: decorator in /opt/anaconda3/envs/learn-env/lib/python3.6/site-packages (from IPython->fsds) (4.4.0)\n",
      "Requirement already satisfied, skipping upgrade: appnope; sys_platform == \"darwin\" in /opt/anaconda3/envs/learn-env/lib/python3.6/site-packages (from IPython->fsds) (0.1.0)\n",
      "Requirement already satisfied, skipping upgrade: pygments in /opt/anaconda3/envs/learn-env/lib/python3.6/site-packages (from IPython->fsds) (2.4.2)\n",
      "Requirement already satisfied, skipping upgrade: pexpect; sys_platform != \"win32\" in /opt/anaconda3/envs/learn-env/lib/python3.6/site-packages (from IPython->fsds) (4.7.0)\n",
      "Requirement already satisfied, skipping upgrade: jedi>=0.10 in /opt/anaconda3/envs/learn-env/lib/python3.6/site-packages (from IPython->fsds) (0.15.1)\n",
      "Requirement already satisfied, skipping upgrade: threadpoolctl>=2.0.0 in /opt/anaconda3/envs/learn-env/lib/python3.6/site-packages (from scikit-learn>=0.23.1->fsds) (2.0.0)\n",
      "Requirement already satisfied, skipping upgrade: pillow in /opt/anaconda3/envs/learn-env/lib/python3.6/site-packages (from wordcloud->fsds) (6.1.0)\n",
      "Requirement already satisfied, skipping upgrade: jupyter-client in /opt/anaconda3/envs/learn-env/lib/python3.6/site-packages (from ipykernel>=4.5.1->ipywidgets->fsds) (5.3.3)\n",
      "Requirement already satisfied, skipping upgrade: tornado>=4.2 in /opt/anaconda3/envs/learn-env/lib/python3.6/site-packages (from ipykernel>=4.5.1->ipywidgets->fsds) (6.0.3)\n",
      "Requirement already satisfied, skipping upgrade: notebook>=4.4.1 in /opt/anaconda3/envs/learn-env/lib/python3.6/site-packages (from widgetsnbextension~=3.5.0->ipywidgets->fsds) (5.7.8)\n",
      "Requirement already satisfied, skipping upgrade: ipython_genutils in /opt/anaconda3/envs/learn-env/lib/python3.6/site-packages (from traitlets>=4.3.1->ipywidgets->fsds) (0.2.0)\n",
      "Requirement already satisfied, skipping upgrade: jupyter-core in /opt/anaconda3/envs/learn-env/lib/python3.6/site-packages (from nbformat>=4.2.0->ipywidgets->fsds) (4.5.0)\n",
      "Requirement already satisfied, skipping upgrade: jsonschema!=2.5.0,>=2.4 in /opt/anaconda3/envs/learn-env/lib/python3.6/site-packages (from nbformat>=4.2.0->ipywidgets->fsds) (3.0.2)\n",
      "Requirement already satisfied, skipping upgrade: pyyaml in /opt/anaconda3/envs/learn-env/lib/python3.6/site-packages (from confuse>=1.0.0->pandas-profiling->fsds) (5.3.1)\n",
      "Requirement already satisfied, skipping upgrade: numba>=0.38.1 in /opt/anaconda3/envs/learn-env/lib/python3.6/site-packages (from phik>=0.9.10->pandas-profiling->fsds) (0.49.1)\n"
     ]
    },
    {
     "name": "stdout",
     "output_type": "stream",
     "text": [
      "Requirement already satisfied, skipping upgrade: MarkupSafe>=0.23 in /opt/anaconda3/envs/learn-env/lib/python3.6/site-packages (from jinja2>=2.11.1->pandas-profiling->fsds) (1.1.1)\n",
      "Requirement already satisfied, skipping upgrade: attrs>=19.3.0 in /opt/anaconda3/envs/learn-env/lib/python3.6/site-packages (from visions[type_image_path]==0.4.4->pandas-profiling->fsds) (19.3.0)\n",
      "Requirement already satisfied, skipping upgrade: networkx>=2.4 in /opt/anaconda3/envs/learn-env/lib/python3.6/site-packages (from visions[type_image_path]==0.4.4->pandas-profiling->fsds) (2.4)\n",
      "Requirement already satisfied, skipping upgrade: imagehash; extra == \"type_image_path\" in /opt/anaconda3/envs/learn-env/lib/python3.6/site-packages (from visions[type_image_path]==0.4.4->pandas-profiling->fsds) (4.1.0)\n",
      "Requirement already satisfied, skipping upgrade: certifi>=2017.4.17 in /opt/anaconda3/envs/learn-env/lib/python3.6/site-packages (from requests>=2.23.0->pandas-profiling->fsds) (2020.4.5.1)\n",
      "Requirement already satisfied, skipping upgrade: chardet<4,>=3.0.2 in /opt/anaconda3/envs/learn-env/lib/python3.6/site-packages (from requests>=2.23.0->pandas-profiling->fsds) (3.0.4)\n",
      "Requirement already satisfied, skipping upgrade: urllib3!=1.25.0,!=1.25.1,<1.26,>=1.21.1 in /opt/anaconda3/envs/learn-env/lib/python3.6/site-packages (from requests>=2.23.0->pandas-profiling->fsds) (1.24.2)\n",
      "Requirement already satisfied, skipping upgrade: idna<3,>=2.5 in /opt/anaconda3/envs/learn-env/lib/python3.6/site-packages (from requests>=2.23.0->pandas-profiling->fsds) (2.8)\n",
      "Requirement already satisfied, skipping upgrade: retrying>=1.3.3 in /opt/anaconda3/envs/learn-env/lib/python3.6/site-packages (from plotly>=4.1.1->cufflinks->fsds) (1.3.3)\n",
      "Requirement already satisfied, skipping upgrade: wcwidth in /opt/anaconda3/envs/learn-env/lib/python3.6/site-packages (from prompt-toolkit<2.1.0,>=2.0.0->IPython->fsds) (0.1.7)\n",
      "Requirement already satisfied, skipping upgrade: ptyprocess>=0.5 in /opt/anaconda3/envs/learn-env/lib/python3.6/site-packages (from pexpect; sys_platform != \"win32\"->IPython->fsds) (0.6.0)\n",
      "Requirement already satisfied, skipping upgrade: parso>=0.5.0 in /opt/anaconda3/envs/learn-env/lib/python3.6/site-packages (from jedi>=0.10->IPython->fsds) (0.5.1)\n",
      "Requirement already satisfied, skipping upgrade: pyzmq>=13 in /opt/anaconda3/envs/learn-env/lib/python3.6/site-packages (from jupyter-client->ipykernel>=4.5.1->ipywidgets->fsds) (18.1.0)\n",
      "Requirement already satisfied, skipping upgrade: Send2Trash in /opt/anaconda3/envs/learn-env/lib/python3.6/site-packages (from notebook>=4.4.1->widgetsnbextension~=3.5.0->ipywidgets->fsds) (1.5.0)\n",
      "Requirement already satisfied, skipping upgrade: prometheus-client in /opt/anaconda3/envs/learn-env/lib/python3.6/site-packages (from notebook>=4.4.1->widgetsnbextension~=3.5.0->ipywidgets->fsds) (0.7.1)\n",
      "Requirement already satisfied, skipping upgrade: terminado>=0.8.1 in /opt/anaconda3/envs/learn-env/lib/python3.6/site-packages (from notebook>=4.4.1->widgetsnbextension~=3.5.0->ipywidgets->fsds) (0.8.2)\n",
      "Requirement already satisfied, skipping upgrade: nbconvert in /opt/anaconda3/envs/learn-env/lib/python3.6/site-packages (from notebook>=4.4.1->widgetsnbextension~=3.5.0->ipywidgets->fsds) (5.5.0)\n",
      "Requirement already satisfied, skipping upgrade: pyrsistent>=0.14.0 in /opt/anaconda3/envs/learn-env/lib/python3.6/site-packages (from jsonschema!=2.5.0,>=2.4->nbformat>=4.2.0->ipywidgets->fsds) (0.14.11)\n",
      "Requirement already satisfied, skipping upgrade: llvmlite<=0.33.0.dev0,>=0.31.0.dev0 in /opt/anaconda3/envs/learn-env/lib/python3.6/site-packages (from numba>=0.38.1->phik>=0.9.10->pandas-profiling->fsds) (0.32.1)\n",
      "Requirement already satisfied, skipping upgrade: PyWavelets in /opt/anaconda3/envs/learn-env/lib/python3.6/site-packages (from imagehash; extra == \"type_image_path\"->visions[type_image_path]==0.4.4->pandas-profiling->fsds) (1.1.1)\n",
      "Requirement already satisfied, skipping upgrade: bleach in /opt/anaconda3/envs/learn-env/lib/python3.6/site-packages (from nbconvert->notebook>=4.4.1->widgetsnbextension~=3.5.0->ipywidgets->fsds) (3.1.5)\n",
      "Requirement already satisfied, skipping upgrade: testpath in /opt/anaconda3/envs/learn-env/lib/python3.6/site-packages (from nbconvert->notebook>=4.4.1->widgetsnbextension~=3.5.0->ipywidgets->fsds) (0.4.2)\n",
      "Requirement already satisfied, skipping upgrade: pandocfilters>=1.4.1 in /opt/anaconda3/envs/learn-env/lib/python3.6/site-packages (from nbconvert->notebook>=4.4.1->widgetsnbextension~=3.5.0->ipywidgets->fsds) (1.4.2)\n",
      "Requirement already satisfied, skipping upgrade: defusedxml in /opt/anaconda3/envs/learn-env/lib/python3.6/site-packages (from nbconvert->notebook>=4.4.1->widgetsnbextension~=3.5.0->ipywidgets->fsds) (0.6.0)\n",
      "Requirement already satisfied, skipping upgrade: mistune>=0.8.1 in /opt/anaconda3/envs/learn-env/lib/python3.6/site-packages (from nbconvert->notebook>=4.4.1->widgetsnbextension~=3.5.0->ipywidgets->fsds) (0.8.4)\n",
      "Requirement already satisfied, skipping upgrade: entrypoints>=0.2.2 in /opt/anaconda3/envs/learn-env/lib/python3.6/site-packages (from nbconvert->notebook>=4.4.1->widgetsnbextension~=3.5.0->ipywidgets->fsds) (0.3)\n",
      "Requirement already satisfied, skipping upgrade: packaging in /opt/anaconda3/envs/learn-env/lib/python3.6/site-packages (from bleach->nbconvert->notebook>=4.4.1->widgetsnbextension~=3.5.0->ipywidgets->fsds) (20.4)\n",
      "Requirement already satisfied, skipping upgrade: webencodings in /opt/anaconda3/envs/learn-env/lib/python3.6/site-packages (from bleach->nbconvert->notebook>=4.4.1->widgetsnbextension~=3.5.0->ipywidgets->fsds) (0.5.1)\n"
     ]
    }
   ],
   "source": [
    "# Your code here - remember to use markdown cells for comments as well!\n",
    "!pip install -U fsds\n",
    "from fsds.imports import *"
   ]
  },
  {
   "cell_type": "code",
   "execution_count": null,
   "metadata": {},
   "outputs": [],
   "source": []
  },
  {
   "cell_type": "code",
   "execution_count": 61,
   "metadata": {
    "ExecuteTime": {
     "end_time": "2020-06-03T18:10:20.293575Z",
     "start_time": "2020-06-03T18:10:20.288676Z"
    }
   },
   "outputs": [
    {
     "data": {
      "text/plain": [
       "['zippedData/imdb.title.crew.csv.gz',\n",
       " 'zippedData/tmdb.movies.csv.gz',\n",
       " 'zippedData/imdb.title.akas.csv.gz',\n",
       " 'zippedData/imdb.title.ratings.csv.gz',\n",
       " 'zippedData/imdb.name.basics.csv.gz',\n",
       " 'zippedData/rt.reviews.tsv.gz',\n",
       " 'zippedData/imdb.title.basics.csv.gz',\n",
       " 'zippedData/rt.movie_info.tsv.gz',\n",
       " 'zippedData/tn.movie_budgets.csv.gz',\n",
       " 'zippedData/bom.movie_gross.csv.gz',\n",
       " 'zippedData/imdb.title.principals.csv.gz']"
      ]
     },
     "execution_count": 61,
     "metadata": {},
     "output_type": "execute_result"
    }
   ],
   "source": [
    "import os,glob\n",
    "# display(os.listdir('zippedData'))\n",
    "\n",
    "\n",
    "files = glob.glob('zippedData/*')\n",
    "files"
   ]
  },
  {
   "cell_type": "code",
   "execution_count": 62,
   "metadata": {
    "ExecuteTime": {
     "end_time": "2020-06-03T18:10:20.300001Z",
     "start_time": "2020-06-03T18:10:20.295475Z"
    }
   },
   "outputs": [
    {
     "data": {
      "text/plain": [
       "['zippedData/imdb.title.crew.csv.gz',\n",
       " 'zippedData/tmdb.movies.csv.gz',\n",
       " 'zippedData/imdb.title.akas.csv.gz',\n",
       " 'zippedData/imdb.title.ratings.csv.gz',\n",
       " 'zippedData/imdb.name.basics.csv.gz',\n",
       " 'zippedData/rt.reviews.tsv.gz',\n",
       " 'zippedData/imdb.title.basics.csv.gz',\n",
       " 'zippedData/rt.movie_info.tsv.gz',\n",
       " 'zippedData/tn.movie_budgets.csv.gz',\n",
       " 'zippedData/bom.movie_gross.csv.gz',\n",
       " 'zippedData/imdb.title.principals.csv.gz']"
      ]
     },
     "execution_count": 62,
     "metadata": {},
     "output_type": "execute_result"
    }
   ],
   "source": [
    "files = glob.glob('zippedData/*')\n",
    "files"
   ]
  },
  {
   "cell_type": "code",
   "execution_count": 63,
   "metadata": {
    "ExecuteTime": {
     "end_time": "2020-06-03T18:10:20.305976Z",
     "start_time": "2020-06-03T18:10:20.302040Z"
    }
   },
   "outputs": [
    {
     "data": {
      "text/plain": [
       "'imdb.title.crew'"
      ]
     },
     "execution_count": 63,
     "metadata": {},
     "output_type": "execute_result"
    }
   ],
   "source": [
    "os.path.split(files[0])[-1].replace('.csv.gz','')"
   ]
  },
  {
   "cell_type": "code",
   "execution_count": 64,
   "metadata": {
    "ExecuteTime": {
     "end_time": "2020-06-03T18:10:24.315787Z",
     "start_time": "2020-06-03T18:10:20.307450Z"
    }
   },
   "outputs": [
    {
     "name": "stdout",
     "output_type": "stream",
     "text": [
      "zippedData/imdb.title.crew.csv.gz\n",
      "zippedData/tmdb.movies.csv.gz\n",
      "zippedData/imdb.title.akas.csv.gz\n",
      "zippedData/imdb.title.ratings.csv.gz\n",
      "zippedData/imdb.name.basics.csv.gz\n",
      "zippedData/rt.reviews.tsv.gz\n",
      "zippedData/imdb.title.basics.csv.gz\n",
      "zippedData/rt.movie_info.tsv.gz\n",
      "zippedData/tn.movie_budgets.csv.gz\n",
      "zippedData/bom.movie_gross.csv.gz\n",
      "zippedData/imdb.title.principals.csv.gz\n"
     ]
    }
   ],
   "source": [
    "DATA = {}\n",
    "for file in files:\n",
    "    print(file)\n",
    "    key = os.path.split(file)[-1].replace('.csv.gz','').replace('tsv.gz','')\n",
    "    if \".tsv\" in file:\n",
    "        sep='\\t'\n",
    "        encode = 'latin-1'#'utf-8'\n",
    "    else:\n",
    "        sep=','\n",
    "        encode='utf-8'\n",
    "    DATA[key] = pd.read_csv(file,sep=sep,encoding=encode)#,index_col=0)"
   ]
  },
  {
   "cell_type": "markdown",
   "metadata": {},
   "source": [
    "# Preview Data"
   ]
  },
  {
   "cell_type": "markdown",
   "metadata": {},
   "source": [
    "## Questions\n",
    "\n",
    "- **Where are the gross box office numbers?**\n",
    "    - rt.movie_info.\n",
    "        - Key: ?\n",
    "        \n",
    "    - tn.movie_budgets\n",
    "        - Key:\n",
    "        \n",
    "    - bom.movie_gross\n",
    "        - Key: \n",
    "        \n",
    "- **What website is that table from?**\n",
    "    - What other tables are from the same source and can be joined easily?\n",
    "\n",
    "- **What columns may require extensive pre-processing?**\n",
    "    - Any Genre columns\n",
    "        - `rt.movie.info.['genre']`"
   ]
  },
  {
   "cell_type": "code",
   "execution_count": 65,
   "metadata": {
    "ExecuteTime": {
     "end_time": "2020-06-03T18:10:24.358137Z",
     "start_time": "2020-06-03T18:10:24.317123Z"
    },
    "scrolled": true
   },
   "outputs": [
    {
     "data": {
      "text/html": [
       "<style  type=\"text/css\" >\n",
       "</style><table id=\"T_7ed4393a_a5c5_11ea_9952_4865ee12e626\" ><caption>imdb.title.crew</caption><thead>    <tr>        <th class=\"blank level0\" ></th>        <th class=\"col_heading level0 col0\" >tconst</th>        <th class=\"col_heading level0 col1\" >directors</th>        <th class=\"col_heading level0 col2\" >writers</th>    </tr></thead><tbody>\n",
       "                <tr>\n",
       "                        <th id=\"T_7ed4393a_a5c5_11ea_9952_4865ee12e626level0_row0\" class=\"row_heading level0 row0\" >0</th>\n",
       "                        <td id=\"T_7ed4393a_a5c5_11ea_9952_4865ee12e626row0_col0\" class=\"data row0 col0\" >tt0285252</td>\n",
       "                        <td id=\"T_7ed4393a_a5c5_11ea_9952_4865ee12e626row0_col1\" class=\"data row0 col1\" >nm0899854</td>\n",
       "                        <td id=\"T_7ed4393a_a5c5_11ea_9952_4865ee12e626row0_col2\" class=\"data row0 col2\" >nm0899854</td>\n",
       "            </tr>\n",
       "            <tr>\n",
       "                        <th id=\"T_7ed4393a_a5c5_11ea_9952_4865ee12e626level0_row1\" class=\"row_heading level0 row1\" >1</th>\n",
       "                        <td id=\"T_7ed4393a_a5c5_11ea_9952_4865ee12e626row1_col0\" class=\"data row1 col0\" >tt0438973</td>\n",
       "                        <td id=\"T_7ed4393a_a5c5_11ea_9952_4865ee12e626row1_col1\" class=\"data row1 col1\" >nan</td>\n",
       "                        <td id=\"T_7ed4393a_a5c5_11ea_9952_4865ee12e626row1_col2\" class=\"data row1 col2\" >nm0175726,nm1802864</td>\n",
       "            </tr>\n",
       "    </tbody></table>"
      ],
      "text/plain": [
       "<pandas.io.formats.style.Styler at 0x13c8f5c50>"
      ]
     },
     "metadata": {},
     "output_type": "display_data"
    },
    {
     "name": "stdout",
     "output_type": "stream",
     "text": [
      "146144\n",
      "\n"
     ]
    },
    {
     "data": {
      "text/html": [
       "<style  type=\"text/css\" >\n",
       "</style><table id=\"T_7ed48e6c_a5c5_11ea_86e0_4865ee12e626\" ><caption>tmdb.movies</caption><thead>    <tr>        <th class=\"blank level0\" ></th>        <th class=\"col_heading level0 col0\" >Unnamed: 0</th>        <th class=\"col_heading level0 col1\" >genre_ids</th>        <th class=\"col_heading level0 col2\" >id</th>        <th class=\"col_heading level0 col3\" >original_language</th>        <th class=\"col_heading level0 col4\" >original_title</th>        <th class=\"col_heading level0 col5\" >popularity</th>        <th class=\"col_heading level0 col6\" >release_date</th>        <th class=\"col_heading level0 col7\" >title</th>        <th class=\"col_heading level0 col8\" >vote_average</th>        <th class=\"col_heading level0 col9\" >vote_count</th>    </tr></thead><tbody>\n",
       "                <tr>\n",
       "                        <th id=\"T_7ed48e6c_a5c5_11ea_86e0_4865ee12e626level0_row0\" class=\"row_heading level0 row0\" >0</th>\n",
       "                        <td id=\"T_7ed48e6c_a5c5_11ea_86e0_4865ee12e626row0_col0\" class=\"data row0 col0\" >0</td>\n",
       "                        <td id=\"T_7ed48e6c_a5c5_11ea_86e0_4865ee12e626row0_col1\" class=\"data row0 col1\" >[12, 14, 10751]</td>\n",
       "                        <td id=\"T_7ed48e6c_a5c5_11ea_86e0_4865ee12e626row0_col2\" class=\"data row0 col2\" >12444</td>\n",
       "                        <td id=\"T_7ed48e6c_a5c5_11ea_86e0_4865ee12e626row0_col3\" class=\"data row0 col3\" >en</td>\n",
       "                        <td id=\"T_7ed48e6c_a5c5_11ea_86e0_4865ee12e626row0_col4\" class=\"data row0 col4\" >Harry Potter and the Deathly Hallows: Part 1</td>\n",
       "                        <td id=\"T_7ed48e6c_a5c5_11ea_86e0_4865ee12e626row0_col5\" class=\"data row0 col5\" >33.533</td>\n",
       "                        <td id=\"T_7ed48e6c_a5c5_11ea_86e0_4865ee12e626row0_col6\" class=\"data row0 col6\" >2010-11-19</td>\n",
       "                        <td id=\"T_7ed48e6c_a5c5_11ea_86e0_4865ee12e626row0_col7\" class=\"data row0 col7\" >Harry Potter and the Deathly Hallows: Part 1</td>\n",
       "                        <td id=\"T_7ed48e6c_a5c5_11ea_86e0_4865ee12e626row0_col8\" class=\"data row0 col8\" >7.7</td>\n",
       "                        <td id=\"T_7ed48e6c_a5c5_11ea_86e0_4865ee12e626row0_col9\" class=\"data row0 col9\" >10788</td>\n",
       "            </tr>\n",
       "            <tr>\n",
       "                        <th id=\"T_7ed48e6c_a5c5_11ea_86e0_4865ee12e626level0_row1\" class=\"row_heading level0 row1\" >1</th>\n",
       "                        <td id=\"T_7ed48e6c_a5c5_11ea_86e0_4865ee12e626row1_col0\" class=\"data row1 col0\" >1</td>\n",
       "                        <td id=\"T_7ed48e6c_a5c5_11ea_86e0_4865ee12e626row1_col1\" class=\"data row1 col1\" >[14, 12, 16, 10751]</td>\n",
       "                        <td id=\"T_7ed48e6c_a5c5_11ea_86e0_4865ee12e626row1_col2\" class=\"data row1 col2\" >10191</td>\n",
       "                        <td id=\"T_7ed48e6c_a5c5_11ea_86e0_4865ee12e626row1_col3\" class=\"data row1 col3\" >en</td>\n",
       "                        <td id=\"T_7ed48e6c_a5c5_11ea_86e0_4865ee12e626row1_col4\" class=\"data row1 col4\" >How to Train Your Dragon</td>\n",
       "                        <td id=\"T_7ed48e6c_a5c5_11ea_86e0_4865ee12e626row1_col5\" class=\"data row1 col5\" >28.734</td>\n",
       "                        <td id=\"T_7ed48e6c_a5c5_11ea_86e0_4865ee12e626row1_col6\" class=\"data row1 col6\" >2010-03-26</td>\n",
       "                        <td id=\"T_7ed48e6c_a5c5_11ea_86e0_4865ee12e626row1_col7\" class=\"data row1 col7\" >How to Train Your Dragon</td>\n",
       "                        <td id=\"T_7ed48e6c_a5c5_11ea_86e0_4865ee12e626row1_col8\" class=\"data row1 col8\" >7.7</td>\n",
       "                        <td id=\"T_7ed48e6c_a5c5_11ea_86e0_4865ee12e626row1_col9\" class=\"data row1 col9\" >7610</td>\n",
       "            </tr>\n",
       "    </tbody></table>"
      ],
      "text/plain": [
       "<pandas.io.formats.style.Styler at 0x13c8f5b38>"
      ]
     },
     "metadata": {},
     "output_type": "display_data"
    },
    {
     "name": "stdout",
     "output_type": "stream",
     "text": [
      "26517\n",
      "\n"
     ]
    },
    {
     "data": {
      "text/html": [
       "<style  type=\"text/css\" >\n",
       "</style><table id=\"T_7ed5186e_a5c5_11ea_a438_4865ee12e626\" ><caption>imdb.title.akas</caption><thead>    <tr>        <th class=\"blank level0\" ></th>        <th class=\"col_heading level0 col0\" >title_id</th>        <th class=\"col_heading level0 col1\" >ordering</th>        <th class=\"col_heading level0 col2\" >title</th>        <th class=\"col_heading level0 col3\" >region</th>        <th class=\"col_heading level0 col4\" >language</th>        <th class=\"col_heading level0 col5\" >types</th>        <th class=\"col_heading level0 col6\" >attributes</th>        <th class=\"col_heading level0 col7\" >is_original_title</th>    </tr></thead><tbody>\n",
       "                <tr>\n",
       "                        <th id=\"T_7ed5186e_a5c5_11ea_a438_4865ee12e626level0_row0\" class=\"row_heading level0 row0\" >0</th>\n",
       "                        <td id=\"T_7ed5186e_a5c5_11ea_a438_4865ee12e626row0_col0\" class=\"data row0 col0\" >tt0369610</td>\n",
       "                        <td id=\"T_7ed5186e_a5c5_11ea_a438_4865ee12e626row0_col1\" class=\"data row0 col1\" >10</td>\n",
       "                        <td id=\"T_7ed5186e_a5c5_11ea_a438_4865ee12e626row0_col2\" class=\"data row0 col2\" >Джурасик свят</td>\n",
       "                        <td id=\"T_7ed5186e_a5c5_11ea_a438_4865ee12e626row0_col3\" class=\"data row0 col3\" >BG</td>\n",
       "                        <td id=\"T_7ed5186e_a5c5_11ea_a438_4865ee12e626row0_col4\" class=\"data row0 col4\" >bg</td>\n",
       "                        <td id=\"T_7ed5186e_a5c5_11ea_a438_4865ee12e626row0_col5\" class=\"data row0 col5\" >nan</td>\n",
       "                        <td id=\"T_7ed5186e_a5c5_11ea_a438_4865ee12e626row0_col6\" class=\"data row0 col6\" >nan</td>\n",
       "                        <td id=\"T_7ed5186e_a5c5_11ea_a438_4865ee12e626row0_col7\" class=\"data row0 col7\" >0</td>\n",
       "            </tr>\n",
       "            <tr>\n",
       "                        <th id=\"T_7ed5186e_a5c5_11ea_a438_4865ee12e626level0_row1\" class=\"row_heading level0 row1\" >1</th>\n",
       "                        <td id=\"T_7ed5186e_a5c5_11ea_a438_4865ee12e626row1_col0\" class=\"data row1 col0\" >tt0369610</td>\n",
       "                        <td id=\"T_7ed5186e_a5c5_11ea_a438_4865ee12e626row1_col1\" class=\"data row1 col1\" >11</td>\n",
       "                        <td id=\"T_7ed5186e_a5c5_11ea_a438_4865ee12e626row1_col2\" class=\"data row1 col2\" >Jurashikku warudo</td>\n",
       "                        <td id=\"T_7ed5186e_a5c5_11ea_a438_4865ee12e626row1_col3\" class=\"data row1 col3\" >JP</td>\n",
       "                        <td id=\"T_7ed5186e_a5c5_11ea_a438_4865ee12e626row1_col4\" class=\"data row1 col4\" >nan</td>\n",
       "                        <td id=\"T_7ed5186e_a5c5_11ea_a438_4865ee12e626row1_col5\" class=\"data row1 col5\" >imdbDisplay</td>\n",
       "                        <td id=\"T_7ed5186e_a5c5_11ea_a438_4865ee12e626row1_col6\" class=\"data row1 col6\" >nan</td>\n",
       "                        <td id=\"T_7ed5186e_a5c5_11ea_a438_4865ee12e626row1_col7\" class=\"data row1 col7\" >0</td>\n",
       "            </tr>\n",
       "    </tbody></table>"
      ],
      "text/plain": [
       "<pandas.io.formats.style.Styler at 0x13c00fcf8>"
      ]
     },
     "metadata": {},
     "output_type": "display_data"
    },
    {
     "name": "stdout",
     "output_type": "stream",
     "text": [
      "331703\n",
      "\n"
     ]
    },
    {
     "data": {
      "text/html": [
       "<style  type=\"text/css\" >\n",
       "</style><table id=\"T_7ed593fa_a5c5_11ea_b1ef_4865ee12e626\" ><caption>imdb.title.ratings</caption><thead>    <tr>        <th class=\"blank level0\" ></th>        <th class=\"col_heading level0 col0\" >tconst</th>        <th class=\"col_heading level0 col1\" >averagerating</th>        <th class=\"col_heading level0 col2\" >numvotes</th>    </tr></thead><tbody>\n",
       "                <tr>\n",
       "                        <th id=\"T_7ed593fa_a5c5_11ea_b1ef_4865ee12e626level0_row0\" class=\"row_heading level0 row0\" >0</th>\n",
       "                        <td id=\"T_7ed593fa_a5c5_11ea_b1ef_4865ee12e626row0_col0\" class=\"data row0 col0\" >tt10356526</td>\n",
       "                        <td id=\"T_7ed593fa_a5c5_11ea_b1ef_4865ee12e626row0_col1\" class=\"data row0 col1\" >8.3</td>\n",
       "                        <td id=\"T_7ed593fa_a5c5_11ea_b1ef_4865ee12e626row0_col2\" class=\"data row0 col2\" >31</td>\n",
       "            </tr>\n",
       "            <tr>\n",
       "                        <th id=\"T_7ed593fa_a5c5_11ea_b1ef_4865ee12e626level0_row1\" class=\"row_heading level0 row1\" >1</th>\n",
       "                        <td id=\"T_7ed593fa_a5c5_11ea_b1ef_4865ee12e626row1_col0\" class=\"data row1 col0\" >tt10384606</td>\n",
       "                        <td id=\"T_7ed593fa_a5c5_11ea_b1ef_4865ee12e626row1_col1\" class=\"data row1 col1\" >8.9</td>\n",
       "                        <td id=\"T_7ed593fa_a5c5_11ea_b1ef_4865ee12e626row1_col2\" class=\"data row1 col2\" >559</td>\n",
       "            </tr>\n",
       "    </tbody></table>"
      ],
      "text/plain": [
       "<pandas.io.formats.style.Styler at 0x1695d9c50>"
      ]
     },
     "metadata": {},
     "output_type": "display_data"
    },
    {
     "name": "stdout",
     "output_type": "stream",
     "text": [
      "73856\n",
      "\n"
     ]
    },
    {
     "data": {
      "text/html": [
       "<style  type=\"text/css\" >\n",
       "</style><table id=\"T_7ed61700_a5c5_11ea_be56_4865ee12e626\" ><caption>imdb.name.basics</caption><thead>    <tr>        <th class=\"blank level0\" ></th>        <th class=\"col_heading level0 col0\" >nconst</th>        <th class=\"col_heading level0 col1\" >primary_name</th>        <th class=\"col_heading level0 col2\" >birth_year</th>        <th class=\"col_heading level0 col3\" >death_year</th>        <th class=\"col_heading level0 col4\" >primary_profession</th>        <th class=\"col_heading level0 col5\" >known_for_titles</th>    </tr></thead><tbody>\n",
       "                <tr>\n",
       "                        <th id=\"T_7ed61700_a5c5_11ea_be56_4865ee12e626level0_row0\" class=\"row_heading level0 row0\" >0</th>\n",
       "                        <td id=\"T_7ed61700_a5c5_11ea_be56_4865ee12e626row0_col0\" class=\"data row0 col0\" >nm0061671</td>\n",
       "                        <td id=\"T_7ed61700_a5c5_11ea_be56_4865ee12e626row0_col1\" class=\"data row0 col1\" >Mary Ellen Bauder</td>\n",
       "                        <td id=\"T_7ed61700_a5c5_11ea_be56_4865ee12e626row0_col2\" class=\"data row0 col2\" >nan</td>\n",
       "                        <td id=\"T_7ed61700_a5c5_11ea_be56_4865ee12e626row0_col3\" class=\"data row0 col3\" >nan</td>\n",
       "                        <td id=\"T_7ed61700_a5c5_11ea_be56_4865ee12e626row0_col4\" class=\"data row0 col4\" >miscellaneous,production_manager,producer</td>\n",
       "                        <td id=\"T_7ed61700_a5c5_11ea_be56_4865ee12e626row0_col5\" class=\"data row0 col5\" >tt0837562,tt2398241,tt0844471,tt0118553</td>\n",
       "            </tr>\n",
       "            <tr>\n",
       "                        <th id=\"T_7ed61700_a5c5_11ea_be56_4865ee12e626level0_row1\" class=\"row_heading level0 row1\" >1</th>\n",
       "                        <td id=\"T_7ed61700_a5c5_11ea_be56_4865ee12e626row1_col0\" class=\"data row1 col0\" >nm0061865</td>\n",
       "                        <td id=\"T_7ed61700_a5c5_11ea_be56_4865ee12e626row1_col1\" class=\"data row1 col1\" >Joseph Bauer</td>\n",
       "                        <td id=\"T_7ed61700_a5c5_11ea_be56_4865ee12e626row1_col2\" class=\"data row1 col2\" >nan</td>\n",
       "                        <td id=\"T_7ed61700_a5c5_11ea_be56_4865ee12e626row1_col3\" class=\"data row1 col3\" >nan</td>\n",
       "                        <td id=\"T_7ed61700_a5c5_11ea_be56_4865ee12e626row1_col4\" class=\"data row1 col4\" >composer,music_department,sound_department</td>\n",
       "                        <td id=\"T_7ed61700_a5c5_11ea_be56_4865ee12e626row1_col5\" class=\"data row1 col5\" >tt0896534,tt6791238,tt0287072,tt1682940</td>\n",
       "            </tr>\n",
       "    </tbody></table>"
      ],
      "text/plain": [
       "<pandas.io.formats.style.Styler at 0x13dad7978>"
      ]
     },
     "metadata": {},
     "output_type": "display_data"
    },
    {
     "name": "stdout",
     "output_type": "stream",
     "text": [
      "606648\n",
      "\n"
     ]
    },
    {
     "data": {
      "text/html": [
       "<style  type=\"text/css\" >\n",
       "</style><table id=\"T_7ed6b7b4_a5c5_11ea_8ae5_4865ee12e626\" ><caption>rt.reviews.</caption><thead>    <tr>        <th class=\"blank level0\" ></th>        <th class=\"col_heading level0 col0\" >id</th>        <th class=\"col_heading level0 col1\" >review</th>        <th class=\"col_heading level0 col2\" >rating</th>        <th class=\"col_heading level0 col3\" >fresh</th>        <th class=\"col_heading level0 col4\" >critic</th>        <th class=\"col_heading level0 col5\" >top_critic</th>        <th class=\"col_heading level0 col6\" >publisher</th>        <th class=\"col_heading level0 col7\" >date</th>    </tr></thead><tbody>\n",
       "                <tr>\n",
       "                        <th id=\"T_7ed6b7b4_a5c5_11ea_8ae5_4865ee12e626level0_row0\" class=\"row_heading level0 row0\" >0</th>\n",
       "                        <td id=\"T_7ed6b7b4_a5c5_11ea_8ae5_4865ee12e626row0_col0\" class=\"data row0 col0\" >3</td>\n",
       "                        <td id=\"T_7ed6b7b4_a5c5_11ea_8ae5_4865ee12e626row0_col1\" class=\"data row0 col1\" >A distinctly gallows take on contemporary financial mores, as one absurdly rich man's limo ride across town for a haircut functions as a state-of-the-nation discourse. </td>\n",
       "                        <td id=\"T_7ed6b7b4_a5c5_11ea_8ae5_4865ee12e626row0_col2\" class=\"data row0 col2\" >3/5</td>\n",
       "                        <td id=\"T_7ed6b7b4_a5c5_11ea_8ae5_4865ee12e626row0_col3\" class=\"data row0 col3\" >fresh</td>\n",
       "                        <td id=\"T_7ed6b7b4_a5c5_11ea_8ae5_4865ee12e626row0_col4\" class=\"data row0 col4\" >PJ Nabarro</td>\n",
       "                        <td id=\"T_7ed6b7b4_a5c5_11ea_8ae5_4865ee12e626row0_col5\" class=\"data row0 col5\" >0</td>\n",
       "                        <td id=\"T_7ed6b7b4_a5c5_11ea_8ae5_4865ee12e626row0_col6\" class=\"data row0 col6\" >Patrick Nabarro</td>\n",
       "                        <td id=\"T_7ed6b7b4_a5c5_11ea_8ae5_4865ee12e626row0_col7\" class=\"data row0 col7\" >November 10, 2018</td>\n",
       "            </tr>\n",
       "            <tr>\n",
       "                        <th id=\"T_7ed6b7b4_a5c5_11ea_8ae5_4865ee12e626level0_row1\" class=\"row_heading level0 row1\" >1</th>\n",
       "                        <td id=\"T_7ed6b7b4_a5c5_11ea_8ae5_4865ee12e626row1_col0\" class=\"data row1 col0\" >3</td>\n",
       "                        <td id=\"T_7ed6b7b4_a5c5_11ea_8ae5_4865ee12e626row1_col1\" class=\"data row1 col1\" >It's an allegory in search of a meaning that never arrives...It's just old-fashioned bad storytelling.</td>\n",
       "                        <td id=\"T_7ed6b7b4_a5c5_11ea_8ae5_4865ee12e626row1_col2\" class=\"data row1 col2\" >nan</td>\n",
       "                        <td id=\"T_7ed6b7b4_a5c5_11ea_8ae5_4865ee12e626row1_col3\" class=\"data row1 col3\" >rotten</td>\n",
       "                        <td id=\"T_7ed6b7b4_a5c5_11ea_8ae5_4865ee12e626row1_col4\" class=\"data row1 col4\" >Annalee Newitz</td>\n",
       "                        <td id=\"T_7ed6b7b4_a5c5_11ea_8ae5_4865ee12e626row1_col5\" class=\"data row1 col5\" >0</td>\n",
       "                        <td id=\"T_7ed6b7b4_a5c5_11ea_8ae5_4865ee12e626row1_col6\" class=\"data row1 col6\" >io9.com</td>\n",
       "                        <td id=\"T_7ed6b7b4_a5c5_11ea_8ae5_4865ee12e626row1_col7\" class=\"data row1 col7\" >May 23, 2018</td>\n",
       "            </tr>\n",
       "    </tbody></table>"
      ],
      "text/plain": [
       "<pandas.io.formats.style.Styler at 0x13c8f5b38>"
      ]
     },
     "metadata": {},
     "output_type": "display_data"
    },
    {
     "name": "stdout",
     "output_type": "stream",
     "text": [
      "54432\n",
      "\n"
     ]
    },
    {
     "data": {
      "text/html": [
       "<style  type=\"text/css\" >\n",
       "</style><table id=\"T_7ed7477e_a5c5_11ea_bf06_4865ee12e626\" ><caption>imdb.title.basics</caption><thead>    <tr>        <th class=\"blank level0\" ></th>        <th class=\"col_heading level0 col0\" >tconst</th>        <th class=\"col_heading level0 col1\" >primary_title</th>        <th class=\"col_heading level0 col2\" >original_title</th>        <th class=\"col_heading level0 col3\" >start_year</th>        <th class=\"col_heading level0 col4\" >runtime_minutes</th>        <th class=\"col_heading level0 col5\" >genres</th>    </tr></thead><tbody>\n",
       "                <tr>\n",
       "                        <th id=\"T_7ed7477e_a5c5_11ea_bf06_4865ee12e626level0_row0\" class=\"row_heading level0 row0\" >0</th>\n",
       "                        <td id=\"T_7ed7477e_a5c5_11ea_bf06_4865ee12e626row0_col0\" class=\"data row0 col0\" >tt0063540</td>\n",
       "                        <td id=\"T_7ed7477e_a5c5_11ea_bf06_4865ee12e626row0_col1\" class=\"data row0 col1\" >Sunghursh</td>\n",
       "                        <td id=\"T_7ed7477e_a5c5_11ea_bf06_4865ee12e626row0_col2\" class=\"data row0 col2\" >Sunghursh</td>\n",
       "                        <td id=\"T_7ed7477e_a5c5_11ea_bf06_4865ee12e626row0_col3\" class=\"data row0 col3\" >2013</td>\n",
       "                        <td id=\"T_7ed7477e_a5c5_11ea_bf06_4865ee12e626row0_col4\" class=\"data row0 col4\" >175</td>\n",
       "                        <td id=\"T_7ed7477e_a5c5_11ea_bf06_4865ee12e626row0_col5\" class=\"data row0 col5\" >Action,Crime,Drama</td>\n",
       "            </tr>\n",
       "            <tr>\n",
       "                        <th id=\"T_7ed7477e_a5c5_11ea_bf06_4865ee12e626level0_row1\" class=\"row_heading level0 row1\" >1</th>\n",
       "                        <td id=\"T_7ed7477e_a5c5_11ea_bf06_4865ee12e626row1_col0\" class=\"data row1 col0\" >tt0066787</td>\n",
       "                        <td id=\"T_7ed7477e_a5c5_11ea_bf06_4865ee12e626row1_col1\" class=\"data row1 col1\" >One Day Before the Rainy Season</td>\n",
       "                        <td id=\"T_7ed7477e_a5c5_11ea_bf06_4865ee12e626row1_col2\" class=\"data row1 col2\" >Ashad Ka Ek Din</td>\n",
       "                        <td id=\"T_7ed7477e_a5c5_11ea_bf06_4865ee12e626row1_col3\" class=\"data row1 col3\" >2019</td>\n",
       "                        <td id=\"T_7ed7477e_a5c5_11ea_bf06_4865ee12e626row1_col4\" class=\"data row1 col4\" >114</td>\n",
       "                        <td id=\"T_7ed7477e_a5c5_11ea_bf06_4865ee12e626row1_col5\" class=\"data row1 col5\" >Biography,Drama</td>\n",
       "            </tr>\n",
       "    </tbody></table>"
      ],
      "text/plain": [
       "<pandas.io.formats.style.Styler at 0x1695d9b70>"
      ]
     },
     "metadata": {},
     "output_type": "display_data"
    },
    {
     "name": "stdout",
     "output_type": "stream",
     "text": [
      "146144\n",
      "\n"
     ]
    },
    {
     "data": {
      "text/html": [
       "<style  type=\"text/css\" >\n",
       "</style><table id=\"T_7ed7ca98_a5c5_11ea_9b81_4865ee12e626\" ><caption>rt.movie_info.</caption><thead>    <tr>        <th class=\"blank level0\" ></th>        <th class=\"col_heading level0 col0\" >id</th>        <th class=\"col_heading level0 col1\" >synopsis</th>        <th class=\"col_heading level0 col2\" >rating</th>        <th class=\"col_heading level0 col3\" >genre</th>        <th class=\"col_heading level0 col4\" >director</th>        <th class=\"col_heading level0 col5\" >writer</th>        <th class=\"col_heading level0 col6\" >theater_date</th>        <th class=\"col_heading level0 col7\" >dvd_date</th>        <th class=\"col_heading level0 col8\" >currency</th>        <th class=\"col_heading level0 col9\" >box_office</th>        <th class=\"col_heading level0 col10\" >runtime</th>        <th class=\"col_heading level0 col11\" >studio</th>    </tr></thead><tbody>\n",
       "                <tr>\n",
       "                        <th id=\"T_7ed7ca98_a5c5_11ea_9b81_4865ee12e626level0_row0\" class=\"row_heading level0 row0\" >0</th>\n",
       "                        <td id=\"T_7ed7ca98_a5c5_11ea_9b81_4865ee12e626row0_col0\" class=\"data row0 col0\" >1</td>\n",
       "                        <td id=\"T_7ed7ca98_a5c5_11ea_9b81_4865ee12e626row0_col1\" class=\"data row0 col1\" >This gritty, fast-paced, and innovative police drama earned five Academy Awards, including Best Picture, Best Adapted Screenplay (written by Ernest Tidyman), and Best Actor (Gene Hackman). Jimmy \"Popeye\" Doyle (Hackman) and his partner, Buddy Russo (Roy Scheider), are New York City police detectives on narcotics detail, trying to track down the source of heroin from Europe into the United States. Suave Alain Charnier (Fernando Rey) is the French drug kingpin who provides a large percentage of New York City's dope, and Pierre Nicoli (Marcel Bozzuffi) is a hired killer and Charnier's right-hand man. Acting on a hunch, Popeye and Buddy start tailing Sal Boca (Tony Lo Bianco) and his wife, Angie (Arlene Faber), who live pretty high for a couple whose corner store brings in about 7,000 dollars a year. It turns out Popeye's suspicions are right -- Sal and Angie are the New York agents for Charnier, who will be smuggling 32 million dollars' worth of heroin into the city in a car shipped over from France. The French Connection broke plenty of new ground for screen thrillers; Popeye Doyle was a highly unusual \"hero,\" an often violent, racist, and mean-spirited cop whose dedication to his job fell just short of dangerous obsession. The film's high point, a high-speed car chase with Popeye tailing an elevated train, was one of the most viscerally exciting screen moments of its day and set the stage for dozens of action sequences to follow. And the film's grimy realism (and downbeat ending) was a big change from the buff-and-shine gloss and good-guys-always-win heroics of most police dramas that preceded it. The French Connection was inspired by a true story, and Eddie Egan and Sonny Grosso, Popeye and Buddy's real life counterparts, both have small roles in the film. A sequel followed four years later.</td>\n",
       "                        <td id=\"T_7ed7ca98_a5c5_11ea_9b81_4865ee12e626row0_col2\" class=\"data row0 col2\" >R</td>\n",
       "                        <td id=\"T_7ed7ca98_a5c5_11ea_9b81_4865ee12e626row0_col3\" class=\"data row0 col3\" >Action and Adventure|Classics|Drama</td>\n",
       "                        <td id=\"T_7ed7ca98_a5c5_11ea_9b81_4865ee12e626row0_col4\" class=\"data row0 col4\" >William Friedkin</td>\n",
       "                        <td id=\"T_7ed7ca98_a5c5_11ea_9b81_4865ee12e626row0_col5\" class=\"data row0 col5\" >Ernest Tidyman</td>\n",
       "                        <td id=\"T_7ed7ca98_a5c5_11ea_9b81_4865ee12e626row0_col6\" class=\"data row0 col6\" >Oct 9, 1971</td>\n",
       "                        <td id=\"T_7ed7ca98_a5c5_11ea_9b81_4865ee12e626row0_col7\" class=\"data row0 col7\" >Sep 25, 2001</td>\n",
       "                        <td id=\"T_7ed7ca98_a5c5_11ea_9b81_4865ee12e626row0_col8\" class=\"data row0 col8\" >nan</td>\n",
       "                        <td id=\"T_7ed7ca98_a5c5_11ea_9b81_4865ee12e626row0_col9\" class=\"data row0 col9\" >nan</td>\n",
       "                        <td id=\"T_7ed7ca98_a5c5_11ea_9b81_4865ee12e626row0_col10\" class=\"data row0 col10\" >104 minutes</td>\n",
       "                        <td id=\"T_7ed7ca98_a5c5_11ea_9b81_4865ee12e626row0_col11\" class=\"data row0 col11\" >nan</td>\n",
       "            </tr>\n",
       "            <tr>\n",
       "                        <th id=\"T_7ed7ca98_a5c5_11ea_9b81_4865ee12e626level0_row1\" class=\"row_heading level0 row1\" >1</th>\n",
       "                        <td id=\"T_7ed7ca98_a5c5_11ea_9b81_4865ee12e626row1_col0\" class=\"data row1 col0\" >3</td>\n",
       "                        <td id=\"T_7ed7ca98_a5c5_11ea_9b81_4865ee12e626row1_col1\" class=\"data row1 col1\" >New York City, not-too-distant-future: Eric Packer, a 28 year-old finance golden boy dreaming of living in a civilization ahead of this one, watches a dark shadow cast over the firmament of the Wall Street galaxy, of which he is the uncontested king. As he is chauffeured across midtown Manhattan to get a haircut at his father's old barber, his anxious eyes are glued to the yuan's exchange rate: it is mounting against all expectations, destroying Eric's bet against it. Eric Packer is losing his empire with every tick of the clock. Meanwhile, an eruption of wild activity unfolds in the city's streets. Petrified as the threats of the real world infringe upon his cloud of virtual convictions, his paranoia intensifies during the course of his 24-hour cross-town odyssey. Packer starts to piece together clues that lead him to a most terrifying secret: his imminent assassination. -- (C) Official Site</td>\n",
       "                        <td id=\"T_7ed7ca98_a5c5_11ea_9b81_4865ee12e626row1_col2\" class=\"data row1 col2\" >R</td>\n",
       "                        <td id=\"T_7ed7ca98_a5c5_11ea_9b81_4865ee12e626row1_col3\" class=\"data row1 col3\" >Drama|Science Fiction and Fantasy</td>\n",
       "                        <td id=\"T_7ed7ca98_a5c5_11ea_9b81_4865ee12e626row1_col4\" class=\"data row1 col4\" >David Cronenberg</td>\n",
       "                        <td id=\"T_7ed7ca98_a5c5_11ea_9b81_4865ee12e626row1_col5\" class=\"data row1 col5\" >David Cronenberg|Don DeLillo</td>\n",
       "                        <td id=\"T_7ed7ca98_a5c5_11ea_9b81_4865ee12e626row1_col6\" class=\"data row1 col6\" >Aug 17, 2012</td>\n",
       "                        <td id=\"T_7ed7ca98_a5c5_11ea_9b81_4865ee12e626row1_col7\" class=\"data row1 col7\" >Jan 1, 2013</td>\n",
       "                        <td id=\"T_7ed7ca98_a5c5_11ea_9b81_4865ee12e626row1_col8\" class=\"data row1 col8\" >$</td>\n",
       "                        <td id=\"T_7ed7ca98_a5c5_11ea_9b81_4865ee12e626row1_col9\" class=\"data row1 col9\" >600,000</td>\n",
       "                        <td id=\"T_7ed7ca98_a5c5_11ea_9b81_4865ee12e626row1_col10\" class=\"data row1 col10\" >108 minutes</td>\n",
       "                        <td id=\"T_7ed7ca98_a5c5_11ea_9b81_4865ee12e626row1_col11\" class=\"data row1 col11\" >Entertainment One</td>\n",
       "            </tr>\n",
       "    </tbody></table>"
      ],
      "text/plain": [
       "<pandas.io.formats.style.Styler at 0x1695d9978>"
      ]
     },
     "metadata": {},
     "output_type": "display_data"
    },
    {
     "name": "stdout",
     "output_type": "stream",
     "text": [
      "1560\n",
      "\n"
     ]
    },
    {
     "data": {
      "text/html": [
       "<style  type=\"text/css\" >\n",
       "</style><table id=\"T_7ed85cb8_a5c5_11ea_a654_4865ee12e626\" ><caption>tn.movie_budgets</caption><thead>    <tr>        <th class=\"blank level0\" ></th>        <th class=\"col_heading level0 col0\" >id</th>        <th class=\"col_heading level0 col1\" >release_date</th>        <th class=\"col_heading level0 col2\" >movie</th>        <th class=\"col_heading level0 col3\" >production_budget</th>        <th class=\"col_heading level0 col4\" >domestic_gross</th>        <th class=\"col_heading level0 col5\" >worldwide_gross</th>    </tr></thead><tbody>\n",
       "                <tr>\n",
       "                        <th id=\"T_7ed85cb8_a5c5_11ea_a654_4865ee12e626level0_row0\" class=\"row_heading level0 row0\" >0</th>\n",
       "                        <td id=\"T_7ed85cb8_a5c5_11ea_a654_4865ee12e626row0_col0\" class=\"data row0 col0\" >1</td>\n",
       "                        <td id=\"T_7ed85cb8_a5c5_11ea_a654_4865ee12e626row0_col1\" class=\"data row0 col1\" >Dec 18, 2009</td>\n",
       "                        <td id=\"T_7ed85cb8_a5c5_11ea_a654_4865ee12e626row0_col2\" class=\"data row0 col2\" >Avatar</td>\n",
       "                        <td id=\"T_7ed85cb8_a5c5_11ea_a654_4865ee12e626row0_col3\" class=\"data row0 col3\" >$425,000,000</td>\n",
       "                        <td id=\"T_7ed85cb8_a5c5_11ea_a654_4865ee12e626row0_col4\" class=\"data row0 col4\" >$760,507,625</td>\n",
       "                        <td id=\"T_7ed85cb8_a5c5_11ea_a654_4865ee12e626row0_col5\" class=\"data row0 col5\" >$2,776,345,279</td>\n",
       "            </tr>\n",
       "            <tr>\n",
       "                        <th id=\"T_7ed85cb8_a5c5_11ea_a654_4865ee12e626level0_row1\" class=\"row_heading level0 row1\" >1</th>\n",
       "                        <td id=\"T_7ed85cb8_a5c5_11ea_a654_4865ee12e626row1_col0\" class=\"data row1 col0\" >2</td>\n",
       "                        <td id=\"T_7ed85cb8_a5c5_11ea_a654_4865ee12e626row1_col1\" class=\"data row1 col1\" >May 20, 2011</td>\n",
       "                        <td id=\"T_7ed85cb8_a5c5_11ea_a654_4865ee12e626row1_col2\" class=\"data row1 col2\" >Pirates of the Caribbean: On Stranger Tides</td>\n",
       "                        <td id=\"T_7ed85cb8_a5c5_11ea_a654_4865ee12e626row1_col3\" class=\"data row1 col3\" >$410,600,000</td>\n",
       "                        <td id=\"T_7ed85cb8_a5c5_11ea_a654_4865ee12e626row1_col4\" class=\"data row1 col4\" >$241,063,875</td>\n",
       "                        <td id=\"T_7ed85cb8_a5c5_11ea_a654_4865ee12e626row1_col5\" class=\"data row1 col5\" >$1,045,663,875</td>\n",
       "            </tr>\n",
       "    </tbody></table>"
      ],
      "text/plain": [
       "<pandas.io.formats.style.Styler at 0x1695d9a90>"
      ]
     },
     "metadata": {},
     "output_type": "display_data"
    },
    {
     "name": "stdout",
     "output_type": "stream",
     "text": [
      "5782\n",
      "\n"
     ]
    },
    {
     "data": {
      "text/html": [
       "<style  type=\"text/css\" >\n",
       "</style><table id=\"T_7ed8e6ec_a5c5_11ea_aee7_4865ee12e626\" ><caption>bom.movie_gross</caption><thead>    <tr>        <th class=\"blank level0\" ></th>        <th class=\"col_heading level0 col0\" >title</th>        <th class=\"col_heading level0 col1\" >studio</th>        <th class=\"col_heading level0 col2\" >domestic_gross</th>        <th class=\"col_heading level0 col3\" >foreign_gross</th>        <th class=\"col_heading level0 col4\" >year</th>    </tr></thead><tbody>\n",
       "                <tr>\n",
       "                        <th id=\"T_7ed8e6ec_a5c5_11ea_aee7_4865ee12e626level0_row0\" class=\"row_heading level0 row0\" >0</th>\n",
       "                        <td id=\"T_7ed8e6ec_a5c5_11ea_aee7_4865ee12e626row0_col0\" class=\"data row0 col0\" >Toy Story 3</td>\n",
       "                        <td id=\"T_7ed8e6ec_a5c5_11ea_aee7_4865ee12e626row0_col1\" class=\"data row0 col1\" >BV</td>\n",
       "                        <td id=\"T_7ed8e6ec_a5c5_11ea_aee7_4865ee12e626row0_col2\" class=\"data row0 col2\" >4.15e+08</td>\n",
       "                        <td id=\"T_7ed8e6ec_a5c5_11ea_aee7_4865ee12e626row0_col3\" class=\"data row0 col3\" >652000000</td>\n",
       "                        <td id=\"T_7ed8e6ec_a5c5_11ea_aee7_4865ee12e626row0_col4\" class=\"data row0 col4\" >2010</td>\n",
       "            </tr>\n",
       "            <tr>\n",
       "                        <th id=\"T_7ed8e6ec_a5c5_11ea_aee7_4865ee12e626level0_row1\" class=\"row_heading level0 row1\" >1</th>\n",
       "                        <td id=\"T_7ed8e6ec_a5c5_11ea_aee7_4865ee12e626row1_col0\" class=\"data row1 col0\" >Alice in Wonderland (2010)</td>\n",
       "                        <td id=\"T_7ed8e6ec_a5c5_11ea_aee7_4865ee12e626row1_col1\" class=\"data row1 col1\" >BV</td>\n",
       "                        <td id=\"T_7ed8e6ec_a5c5_11ea_aee7_4865ee12e626row1_col2\" class=\"data row1 col2\" >3.342e+08</td>\n",
       "                        <td id=\"T_7ed8e6ec_a5c5_11ea_aee7_4865ee12e626row1_col3\" class=\"data row1 col3\" >691300000</td>\n",
       "                        <td id=\"T_7ed8e6ec_a5c5_11ea_aee7_4865ee12e626row1_col4\" class=\"data row1 col4\" >2010</td>\n",
       "            </tr>\n",
       "    </tbody></table>"
      ],
      "text/plain": [
       "<pandas.io.formats.style.Styler at 0x1695d9b00>"
      ]
     },
     "metadata": {},
     "output_type": "display_data"
    },
    {
     "name": "stdout",
     "output_type": "stream",
     "text": [
      "3387\n",
      "\n"
     ]
    },
    {
     "data": {
      "text/html": [
       "<style  type=\"text/css\" >\n",
       "</style><table id=\"T_7ed95fe6_a5c5_11ea_9720_4865ee12e626\" ><caption>imdb.title.principals</caption><thead>    <tr>        <th class=\"blank level0\" ></th>        <th class=\"col_heading level0 col0\" >tconst</th>        <th class=\"col_heading level0 col1\" >ordering</th>        <th class=\"col_heading level0 col2\" >nconst</th>        <th class=\"col_heading level0 col3\" >category</th>        <th class=\"col_heading level0 col4\" >job</th>        <th class=\"col_heading level0 col5\" >characters</th>    </tr></thead><tbody>\n",
       "                <tr>\n",
       "                        <th id=\"T_7ed95fe6_a5c5_11ea_9720_4865ee12e626level0_row0\" class=\"row_heading level0 row0\" >0</th>\n",
       "                        <td id=\"T_7ed95fe6_a5c5_11ea_9720_4865ee12e626row0_col0\" class=\"data row0 col0\" >tt0111414</td>\n",
       "                        <td id=\"T_7ed95fe6_a5c5_11ea_9720_4865ee12e626row0_col1\" class=\"data row0 col1\" >1</td>\n",
       "                        <td id=\"T_7ed95fe6_a5c5_11ea_9720_4865ee12e626row0_col2\" class=\"data row0 col2\" >nm0246005</td>\n",
       "                        <td id=\"T_7ed95fe6_a5c5_11ea_9720_4865ee12e626row0_col3\" class=\"data row0 col3\" >actor</td>\n",
       "                        <td id=\"T_7ed95fe6_a5c5_11ea_9720_4865ee12e626row0_col4\" class=\"data row0 col4\" >nan</td>\n",
       "                        <td id=\"T_7ed95fe6_a5c5_11ea_9720_4865ee12e626row0_col5\" class=\"data row0 col5\" >[\"The Man\"]</td>\n",
       "            </tr>\n",
       "            <tr>\n",
       "                        <th id=\"T_7ed95fe6_a5c5_11ea_9720_4865ee12e626level0_row1\" class=\"row_heading level0 row1\" >1</th>\n",
       "                        <td id=\"T_7ed95fe6_a5c5_11ea_9720_4865ee12e626row1_col0\" class=\"data row1 col0\" >tt0111414</td>\n",
       "                        <td id=\"T_7ed95fe6_a5c5_11ea_9720_4865ee12e626row1_col1\" class=\"data row1 col1\" >2</td>\n",
       "                        <td id=\"T_7ed95fe6_a5c5_11ea_9720_4865ee12e626row1_col2\" class=\"data row1 col2\" >nm0398271</td>\n",
       "                        <td id=\"T_7ed95fe6_a5c5_11ea_9720_4865ee12e626row1_col3\" class=\"data row1 col3\" >director</td>\n",
       "                        <td id=\"T_7ed95fe6_a5c5_11ea_9720_4865ee12e626row1_col4\" class=\"data row1 col4\" >nan</td>\n",
       "                        <td id=\"T_7ed95fe6_a5c5_11ea_9720_4865ee12e626row1_col5\" class=\"data row1 col5\" >nan</td>\n",
       "            </tr>\n",
       "    </tbody></table>"
      ],
      "text/plain": [
       "<pandas.io.formats.style.Styler at 0x1695d9ac8>"
      ]
     },
     "metadata": {},
     "output_type": "display_data"
    },
    {
     "name": "stdout",
     "output_type": "stream",
     "text": [
      "1028186\n",
      "\n"
     ]
    }
   ],
   "source": [
    "for tablename, data in DATA.items():\n",
    "#     print('---'*20+'\\n'+f\"{tablename}:\")\n",
    "    try:\n",
    "        display(data.head(2).style.set_caption(f\"{tablename}\"))\n",
    "        print(len(data))\n",
    "    except:\n",
    "        display(data.head(2).reset_index().style.set_caption(f\"{tablename}\"))\n",
    "    print()"
   ]
  },
  {
   "cell_type": "markdown",
   "metadata": {},
   "source": [
    "## New Attempt (06/02)"
   ]
  },
  {
   "cell_type": "markdown",
   "metadata": {},
   "source": [
    "### Using imdb.title.basics & imdb.title.ratings\n"
   ]
  },
  {
   "cell_type": "code",
   "execution_count": 66,
   "metadata": {
    "ExecuteTime": {
     "end_time": "2020-06-03T18:10:24.361899Z",
     "start_time": "2020-06-03T18:10:24.359672Z"
    }
   },
   "outputs": [],
   "source": [
    "# df0 = DATA['imdb.']"
   ]
  },
  {
   "cell_type": "markdown",
   "metadata": {},
   "source": [
    "#### Prepping imdb.title.basics"
   ]
  },
  {
   "cell_type": "code",
   "execution_count": 67,
   "metadata": {
    "ExecuteTime": {
     "end_time": "2020-06-03T18:10:24.417167Z",
     "start_time": "2020-06-03T18:10:24.364296Z"
    }
   },
   "outputs": [
    {
     "name": "stdout",
     "output_type": "stream",
     "text": [
      "<class 'pandas.core.frame.DataFrame'>\n",
      "RangeIndex: 146144 entries, 0 to 146143\n",
      "Data columns (total 6 columns):\n",
      "tconst             146144 non-null object\n",
      "primary_title      146144 non-null object\n",
      "original_title     146123 non-null object\n",
      "start_year         146144 non-null int64\n",
      "runtime_minutes    114405 non-null float64\n",
      "genres             140736 non-null object\n",
      "dtypes: float64(1), int64(1), object(4)\n",
      "memory usage: 6.7+ MB\n"
     ]
    },
    {
     "data": {
      "text/html": [
       "<div>\n",
       "<style scoped>\n",
       "    .dataframe tbody tr th:only-of-type {\n",
       "        vertical-align: middle;\n",
       "    }\n",
       "\n",
       "    .dataframe tbody tr th {\n",
       "        vertical-align: top;\n",
       "    }\n",
       "\n",
       "    .dataframe thead th {\n",
       "        text-align: right;\n",
       "    }\n",
       "</style>\n",
       "<table border=\"1\" class=\"dataframe\">\n",
       "  <thead>\n",
       "    <tr style=\"text-align: right;\">\n",
       "      <th></th>\n",
       "      <th>tconst</th>\n",
       "      <th>primary_title</th>\n",
       "      <th>original_title</th>\n",
       "      <th>start_year</th>\n",
       "      <th>runtime_minutes</th>\n",
       "      <th>genres</th>\n",
       "    </tr>\n",
       "  </thead>\n",
       "  <tbody>\n",
       "    <tr>\n",
       "      <td>0</td>\n",
       "      <td>tt0063540</td>\n",
       "      <td>Sunghursh</td>\n",
       "      <td>Sunghursh</td>\n",
       "      <td>2013</td>\n",
       "      <td>175.0</td>\n",
       "      <td>Action,Crime,Drama</td>\n",
       "    </tr>\n",
       "    <tr>\n",
       "      <td>1</td>\n",
       "      <td>tt0066787</td>\n",
       "      <td>One Day Before the Rainy Season</td>\n",
       "      <td>Ashad Ka Ek Din</td>\n",
       "      <td>2019</td>\n",
       "      <td>114.0</td>\n",
       "      <td>Biography,Drama</td>\n",
       "    </tr>\n",
       "    <tr>\n",
       "      <td>2</td>\n",
       "      <td>tt0069049</td>\n",
       "      <td>The Other Side of the Wind</td>\n",
       "      <td>The Other Side of the Wind</td>\n",
       "      <td>2018</td>\n",
       "      <td>122.0</td>\n",
       "      <td>Drama</td>\n",
       "    </tr>\n",
       "    <tr>\n",
       "      <td>3</td>\n",
       "      <td>tt0069204</td>\n",
       "      <td>Sabse Bada Sukh</td>\n",
       "      <td>Sabse Bada Sukh</td>\n",
       "      <td>2018</td>\n",
       "      <td>NaN</td>\n",
       "      <td>Comedy,Drama</td>\n",
       "    </tr>\n",
       "    <tr>\n",
       "      <td>4</td>\n",
       "      <td>tt0100275</td>\n",
       "      <td>The Wandering Soap Opera</td>\n",
       "      <td>La Telenovela Errante</td>\n",
       "      <td>2017</td>\n",
       "      <td>80.0</td>\n",
       "      <td>Comedy,Drama,Fantasy</td>\n",
       "    </tr>\n",
       "  </tbody>\n",
       "</table>\n",
       "</div>"
      ],
      "text/plain": [
       "      tconst                    primary_title              original_title  \\\n",
       "0  tt0063540                        Sunghursh                   Sunghursh   \n",
       "1  tt0066787  One Day Before the Rainy Season             Ashad Ka Ek Din   \n",
       "2  tt0069049       The Other Side of the Wind  The Other Side of the Wind   \n",
       "3  tt0069204                  Sabse Bada Sukh             Sabse Bada Sukh   \n",
       "4  tt0100275         The Wandering Soap Opera       La Telenovela Errante   \n",
       "\n",
       "   start_year  runtime_minutes                genres  \n",
       "0        2013            175.0    Action,Crime,Drama  \n",
       "1        2019            114.0       Biography,Drama  \n",
       "2        2018            122.0                 Drama  \n",
       "3        2018              NaN          Comedy,Drama  \n",
       "4        2017             80.0  Comedy,Drama,Fantasy  "
      ]
     },
     "metadata": {},
     "output_type": "display_data"
    },
    {
     "data": {
      "text/plain": [
       "None"
      ]
     },
     "metadata": {},
     "output_type": "display_data"
    }
   ],
   "source": [
    "df1 = DATA['imdb.title.basics'].copy()\n",
    "display(df1.head(),df1.info())"
   ]
  },
  {
   "cell_type": "code",
   "execution_count": 68,
   "metadata": {
    "ExecuteTime": {
     "end_time": "2020-06-03T18:10:24.444051Z",
     "start_time": "2020-06-03T18:10:24.418525Z"
    }
   },
   "outputs": [
    {
     "data": {
      "text/plain": [
       "tconst                 0\n",
       "primary_title          0\n",
       "original_title        21\n",
       "start_year             0\n",
       "runtime_minutes    31739\n",
       "genres              5408\n",
       "dtype: int64"
      ]
     },
     "execution_count": 68,
     "metadata": {},
     "output_type": "execute_result"
    }
   ],
   "source": [
    "df1.isna().sum()"
   ]
  },
  {
   "cell_type": "code",
   "execution_count": 69,
   "metadata": {
    "ExecuteTime": {
     "end_time": "2020-06-03T18:10:24.465841Z",
     "start_time": "2020-06-03T18:10:24.445805Z"
    }
   },
   "outputs": [
    {
     "data": {
      "text/html": [
       "<div>\n",
       "<style scoped>\n",
       "    .dataframe tbody tr th:only-of-type {\n",
       "        vertical-align: middle;\n",
       "    }\n",
       "\n",
       "    .dataframe tbody tr th {\n",
       "        vertical-align: top;\n",
       "    }\n",
       "\n",
       "    .dataframe thead th {\n",
       "        text-align: right;\n",
       "    }\n",
       "</style>\n",
       "<table border=\"1\" class=\"dataframe\">\n",
       "  <thead>\n",
       "    <tr style=\"text-align: right;\">\n",
       "      <th></th>\n",
       "      <th>tconst</th>\n",
       "      <th>primary_title</th>\n",
       "      <th>original_title</th>\n",
       "      <th>start_year</th>\n",
       "      <th>runtime_minutes</th>\n",
       "      <th>genres</th>\n",
       "    </tr>\n",
       "  </thead>\n",
       "  <tbody>\n",
       "    <tr>\n",
       "      <td>3</td>\n",
       "      <td>tt0069204</td>\n",
       "      <td>Sabse Bada Sukh</td>\n",
       "      <td>Sabse Bada Sukh</td>\n",
       "      <td>2018</td>\n",
       "      <td>NaN</td>\n",
       "      <td>Comedy,Drama</td>\n",
       "    </tr>\n",
       "    <tr>\n",
       "      <td>6</td>\n",
       "      <td>tt0112502</td>\n",
       "      <td>Bigfoot</td>\n",
       "      <td>Bigfoot</td>\n",
       "      <td>2017</td>\n",
       "      <td>NaN</td>\n",
       "      <td>Horror,Thriller</td>\n",
       "    </tr>\n",
       "    <tr>\n",
       "      <td>8</td>\n",
       "      <td>tt0139613</td>\n",
       "      <td>O Silêncio</td>\n",
       "      <td>O Silêncio</td>\n",
       "      <td>2012</td>\n",
       "      <td>NaN</td>\n",
       "      <td>Documentary,History</td>\n",
       "    </tr>\n",
       "    <tr>\n",
       "      <td>16</td>\n",
       "      <td>tt0187902</td>\n",
       "      <td>How Huang Fei-hong Rescued the Orphan from the...</td>\n",
       "      <td>How Huang Fei-hong Rescued the Orphan from the...</td>\n",
       "      <td>2011</td>\n",
       "      <td>NaN</td>\n",
       "      <td>NaN</td>\n",
       "    </tr>\n",
       "    <tr>\n",
       "      <td>21</td>\n",
       "      <td>tt0250404</td>\n",
       "      <td>Godfather</td>\n",
       "      <td>Godfather</td>\n",
       "      <td>2012</td>\n",
       "      <td>NaN</td>\n",
       "      <td>Crime,Drama</td>\n",
       "    </tr>\n",
       "    <tr>\n",
       "      <td>...</td>\n",
       "      <td>...</td>\n",
       "      <td>...</td>\n",
       "      <td>...</td>\n",
       "      <td>...</td>\n",
       "      <td>...</td>\n",
       "      <td>...</td>\n",
       "    </tr>\n",
       "    <tr>\n",
       "      <td>146131</td>\n",
       "      <td>tt9915790</td>\n",
       "      <td>Bobbyr Bondhura</td>\n",
       "      <td>Bobbyr Bondhura</td>\n",
       "      <td>2019</td>\n",
       "      <td>NaN</td>\n",
       "      <td>Family</td>\n",
       "    </tr>\n",
       "    <tr>\n",
       "      <td>146138</td>\n",
       "      <td>tt9916428</td>\n",
       "      <td>The Secret of China</td>\n",
       "      <td>The Secret of China</td>\n",
       "      <td>2019</td>\n",
       "      <td>NaN</td>\n",
       "      <td>Adventure,History,War</td>\n",
       "    </tr>\n",
       "    <tr>\n",
       "      <td>146140</td>\n",
       "      <td>tt9916622</td>\n",
       "      <td>Rodolpho Teóphilo - O Legado de um Pioneiro</td>\n",
       "      <td>Rodolpho Teóphilo - O Legado de um Pioneiro</td>\n",
       "      <td>2015</td>\n",
       "      <td>NaN</td>\n",
       "      <td>Documentary</td>\n",
       "    </tr>\n",
       "    <tr>\n",
       "      <td>146141</td>\n",
       "      <td>tt9916706</td>\n",
       "      <td>Dankyavar Danka</td>\n",
       "      <td>Dankyavar Danka</td>\n",
       "      <td>2013</td>\n",
       "      <td>NaN</td>\n",
       "      <td>Comedy</td>\n",
       "    </tr>\n",
       "    <tr>\n",
       "      <td>146143</td>\n",
       "      <td>tt9916754</td>\n",
       "      <td>Chico Albuquerque - Revelações</td>\n",
       "      <td>Chico Albuquerque - Revelações</td>\n",
       "      <td>2013</td>\n",
       "      <td>NaN</td>\n",
       "      <td>Documentary</td>\n",
       "    </tr>\n",
       "  </tbody>\n",
       "</table>\n",
       "<p>31739 rows × 6 columns</p>\n",
       "</div>"
      ],
      "text/plain": [
       "           tconst                                      primary_title  \\\n",
       "3       tt0069204                                    Sabse Bada Sukh   \n",
       "6       tt0112502                                            Bigfoot   \n",
       "8       tt0139613                                         O Silêncio   \n",
       "16      tt0187902  How Huang Fei-hong Rescued the Orphan from the...   \n",
       "21      tt0250404                                          Godfather   \n",
       "...           ...                                                ...   \n",
       "146131  tt9915790                                    Bobbyr Bondhura   \n",
       "146138  tt9916428                                The Secret of China   \n",
       "146140  tt9916622        Rodolpho Teóphilo - O Legado de um Pioneiro   \n",
       "146141  tt9916706                                    Dankyavar Danka   \n",
       "146143  tt9916754                     Chico Albuquerque - Revelações   \n",
       "\n",
       "                                           original_title  start_year  \\\n",
       "3                                         Sabse Bada Sukh        2018   \n",
       "6                                                 Bigfoot        2017   \n",
       "8                                              O Silêncio        2012   \n",
       "16      How Huang Fei-hong Rescued the Orphan from the...        2011   \n",
       "21                                              Godfather        2012   \n",
       "...                                                   ...         ...   \n",
       "146131                                    Bobbyr Bondhura        2019   \n",
       "146138                                The Secret of China        2019   \n",
       "146140        Rodolpho Teóphilo - O Legado de um Pioneiro        2015   \n",
       "146141                                    Dankyavar Danka        2013   \n",
       "146143                     Chico Albuquerque - Revelações        2013   \n",
       "\n",
       "        runtime_minutes                 genres  \n",
       "3                   NaN           Comedy,Drama  \n",
       "6                   NaN        Horror,Thriller  \n",
       "8                   NaN    Documentary,History  \n",
       "16                  NaN                    NaN  \n",
       "21                  NaN            Crime,Drama  \n",
       "...                 ...                    ...  \n",
       "146131              NaN                 Family  \n",
       "146138              NaN  Adventure,History,War  \n",
       "146140              NaN            Documentary  \n",
       "146141              NaN                 Comedy  \n",
       "146143              NaN            Documentary  \n",
       "\n",
       "[31739 rows x 6 columns]"
      ]
     },
     "execution_count": 69,
     "metadata": {},
     "output_type": "execute_result"
    }
   ],
   "source": [
    "df1[df1['runtime_minutes'].isna()]"
   ]
  },
  {
   "cell_type": "code",
   "execution_count": 70,
   "metadata": {
    "ExecuteTime": {
     "end_time": "2020-06-03T18:10:24.512819Z",
     "start_time": "2020-06-03T18:10:24.467309Z"
    }
   },
   "outputs": [
    {
     "data": {
      "text/plain": [
       "tconst                0\n",
       "primary_title         0\n",
       "original_title        4\n",
       "start_year            0\n",
       "runtime_minutes       0\n",
       "genres             2172\n",
       "dtype: int64"
      ]
     },
     "execution_count": 70,
     "metadata": {},
     "output_type": "execute_result"
    }
   ],
   "source": [
    "df1.dropna(subset=['runtime_minutes'],inplace=True)\n",
    "df1.isna().sum()"
   ]
  },
  {
   "cell_type": "code",
   "execution_count": 71,
   "metadata": {
    "ExecuteTime": {
     "end_time": "2020-06-03T18:10:24.534988Z",
     "start_time": "2020-06-03T18:10:24.514185Z"
    }
   },
   "outputs": [
    {
     "data": {
      "text/html": [
       "<div>\n",
       "<style scoped>\n",
       "    .dataframe tbody tr th:only-of-type {\n",
       "        vertical-align: middle;\n",
       "    }\n",
       "\n",
       "    .dataframe tbody tr th {\n",
       "        vertical-align: top;\n",
       "    }\n",
       "\n",
       "    .dataframe thead th {\n",
       "        text-align: right;\n",
       "    }\n",
       "</style>\n",
       "<table border=\"1\" class=\"dataframe\">\n",
       "  <thead>\n",
       "    <tr style=\"text-align: right;\">\n",
       "      <th></th>\n",
       "      <th>tconst</th>\n",
       "      <th>primary_title</th>\n",
       "      <th>original_title</th>\n",
       "      <th>start_year</th>\n",
       "      <th>runtime_minutes</th>\n",
       "      <th>genres</th>\n",
       "    </tr>\n",
       "  </thead>\n",
       "  <tbody>\n",
       "    <tr>\n",
       "      <td>22</td>\n",
       "      <td>tt0253093</td>\n",
       "      <td>Gangavataran</td>\n",
       "      <td>Gangavataran</td>\n",
       "      <td>2018</td>\n",
       "      <td>134.0</td>\n",
       "      <td>NaN</td>\n",
       "    </tr>\n",
       "    <tr>\n",
       "      <td>35</td>\n",
       "      <td>tt0306058</td>\n",
       "      <td>Second Coming</td>\n",
       "      <td>Second Coming</td>\n",
       "      <td>2012</td>\n",
       "      <td>95.0</td>\n",
       "      <td>NaN</td>\n",
       "    </tr>\n",
       "    <tr>\n",
       "      <td>40</td>\n",
       "      <td>tt0326592</td>\n",
       "      <td>The Overnight</td>\n",
       "      <td>The Overnight</td>\n",
       "      <td>2010</td>\n",
       "      <td>88.0</td>\n",
       "      <td>NaN</td>\n",
       "    </tr>\n",
       "    <tr>\n",
       "      <td>45</td>\n",
       "      <td>tt0330987</td>\n",
       "      <td>Tiden är en dröm, del 2</td>\n",
       "      <td>Tiden är en dröm, del 2</td>\n",
       "      <td>2014</td>\n",
       "      <td>109.0</td>\n",
       "      <td>NaN</td>\n",
       "    </tr>\n",
       "    <tr>\n",
       "      <td>398</td>\n",
       "      <td>tt0877604</td>\n",
       "      <td>Chûshingura</td>\n",
       "      <td>Chûshingura</td>\n",
       "      <td>2016</td>\n",
       "      <td>76.0</td>\n",
       "      <td>NaN</td>\n",
       "    </tr>\n",
       "    <tr>\n",
       "      <td>...</td>\n",
       "      <td>...</td>\n",
       "      <td>...</td>\n",
       "      <td>...</td>\n",
       "      <td>...</td>\n",
       "      <td>...</td>\n",
       "      <td>...</td>\n",
       "    </tr>\n",
       "    <tr>\n",
       "      <td>146086</td>\n",
       "      <td>tt9906844</td>\n",
       "      <td>Footloose in England's Lake District</td>\n",
       "      <td>Footloose in England's Lake District</td>\n",
       "      <td>2017</td>\n",
       "      <td>150.0</td>\n",
       "      <td>NaN</td>\n",
       "    </tr>\n",
       "    <tr>\n",
       "      <td>146087</td>\n",
       "      <td>tt9907032</td>\n",
       "      <td>Footloose in London II: 2 Undiscovered and Unu...</td>\n",
       "      <td>Footloose in London II: 2 Undiscovered and Unu...</td>\n",
       "      <td>2018</td>\n",
       "      <td>124.0</td>\n",
       "      <td>NaN</td>\n",
       "    </tr>\n",
       "    <tr>\n",
       "      <td>146088</td>\n",
       "      <td>tt9907396</td>\n",
       "      <td>Footloose in the Cotswolds - Part 1</td>\n",
       "      <td>Footloose in the Cotswolds - Part 1</td>\n",
       "      <td>2016</td>\n",
       "      <td>118.0</td>\n",
       "      <td>NaN</td>\n",
       "    </tr>\n",
       "    <tr>\n",
       "      <td>146089</td>\n",
       "      <td>tt9907608</td>\n",
       "      <td>Footloose in the Cotswolds - Part 2</td>\n",
       "      <td>Footloose in the Cotswolds - Part 2</td>\n",
       "      <td>2016</td>\n",
       "      <td>102.0</td>\n",
       "      <td>NaN</td>\n",
       "    </tr>\n",
       "    <tr>\n",
       "      <td>146142</td>\n",
       "      <td>tt9916730</td>\n",
       "      <td>6 Gunn</td>\n",
       "      <td>6 Gunn</td>\n",
       "      <td>2017</td>\n",
       "      <td>116.0</td>\n",
       "      <td>NaN</td>\n",
       "    </tr>\n",
       "  </tbody>\n",
       "</table>\n",
       "<p>2172 rows × 6 columns</p>\n",
       "</div>"
      ],
      "text/plain": [
       "           tconst                                      primary_title  \\\n",
       "22      tt0253093                                       Gangavataran   \n",
       "35      tt0306058                                      Second Coming   \n",
       "40      tt0326592                                      The Overnight   \n",
       "45      tt0330987                            Tiden är en dröm, del 2   \n",
       "398     tt0877604                                        Chûshingura   \n",
       "...           ...                                                ...   \n",
       "146086  tt9906844               Footloose in England's Lake District   \n",
       "146087  tt9907032  Footloose in London II: 2 Undiscovered and Unu...   \n",
       "146088  tt9907396                Footloose in the Cotswolds - Part 1   \n",
       "146089  tt9907608                Footloose in the Cotswolds - Part 2   \n",
       "146142  tt9916730                                             6 Gunn   \n",
       "\n",
       "                                           original_title  start_year  \\\n",
       "22                                           Gangavataran        2018   \n",
       "35                                          Second Coming        2012   \n",
       "40                                          The Overnight        2010   \n",
       "45                                Tiden är en dröm, del 2        2014   \n",
       "398                                           Chûshingura        2016   \n",
       "...                                                   ...         ...   \n",
       "146086               Footloose in England's Lake District        2017   \n",
       "146087  Footloose in London II: 2 Undiscovered and Unu...        2018   \n",
       "146088                Footloose in the Cotswolds - Part 1        2016   \n",
       "146089                Footloose in the Cotswolds - Part 2        2016   \n",
       "146142                                             6 Gunn        2017   \n",
       "\n",
       "        runtime_minutes genres  \n",
       "22                134.0    NaN  \n",
       "35                 95.0    NaN  \n",
       "40                 88.0    NaN  \n",
       "45                109.0    NaN  \n",
       "398                76.0    NaN  \n",
       "...                 ...    ...  \n",
       "146086            150.0    NaN  \n",
       "146087            124.0    NaN  \n",
       "146088            118.0    NaN  \n",
       "146089            102.0    NaN  \n",
       "146142            116.0    NaN  \n",
       "\n",
       "[2172 rows x 6 columns]"
      ]
     },
     "execution_count": 71,
     "metadata": {},
     "output_type": "execute_result"
    }
   ],
   "source": [
    "df1[df1['genres'].isna()]"
   ]
  },
  {
   "cell_type": "code",
   "execution_count": 72,
   "metadata": {
    "ExecuteTime": {
     "end_time": "2020-06-03T18:10:24.546945Z",
     "start_time": "2020-06-03T18:10:24.536639Z"
    }
   },
   "outputs": [],
   "source": [
    "df1['genres'].fillna('MISSING',inplace=True)"
   ]
  },
  {
   "cell_type": "code",
   "execution_count": 73,
   "metadata": {
    "ExecuteTime": {
     "end_time": "2020-06-03T18:10:24.622108Z",
     "start_time": "2020-06-03T18:10:24.548404Z"
    }
   },
   "outputs": [
    {
     "name": "stdout",
     "output_type": "stream",
     "text": [
      "tconst             0\n",
      "primary_title      0\n",
      "original_title     4\n",
      "start_year         0\n",
      "runtime_minutes    0\n",
      "genres             0\n",
      "dtype: int64\n",
      "tconst             0\n",
      "primary_title      0\n",
      "original_title     0\n",
      "start_year         0\n",
      "runtime_minutes    0\n",
      "genres             0\n",
      "dtype: int64\n"
     ]
    }
   ],
   "source": [
    "print(df1.isna().sum())\n",
    "df1.dropna(inplace=True)\n",
    "print(df1.isna().sum())"
   ]
  },
  {
   "cell_type": "code",
   "execution_count": 74,
   "metadata": {
    "ExecuteTime": {
     "end_time": "2020-06-03T18:10:24.648500Z",
     "start_time": "2020-06-03T18:10:24.623406Z"
    }
   },
   "outputs": [
    {
     "name": "stdout",
     "output_type": "stream",
     "text": [
      "<class 'pandas.core.frame.DataFrame'>\n",
      "Int64Index: 114401 entries, 0 to 146142\n",
      "Data columns (total 6 columns):\n",
      "tconst             114401 non-null object\n",
      "primary_title      114401 non-null object\n",
      "original_title     114401 non-null object\n",
      "start_year         114401 non-null int64\n",
      "runtime_minutes    114401 non-null float64\n",
      "genres             114401 non-null object\n",
      "dtypes: float64(1), int64(1), object(4)\n",
      "memory usage: 6.1+ MB\n"
     ]
    }
   ],
   "source": [
    "df1.info()"
   ]
  },
  {
   "cell_type": "code",
   "execution_count": 75,
   "metadata": {
    "ExecuteTime": {
     "end_time": "2020-06-03T18:10:24.676550Z",
     "start_time": "2020-06-03T18:10:24.649739Z"
    }
   },
   "outputs": [
    {
     "data": {
      "text/html": [
       "<div>\n",
       "<style scoped>\n",
       "    .dataframe tbody tr th:only-of-type {\n",
       "        vertical-align: middle;\n",
       "    }\n",
       "\n",
       "    .dataframe tbody tr th {\n",
       "        vertical-align: top;\n",
       "    }\n",
       "\n",
       "    .dataframe thead th {\n",
       "        text-align: right;\n",
       "    }\n",
       "</style>\n",
       "<table border=\"1\" class=\"dataframe\">\n",
       "  <thead>\n",
       "    <tr style=\"text-align: right;\">\n",
       "      <th></th>\n",
       "      <th>tconst</th>\n",
       "      <th>primary_title</th>\n",
       "      <th>original_title</th>\n",
       "      <th>start_year</th>\n",
       "      <th>runtime_minutes</th>\n",
       "      <th>genres</th>\n",
       "    </tr>\n",
       "  </thead>\n",
       "  <tbody>\n",
       "    <tr>\n",
       "      <td>0</td>\n",
       "      <td>tt0063540</td>\n",
       "      <td>Sunghursh</td>\n",
       "      <td>Sunghursh</td>\n",
       "      <td>2013</td>\n",
       "      <td>175.0</td>\n",
       "      <td>Action,Crime,Drama</td>\n",
       "    </tr>\n",
       "    <tr>\n",
       "      <td>1</td>\n",
       "      <td>tt0066787</td>\n",
       "      <td>One Day Before the Rainy Season</td>\n",
       "      <td>Ashad Ka Ek Din</td>\n",
       "      <td>2019</td>\n",
       "      <td>114.0</td>\n",
       "      <td>Biography,Drama</td>\n",
       "    </tr>\n",
       "    <tr>\n",
       "      <td>2</td>\n",
       "      <td>tt0069049</td>\n",
       "      <td>The Other Side of the Wind</td>\n",
       "      <td>The Other Side of the Wind</td>\n",
       "      <td>2018</td>\n",
       "      <td>122.0</td>\n",
       "      <td>Drama</td>\n",
       "    </tr>\n",
       "    <tr>\n",
       "      <td>4</td>\n",
       "      <td>tt0100275</td>\n",
       "      <td>The Wandering Soap Opera</td>\n",
       "      <td>La Telenovela Errante</td>\n",
       "      <td>2017</td>\n",
       "      <td>80.0</td>\n",
       "      <td>Comedy,Drama,Fantasy</td>\n",
       "    </tr>\n",
       "    <tr>\n",
       "      <td>5</td>\n",
       "      <td>tt0111414</td>\n",
       "      <td>A Thin Life</td>\n",
       "      <td>A Thin Life</td>\n",
       "      <td>2018</td>\n",
       "      <td>75.0</td>\n",
       "      <td>Comedy</td>\n",
       "    </tr>\n",
       "    <tr>\n",
       "      <td>...</td>\n",
       "      <td>...</td>\n",
       "      <td>...</td>\n",
       "      <td>...</td>\n",
       "      <td>...</td>\n",
       "      <td>...</td>\n",
       "      <td>...</td>\n",
       "    </tr>\n",
       "    <tr>\n",
       "      <td>146135</td>\n",
       "      <td>tt9916170</td>\n",
       "      <td>The Rehearsal</td>\n",
       "      <td>O Ensaio</td>\n",
       "      <td>2019</td>\n",
       "      <td>51.0</td>\n",
       "      <td>Drama</td>\n",
       "    </tr>\n",
       "    <tr>\n",
       "      <td>146136</td>\n",
       "      <td>tt9916186</td>\n",
       "      <td>Illenau - die Geschichte einer ehemaligen Heil...</td>\n",
       "      <td>Illenau - die Geschichte einer ehemaligen Heil...</td>\n",
       "      <td>2017</td>\n",
       "      <td>84.0</td>\n",
       "      <td>Documentary</td>\n",
       "    </tr>\n",
       "    <tr>\n",
       "      <td>146137</td>\n",
       "      <td>tt9916190</td>\n",
       "      <td>Safeguard</td>\n",
       "      <td>Safeguard</td>\n",
       "      <td>2019</td>\n",
       "      <td>90.0</td>\n",
       "      <td>Drama,Thriller</td>\n",
       "    </tr>\n",
       "    <tr>\n",
       "      <td>146139</td>\n",
       "      <td>tt9916538</td>\n",
       "      <td>Kuambil Lagi Hatiku</td>\n",
       "      <td>Kuambil Lagi Hatiku</td>\n",
       "      <td>2019</td>\n",
       "      <td>123.0</td>\n",
       "      <td>Drama</td>\n",
       "    </tr>\n",
       "    <tr>\n",
       "      <td>146142</td>\n",
       "      <td>tt9916730</td>\n",
       "      <td>6 Gunn</td>\n",
       "      <td>6 Gunn</td>\n",
       "      <td>2017</td>\n",
       "      <td>116.0</td>\n",
       "      <td>MISSING</td>\n",
       "    </tr>\n",
       "  </tbody>\n",
       "</table>\n",
       "<p>114394 rows × 6 columns</p>\n",
       "</div>"
      ],
      "text/plain": [
       "           tconst                                      primary_title  \\\n",
       "0       tt0063540                                          Sunghursh   \n",
       "1       tt0066787                    One Day Before the Rainy Season   \n",
       "2       tt0069049                         The Other Side of the Wind   \n",
       "4       tt0100275                           The Wandering Soap Opera   \n",
       "5       tt0111414                                        A Thin Life   \n",
       "...           ...                                                ...   \n",
       "146135  tt9916170                                      The Rehearsal   \n",
       "146136  tt9916186  Illenau - die Geschichte einer ehemaligen Heil...   \n",
       "146137  tt9916190                                          Safeguard   \n",
       "146139  tt9916538                                Kuambil Lagi Hatiku   \n",
       "146142  tt9916730                                             6 Gunn   \n",
       "\n",
       "                                           original_title  start_year  \\\n",
       "0                                               Sunghursh        2013   \n",
       "1                                         Ashad Ka Ek Din        2019   \n",
       "2                              The Other Side of the Wind        2018   \n",
       "4                                   La Telenovela Errante        2017   \n",
       "5                                             A Thin Life        2018   \n",
       "...                                                   ...         ...   \n",
       "146135                                           O Ensaio        2019   \n",
       "146136  Illenau - die Geschichte einer ehemaligen Heil...        2017   \n",
       "146137                                          Safeguard        2019   \n",
       "146139                                Kuambil Lagi Hatiku        2019   \n",
       "146142                                             6 Gunn        2017   \n",
       "\n",
       "        runtime_minutes                genres  \n",
       "0                 175.0    Action,Crime,Drama  \n",
       "1                 114.0       Biography,Drama  \n",
       "2                 122.0                 Drama  \n",
       "4                  80.0  Comedy,Drama,Fantasy  \n",
       "5                  75.0                Comedy  \n",
       "...                 ...                   ...  \n",
       "146135             51.0                 Drama  \n",
       "146136             84.0           Documentary  \n",
       "146137             90.0        Drama,Thriller  \n",
       "146139            123.0                 Drama  \n",
       "146142            116.0               MISSING  \n",
       "\n",
       "[114394 rows x 6 columns]"
      ]
     },
     "execution_count": 75,
     "metadata": {},
     "output_type": "execute_result"
    }
   ],
   "source": [
    "## Getting only 2010-2020 movies\n",
    "df1 = df1[(df1['start_year'] >= 2010) & (df1['start_year'] <2021)]\n",
    "df1"
   ]
  },
  {
   "cell_type": "markdown",
   "metadata": {},
   "source": [
    "#### Prepping imdb.title.ratings"
   ]
  },
  {
   "cell_type": "code",
   "execution_count": 76,
   "metadata": {
    "ExecuteTime": {
     "end_time": "2020-06-03T18:10:24.693100Z",
     "start_time": "2020-06-03T18:10:24.677819Z"
    }
   },
   "outputs": [
    {
     "name": "stdout",
     "output_type": "stream",
     "text": [
      "<class 'pandas.core.frame.DataFrame'>\n",
      "RangeIndex: 73856 entries, 0 to 73855\n",
      "Data columns (total 3 columns):\n",
      "tconst           73856 non-null object\n",
      "averagerating    73856 non-null float64\n",
      "numvotes         73856 non-null int64\n",
      "dtypes: float64(1), int64(1), object(1)\n",
      "memory usage: 1.7+ MB\n"
     ]
    },
    {
     "data": {
      "text/html": [
       "<div>\n",
       "<style scoped>\n",
       "    .dataframe tbody tr th:only-of-type {\n",
       "        vertical-align: middle;\n",
       "    }\n",
       "\n",
       "    .dataframe tbody tr th {\n",
       "        vertical-align: top;\n",
       "    }\n",
       "\n",
       "    .dataframe thead th {\n",
       "        text-align: right;\n",
       "    }\n",
       "</style>\n",
       "<table border=\"1\" class=\"dataframe\">\n",
       "  <thead>\n",
       "    <tr style=\"text-align: right;\">\n",
       "      <th></th>\n",
       "      <th>tconst</th>\n",
       "      <th>averagerating</th>\n",
       "      <th>numvotes</th>\n",
       "    </tr>\n",
       "  </thead>\n",
       "  <tbody>\n",
       "    <tr>\n",
       "      <td>0</td>\n",
       "      <td>tt10356526</td>\n",
       "      <td>8.3</td>\n",
       "      <td>31</td>\n",
       "    </tr>\n",
       "    <tr>\n",
       "      <td>1</td>\n",
       "      <td>tt10384606</td>\n",
       "      <td>8.9</td>\n",
       "      <td>559</td>\n",
       "    </tr>\n",
       "    <tr>\n",
       "      <td>2</td>\n",
       "      <td>tt1042974</td>\n",
       "      <td>6.4</td>\n",
       "      <td>20</td>\n",
       "    </tr>\n",
       "    <tr>\n",
       "      <td>3</td>\n",
       "      <td>tt1043726</td>\n",
       "      <td>4.2</td>\n",
       "      <td>50352</td>\n",
       "    </tr>\n",
       "    <tr>\n",
       "      <td>4</td>\n",
       "      <td>tt1060240</td>\n",
       "      <td>6.5</td>\n",
       "      <td>21</td>\n",
       "    </tr>\n",
       "  </tbody>\n",
       "</table>\n",
       "</div>"
      ],
      "text/plain": [
       "       tconst  averagerating  numvotes\n",
       "0  tt10356526            8.3        31\n",
       "1  tt10384606            8.9       559\n",
       "2   tt1042974            6.4        20\n",
       "3   tt1043726            4.2     50352\n",
       "4   tt1060240            6.5        21"
      ]
     },
     "metadata": {},
     "output_type": "display_data"
    },
    {
     "data": {
      "text/plain": [
       "None"
      ]
     },
     "metadata": {},
     "output_type": "display_data"
    }
   ],
   "source": [
    "df2 = DATA['imdb.title.ratings']\n",
    "\n",
    "display(df2.head(),df2.info())"
   ]
  },
  {
   "cell_type": "code",
   "execution_count": 77,
   "metadata": {
    "ExecuteTime": {
     "end_time": "2020-06-03T18:10:24.953043Z",
     "start_time": "2020-06-03T18:10:24.694533Z"
    }
   },
   "outputs": [
    {
     "data": {
      "text/plain": [
       "tconst             0\n",
       "primary_title      0\n",
       "original_title     0\n",
       "start_year         0\n",
       "runtime_minutes    0\n",
       "genres             0\n",
       "dtype: int64"
      ]
     },
     "metadata": {},
     "output_type": "display_data"
    },
    {
     "data": {
      "text/plain": [
       "tconst           0\n",
       "averagerating    0\n",
       "numvotes         0\n",
       "dtype: int64"
      ]
     },
     "metadata": {},
     "output_type": "display_data"
    },
    {
     "data": {
      "text/plain": [
       "tconst             114394\n",
       "primary_title      107449\n",
       "original_title     108908\n",
       "start_year             11\n",
       "runtime_minutes       367\n",
       "genres               1041\n",
       "dtype: int64"
      ]
     },
     "metadata": {},
     "output_type": "display_data"
    },
    {
     "data": {
      "text/plain": [
       "tconst           73856\n",
       "averagerating       91\n",
       "numvotes          7349\n",
       "dtype: int64"
      ]
     },
     "metadata": {},
     "output_type": "display_data"
    }
   ],
   "source": [
    "display(df1.isna().sum(),df2.isna().sum())\n",
    "display(df1.nunique(),df2.nunique())"
   ]
  },
  {
   "cell_type": "code",
   "execution_count": 78,
   "metadata": {
    "ExecuteTime": {
     "end_time": "2020-06-03T18:10:25.107945Z",
     "start_time": "2020-06-03T18:10:24.954721Z"
    }
   },
   "outputs": [
    {
     "data": {
      "text/html": [
       "<div>\n",
       "<style scoped>\n",
       "    .dataframe tbody tr th:only-of-type {\n",
       "        vertical-align: middle;\n",
       "    }\n",
       "\n",
       "    .dataframe tbody tr th {\n",
       "        vertical-align: top;\n",
       "    }\n",
       "\n",
       "    .dataframe thead th {\n",
       "        text-align: right;\n",
       "    }\n",
       "</style>\n",
       "<table border=\"1\" class=\"dataframe\">\n",
       "  <thead>\n",
       "    <tr style=\"text-align: right;\">\n",
       "      <th></th>\n",
       "      <th>tconst</th>\n",
       "      <th>primary_title</th>\n",
       "      <th>original_title</th>\n",
       "      <th>start_year</th>\n",
       "      <th>runtime_minutes</th>\n",
       "      <th>genres</th>\n",
       "      <th>averagerating</th>\n",
       "      <th>numvotes</th>\n",
       "    </tr>\n",
       "  </thead>\n",
       "  <tbody>\n",
       "    <tr>\n",
       "      <td>0</td>\n",
       "      <td>tt0063540</td>\n",
       "      <td>Sunghursh</td>\n",
       "      <td>Sunghursh</td>\n",
       "      <td>2013</td>\n",
       "      <td>175.0</td>\n",
       "      <td>Action,Crime,Drama</td>\n",
       "      <td>7.0</td>\n",
       "      <td>77.0</td>\n",
       "    </tr>\n",
       "    <tr>\n",
       "      <td>1</td>\n",
       "      <td>tt0066787</td>\n",
       "      <td>One Day Before the Rainy Season</td>\n",
       "      <td>Ashad Ka Ek Din</td>\n",
       "      <td>2019</td>\n",
       "      <td>114.0</td>\n",
       "      <td>Biography,Drama</td>\n",
       "      <td>7.2</td>\n",
       "      <td>43.0</td>\n",
       "    </tr>\n",
       "    <tr>\n",
       "      <td>2</td>\n",
       "      <td>tt0069049</td>\n",
       "      <td>The Other Side of the Wind</td>\n",
       "      <td>The Other Side of the Wind</td>\n",
       "      <td>2018</td>\n",
       "      <td>122.0</td>\n",
       "      <td>Drama</td>\n",
       "      <td>6.9</td>\n",
       "      <td>4517.0</td>\n",
       "    </tr>\n",
       "    <tr>\n",
       "      <td>3</td>\n",
       "      <td>tt0100275</td>\n",
       "      <td>The Wandering Soap Opera</td>\n",
       "      <td>La Telenovela Errante</td>\n",
       "      <td>2017</td>\n",
       "      <td>80.0</td>\n",
       "      <td>Comedy,Drama,Fantasy</td>\n",
       "      <td>6.5</td>\n",
       "      <td>119.0</td>\n",
       "    </tr>\n",
       "    <tr>\n",
       "      <td>4</td>\n",
       "      <td>tt0111414</td>\n",
       "      <td>A Thin Life</td>\n",
       "      <td>A Thin Life</td>\n",
       "      <td>2018</td>\n",
       "      <td>75.0</td>\n",
       "      <td>Comedy</td>\n",
       "      <td>NaN</td>\n",
       "      <td>NaN</td>\n",
       "    </tr>\n",
       "    <tr>\n",
       "      <td>...</td>\n",
       "      <td>...</td>\n",
       "      <td>...</td>\n",
       "      <td>...</td>\n",
       "      <td>...</td>\n",
       "      <td>...</td>\n",
       "      <td>...</td>\n",
       "      <td>...</td>\n",
       "      <td>...</td>\n",
       "    </tr>\n",
       "    <tr>\n",
       "      <td>114389</td>\n",
       "      <td>tt9916170</td>\n",
       "      <td>The Rehearsal</td>\n",
       "      <td>O Ensaio</td>\n",
       "      <td>2019</td>\n",
       "      <td>51.0</td>\n",
       "      <td>Drama</td>\n",
       "      <td>NaN</td>\n",
       "      <td>NaN</td>\n",
       "    </tr>\n",
       "    <tr>\n",
       "      <td>114390</td>\n",
       "      <td>tt9916186</td>\n",
       "      <td>Illenau - die Geschichte einer ehemaligen Heil...</td>\n",
       "      <td>Illenau - die Geschichte einer ehemaligen Heil...</td>\n",
       "      <td>2017</td>\n",
       "      <td>84.0</td>\n",
       "      <td>Documentary</td>\n",
       "      <td>NaN</td>\n",
       "      <td>NaN</td>\n",
       "    </tr>\n",
       "    <tr>\n",
       "      <td>114391</td>\n",
       "      <td>tt9916190</td>\n",
       "      <td>Safeguard</td>\n",
       "      <td>Safeguard</td>\n",
       "      <td>2019</td>\n",
       "      <td>90.0</td>\n",
       "      <td>Drama,Thriller</td>\n",
       "      <td>NaN</td>\n",
       "      <td>NaN</td>\n",
       "    </tr>\n",
       "    <tr>\n",
       "      <td>114392</td>\n",
       "      <td>tt9916538</td>\n",
       "      <td>Kuambil Lagi Hatiku</td>\n",
       "      <td>Kuambil Lagi Hatiku</td>\n",
       "      <td>2019</td>\n",
       "      <td>123.0</td>\n",
       "      <td>Drama</td>\n",
       "      <td>NaN</td>\n",
       "      <td>NaN</td>\n",
       "    </tr>\n",
       "    <tr>\n",
       "      <td>114393</td>\n",
       "      <td>tt9916730</td>\n",
       "      <td>6 Gunn</td>\n",
       "      <td>6 Gunn</td>\n",
       "      <td>2017</td>\n",
       "      <td>116.0</td>\n",
       "      <td>MISSING</td>\n",
       "      <td>NaN</td>\n",
       "      <td>NaN</td>\n",
       "    </tr>\n",
       "  </tbody>\n",
       "</table>\n",
       "<p>114394 rows × 8 columns</p>\n",
       "</div>"
      ],
      "text/plain": [
       "           tconst                                      primary_title  \\\n",
       "0       tt0063540                                          Sunghursh   \n",
       "1       tt0066787                    One Day Before the Rainy Season   \n",
       "2       tt0069049                         The Other Side of the Wind   \n",
       "3       tt0100275                           The Wandering Soap Opera   \n",
       "4       tt0111414                                        A Thin Life   \n",
       "...           ...                                                ...   \n",
       "114389  tt9916170                                      The Rehearsal   \n",
       "114390  tt9916186  Illenau - die Geschichte einer ehemaligen Heil...   \n",
       "114391  tt9916190                                          Safeguard   \n",
       "114392  tt9916538                                Kuambil Lagi Hatiku   \n",
       "114393  tt9916730                                             6 Gunn   \n",
       "\n",
       "                                           original_title  start_year  \\\n",
       "0                                               Sunghursh        2013   \n",
       "1                                         Ashad Ka Ek Din        2019   \n",
       "2                              The Other Side of the Wind        2018   \n",
       "3                                   La Telenovela Errante        2017   \n",
       "4                                             A Thin Life        2018   \n",
       "...                                                   ...         ...   \n",
       "114389                                           O Ensaio        2019   \n",
       "114390  Illenau - die Geschichte einer ehemaligen Heil...        2017   \n",
       "114391                                          Safeguard        2019   \n",
       "114392                                Kuambil Lagi Hatiku        2019   \n",
       "114393                                             6 Gunn        2017   \n",
       "\n",
       "        runtime_minutes                genres  averagerating  numvotes  \n",
       "0                 175.0    Action,Crime,Drama            7.0      77.0  \n",
       "1                 114.0       Biography,Drama            7.2      43.0  \n",
       "2                 122.0                 Drama            6.9    4517.0  \n",
       "3                  80.0  Comedy,Drama,Fantasy            6.5     119.0  \n",
       "4                  75.0                Comedy            NaN       NaN  \n",
       "...                 ...                   ...            ...       ...  \n",
       "114389             51.0                 Drama            NaN       NaN  \n",
       "114390             84.0           Documentary            NaN       NaN  \n",
       "114391             90.0        Drama,Thriller            NaN       NaN  \n",
       "114392            123.0                 Drama            NaN       NaN  \n",
       "114393            116.0               MISSING            NaN       NaN  \n",
       "\n",
       "[114394 rows x 8 columns]"
      ]
     },
     "execution_count": 78,
     "metadata": {},
     "output_type": "execute_result"
    }
   ],
   "source": [
    "df = pd.merge(df1,df2,on='tconst',how='left')\n",
    "df"
   ]
  },
  {
   "cell_type": "code",
   "execution_count": 79,
   "metadata": {
    "ExecuteTime": {
     "end_time": "2020-06-03T18:10:25.167108Z",
     "start_time": "2020-06-03T18:10:25.110106Z"
    }
   },
   "outputs": [
    {
     "data": {
      "text/plain": [
       "tconst             0.000000\n",
       "primary_title      0.000000\n",
       "original_title     0.000000\n",
       "start_year         0.000000\n",
       "runtime_minutes    0.000000\n",
       "genres             0.000000\n",
       "averagerating      0.420984\n",
       "numvotes           0.420984\n",
       "dtype: float64"
      ]
     },
     "execution_count": 79,
     "metadata": {},
     "output_type": "execute_result"
    }
   ],
   "source": [
    "df.isna().sum()/len(df)"
   ]
  },
  {
   "cell_type": "code",
   "execution_count": 80,
   "metadata": {
    "ExecuteTime": {
     "end_time": "2020-06-03T18:10:25.873613Z",
     "start_time": "2020-06-03T18:10:25.168801Z"
    }
   },
   "outputs": [
    {
     "data": {
      "text/plain": [
       "<matplotlib.axes._subplots.AxesSubplot at 0x15f45a7f0>"
      ]
     },
     "execution_count": 80,
     "metadata": {},
     "output_type": "execute_result"
    },
    {
     "data": {
      "image/png": "[encoded data removed]",
      "text/plain": [
       "<Figure size 1800x720 with 2 Axes>"
      ]
     },
     "metadata": {
      "needs_background": "light"
     },
     "output_type": "display_data"
    }
   ],
   "source": [
    "import missingno as ms\n",
    "ms.matrix(df)"
   ]
  },
  {
   "cell_type": "code",
   "execution_count": 81,
   "metadata": {
    "ExecuteTime": {
     "end_time": "2020-06-03T18:10:25.895189Z",
     "start_time": "2020-06-03T18:10:25.875052Z"
    }
   },
   "outputs": [
    {
     "data": {
      "text/html": [
       "<div>\n",
       "<style scoped>\n",
       "    .dataframe tbody tr th:only-of-type {\n",
       "        vertical-align: middle;\n",
       "    }\n",
       "\n",
       "    .dataframe tbody tr th {\n",
       "        vertical-align: top;\n",
       "    }\n",
       "\n",
       "    .dataframe thead th {\n",
       "        text-align: right;\n",
       "    }\n",
       "</style>\n",
       "<table border=\"1\" class=\"dataframe\">\n",
       "  <thead>\n",
       "    <tr style=\"text-align: right;\">\n",
       "      <th></th>\n",
       "      <th>tconst</th>\n",
       "      <th>primary_title</th>\n",
       "      <th>original_title</th>\n",
       "      <th>start_year</th>\n",
       "      <th>runtime_minutes</th>\n",
       "      <th>genres</th>\n",
       "      <th>averagerating</th>\n",
       "      <th>numvotes</th>\n",
       "    </tr>\n",
       "  </thead>\n",
       "  <tbody>\n",
       "    <tr>\n",
       "      <td>4</td>\n",
       "      <td>tt0111414</td>\n",
       "      <td>A Thin Life</td>\n",
       "      <td>A Thin Life</td>\n",
       "      <td>2018</td>\n",
       "      <td>75.0</td>\n",
       "      <td>Comedy</td>\n",
       "      <td>NaN</td>\n",
       "      <td>NaN</td>\n",
       "    </tr>\n",
       "    <tr>\n",
       "      <td>6</td>\n",
       "      <td>tt0144449</td>\n",
       "      <td>Nema aviona za Zagreb</td>\n",
       "      <td>Nema aviona za Zagreb</td>\n",
       "      <td>2012</td>\n",
       "      <td>82.0</td>\n",
       "      <td>Biography</td>\n",
       "      <td>NaN</td>\n",
       "      <td>NaN</td>\n",
       "    </tr>\n",
       "    <tr>\n",
       "      <td>20</td>\n",
       "      <td>tt0262759</td>\n",
       "      <td>Seven Jews from My Class</td>\n",
       "      <td>Siedmiu Zydów z mojej klasy</td>\n",
       "      <td>2018</td>\n",
       "      <td>40.0</td>\n",
       "      <td>Documentary</td>\n",
       "      <td>NaN</td>\n",
       "      <td>NaN</td>\n",
       "    </tr>\n",
       "    <tr>\n",
       "      <td>27</td>\n",
       "      <td>tt0311448</td>\n",
       "      <td>Lives No Longer Ours</td>\n",
       "      <td>Lives No Longer Ours</td>\n",
       "      <td>2011</td>\n",
       "      <td>90.0</td>\n",
       "      <td>Drama,Romance</td>\n",
       "      <td>NaN</td>\n",
       "      <td>NaN</td>\n",
       "    </tr>\n",
       "    <tr>\n",
       "      <td>47</td>\n",
       "      <td>tt0368133</td>\n",
       "      <td>The Promise of Perfume</td>\n",
       "      <td>The Promise of Perfume</td>\n",
       "      <td>2017</td>\n",
       "      <td>57.0</td>\n",
       "      <td>Documentary</td>\n",
       "      <td>NaN</td>\n",
       "      <td>NaN</td>\n",
       "    </tr>\n",
       "    <tr>\n",
       "      <td>...</td>\n",
       "      <td>...</td>\n",
       "      <td>...</td>\n",
       "      <td>...</td>\n",
       "      <td>...</td>\n",
       "      <td>...</td>\n",
       "      <td>...</td>\n",
       "      <td>...</td>\n",
       "      <td>...</td>\n",
       "    </tr>\n",
       "    <tr>\n",
       "      <td>114389</td>\n",
       "      <td>tt9916170</td>\n",
       "      <td>The Rehearsal</td>\n",
       "      <td>O Ensaio</td>\n",
       "      <td>2019</td>\n",
       "      <td>51.0</td>\n",
       "      <td>Drama</td>\n",
       "      <td>NaN</td>\n",
       "      <td>NaN</td>\n",
       "    </tr>\n",
       "    <tr>\n",
       "      <td>114390</td>\n",
       "      <td>tt9916186</td>\n",
       "      <td>Illenau - die Geschichte einer ehemaligen Heil...</td>\n",
       "      <td>Illenau - die Geschichte einer ehemaligen Heil...</td>\n",
       "      <td>2017</td>\n",
       "      <td>84.0</td>\n",
       "      <td>Documentary</td>\n",
       "      <td>NaN</td>\n",
       "      <td>NaN</td>\n",
       "    </tr>\n",
       "    <tr>\n",
       "      <td>114391</td>\n",
       "      <td>tt9916190</td>\n",
       "      <td>Safeguard</td>\n",
       "      <td>Safeguard</td>\n",
       "      <td>2019</td>\n",
       "      <td>90.0</td>\n",
       "      <td>Drama,Thriller</td>\n",
       "      <td>NaN</td>\n",
       "      <td>NaN</td>\n",
       "    </tr>\n",
       "    <tr>\n",
       "      <td>114392</td>\n",
       "      <td>tt9916538</td>\n",
       "      <td>Kuambil Lagi Hatiku</td>\n",
       "      <td>Kuambil Lagi Hatiku</td>\n",
       "      <td>2019</td>\n",
       "      <td>123.0</td>\n",
       "      <td>Drama</td>\n",
       "      <td>NaN</td>\n",
       "      <td>NaN</td>\n",
       "    </tr>\n",
       "    <tr>\n",
       "      <td>114393</td>\n",
       "      <td>tt9916730</td>\n",
       "      <td>6 Gunn</td>\n",
       "      <td>6 Gunn</td>\n",
       "      <td>2017</td>\n",
       "      <td>116.0</td>\n",
       "      <td>MISSING</td>\n",
       "      <td>NaN</td>\n",
       "      <td>NaN</td>\n",
       "    </tr>\n",
       "  </tbody>\n",
       "</table>\n",
       "<p>48158 rows × 8 columns</p>\n",
       "</div>"
      ],
      "text/plain": [
       "           tconst                                      primary_title  \\\n",
       "4       tt0111414                                        A Thin Life   \n",
       "6       tt0144449                              Nema aviona za Zagreb   \n",
       "20      tt0262759                           Seven Jews from My Class   \n",
       "27      tt0311448                               Lives No Longer Ours   \n",
       "47      tt0368133                             The Promise of Perfume   \n",
       "...           ...                                                ...   \n",
       "114389  tt9916170                                      The Rehearsal   \n",
       "114390  tt9916186  Illenau - die Geschichte einer ehemaligen Heil...   \n",
       "114391  tt9916190                                          Safeguard   \n",
       "114392  tt9916538                                Kuambil Lagi Hatiku   \n",
       "114393  tt9916730                                             6 Gunn   \n",
       "\n",
       "                                           original_title  start_year  \\\n",
       "4                                             A Thin Life        2018   \n",
       "6                                   Nema aviona za Zagreb        2012   \n",
       "20                            Siedmiu Zydów z mojej klasy        2018   \n",
       "27                                   Lives No Longer Ours        2011   \n",
       "47                                 The Promise of Perfume        2017   \n",
       "...                                                   ...         ...   \n",
       "114389                                           O Ensaio        2019   \n",
       "114390  Illenau - die Geschichte einer ehemaligen Heil...        2017   \n",
       "114391                                          Safeguard        2019   \n",
       "114392                                Kuambil Lagi Hatiku        2019   \n",
       "114393                                             6 Gunn        2017   \n",
       "\n",
       "        runtime_minutes          genres  averagerating  numvotes  \n",
       "4                  75.0          Comedy            NaN       NaN  \n",
       "6                  82.0       Biography            NaN       NaN  \n",
       "20                 40.0     Documentary            NaN       NaN  \n",
       "27                 90.0   Drama,Romance            NaN       NaN  \n",
       "47                 57.0     Documentary            NaN       NaN  \n",
       "...                 ...             ...            ...       ...  \n",
       "114389             51.0           Drama            NaN       NaN  \n",
       "114390             84.0     Documentary            NaN       NaN  \n",
       "114391             90.0  Drama,Thriller            NaN       NaN  \n",
       "114392            123.0           Drama            NaN       NaN  \n",
       "114393            116.0         MISSING            NaN       NaN  \n",
       "\n",
       "[48158 rows x 8 columns]"
      ]
     },
     "execution_count": 81,
     "metadata": {},
     "output_type": "execute_result"
    }
   ],
   "source": [
    "df[df['averagerating'].isna()]"
   ]
  },
  {
   "cell_type": "code",
   "execution_count": 82,
   "metadata": {
    "ExecuteTime": {
     "end_time": "2020-06-03T18:10:25.909034Z",
     "start_time": "2020-06-03T18:10:25.898102Z"
    }
   },
   "outputs": [
    {
     "data": {
      "text/html": [
       "<div>\n",
       "<style scoped>\n",
       "    .dataframe tbody tr th:only-of-type {\n",
       "        vertical-align: middle;\n",
       "    }\n",
       "\n",
       "    .dataframe tbody tr th {\n",
       "        vertical-align: top;\n",
       "    }\n",
       "\n",
       "    .dataframe thead th {\n",
       "        text-align: right;\n",
       "    }\n",
       "</style>\n",
       "<table border=\"1\" class=\"dataframe\">\n",
       "  <thead>\n",
       "    <tr style=\"text-align: right;\">\n",
       "      <th></th>\n",
       "      <th>tconst</th>\n",
       "      <th>primary_title</th>\n",
       "      <th>original_title</th>\n",
       "      <th>start_year</th>\n",
       "      <th>runtime_minutes</th>\n",
       "      <th>genres</th>\n",
       "      <th>averagerating</th>\n",
       "      <th>numvotes</th>\n",
       "    </tr>\n",
       "  </thead>\n",
       "  <tbody>\n",
       "    <tr>\n",
       "      <td>0</td>\n",
       "      <td>tt0063540</td>\n",
       "      <td>Sunghursh</td>\n",
       "      <td>Sunghursh</td>\n",
       "      <td>2013</td>\n",
       "      <td>175.0</td>\n",
       "      <td>Action,Crime,Drama</td>\n",
       "      <td>7.0</td>\n",
       "      <td>77.0</td>\n",
       "    </tr>\n",
       "    <tr>\n",
       "      <td>1</td>\n",
       "      <td>tt0066787</td>\n",
       "      <td>One Day Before the Rainy Season</td>\n",
       "      <td>Ashad Ka Ek Din</td>\n",
       "      <td>2019</td>\n",
       "      <td>114.0</td>\n",
       "      <td>Biography,Drama</td>\n",
       "      <td>7.2</td>\n",
       "      <td>43.0</td>\n",
       "    </tr>\n",
       "    <tr>\n",
       "      <td>2</td>\n",
       "      <td>tt0069049</td>\n",
       "      <td>The Other Side of the Wind</td>\n",
       "      <td>The Other Side of the Wind</td>\n",
       "      <td>2018</td>\n",
       "      <td>122.0</td>\n",
       "      <td>Drama</td>\n",
       "      <td>6.9</td>\n",
       "      <td>4517.0</td>\n",
       "    </tr>\n",
       "    <tr>\n",
       "      <td>3</td>\n",
       "      <td>tt0100275</td>\n",
       "      <td>The Wandering Soap Opera</td>\n",
       "      <td>La Telenovela Errante</td>\n",
       "      <td>2017</td>\n",
       "      <td>80.0</td>\n",
       "      <td>Comedy,Drama,Fantasy</td>\n",
       "      <td>6.5</td>\n",
       "      <td>119.0</td>\n",
       "    </tr>\n",
       "    <tr>\n",
       "      <td>4</td>\n",
       "      <td>tt0111414</td>\n",
       "      <td>A Thin Life</td>\n",
       "      <td>A Thin Life</td>\n",
       "      <td>2018</td>\n",
       "      <td>75.0</td>\n",
       "      <td>Comedy</td>\n",
       "      <td>NaN</td>\n",
       "      <td>NaN</td>\n",
       "    </tr>\n",
       "  </tbody>\n",
       "</table>\n",
       "</div>"
      ],
      "text/plain": [
       "      tconst                    primary_title              original_title  \\\n",
       "0  tt0063540                        Sunghursh                   Sunghursh   \n",
       "1  tt0066787  One Day Before the Rainy Season             Ashad Ka Ek Din   \n",
       "2  tt0069049       The Other Side of the Wind  The Other Side of the Wind   \n",
       "3  tt0100275         The Wandering Soap Opera       La Telenovela Errante   \n",
       "4  tt0111414                      A Thin Life                 A Thin Life   \n",
       "\n",
       "   start_year  runtime_minutes                genres  averagerating  numvotes  \n",
       "0        2013            175.0    Action,Crime,Drama            7.0      77.0  \n",
       "1        2019            114.0       Biography,Drama            7.2      43.0  \n",
       "2        2018            122.0                 Drama            6.9    4517.0  \n",
       "3        2017             80.0  Comedy,Drama,Fantasy            6.5     119.0  \n",
       "4        2018             75.0                Comedy            NaN       NaN  "
      ]
     },
     "execution_count": 82,
     "metadata": {},
     "output_type": "execute_result"
    }
   ],
   "source": [
    "df.head()"
   ]
  },
  {
   "cell_type": "code",
   "execution_count": 83,
   "metadata": {
    "ExecuteTime": {
     "end_time": "2020-06-03T18:10:25.950700Z",
     "start_time": "2020-06-03T18:10:25.910779Z"
    }
   },
   "outputs": [
    {
     "data": {
      "text/html": [
       "<div>\n",
       "<style scoped>\n",
       "    .dataframe tbody tr th:only-of-type {\n",
       "        vertical-align: middle;\n",
       "    }\n",
       "\n",
       "    .dataframe tbody tr th {\n",
       "        vertical-align: top;\n",
       "    }\n",
       "\n",
       "    .dataframe thead th {\n",
       "        text-align: right;\n",
       "    }\n",
       "</style>\n",
       "<table border=\"1\" class=\"dataframe\">\n",
       "  <thead>\n",
       "    <tr style=\"text-align: right;\">\n",
       "      <th></th>\n",
       "      <th>tconst</th>\n",
       "      <th>primary_title</th>\n",
       "      <th>original_title</th>\n",
       "      <th>start_year</th>\n",
       "      <th>runtime_minutes</th>\n",
       "      <th>genres</th>\n",
       "      <th>averagerating</th>\n",
       "      <th>numvotes</th>\n",
       "    </tr>\n",
       "  </thead>\n",
       "  <tbody>\n",
       "  </tbody>\n",
       "</table>\n",
       "</div>"
      ],
      "text/plain": [
       "Empty DataFrame\n",
       "Columns: [tconst, primary_title, original_title, start_year, runtime_minutes, genres, averagerating, numvotes]\n",
       "Index: []"
      ]
     },
     "execution_count": 83,
     "metadata": {},
     "output_type": "execute_result"
    }
   ],
   "source": [
    "df[df.duplicated(subset=['tconst'],keep=False)]"
   ]
  },
  {
   "cell_type": "markdown",
   "metadata": {},
   "source": [
    "### Must deal with duplicates later"
   ]
  },
  {
   "cell_type": "code",
   "execution_count": 84,
   "metadata": {
    "ExecuteTime": {
     "end_time": "2020-06-03T18:10:26.009662Z",
     "start_time": "2020-06-03T18:10:25.952167Z"
    }
   },
   "outputs": [
    {
     "data": {
      "text/html": [
       "<div>\n",
       "<style scoped>\n",
       "    .dataframe tbody tr th:only-of-type {\n",
       "        vertical-align: middle;\n",
       "    }\n",
       "\n",
       "    .dataframe tbody tr th {\n",
       "        vertical-align: top;\n",
       "    }\n",
       "\n",
       "    .dataframe thead th {\n",
       "        text-align: right;\n",
       "    }\n",
       "</style>\n",
       "<table border=\"1\" class=\"dataframe\">\n",
       "  <thead>\n",
       "    <tr style=\"text-align: right;\">\n",
       "      <th></th>\n",
       "      <th>tconst</th>\n",
       "      <th>primary_title</th>\n",
       "      <th>original_title</th>\n",
       "      <th>start_year</th>\n",
       "      <th>runtime_minutes</th>\n",
       "      <th>genres</th>\n",
       "      <th>averagerating</th>\n",
       "      <th>numvotes</th>\n",
       "    </tr>\n",
       "  </thead>\n",
       "  <tbody>\n",
       "    <tr>\n",
       "      <td>85519</td>\n",
       "      <td>tt6085916</td>\n",
       "      <td>(aguirre)</td>\n",
       "      <td>(aguirre)</td>\n",
       "      <td>2016</td>\n",
       "      <td>97.0</td>\n",
       "      <td>Biography,Documentary</td>\n",
       "      <td>NaN</td>\n",
       "      <td>NaN</td>\n",
       "    </tr>\n",
       "    <tr>\n",
       "      <td>87359</td>\n",
       "      <td>tt6214664</td>\n",
       "      <td>(aguirre)</td>\n",
       "      <td>(aguirre)</td>\n",
       "      <td>2016</td>\n",
       "      <td>98.0</td>\n",
       "      <td>Biography,Comedy,Documentary</td>\n",
       "      <td>NaN</td>\n",
       "      <td>NaN</td>\n",
       "    </tr>\n",
       "    <tr>\n",
       "      <td>34839</td>\n",
       "      <td>tt2518788</td>\n",
       "      <td>1</td>\n",
       "      <td>1</td>\n",
       "      <td>2013</td>\n",
       "      <td>112.0</td>\n",
       "      <td>Documentary,History,Sport</td>\n",
       "      <td>8.0</td>\n",
       "      <td>3452.0</td>\n",
       "    </tr>\n",
       "    <tr>\n",
       "      <td>83097</td>\n",
       "      <td>tt5891614</td>\n",
       "      <td>1</td>\n",
       "      <td>1</td>\n",
       "      <td>2016</td>\n",
       "      <td>22.0</td>\n",
       "      <td>Documentary</td>\n",
       "      <td>NaN</td>\n",
       "      <td>NaN</td>\n",
       "    </tr>\n",
       "    <tr>\n",
       "      <td>16342</td>\n",
       "      <td>tt1859618</td>\n",
       "      <td>1</td>\n",
       "      <td>1</td>\n",
       "      <td>2019</td>\n",
       "      <td>100.0</td>\n",
       "      <td>Drama</td>\n",
       "      <td>9.2</td>\n",
       "      <td>13.0</td>\n",
       "    </tr>\n",
       "    <tr>\n",
       "      <td>...</td>\n",
       "      <td>...</td>\n",
       "      <td>...</td>\n",
       "      <td>...</td>\n",
       "      <td>...</td>\n",
       "      <td>...</td>\n",
       "      <td>...</td>\n",
       "      <td>...</td>\n",
       "      <td>...</td>\n",
       "    </tr>\n",
       "    <tr>\n",
       "      <td>55781</td>\n",
       "      <td>tt3815126</td>\n",
       "      <td>Ângelo de Sousa - Tudo o Que Sou Capaz</td>\n",
       "      <td>Ângelo de Sousa - Tudo o Que Sou Capaz</td>\n",
       "      <td>2010</td>\n",
       "      <td>60.0</td>\n",
       "      <td>Biography,Documentary</td>\n",
       "      <td>NaN</td>\n",
       "      <td>NaN</td>\n",
       "    </tr>\n",
       "    <tr>\n",
       "      <td>55785</td>\n",
       "      <td>tt3815134</td>\n",
       "      <td>Ângelo de Sousa - Tudo o Que Sou Capaz</td>\n",
       "      <td>Ângelo de Sousa - Tudo o Que Sou Capaz</td>\n",
       "      <td>2010</td>\n",
       "      <td>60.0</td>\n",
       "      <td>Biography,Documentary</td>\n",
       "      <td>NaN</td>\n",
       "      <td>NaN</td>\n",
       "    </tr>\n",
       "    <tr>\n",
       "      <td>55780</td>\n",
       "      <td>tt3815124</td>\n",
       "      <td>Ângelo de Sousa - Tudo o Que Sou Capaz</td>\n",
       "      <td>Ângelo de Sousa - Tudo o Que Sou Capaz</td>\n",
       "      <td>2010</td>\n",
       "      <td>60.0</td>\n",
       "      <td>Biography,Documentary</td>\n",
       "      <td>NaN</td>\n",
       "      <td>NaN</td>\n",
       "    </tr>\n",
       "    <tr>\n",
       "      <td>19042</td>\n",
       "      <td>tt1961689</td>\n",
       "      <td>Éden</td>\n",
       "      <td>Éden</td>\n",
       "      <td>2011</td>\n",
       "      <td>64.0</td>\n",
       "      <td>Documentary</td>\n",
       "      <td>7.1</td>\n",
       "      <td>8.0</td>\n",
       "    </tr>\n",
       "    <tr>\n",
       "      <td>31120</td>\n",
       "      <td>tt2362758</td>\n",
       "      <td>Éden</td>\n",
       "      <td>Éden</td>\n",
       "      <td>2013</td>\n",
       "      <td>73.0</td>\n",
       "      <td>Drama</td>\n",
       "      <td>6.1</td>\n",
       "      <td>50.0</td>\n",
       "    </tr>\n",
       "  </tbody>\n",
       "</table>\n",
       "<p>11471 rows × 8 columns</p>\n",
       "</div>"
      ],
      "text/plain": [
       "          tconst                           primary_title  \\\n",
       "85519  tt6085916                               (aguirre)   \n",
       "87359  tt6214664                               (aguirre)   \n",
       "34839  tt2518788                                       1   \n",
       "83097  tt5891614                                       1   \n",
       "16342  tt1859618                                       1   \n",
       "...          ...                                     ...   \n",
       "55781  tt3815126  Ângelo de Sousa - Tudo o Que Sou Capaz   \n",
       "55785  tt3815134  Ângelo de Sousa - Tudo o Que Sou Capaz   \n",
       "55780  tt3815124  Ângelo de Sousa - Tudo o Que Sou Capaz   \n",
       "19042  tt1961689                                    Éden   \n",
       "31120  tt2362758                                    Éden   \n",
       "\n",
       "                               original_title  start_year  runtime_minutes  \\\n",
       "85519                               (aguirre)        2016             97.0   \n",
       "87359                               (aguirre)        2016             98.0   \n",
       "34839                                       1        2013            112.0   \n",
       "83097                                       1        2016             22.0   \n",
       "16342                                       1        2019            100.0   \n",
       "...                                       ...         ...              ...   \n",
       "55781  Ângelo de Sousa - Tudo o Que Sou Capaz        2010             60.0   \n",
       "55785  Ângelo de Sousa - Tudo o Que Sou Capaz        2010             60.0   \n",
       "55780  Ângelo de Sousa - Tudo o Que Sou Capaz        2010             60.0   \n",
       "19042                                    Éden        2011             64.0   \n",
       "31120                                    Éden        2013             73.0   \n",
       "\n",
       "                             genres  averagerating  numvotes  \n",
       "85519         Biography,Documentary            NaN       NaN  \n",
       "87359  Biography,Comedy,Documentary            NaN       NaN  \n",
       "34839     Documentary,History,Sport            8.0    3452.0  \n",
       "83097                   Documentary            NaN       NaN  \n",
       "16342                         Drama            9.2      13.0  \n",
       "...                             ...            ...       ...  \n",
       "55781         Biography,Documentary            NaN       NaN  \n",
       "55785         Biography,Documentary            NaN       NaN  \n",
       "55780         Biography,Documentary            NaN       NaN  \n",
       "19042                   Documentary            7.1       8.0  \n",
       "31120                         Drama            6.1      50.0  \n",
       "\n",
       "[11471 rows x 8 columns]"
      ]
     },
     "execution_count": 84,
     "metadata": {},
     "output_type": "execute_result"
    }
   ],
   "source": [
    "df[df.duplicated(subset=['primary_title'],keep=False)].sort_values('primary_title')"
   ]
  },
  {
   "cell_type": "markdown",
   "metadata": {},
   "source": [
    "###  📕BOOKMARK Figure out how to join with budgets/revenue"
   ]
  },
  {
   "cell_type": "markdown",
   "metadata": {},
   "source": [
    "- either tn.movie_budgets or bom.movie_gross"
   ]
  },
  {
   "cell_type": "code",
   "execution_count": 85,
   "metadata": {
    "ExecuteTime": {
     "end_time": "2020-06-03T18:10:26.024015Z",
     "start_time": "2020-06-03T18:10:26.010841Z"
    }
   },
   "outputs": [
    {
     "data": {
      "text/html": [
       "<div>\n",
       "<style scoped>\n",
       "    .dataframe tbody tr th:only-of-type {\n",
       "        vertical-align: middle;\n",
       "    }\n",
       "\n",
       "    .dataframe tbody tr th {\n",
       "        vertical-align: top;\n",
       "    }\n",
       "\n",
       "    .dataframe thead th {\n",
       "        text-align: right;\n",
       "    }\n",
       "</style>\n",
       "<table border=\"1\" class=\"dataframe\">\n",
       "  <thead>\n",
       "    <tr style=\"text-align: right;\">\n",
       "      <th></th>\n",
       "      <th>id</th>\n",
       "      <th>release_date</th>\n",
       "      <th>movie</th>\n",
       "      <th>production_budget</th>\n",
       "      <th>domestic_gross</th>\n",
       "      <th>worldwide_gross</th>\n",
       "    </tr>\n",
       "  </thead>\n",
       "  <tbody>\n",
       "    <tr>\n",
       "      <td>0</td>\n",
       "      <td>1</td>\n",
       "      <td>Dec 18, 2009</td>\n",
       "      <td>Avatar</td>\n",
       "      <td>$425,000,000</td>\n",
       "      <td>$760,507,625</td>\n",
       "      <td>$2,776,345,279</td>\n",
       "    </tr>\n",
       "    <tr>\n",
       "      <td>1</td>\n",
       "      <td>2</td>\n",
       "      <td>May 20, 2011</td>\n",
       "      <td>Pirates of the Caribbean: On Stranger Tides</td>\n",
       "      <td>$410,600,000</td>\n",
       "      <td>$241,063,875</td>\n",
       "      <td>$1,045,663,875</td>\n",
       "    </tr>\n",
       "    <tr>\n",
       "      <td>2</td>\n",
       "      <td>3</td>\n",
       "      <td>Jun 7, 2019</td>\n",
       "      <td>Dark Phoenix</td>\n",
       "      <td>$350,000,000</td>\n",
       "      <td>$42,762,350</td>\n",
       "      <td>$149,762,350</td>\n",
       "    </tr>\n",
       "    <tr>\n",
       "      <td>3</td>\n",
       "      <td>4</td>\n",
       "      <td>May 1, 2015</td>\n",
       "      <td>Avengers: Age of Ultron</td>\n",
       "      <td>$330,600,000</td>\n",
       "      <td>$459,005,868</td>\n",
       "      <td>$1,403,013,963</td>\n",
       "    </tr>\n",
       "    <tr>\n",
       "      <td>4</td>\n",
       "      <td>5</td>\n",
       "      <td>Dec 15, 2017</td>\n",
       "      <td>Star Wars Ep. VIII: The Last Jedi</td>\n",
       "      <td>$317,000,000</td>\n",
       "      <td>$620,181,382</td>\n",
       "      <td>$1,316,721,747</td>\n",
       "    </tr>\n",
       "  </tbody>\n",
       "</table>\n",
       "</div>"
      ],
      "text/plain": [
       "   id  release_date                                        movie  \\\n",
       "0   1  Dec 18, 2009                                       Avatar   \n",
       "1   2  May 20, 2011  Pirates of the Caribbean: On Stranger Tides   \n",
       "2   3   Jun 7, 2019                                 Dark Phoenix   \n",
       "3   4   May 1, 2015                      Avengers: Age of Ultron   \n",
       "4   5  Dec 15, 2017            Star Wars Ep. VIII: The Last Jedi   \n",
       "\n",
       "  production_budget domestic_gross worldwide_gross  \n",
       "0      $425,000,000   $760,507,625  $2,776,345,279  \n",
       "1      $410,600,000   $241,063,875  $1,045,663,875  \n",
       "2      $350,000,000    $42,762,350    $149,762,350  \n",
       "3      $330,600,000   $459,005,868  $1,403,013,963  \n",
       "4      $317,000,000   $620,181,382  $1,316,721,747  "
      ]
     },
     "metadata": {},
     "output_type": "display_data"
    },
    {
     "data": {
      "text/html": [
       "<div>\n",
       "<style scoped>\n",
       "    .dataframe tbody tr th:only-of-type {\n",
       "        vertical-align: middle;\n",
       "    }\n",
       "\n",
       "    .dataframe tbody tr th {\n",
       "        vertical-align: top;\n",
       "    }\n",
       "\n",
       "    .dataframe thead th {\n",
       "        text-align: right;\n",
       "    }\n",
       "</style>\n",
       "<table border=\"1\" class=\"dataframe\">\n",
       "  <thead>\n",
       "    <tr style=\"text-align: right;\">\n",
       "      <th></th>\n",
       "      <th>title</th>\n",
       "      <th>studio</th>\n",
       "      <th>domestic_gross</th>\n",
       "      <th>foreign_gross</th>\n",
       "      <th>year</th>\n",
       "    </tr>\n",
       "  </thead>\n",
       "  <tbody>\n",
       "    <tr>\n",
       "      <td>0</td>\n",
       "      <td>Toy Story 3</td>\n",
       "      <td>BV</td>\n",
       "      <td>415000000.0</td>\n",
       "      <td>652000000</td>\n",
       "      <td>2010</td>\n",
       "    </tr>\n",
       "    <tr>\n",
       "      <td>1</td>\n",
       "      <td>Alice in Wonderland (2010)</td>\n",
       "      <td>BV</td>\n",
       "      <td>334200000.0</td>\n",
       "      <td>691300000</td>\n",
       "      <td>2010</td>\n",
       "    </tr>\n",
       "    <tr>\n",
       "      <td>2</td>\n",
       "      <td>Harry Potter and the Deathly Hallows Part 1</td>\n",
       "      <td>WB</td>\n",
       "      <td>296000000.0</td>\n",
       "      <td>664300000</td>\n",
       "      <td>2010</td>\n",
       "    </tr>\n",
       "    <tr>\n",
       "      <td>3</td>\n",
       "      <td>Inception</td>\n",
       "      <td>WB</td>\n",
       "      <td>292600000.0</td>\n",
       "      <td>535700000</td>\n",
       "      <td>2010</td>\n",
       "    </tr>\n",
       "    <tr>\n",
       "      <td>4</td>\n",
       "      <td>Shrek Forever After</td>\n",
       "      <td>P/DW</td>\n",
       "      <td>238700000.0</td>\n",
       "      <td>513900000</td>\n",
       "      <td>2010</td>\n",
       "    </tr>\n",
       "  </tbody>\n",
       "</table>\n",
       "</div>"
      ],
      "text/plain": [
       "                                         title studio  domestic_gross  \\\n",
       "0                                  Toy Story 3     BV     415000000.0   \n",
       "1                   Alice in Wonderland (2010)     BV     334200000.0   \n",
       "2  Harry Potter and the Deathly Hallows Part 1     WB     296000000.0   \n",
       "3                                    Inception     WB     292600000.0   \n",
       "4                          Shrek Forever After   P/DW     238700000.0   \n",
       "\n",
       "  foreign_gross  year  \n",
       "0     652000000  2010  \n",
       "1     691300000  2010  \n",
       "2     664300000  2010  \n",
       "3     535700000  2010  \n",
       "4     513900000  2010  "
      ]
     },
     "metadata": {},
     "output_type": "display_data"
    }
   ],
   "source": [
    "display(DATA['tn.movie_budgets'].head(),DATA['bom.movie_gross'].head())"
   ]
  },
  {
   "cell_type": "code",
   "execution_count": 86,
   "metadata": {
    "ExecuteTime": {
     "end_time": "2020-06-03T18:10:26.035007Z",
     "start_time": "2020-06-03T18:10:26.025123Z"
    }
   },
   "outputs": [
    {
     "data": {
      "text/html": [
       "<div>\n",
       "<style scoped>\n",
       "    .dataframe tbody tr th:only-of-type {\n",
       "        vertical-align: middle;\n",
       "    }\n",
       "\n",
       "    .dataframe tbody tr th {\n",
       "        vertical-align: top;\n",
       "    }\n",
       "\n",
       "    .dataframe thead th {\n",
       "        text-align: right;\n",
       "    }\n",
       "</style>\n",
       "<table border=\"1\" class=\"dataframe\">\n",
       "  <thead>\n",
       "    <tr style=\"text-align: right;\">\n",
       "      <th></th>\n",
       "      <th>id</th>\n",
       "      <th>release_date</th>\n",
       "      <th>movie</th>\n",
       "      <th>production_budget</th>\n",
       "      <th>domestic_gross</th>\n",
       "      <th>worldwide_gross</th>\n",
       "    </tr>\n",
       "  </thead>\n",
       "  <tbody>\n",
       "    <tr>\n",
       "      <td>0</td>\n",
       "      <td>1</td>\n",
       "      <td>Dec 18, 2009</td>\n",
       "      <td>Avatar</td>\n",
       "      <td>$425,000,000</td>\n",
       "      <td>$760,507,625</td>\n",
       "      <td>$2,776,345,279</td>\n",
       "    </tr>\n",
       "    <tr>\n",
       "      <td>1</td>\n",
       "      <td>2</td>\n",
       "      <td>May 20, 2011</td>\n",
       "      <td>Pirates of the Caribbean: On Stranger Tides</td>\n",
       "      <td>$410,600,000</td>\n",
       "      <td>$241,063,875</td>\n",
       "      <td>$1,045,663,875</td>\n",
       "    </tr>\n",
       "    <tr>\n",
       "      <td>2</td>\n",
       "      <td>3</td>\n",
       "      <td>Jun 7, 2019</td>\n",
       "      <td>Dark Phoenix</td>\n",
       "      <td>$350,000,000</td>\n",
       "      <td>$42,762,350</td>\n",
       "      <td>$149,762,350</td>\n",
       "    </tr>\n",
       "    <tr>\n",
       "      <td>3</td>\n",
       "      <td>4</td>\n",
       "      <td>May 1, 2015</td>\n",
       "      <td>Avengers: Age of Ultron</td>\n",
       "      <td>$330,600,000</td>\n",
       "      <td>$459,005,868</td>\n",
       "      <td>$1,403,013,963</td>\n",
       "    </tr>\n",
       "    <tr>\n",
       "      <td>4</td>\n",
       "      <td>5</td>\n",
       "      <td>Dec 15, 2017</td>\n",
       "      <td>Star Wars Ep. VIII: The Last Jedi</td>\n",
       "      <td>$317,000,000</td>\n",
       "      <td>$620,181,382</td>\n",
       "      <td>$1,316,721,747</td>\n",
       "    </tr>\n",
       "    <tr>\n",
       "      <td>...</td>\n",
       "      <td>...</td>\n",
       "      <td>...</td>\n",
       "      <td>...</td>\n",
       "      <td>...</td>\n",
       "      <td>...</td>\n",
       "      <td>...</td>\n",
       "    </tr>\n",
       "    <tr>\n",
       "      <td>5777</td>\n",
       "      <td>78</td>\n",
       "      <td>Dec 31, 2018</td>\n",
       "      <td>Red 11</td>\n",
       "      <td>$7,000</td>\n",
       "      <td>$0</td>\n",
       "      <td>$0</td>\n",
       "    </tr>\n",
       "    <tr>\n",
       "      <td>5778</td>\n",
       "      <td>79</td>\n",
       "      <td>Apr 2, 1999</td>\n",
       "      <td>Following</td>\n",
       "      <td>$6,000</td>\n",
       "      <td>$48,482</td>\n",
       "      <td>$240,495</td>\n",
       "    </tr>\n",
       "    <tr>\n",
       "      <td>5779</td>\n",
       "      <td>80</td>\n",
       "      <td>Jul 13, 2005</td>\n",
       "      <td>Return to the Land of Wonders</td>\n",
       "      <td>$5,000</td>\n",
       "      <td>$1,338</td>\n",
       "      <td>$1,338</td>\n",
       "    </tr>\n",
       "    <tr>\n",
       "      <td>5780</td>\n",
       "      <td>81</td>\n",
       "      <td>Sep 29, 2015</td>\n",
       "      <td>A Plague So Pleasant</td>\n",
       "      <td>$1,400</td>\n",
       "      <td>$0</td>\n",
       "      <td>$0</td>\n",
       "    </tr>\n",
       "    <tr>\n",
       "      <td>5781</td>\n",
       "      <td>82</td>\n",
       "      <td>Aug 5, 2005</td>\n",
       "      <td>My Date With Drew</td>\n",
       "      <td>$1,100</td>\n",
       "      <td>$181,041</td>\n",
       "      <td>$181,041</td>\n",
       "    </tr>\n",
       "  </tbody>\n",
       "</table>\n",
       "<p>5782 rows × 6 columns</p>\n",
       "</div>"
      ],
      "text/plain": [
       "      id  release_date                                        movie  \\\n",
       "0      1  Dec 18, 2009                                       Avatar   \n",
       "1      2  May 20, 2011  Pirates of the Caribbean: On Stranger Tides   \n",
       "2      3   Jun 7, 2019                                 Dark Phoenix   \n",
       "3      4   May 1, 2015                      Avengers: Age of Ultron   \n",
       "4      5  Dec 15, 2017            Star Wars Ep. VIII: The Last Jedi   \n",
       "...   ..           ...                                          ...   \n",
       "5777  78  Dec 31, 2018                                       Red 11   \n",
       "5778  79   Apr 2, 1999                                    Following   \n",
       "5779  80  Jul 13, 2005                Return to the Land of Wonders   \n",
       "5780  81  Sep 29, 2015                         A Plague So Pleasant   \n",
       "5781  82   Aug 5, 2005                            My Date With Drew   \n",
       "\n",
       "     production_budget domestic_gross worldwide_gross  \n",
       "0         $425,000,000   $760,507,625  $2,776,345,279  \n",
       "1         $410,600,000   $241,063,875  $1,045,663,875  \n",
       "2         $350,000,000    $42,762,350    $149,762,350  \n",
       "3         $330,600,000   $459,005,868  $1,403,013,963  \n",
       "4         $317,000,000   $620,181,382  $1,316,721,747  \n",
       "...                ...            ...             ...  \n",
       "5777            $7,000             $0              $0  \n",
       "5778            $6,000        $48,482        $240,495  \n",
       "5779            $5,000         $1,338          $1,338  \n",
       "5780            $1,400             $0              $0  \n",
       "5781            $1,100       $181,041        $181,041  \n",
       "\n",
       "[5782 rows x 6 columns]"
      ]
     },
     "execution_count": 86,
     "metadata": {},
     "output_type": "execute_result"
    }
   ],
   "source": [
    "df3 = DATA['tn.movie_budgets']\n",
    "df3"
   ]
  },
  {
   "cell_type": "code",
   "execution_count": 87,
   "metadata": {
    "ExecuteTime": {
     "end_time": "2020-06-03T18:10:26.541831Z",
     "start_time": "2020-06-03T18:10:26.036057Z"
    }
   },
   "outputs": [
    {
     "data": {
      "text/html": [
       "<div>\n",
       "<style scoped>\n",
       "    .dataframe tbody tr th:only-of-type {\n",
       "        vertical-align: middle;\n",
       "    }\n",
       "\n",
       "    .dataframe tbody tr th {\n",
       "        vertical-align: top;\n",
       "    }\n",
       "\n",
       "    .dataframe thead th {\n",
       "        text-align: right;\n",
       "    }\n",
       "</style>\n",
       "<table border=\"1\" class=\"dataframe\">\n",
       "  <thead>\n",
       "    <tr style=\"text-align: right;\">\n",
       "      <th></th>\n",
       "      <th>id</th>\n",
       "      <th>release_date</th>\n",
       "      <th>movie</th>\n",
       "      <th>production_budget</th>\n",
       "      <th>domestic_gross</th>\n",
       "      <th>worldwide_gross</th>\n",
       "      <th>release_datetime</th>\n",
       "      <th>datetime_year</th>\n",
       "    </tr>\n",
       "  </thead>\n",
       "  <tbody>\n",
       "    <tr>\n",
       "      <td>1</td>\n",
       "      <td>2</td>\n",
       "      <td>May 20, 2011</td>\n",
       "      <td>Pirates of the Caribbean: On Stranger Tides</td>\n",
       "      <td>$410,600,000</td>\n",
       "      <td>$241,063,875</td>\n",
       "      <td>$1,045,663,875</td>\n",
       "      <td>2011-05-20</td>\n",
       "      <td>2011</td>\n",
       "    </tr>\n",
       "    <tr>\n",
       "      <td>2</td>\n",
       "      <td>3</td>\n",
       "      <td>Jun 7, 2019</td>\n",
       "      <td>Dark Phoenix</td>\n",
       "      <td>$350,000,000</td>\n",
       "      <td>$42,762,350</td>\n",
       "      <td>$149,762,350</td>\n",
       "      <td>2019-06-07</td>\n",
       "      <td>2019</td>\n",
       "    </tr>\n",
       "    <tr>\n",
       "      <td>3</td>\n",
       "      <td>4</td>\n",
       "      <td>May 1, 2015</td>\n",
       "      <td>Avengers: Age of Ultron</td>\n",
       "      <td>$330,600,000</td>\n",
       "      <td>$459,005,868</td>\n",
       "      <td>$1,403,013,963</td>\n",
       "      <td>2015-05-01</td>\n",
       "      <td>2015</td>\n",
       "    </tr>\n",
       "    <tr>\n",
       "      <td>4</td>\n",
       "      <td>5</td>\n",
       "      <td>Dec 15, 2017</td>\n",
       "      <td>Star Wars Ep. VIII: The Last Jedi</td>\n",
       "      <td>$317,000,000</td>\n",
       "      <td>$620,181,382</td>\n",
       "      <td>$1,316,721,747</td>\n",
       "      <td>2017-12-15</td>\n",
       "      <td>2017</td>\n",
       "    </tr>\n",
       "    <tr>\n",
       "      <td>5</td>\n",
       "      <td>6</td>\n",
       "      <td>Dec 18, 2015</td>\n",
       "      <td>Star Wars Ep. VII: The Force Awakens</td>\n",
       "      <td>$306,000,000</td>\n",
       "      <td>$936,662,225</td>\n",
       "      <td>$2,053,311,220</td>\n",
       "      <td>2015-12-18</td>\n",
       "      <td>2015</td>\n",
       "    </tr>\n",
       "    <tr>\n",
       "      <td>...</td>\n",
       "      <td>...</td>\n",
       "      <td>...</td>\n",
       "      <td>...</td>\n",
       "      <td>...</td>\n",
       "      <td>...</td>\n",
       "      <td>...</td>\n",
       "      <td>...</td>\n",
       "      <td>...</td>\n",
       "    </tr>\n",
       "    <tr>\n",
       "      <td>5761</td>\n",
       "      <td>62</td>\n",
       "      <td>Dec 31, 2014</td>\n",
       "      <td>Stories of Our Lives</td>\n",
       "      <td>$15,000</td>\n",
       "      <td>$0</td>\n",
       "      <td>$0</td>\n",
       "      <td>2014-12-31</td>\n",
       "      <td>2014</td>\n",
       "    </tr>\n",
       "    <tr>\n",
       "      <td>5771</td>\n",
       "      <td>72</td>\n",
       "      <td>May 19, 2015</td>\n",
       "      <td>Family Motocross</td>\n",
       "      <td>$10,000</td>\n",
       "      <td>$0</td>\n",
       "      <td>$0</td>\n",
       "      <td>2015-05-19</td>\n",
       "      <td>2015</td>\n",
       "    </tr>\n",
       "    <tr>\n",
       "      <td>5772</td>\n",
       "      <td>73</td>\n",
       "      <td>Jan 13, 2012</td>\n",
       "      <td>Newlyweds</td>\n",
       "      <td>$9,000</td>\n",
       "      <td>$4,584</td>\n",
       "      <td>$4,584</td>\n",
       "      <td>2012-01-13</td>\n",
       "      <td>2012</td>\n",
       "    </tr>\n",
       "    <tr>\n",
       "      <td>5777</td>\n",
       "      <td>78</td>\n",
       "      <td>Dec 31, 2018</td>\n",
       "      <td>Red 11</td>\n",
       "      <td>$7,000</td>\n",
       "      <td>$0</td>\n",
       "      <td>$0</td>\n",
       "      <td>2018-12-31</td>\n",
       "      <td>2018</td>\n",
       "    </tr>\n",
       "    <tr>\n",
       "      <td>5780</td>\n",
       "      <td>81</td>\n",
       "      <td>Sep 29, 2015</td>\n",
       "      <td>A Plague So Pleasant</td>\n",
       "      <td>$1,400</td>\n",
       "      <td>$0</td>\n",
       "      <td>$0</td>\n",
       "      <td>2015-09-29</td>\n",
       "      <td>2015</td>\n",
       "    </tr>\n",
       "  </tbody>\n",
       "</table>\n",
       "<p>2194 rows × 8 columns</p>\n",
       "</div>"
      ],
      "text/plain": [
       "      id  release_date                                        movie  \\\n",
       "1      2  May 20, 2011  Pirates of the Caribbean: On Stranger Tides   \n",
       "2      3   Jun 7, 2019                                 Dark Phoenix   \n",
       "3      4   May 1, 2015                      Avengers: Age of Ultron   \n",
       "4      5  Dec 15, 2017            Star Wars Ep. VIII: The Last Jedi   \n",
       "5      6  Dec 18, 2015         Star Wars Ep. VII: The Force Awakens   \n",
       "...   ..           ...                                          ...   \n",
       "5761  62  Dec 31, 2014                         Stories of Our Lives   \n",
       "5771  72  May 19, 2015                             Family Motocross   \n",
       "5772  73  Jan 13, 2012                                    Newlyweds   \n",
       "5777  78  Dec 31, 2018                                       Red 11   \n",
       "5780  81  Sep 29, 2015                         A Plague So Pleasant   \n",
       "\n",
       "     production_budget domestic_gross worldwide_gross release_datetime  \\\n",
       "1         $410,600,000   $241,063,875  $1,045,663,875       2011-05-20   \n",
       "2         $350,000,000    $42,762,350    $149,762,350       2019-06-07   \n",
       "3         $330,600,000   $459,005,868  $1,403,013,963       2015-05-01   \n",
       "4         $317,000,000   $620,181,382  $1,316,721,747       2017-12-15   \n",
       "5         $306,000,000   $936,662,225  $2,053,311,220       2015-12-18   \n",
       "...                ...            ...             ...              ...   \n",
       "5761           $15,000             $0              $0       2014-12-31   \n",
       "5771           $10,000             $0              $0       2015-05-19   \n",
       "5772            $9,000         $4,584          $4,584       2012-01-13   \n",
       "5777            $7,000             $0              $0       2018-12-31   \n",
       "5780            $1,400             $0              $0       2015-09-29   \n",
       "\n",
       "      datetime_year  \n",
       "1              2011  \n",
       "2              2019  \n",
       "3              2015  \n",
       "4              2017  \n",
       "5              2015  \n",
       "...             ...  \n",
       "5761           2014  \n",
       "5771           2015  \n",
       "5772           2012  \n",
       "5777           2018  \n",
       "5780           2015  \n",
       "\n",
       "[2194 rows x 8 columns]"
      ]
     },
     "execution_count": 87,
     "metadata": {},
     "output_type": "execute_result"
    }
   ],
   "source": [
    "df3['release_datetime'] = pd.to_datetime(df3['release_date'])\n",
    "df3['datetime_year'] = df3['release_datetime'].dt.year\n",
    "df3 = df3[(df3['datetime_year'] >= 2010) & (df3['datetime_year'] < 2021)]\n",
    "df3"
   ]
  },
  {
   "cell_type": "code",
   "execution_count": 88,
   "metadata": {
    "ExecuteTime": {
     "end_time": "2020-06-03T18:10:26.547331Z",
     "start_time": "2020-06-03T18:10:26.542876Z"
    }
   },
   "outputs": [
    {
     "data": {
      "text/plain": [
       "id                   0\n",
       "release_date         0\n",
       "movie                0\n",
       "production_budget    0\n",
       "domestic_gross       0\n",
       "worldwide_gross      0\n",
       "release_datetime     0\n",
       "datetime_year        0\n",
       "dtype: int64"
      ]
     },
     "execution_count": 88,
     "metadata": {},
     "output_type": "execute_result"
    }
   ],
   "source": [
    "df3.isna().sum()"
   ]
  },
  {
   "cell_type": "code",
   "execution_count": 89,
   "metadata": {
    "ExecuteTime": {
     "end_time": "2020-06-03T18:10:26.562924Z",
     "start_time": "2020-06-03T18:10:26.548361Z"
    }
   },
   "outputs": [
    {
     "data": {
      "text/html": [
       "<div>\n",
       "<style scoped>\n",
       "    .dataframe tbody tr th:only-of-type {\n",
       "        vertical-align: middle;\n",
       "    }\n",
       "\n",
       "    .dataframe tbody tr th {\n",
       "        vertical-align: top;\n",
       "    }\n",
       "\n",
       "    .dataframe thead th {\n",
       "        text-align: right;\n",
       "    }\n",
       "</style>\n",
       "<table border=\"1\" class=\"dataframe\">\n",
       "  <thead>\n",
       "    <tr style=\"text-align: right;\">\n",
       "      <th></th>\n",
       "      <th>tconst</th>\n",
       "      <th>primary_title</th>\n",
       "      <th>original_title</th>\n",
       "      <th>start_year</th>\n",
       "      <th>runtime_minutes</th>\n",
       "      <th>genres</th>\n",
       "      <th>averagerating</th>\n",
       "      <th>numvotes</th>\n",
       "    </tr>\n",
       "  </thead>\n",
       "  <tbody>\n",
       "    <tr>\n",
       "      <td>0</td>\n",
       "      <td>tt0063540</td>\n",
       "      <td>Sunghursh</td>\n",
       "      <td>Sunghursh</td>\n",
       "      <td>2013</td>\n",
       "      <td>175.0</td>\n",
       "      <td>Action,Crime,Drama</td>\n",
       "      <td>7.0</td>\n",
       "      <td>77.0</td>\n",
       "    </tr>\n",
       "    <tr>\n",
       "      <td>1</td>\n",
       "      <td>tt0066787</td>\n",
       "      <td>One Day Before the Rainy Season</td>\n",
       "      <td>Ashad Ka Ek Din</td>\n",
       "      <td>2019</td>\n",
       "      <td>114.0</td>\n",
       "      <td>Biography,Drama</td>\n",
       "      <td>7.2</td>\n",
       "      <td>43.0</td>\n",
       "    </tr>\n",
       "    <tr>\n",
       "      <td>2</td>\n",
       "      <td>tt0069049</td>\n",
       "      <td>The Other Side of the Wind</td>\n",
       "      <td>The Other Side of the Wind</td>\n",
       "      <td>2018</td>\n",
       "      <td>122.0</td>\n",
       "      <td>Drama</td>\n",
       "      <td>6.9</td>\n",
       "      <td>4517.0</td>\n",
       "    </tr>\n",
       "    <tr>\n",
       "      <td>3</td>\n",
       "      <td>tt0100275</td>\n",
       "      <td>The Wandering Soap Opera</td>\n",
       "      <td>La Telenovela Errante</td>\n",
       "      <td>2017</td>\n",
       "      <td>80.0</td>\n",
       "      <td>Comedy,Drama,Fantasy</td>\n",
       "      <td>6.5</td>\n",
       "      <td>119.0</td>\n",
       "    </tr>\n",
       "    <tr>\n",
       "      <td>4</td>\n",
       "      <td>tt0111414</td>\n",
       "      <td>A Thin Life</td>\n",
       "      <td>A Thin Life</td>\n",
       "      <td>2018</td>\n",
       "      <td>75.0</td>\n",
       "      <td>Comedy</td>\n",
       "      <td>NaN</td>\n",
       "      <td>NaN</td>\n",
       "    </tr>\n",
       "    <tr>\n",
       "      <td>...</td>\n",
       "      <td>...</td>\n",
       "      <td>...</td>\n",
       "      <td>...</td>\n",
       "      <td>...</td>\n",
       "      <td>...</td>\n",
       "      <td>...</td>\n",
       "      <td>...</td>\n",
       "      <td>...</td>\n",
       "    </tr>\n",
       "    <tr>\n",
       "      <td>114389</td>\n",
       "      <td>tt9916170</td>\n",
       "      <td>The Rehearsal</td>\n",
       "      <td>O Ensaio</td>\n",
       "      <td>2019</td>\n",
       "      <td>51.0</td>\n",
       "      <td>Drama</td>\n",
       "      <td>NaN</td>\n",
       "      <td>NaN</td>\n",
       "    </tr>\n",
       "    <tr>\n",
       "      <td>114390</td>\n",
       "      <td>tt9916186</td>\n",
       "      <td>Illenau - die Geschichte einer ehemaligen Heil...</td>\n",
       "      <td>Illenau - die Geschichte einer ehemaligen Heil...</td>\n",
       "      <td>2017</td>\n",
       "      <td>84.0</td>\n",
       "      <td>Documentary</td>\n",
       "      <td>NaN</td>\n",
       "      <td>NaN</td>\n",
       "    </tr>\n",
       "    <tr>\n",
       "      <td>114391</td>\n",
       "      <td>tt9916190</td>\n",
       "      <td>Safeguard</td>\n",
       "      <td>Safeguard</td>\n",
       "      <td>2019</td>\n",
       "      <td>90.0</td>\n",
       "      <td>Drama,Thriller</td>\n",
       "      <td>NaN</td>\n",
       "      <td>NaN</td>\n",
       "    </tr>\n",
       "    <tr>\n",
       "      <td>114392</td>\n",
       "      <td>tt9916538</td>\n",
       "      <td>Kuambil Lagi Hatiku</td>\n",
       "      <td>Kuambil Lagi Hatiku</td>\n",
       "      <td>2019</td>\n",
       "      <td>123.0</td>\n",
       "      <td>Drama</td>\n",
       "      <td>NaN</td>\n",
       "      <td>NaN</td>\n",
       "    </tr>\n",
       "    <tr>\n",
       "      <td>114393</td>\n",
       "      <td>tt9916730</td>\n",
       "      <td>6 Gunn</td>\n",
       "      <td>6 Gunn</td>\n",
       "      <td>2017</td>\n",
       "      <td>116.0</td>\n",
       "      <td>MISSING</td>\n",
       "      <td>NaN</td>\n",
       "      <td>NaN</td>\n",
       "    </tr>\n",
       "  </tbody>\n",
       "</table>\n",
       "<p>114394 rows × 8 columns</p>\n",
       "</div>"
      ],
      "text/plain": [
       "           tconst                                      primary_title  \\\n",
       "0       tt0063540                                          Sunghursh   \n",
       "1       tt0066787                    One Day Before the Rainy Season   \n",
       "2       tt0069049                         The Other Side of the Wind   \n",
       "3       tt0100275                           The Wandering Soap Opera   \n",
       "4       tt0111414                                        A Thin Life   \n",
       "...           ...                                                ...   \n",
       "114389  tt9916170                                      The Rehearsal   \n",
       "114390  tt9916186  Illenau - die Geschichte einer ehemaligen Heil...   \n",
       "114391  tt9916190                                          Safeguard   \n",
       "114392  tt9916538                                Kuambil Lagi Hatiku   \n",
       "114393  tt9916730                                             6 Gunn   \n",
       "\n",
       "                                           original_title  start_year  \\\n",
       "0                                               Sunghursh        2013   \n",
       "1                                         Ashad Ka Ek Din        2019   \n",
       "2                              The Other Side of the Wind        2018   \n",
       "3                                   La Telenovela Errante        2017   \n",
       "4                                             A Thin Life        2018   \n",
       "...                                                   ...         ...   \n",
       "114389                                           O Ensaio        2019   \n",
       "114390  Illenau - die Geschichte einer ehemaligen Heil...        2017   \n",
       "114391                                          Safeguard        2019   \n",
       "114392                                Kuambil Lagi Hatiku        2019   \n",
       "114393                                             6 Gunn        2017   \n",
       "\n",
       "        runtime_minutes                genres  averagerating  numvotes  \n",
       "0                 175.0    Action,Crime,Drama            7.0      77.0  \n",
       "1                 114.0       Biography,Drama            7.2      43.0  \n",
       "2                 122.0                 Drama            6.9    4517.0  \n",
       "3                  80.0  Comedy,Drama,Fantasy            6.5     119.0  \n",
       "4                  75.0                Comedy            NaN       NaN  \n",
       "...                 ...                   ...            ...       ...  \n",
       "114389             51.0                 Drama            NaN       NaN  \n",
       "114390             84.0           Documentary            NaN       NaN  \n",
       "114391             90.0        Drama,Thriller            NaN       NaN  \n",
       "114392            123.0                 Drama            NaN       NaN  \n",
       "114393            116.0               MISSING            NaN       NaN  \n",
       "\n",
       "[114394 rows x 8 columns]"
      ]
     },
     "execution_count": 89,
     "metadata": {},
     "output_type": "execute_result"
    }
   ],
   "source": [
    "df"
   ]
  },
  {
   "cell_type": "markdown",
   "metadata": {},
   "source": [
    "### Merging revenue attempt 1"
   ]
  },
  {
   "cell_type": "code",
   "execution_count": 90,
   "metadata": {
    "ExecuteTime": {
     "end_time": "2020-06-03T18:10:26.635431Z",
     "start_time": "2020-06-03T18:10:26.564164Z"
    }
   },
   "outputs": [
    {
     "data": {
      "text/html": [
       "<div>\n",
       "<style scoped>\n",
       "    .dataframe tbody tr th:only-of-type {\n",
       "        vertical-align: middle;\n",
       "    }\n",
       "\n",
       "    .dataframe tbody tr th {\n",
       "        vertical-align: top;\n",
       "    }\n",
       "\n",
       "    .dataframe thead th {\n",
       "        text-align: right;\n",
       "    }\n",
       "</style>\n",
       "<table border=\"1\" class=\"dataframe\">\n",
       "  <thead>\n",
       "    <tr style=\"text-align: right;\">\n",
       "      <th></th>\n",
       "      <th>tconst</th>\n",
       "      <th>primary_title</th>\n",
       "      <th>original_title</th>\n",
       "      <th>start_year</th>\n",
       "      <th>runtime_minutes</th>\n",
       "      <th>genres</th>\n",
       "      <th>averagerating</th>\n",
       "      <th>numvotes</th>\n",
       "      <th>id</th>\n",
       "      <th>release_date</th>\n",
       "      <th>movie</th>\n",
       "      <th>production_budget</th>\n",
       "      <th>domestic_gross</th>\n",
       "      <th>worldwide_gross</th>\n",
       "      <th>release_datetime</th>\n",
       "      <th>datetime_year</th>\n",
       "    </tr>\n",
       "  </thead>\n",
       "  <tbody>\n",
       "    <tr>\n",
       "      <td>0</td>\n",
       "      <td>tt0249516</td>\n",
       "      <td>Foodfight!</td>\n",
       "      <td>Foodfight!</td>\n",
       "      <td>2012</td>\n",
       "      <td>91.0</td>\n",
       "      <td>Action,Animation,Comedy</td>\n",
       "      <td>1.9</td>\n",
       "      <td>8248.0</td>\n",
       "      <td>26</td>\n",
       "      <td>Dec 31, 2012</td>\n",
       "      <td>Foodfight!</td>\n",
       "      <td>$45,000,000</td>\n",
       "      <td>$0</td>\n",
       "      <td>$73,706</td>\n",
       "      <td>2012-12-31</td>\n",
       "      <td>2012</td>\n",
       "    </tr>\n",
       "    <tr>\n",
       "      <td>1</td>\n",
       "      <td>tt0326592</td>\n",
       "      <td>The Overnight</td>\n",
       "      <td>The Overnight</td>\n",
       "      <td>2010</td>\n",
       "      <td>88.0</td>\n",
       "      <td>MISSING</td>\n",
       "      <td>7.5</td>\n",
       "      <td>24.0</td>\n",
       "      <td>21</td>\n",
       "      <td>Jun 19, 2015</td>\n",
       "      <td>The Overnight</td>\n",
       "      <td>$200,000</td>\n",
       "      <td>$1,109,808</td>\n",
       "      <td>$1,165,996</td>\n",
       "      <td>2015-06-19</td>\n",
       "      <td>2015</td>\n",
       "    </tr>\n",
       "    <tr>\n",
       "      <td>2</td>\n",
       "      <td>tt3844362</td>\n",
       "      <td>The Overnight</td>\n",
       "      <td>The Overnight</td>\n",
       "      <td>2015</td>\n",
       "      <td>79.0</td>\n",
       "      <td>Comedy,Mystery</td>\n",
       "      <td>6.1</td>\n",
       "      <td>14828.0</td>\n",
       "      <td>21</td>\n",
       "      <td>Jun 19, 2015</td>\n",
       "      <td>The Overnight</td>\n",
       "      <td>$200,000</td>\n",
       "      <td>$1,109,808</td>\n",
       "      <td>$1,165,996</td>\n",
       "      <td>2015-06-19</td>\n",
       "      <td>2015</td>\n",
       "    </tr>\n",
       "    <tr>\n",
       "      <td>3</td>\n",
       "      <td>tt0337692</td>\n",
       "      <td>On the Road</td>\n",
       "      <td>On the Road</td>\n",
       "      <td>2012</td>\n",
       "      <td>124.0</td>\n",
       "      <td>Adventure,Drama,Romance</td>\n",
       "      <td>6.1</td>\n",
       "      <td>37886.0</td>\n",
       "      <td>17</td>\n",
       "      <td>Mar 22, 2013</td>\n",
       "      <td>On the Road</td>\n",
       "      <td>$25,000,000</td>\n",
       "      <td>$720,828</td>\n",
       "      <td>$9,313,302</td>\n",
       "      <td>2013-03-22</td>\n",
       "      <td>2013</td>\n",
       "    </tr>\n",
       "    <tr>\n",
       "      <td>4</td>\n",
       "      <td>tt2404548</td>\n",
       "      <td>On the Road</td>\n",
       "      <td>On the Road</td>\n",
       "      <td>2011</td>\n",
       "      <td>90.0</td>\n",
       "      <td>Drama</td>\n",
       "      <td>NaN</td>\n",
       "      <td>NaN</td>\n",
       "      <td>17</td>\n",
       "      <td>Mar 22, 2013</td>\n",
       "      <td>On the Road</td>\n",
       "      <td>$25,000,000</td>\n",
       "      <td>$720,828</td>\n",
       "      <td>$9,313,302</td>\n",
       "      <td>2013-03-22</td>\n",
       "      <td>2013</td>\n",
       "    </tr>\n",
       "    <tr>\n",
       "      <td>...</td>\n",
       "      <td>...</td>\n",
       "      <td>...</td>\n",
       "      <td>...</td>\n",
       "      <td>...</td>\n",
       "      <td>...</td>\n",
       "      <td>...</td>\n",
       "      <td>...</td>\n",
       "      <td>...</td>\n",
       "      <td>...</td>\n",
       "      <td>...</td>\n",
       "      <td>...</td>\n",
       "      <td>...</td>\n",
       "      <td>...</td>\n",
       "      <td>...</td>\n",
       "      <td>...</td>\n",
       "      <td>...</td>\n",
       "    </tr>\n",
       "    <tr>\n",
       "      <td>2388</td>\n",
       "      <td>tt8043306</td>\n",
       "      <td>Teefa in Trouble</td>\n",
       "      <td>Teefa in Trouble</td>\n",
       "      <td>2018</td>\n",
       "      <td>155.0</td>\n",
       "      <td>Action,Comedy,Crime</td>\n",
       "      <td>7.4</td>\n",
       "      <td>2724.0</td>\n",
       "      <td>8</td>\n",
       "      <td>Jul 20, 2018</td>\n",
       "      <td>Teefa in Trouble</td>\n",
       "      <td>$1,500,000</td>\n",
       "      <td>$0</td>\n",
       "      <td>$98,806</td>\n",
       "      <td>2018-07-20</td>\n",
       "      <td>2018</td>\n",
       "    </tr>\n",
       "    <tr>\n",
       "      <td>2389</td>\n",
       "      <td>tt8155288</td>\n",
       "      <td>Happy Death Day 2U</td>\n",
       "      <td>Happy Death Day 2U</td>\n",
       "      <td>2019</td>\n",
       "      <td>100.0</td>\n",
       "      <td>Drama,Horror,Mystery</td>\n",
       "      <td>6.3</td>\n",
       "      <td>27462.0</td>\n",
       "      <td>78</td>\n",
       "      <td>Feb 13, 2019</td>\n",
       "      <td>Happy Death Day 2U</td>\n",
       "      <td>$9,000,000</td>\n",
       "      <td>$28,051,045</td>\n",
       "      <td>$64,179,495</td>\n",
       "      <td>2019-02-13</td>\n",
       "      <td>2019</td>\n",
       "    </tr>\n",
       "    <tr>\n",
       "      <td>2390</td>\n",
       "      <td>tt8266310</td>\n",
       "      <td>Blinded by the Light</td>\n",
       "      <td>Blinded by the Light</td>\n",
       "      <td>2019</td>\n",
       "      <td>117.0</td>\n",
       "      <td>Biography,Comedy,Drama</td>\n",
       "      <td>6.2</td>\n",
       "      <td>173.0</td>\n",
       "      <td>64</td>\n",
       "      <td>Aug 14, 2019</td>\n",
       "      <td>Blinded by the Light</td>\n",
       "      <td>$15,000,000</td>\n",
       "      <td>$0</td>\n",
       "      <td>$0</td>\n",
       "      <td>2019-08-14</td>\n",
       "      <td>2019</td>\n",
       "    </tr>\n",
       "    <tr>\n",
       "      <td>2391</td>\n",
       "      <td>tt8632862</td>\n",
       "      <td>Fahrenheit 11/9</td>\n",
       "      <td>Fahrenheit 11/9</td>\n",
       "      <td>2018</td>\n",
       "      <td>128.0</td>\n",
       "      <td>Documentary</td>\n",
       "      <td>6.7</td>\n",
       "      <td>11628.0</td>\n",
       "      <td>29</td>\n",
       "      <td>Sep 21, 2018</td>\n",
       "      <td>Fahrenheit 11/9</td>\n",
       "      <td>$5,000,000</td>\n",
       "      <td>$6,352,306</td>\n",
       "      <td>$6,653,715</td>\n",
       "      <td>2018-09-21</td>\n",
       "      <td>2018</td>\n",
       "    </tr>\n",
       "    <tr>\n",
       "      <td>2392</td>\n",
       "      <td>tt9024106</td>\n",
       "      <td>Unplanned</td>\n",
       "      <td>Unplanned</td>\n",
       "      <td>2019</td>\n",
       "      <td>106.0</td>\n",
       "      <td>Biography,Drama</td>\n",
       "      <td>6.3</td>\n",
       "      <td>5945.0</td>\n",
       "      <td>33</td>\n",
       "      <td>Mar 29, 2019</td>\n",
       "      <td>Unplanned</td>\n",
       "      <td>$6,000,000</td>\n",
       "      <td>$18,107,621</td>\n",
       "      <td>$18,107,621</td>\n",
       "      <td>2019-03-29</td>\n",
       "      <td>2019</td>\n",
       "    </tr>\n",
       "  </tbody>\n",
       "</table>\n",
       "<p>2393 rows × 16 columns</p>\n",
       "</div>"
      ],
      "text/plain": [
       "         tconst         primary_title        original_title  start_year  \\\n",
       "0     tt0249516            Foodfight!            Foodfight!        2012   \n",
       "1     tt0326592         The Overnight         The Overnight        2010   \n",
       "2     tt3844362         The Overnight         The Overnight        2015   \n",
       "3     tt0337692           On the Road           On the Road        2012   \n",
       "4     tt2404548           On the Road           On the Road        2011   \n",
       "...         ...                   ...                   ...         ...   \n",
       "2388  tt8043306      Teefa in Trouble      Teefa in Trouble        2018   \n",
       "2389  tt8155288    Happy Death Day 2U    Happy Death Day 2U        2019   \n",
       "2390  tt8266310  Blinded by the Light  Blinded by the Light        2019   \n",
       "2391  tt8632862       Fahrenheit 11/9       Fahrenheit 11/9        2018   \n",
       "2392  tt9024106             Unplanned             Unplanned        2019   \n",
       "\n",
       "      runtime_minutes                   genres  averagerating  numvotes  id  \\\n",
       "0                91.0  Action,Animation,Comedy            1.9    8248.0  26   \n",
       "1                88.0                  MISSING            7.5      24.0  21   \n",
       "2                79.0           Comedy,Mystery            6.1   14828.0  21   \n",
       "3               124.0  Adventure,Drama,Romance            6.1   37886.0  17   \n",
       "4                90.0                    Drama            NaN       NaN  17   \n",
       "...               ...                      ...            ...       ...  ..   \n",
       "2388            155.0      Action,Comedy,Crime            7.4    2724.0   8   \n",
       "2389            100.0     Drama,Horror,Mystery            6.3   27462.0  78   \n",
       "2390            117.0   Biography,Comedy,Drama            6.2     173.0  64   \n",
       "2391            128.0              Documentary            6.7   11628.0  29   \n",
       "2392            106.0          Biography,Drama            6.3    5945.0  33   \n",
       "\n",
       "      release_date                 movie production_budget domestic_gross  \\\n",
       "0     Dec 31, 2012            Foodfight!       $45,000,000             $0   \n",
       "1     Jun 19, 2015         The Overnight          $200,000     $1,109,808   \n",
       "2     Jun 19, 2015         The Overnight          $200,000     $1,109,808   \n",
       "3     Mar 22, 2013           On the Road       $25,000,000       $720,828   \n",
       "4     Mar 22, 2013           On the Road       $25,000,000       $720,828   \n",
       "...            ...                   ...               ...            ...   \n",
       "2388  Jul 20, 2018      Teefa in Trouble        $1,500,000             $0   \n",
       "2389  Feb 13, 2019    Happy Death Day 2U        $9,000,000    $28,051,045   \n",
       "2390  Aug 14, 2019  Blinded by the Light       $15,000,000             $0   \n",
       "2391  Sep 21, 2018       Fahrenheit 11/9        $5,000,000     $6,352,306   \n",
       "2392  Mar 29, 2019             Unplanned        $6,000,000    $18,107,621   \n",
       "\n",
       "     worldwide_gross release_datetime  datetime_year  \n",
       "0            $73,706       2012-12-31           2012  \n",
       "1         $1,165,996       2015-06-19           2015  \n",
       "2         $1,165,996       2015-06-19           2015  \n",
       "3         $9,313,302       2013-03-22           2013  \n",
       "4         $9,313,302       2013-03-22           2013  \n",
       "...              ...              ...            ...  \n",
       "2388         $98,806       2018-07-20           2018  \n",
       "2389     $64,179,495       2019-02-13           2019  \n",
       "2390              $0       2019-08-14           2019  \n",
       "2391      $6,653,715       2018-09-21           2018  \n",
       "2392     $18,107,621       2019-03-29           2019  \n",
       "\n",
       "[2393 rows x 16 columns]"
      ]
     },
     "execution_count": 90,
     "metadata": {},
     "output_type": "execute_result"
    }
   ],
   "source": [
    "DF_tn = pd.merge(df,df3,left_on='primary_title',right_on='movie',how='inner')\n",
    "DF_tn"
   ]
  },
  {
   "cell_type": "markdown",
   "metadata": {},
   "source": [
    "- Lost a lot of rows with an inner join, if I use bom_gross is it any better?"
   ]
  },
  {
   "cell_type": "code",
   "execution_count": 91,
   "metadata": {
    "ExecuteTime": {
     "end_time": "2020-06-03T18:10:26.648338Z",
     "start_time": "2020-06-03T18:10:26.636674Z"
    }
   },
   "outputs": [
    {
     "data": {
      "text/html": [
       "<div>\n",
       "<style scoped>\n",
       "    .dataframe tbody tr th:only-of-type {\n",
       "        vertical-align: middle;\n",
       "    }\n",
       "\n",
       "    .dataframe tbody tr th {\n",
       "        vertical-align: top;\n",
       "    }\n",
       "\n",
       "    .dataframe thead th {\n",
       "        text-align: right;\n",
       "    }\n",
       "</style>\n",
       "<table border=\"1\" class=\"dataframe\">\n",
       "  <thead>\n",
       "    <tr style=\"text-align: right;\">\n",
       "      <th></th>\n",
       "      <th>title</th>\n",
       "      <th>studio</th>\n",
       "      <th>domestic_gross</th>\n",
       "      <th>foreign_gross</th>\n",
       "      <th>year</th>\n",
       "    </tr>\n",
       "  </thead>\n",
       "  <tbody>\n",
       "    <tr>\n",
       "      <td>0</td>\n",
       "      <td>Toy Story 3</td>\n",
       "      <td>BV</td>\n",
       "      <td>415000000.0</td>\n",
       "      <td>652000000</td>\n",
       "      <td>2010</td>\n",
       "    </tr>\n",
       "    <tr>\n",
       "      <td>1</td>\n",
       "      <td>Alice in Wonderland (2010)</td>\n",
       "      <td>BV</td>\n",
       "      <td>334200000.0</td>\n",
       "      <td>691300000</td>\n",
       "      <td>2010</td>\n",
       "    </tr>\n",
       "    <tr>\n",
       "      <td>2</td>\n",
       "      <td>Harry Potter and the Deathly Hallows Part 1</td>\n",
       "      <td>WB</td>\n",
       "      <td>296000000.0</td>\n",
       "      <td>664300000</td>\n",
       "      <td>2010</td>\n",
       "    </tr>\n",
       "    <tr>\n",
       "      <td>3</td>\n",
       "      <td>Inception</td>\n",
       "      <td>WB</td>\n",
       "      <td>292600000.0</td>\n",
       "      <td>535700000</td>\n",
       "      <td>2010</td>\n",
       "    </tr>\n",
       "    <tr>\n",
       "      <td>4</td>\n",
       "      <td>Shrek Forever After</td>\n",
       "      <td>P/DW</td>\n",
       "      <td>238700000.0</td>\n",
       "      <td>513900000</td>\n",
       "      <td>2010</td>\n",
       "    </tr>\n",
       "    <tr>\n",
       "      <td>...</td>\n",
       "      <td>...</td>\n",
       "      <td>...</td>\n",
       "      <td>...</td>\n",
       "      <td>...</td>\n",
       "      <td>...</td>\n",
       "    </tr>\n",
       "    <tr>\n",
       "      <td>3382</td>\n",
       "      <td>The Quake</td>\n",
       "      <td>Magn.</td>\n",
       "      <td>6200.0</td>\n",
       "      <td>NaN</td>\n",
       "      <td>2018</td>\n",
       "    </tr>\n",
       "    <tr>\n",
       "      <td>3383</td>\n",
       "      <td>Edward II (2018 re-release)</td>\n",
       "      <td>FM</td>\n",
       "      <td>4800.0</td>\n",
       "      <td>NaN</td>\n",
       "      <td>2018</td>\n",
       "    </tr>\n",
       "    <tr>\n",
       "      <td>3384</td>\n",
       "      <td>El Pacto</td>\n",
       "      <td>Sony</td>\n",
       "      <td>2500.0</td>\n",
       "      <td>NaN</td>\n",
       "      <td>2018</td>\n",
       "    </tr>\n",
       "    <tr>\n",
       "      <td>3385</td>\n",
       "      <td>The Swan</td>\n",
       "      <td>Synergetic</td>\n",
       "      <td>2400.0</td>\n",
       "      <td>NaN</td>\n",
       "      <td>2018</td>\n",
       "    </tr>\n",
       "    <tr>\n",
       "      <td>3386</td>\n",
       "      <td>An Actor Prepares</td>\n",
       "      <td>Grav.</td>\n",
       "      <td>1700.0</td>\n",
       "      <td>NaN</td>\n",
       "      <td>2018</td>\n",
       "    </tr>\n",
       "  </tbody>\n",
       "</table>\n",
       "<p>3387 rows × 5 columns</p>\n",
       "</div>"
      ],
      "text/plain": [
       "                                            title      studio  domestic_gross  \\\n",
       "0                                     Toy Story 3          BV     415000000.0   \n",
       "1                      Alice in Wonderland (2010)          BV     334200000.0   \n",
       "2     Harry Potter and the Deathly Hallows Part 1          WB     296000000.0   \n",
       "3                                       Inception          WB     292600000.0   \n",
       "4                             Shrek Forever After        P/DW     238700000.0   \n",
       "...                                           ...         ...             ...   \n",
       "3382                                    The Quake       Magn.          6200.0   \n",
       "3383                  Edward II (2018 re-release)          FM          4800.0   \n",
       "3384                                     El Pacto        Sony          2500.0   \n",
       "3385                                     The Swan  Synergetic          2400.0   \n",
       "3386                            An Actor Prepares       Grav.          1700.0   \n",
       "\n",
       "     foreign_gross  year  \n",
       "0        652000000  2010  \n",
       "1        691300000  2010  \n",
       "2        664300000  2010  \n",
       "3        535700000  2010  \n",
       "4        513900000  2010  \n",
       "...            ...   ...  \n",
       "3382           NaN  2018  \n",
       "3383           NaN  2018  \n",
       "3384           NaN  2018  \n",
       "3385           NaN  2018  \n",
       "3386           NaN  2018  \n",
       "\n",
       "[3387 rows x 5 columns]"
      ]
     },
     "execution_count": 91,
     "metadata": {},
     "output_type": "execute_result"
    }
   ],
   "source": [
    "df4 = DATA['bom.movie_gross']\n",
    "df4"
   ]
  },
  {
   "cell_type": "code",
   "execution_count": 92,
   "metadata": {
    "ExecuteTime": {
     "end_time": "2020-06-03T18:10:26.663549Z",
     "start_time": "2020-06-03T18:10:26.649648Z"
    }
   },
   "outputs": [
    {
     "data": {
      "text/html": [
       "<div>\n",
       "<style scoped>\n",
       "    .dataframe tbody tr th:only-of-type {\n",
       "        vertical-align: middle;\n",
       "    }\n",
       "\n",
       "    .dataframe tbody tr th {\n",
       "        vertical-align: top;\n",
       "    }\n",
       "\n",
       "    .dataframe thead th {\n",
       "        text-align: right;\n",
       "    }\n",
       "</style>\n",
       "<table border=\"1\" class=\"dataframe\">\n",
       "  <thead>\n",
       "    <tr style=\"text-align: right;\">\n",
       "      <th></th>\n",
       "      <th>title</th>\n",
       "      <th>studio</th>\n",
       "      <th>domestic_gross</th>\n",
       "      <th>foreign_gross</th>\n",
       "      <th>year</th>\n",
       "    </tr>\n",
       "  </thead>\n",
       "  <tbody>\n",
       "    <tr>\n",
       "      <td>0</td>\n",
       "      <td>Toy Story 3</td>\n",
       "      <td>BV</td>\n",
       "      <td>415000000.0</td>\n",
       "      <td>652000000</td>\n",
       "      <td>2010</td>\n",
       "    </tr>\n",
       "    <tr>\n",
       "      <td>1</td>\n",
       "      <td>Alice in Wonderland (2010)</td>\n",
       "      <td>BV</td>\n",
       "      <td>334200000.0</td>\n",
       "      <td>691300000</td>\n",
       "      <td>2010</td>\n",
       "    </tr>\n",
       "    <tr>\n",
       "      <td>2</td>\n",
       "      <td>Harry Potter and the Deathly Hallows Part 1</td>\n",
       "      <td>WB</td>\n",
       "      <td>296000000.0</td>\n",
       "      <td>664300000</td>\n",
       "      <td>2010</td>\n",
       "    </tr>\n",
       "    <tr>\n",
       "      <td>3</td>\n",
       "      <td>Inception</td>\n",
       "      <td>WB</td>\n",
       "      <td>292600000.0</td>\n",
       "      <td>535700000</td>\n",
       "      <td>2010</td>\n",
       "    </tr>\n",
       "    <tr>\n",
       "      <td>4</td>\n",
       "      <td>Shrek Forever After</td>\n",
       "      <td>P/DW</td>\n",
       "      <td>238700000.0</td>\n",
       "      <td>513900000</td>\n",
       "      <td>2010</td>\n",
       "    </tr>\n",
       "    <tr>\n",
       "      <td>...</td>\n",
       "      <td>...</td>\n",
       "      <td>...</td>\n",
       "      <td>...</td>\n",
       "      <td>...</td>\n",
       "      <td>...</td>\n",
       "    </tr>\n",
       "    <tr>\n",
       "      <td>3382</td>\n",
       "      <td>The Quake</td>\n",
       "      <td>Magn.</td>\n",
       "      <td>6200.0</td>\n",
       "      <td>NaN</td>\n",
       "      <td>2018</td>\n",
       "    </tr>\n",
       "    <tr>\n",
       "      <td>3383</td>\n",
       "      <td>Edward II (2018 re-release)</td>\n",
       "      <td>FM</td>\n",
       "      <td>4800.0</td>\n",
       "      <td>NaN</td>\n",
       "      <td>2018</td>\n",
       "    </tr>\n",
       "    <tr>\n",
       "      <td>3384</td>\n",
       "      <td>El Pacto</td>\n",
       "      <td>Sony</td>\n",
       "      <td>2500.0</td>\n",
       "      <td>NaN</td>\n",
       "      <td>2018</td>\n",
       "    </tr>\n",
       "    <tr>\n",
       "      <td>3385</td>\n",
       "      <td>The Swan</td>\n",
       "      <td>Synergetic</td>\n",
       "      <td>2400.0</td>\n",
       "      <td>NaN</td>\n",
       "      <td>2018</td>\n",
       "    </tr>\n",
       "    <tr>\n",
       "      <td>3386</td>\n",
       "      <td>An Actor Prepares</td>\n",
       "      <td>Grav.</td>\n",
       "      <td>1700.0</td>\n",
       "      <td>NaN</td>\n",
       "      <td>2018</td>\n",
       "    </tr>\n",
       "  </tbody>\n",
       "</table>\n",
       "<p>3387 rows × 5 columns</p>\n",
       "</div>"
      ],
      "text/plain": [
       "                                            title      studio  domestic_gross  \\\n",
       "0                                     Toy Story 3          BV     415000000.0   \n",
       "1                      Alice in Wonderland (2010)          BV     334200000.0   \n",
       "2     Harry Potter and the Deathly Hallows Part 1          WB     296000000.0   \n",
       "3                                       Inception          WB     292600000.0   \n",
       "4                             Shrek Forever After        P/DW     238700000.0   \n",
       "...                                           ...         ...             ...   \n",
       "3382                                    The Quake       Magn.          6200.0   \n",
       "3383                  Edward II (2018 re-release)          FM          4800.0   \n",
       "3384                                     El Pacto        Sony          2500.0   \n",
       "3385                                     The Swan  Synergetic          2400.0   \n",
       "3386                            An Actor Prepares       Grav.          1700.0   \n",
       "\n",
       "     foreign_gross  year  \n",
       "0        652000000  2010  \n",
       "1        691300000  2010  \n",
       "2        664300000  2010  \n",
       "3        535700000  2010  \n",
       "4        513900000  2010  \n",
       "...            ...   ...  \n",
       "3382           NaN  2018  \n",
       "3383           NaN  2018  \n",
       "3384           NaN  2018  \n",
       "3385           NaN  2018  \n",
       "3386           NaN  2018  \n",
       "\n",
       "[3387 rows x 5 columns]"
      ]
     },
     "execution_count": 92,
     "metadata": {},
     "output_type": "execute_result"
    }
   ],
   "source": [
    "df4 = df4[(df4['year'] >= 2010) & (df4['year'] < 2021)]\n",
    "df4"
   ]
  },
  {
   "cell_type": "code",
   "execution_count": 93,
   "metadata": {
    "ExecuteTime": {
     "end_time": "2020-06-03T18:10:26.731381Z",
     "start_time": "2020-06-03T18:10:26.664876Z"
    }
   },
   "outputs": [
    {
     "data": {
      "text/html": [
       "<div>\n",
       "<style scoped>\n",
       "    .dataframe tbody tr th:only-of-type {\n",
       "        vertical-align: middle;\n",
       "    }\n",
       "\n",
       "    .dataframe tbody tr th {\n",
       "        vertical-align: top;\n",
       "    }\n",
       "\n",
       "    .dataframe thead th {\n",
       "        text-align: right;\n",
       "    }\n",
       "</style>\n",
       "<table border=\"1\" class=\"dataframe\">\n",
       "  <thead>\n",
       "    <tr style=\"text-align: right;\">\n",
       "      <th></th>\n",
       "      <th>tconst</th>\n",
       "      <th>primary_title</th>\n",
       "      <th>original_title</th>\n",
       "      <th>start_year</th>\n",
       "      <th>runtime_minutes</th>\n",
       "      <th>genres</th>\n",
       "      <th>averagerating</th>\n",
       "      <th>numvotes</th>\n",
       "      <th>title</th>\n",
       "      <th>studio</th>\n",
       "      <th>domestic_gross</th>\n",
       "      <th>foreign_gross</th>\n",
       "      <th>year</th>\n",
       "    </tr>\n",
       "  </thead>\n",
       "  <tbody>\n",
       "    <tr>\n",
       "      <td>0</td>\n",
       "      <td>tt0315642</td>\n",
       "      <td>Wazir</td>\n",
       "      <td>Wazir</td>\n",
       "      <td>2016</td>\n",
       "      <td>103.0</td>\n",
       "      <td>Action,Crime,Drama</td>\n",
       "      <td>7.1</td>\n",
       "      <td>15378.0</td>\n",
       "      <td>Wazir</td>\n",
       "      <td>Relbig.</td>\n",
       "      <td>1100000.0</td>\n",
       "      <td>NaN</td>\n",
       "      <td>2016</td>\n",
       "    </tr>\n",
       "    <tr>\n",
       "      <td>1</td>\n",
       "      <td>tt0337692</td>\n",
       "      <td>On the Road</td>\n",
       "      <td>On the Road</td>\n",
       "      <td>2012</td>\n",
       "      <td>124.0</td>\n",
       "      <td>Adventure,Drama,Romance</td>\n",
       "      <td>6.1</td>\n",
       "      <td>37886.0</td>\n",
       "      <td>On the Road</td>\n",
       "      <td>IFC</td>\n",
       "      <td>744000.0</td>\n",
       "      <td>8000000</td>\n",
       "      <td>2012</td>\n",
       "    </tr>\n",
       "    <tr>\n",
       "      <td>2</td>\n",
       "      <td>tt2404548</td>\n",
       "      <td>On the Road</td>\n",
       "      <td>On the Road</td>\n",
       "      <td>2011</td>\n",
       "      <td>90.0</td>\n",
       "      <td>Drama</td>\n",
       "      <td>NaN</td>\n",
       "      <td>NaN</td>\n",
       "      <td>On the Road</td>\n",
       "      <td>IFC</td>\n",
       "      <td>744000.0</td>\n",
       "      <td>8000000</td>\n",
       "      <td>2012</td>\n",
       "    </tr>\n",
       "    <tr>\n",
       "      <td>3</td>\n",
       "      <td>tt3872966</td>\n",
       "      <td>On the Road</td>\n",
       "      <td>On the Road</td>\n",
       "      <td>2013</td>\n",
       "      <td>87.0</td>\n",
       "      <td>Documentary</td>\n",
       "      <td>NaN</td>\n",
       "      <td>NaN</td>\n",
       "      <td>On the Road</td>\n",
       "      <td>IFC</td>\n",
       "      <td>744000.0</td>\n",
       "      <td>8000000</td>\n",
       "      <td>2012</td>\n",
       "    </tr>\n",
       "    <tr>\n",
       "      <td>4</td>\n",
       "      <td>tt4339118</td>\n",
       "      <td>On the Road</td>\n",
       "      <td>On the Road</td>\n",
       "      <td>2014</td>\n",
       "      <td>89.0</td>\n",
       "      <td>Drama</td>\n",
       "      <td>6.0</td>\n",
       "      <td>6.0</td>\n",
       "      <td>On the Road</td>\n",
       "      <td>IFC</td>\n",
       "      <td>744000.0</td>\n",
       "      <td>8000000</td>\n",
       "      <td>2012</td>\n",
       "    </tr>\n",
       "    <tr>\n",
       "      <td>...</td>\n",
       "      <td>...</td>\n",
       "      <td>...</td>\n",
       "      <td>...</td>\n",
       "      <td>...</td>\n",
       "      <td>...</td>\n",
       "      <td>...</td>\n",
       "      <td>...</td>\n",
       "      <td>...</td>\n",
       "      <td>...</td>\n",
       "      <td>...</td>\n",
       "      <td>...</td>\n",
       "      <td>...</td>\n",
       "      <td>...</td>\n",
       "    </tr>\n",
       "    <tr>\n",
       "      <td>3193</td>\n",
       "      <td>tt8331988</td>\n",
       "      <td>The Chambermaid</td>\n",
       "      <td>La camarista</td>\n",
       "      <td>2018</td>\n",
       "      <td>102.0</td>\n",
       "      <td>Drama</td>\n",
       "      <td>7.1</td>\n",
       "      <td>147.0</td>\n",
       "      <td>The Chambermaid</td>\n",
       "      <td>FM</td>\n",
       "      <td>300.0</td>\n",
       "      <td>NaN</td>\n",
       "      <td>2015</td>\n",
       "    </tr>\n",
       "    <tr>\n",
       "      <td>3194</td>\n",
       "      <td>tt8404272</td>\n",
       "      <td>How Long Will I Love U</td>\n",
       "      <td>Chao shi kong tong ju</td>\n",
       "      <td>2018</td>\n",
       "      <td>101.0</td>\n",
       "      <td>Romance</td>\n",
       "      <td>6.5</td>\n",
       "      <td>607.0</td>\n",
       "      <td>How Long Will I Love U</td>\n",
       "      <td>WGUSA</td>\n",
       "      <td>747000.0</td>\n",
       "      <td>82100000</td>\n",
       "      <td>2018</td>\n",
       "    </tr>\n",
       "    <tr>\n",
       "      <td>3195</td>\n",
       "      <td>tt8427036</td>\n",
       "      <td>Helicopter Eela</td>\n",
       "      <td>Helicopter Eela</td>\n",
       "      <td>2018</td>\n",
       "      <td>135.0</td>\n",
       "      <td>Drama</td>\n",
       "      <td>5.4</td>\n",
       "      <td>673.0</td>\n",
       "      <td>Helicopter Eela</td>\n",
       "      <td>Eros</td>\n",
       "      <td>72000.0</td>\n",
       "      <td>NaN</td>\n",
       "      <td>2018</td>\n",
       "    </tr>\n",
       "    <tr>\n",
       "      <td>3196</td>\n",
       "      <td>tt9078374</td>\n",
       "      <td>Last Letter</td>\n",
       "      <td>Ni hao, Zhihua</td>\n",
       "      <td>2018</td>\n",
       "      <td>114.0</td>\n",
       "      <td>Drama,Romance</td>\n",
       "      <td>6.4</td>\n",
       "      <td>322.0</td>\n",
       "      <td>Last Letter</td>\n",
       "      <td>CL</td>\n",
       "      <td>181000.0</td>\n",
       "      <td>NaN</td>\n",
       "      <td>2018</td>\n",
       "    </tr>\n",
       "    <tr>\n",
       "      <td>3197</td>\n",
       "      <td>tt9151704</td>\n",
       "      <td>Burn the Stage: The Movie</td>\n",
       "      <td>Burn the Stage: The Movie</td>\n",
       "      <td>2018</td>\n",
       "      <td>84.0</td>\n",
       "      <td>Documentary,Music</td>\n",
       "      <td>8.8</td>\n",
       "      <td>2067.0</td>\n",
       "      <td>Burn the Stage: The Movie</td>\n",
       "      <td>Trafalgar</td>\n",
       "      <td>4200000.0</td>\n",
       "      <td>16100000</td>\n",
       "      <td>2018</td>\n",
       "    </tr>\n",
       "  </tbody>\n",
       "</table>\n",
       "<p>3198 rows × 13 columns</p>\n",
       "</div>"
      ],
      "text/plain": [
       "         tconst              primary_title             original_title  \\\n",
       "0     tt0315642                      Wazir                      Wazir   \n",
       "1     tt0337692                On the Road                On the Road   \n",
       "2     tt2404548                On the Road                On the Road   \n",
       "3     tt3872966                On the Road                On the Road   \n",
       "4     tt4339118                On the Road                On the Road   \n",
       "...         ...                        ...                        ...   \n",
       "3193  tt8331988            The Chambermaid               La camarista   \n",
       "3194  tt8404272     How Long Will I Love U      Chao shi kong tong ju   \n",
       "3195  tt8427036            Helicopter Eela            Helicopter Eela   \n",
       "3196  tt9078374                Last Letter             Ni hao, Zhihua   \n",
       "3197  tt9151704  Burn the Stage: The Movie  Burn the Stage: The Movie   \n",
       "\n",
       "      start_year  runtime_minutes                   genres  averagerating  \\\n",
       "0           2016            103.0       Action,Crime,Drama            7.1   \n",
       "1           2012            124.0  Adventure,Drama,Romance            6.1   \n",
       "2           2011             90.0                    Drama            NaN   \n",
       "3           2013             87.0              Documentary            NaN   \n",
       "4           2014             89.0                    Drama            6.0   \n",
       "...          ...              ...                      ...            ...   \n",
       "3193        2018            102.0                    Drama            7.1   \n",
       "3194        2018            101.0                  Romance            6.5   \n",
       "3195        2018            135.0                    Drama            5.4   \n",
       "3196        2018            114.0            Drama,Romance            6.4   \n",
       "3197        2018             84.0        Documentary,Music            8.8   \n",
       "\n",
       "      numvotes                      title     studio  domestic_gross  \\\n",
       "0      15378.0                      Wazir    Relbig.       1100000.0   \n",
       "1      37886.0                On the Road        IFC        744000.0   \n",
       "2          NaN                On the Road        IFC        744000.0   \n",
       "3          NaN                On the Road        IFC        744000.0   \n",
       "4          6.0                On the Road        IFC        744000.0   \n",
       "...        ...                        ...        ...             ...   \n",
       "3193     147.0            The Chambermaid         FM           300.0   \n",
       "3194     607.0     How Long Will I Love U      WGUSA        747000.0   \n",
       "3195     673.0            Helicopter Eela       Eros         72000.0   \n",
       "3196     322.0                Last Letter         CL        181000.0   \n",
       "3197    2067.0  Burn the Stage: The Movie  Trafalgar       4200000.0   \n",
       "\n",
       "     foreign_gross  year  \n",
       "0              NaN  2016  \n",
       "1          8000000  2012  \n",
       "2          8000000  2012  \n",
       "3          8000000  2012  \n",
       "4          8000000  2012  \n",
       "...            ...   ...  \n",
       "3193           NaN  2015  \n",
       "3194      82100000  2018  \n",
       "3195           NaN  2018  \n",
       "3196           NaN  2018  \n",
       "3197      16100000  2018  \n",
       "\n",
       "[3198 rows x 13 columns]"
      ]
     },
     "execution_count": 93,
     "metadata": {},
     "output_type": "execute_result"
    }
   ],
   "source": [
    "DF_bom = pd.merge(df,df4,left_on='primary_title',right_on='title',how='inner')\n",
    "DF_bom"
   ]
  },
  {
   "cell_type": "code",
   "execution_count": 94,
   "metadata": {
    "ExecuteTime": {
     "end_time": "2020-06-03T18:10:26.741869Z",
     "start_time": "2020-06-03T18:10:26.732526Z"
    }
   },
   "outputs": [
    {
     "data": {
      "text/plain": [
       "tconst             0.000000\n",
       "primary_title      0.000000\n",
       "original_title     0.000000\n",
       "start_year         0.000000\n",
       "runtime_minutes    0.000000\n",
       "genres             0.000000\n",
       "averagerating      0.068168\n",
       "numvotes           0.068168\n",
       "title              0.000000\n",
       "studio             0.000938\n",
       "domestic_gross     0.007192\n",
       "foreign_gross      0.398061\n",
       "year               0.000000\n",
       "dtype: float64"
      ]
     },
     "execution_count": 94,
     "metadata": {},
     "output_type": "execute_result"
    }
   ],
   "source": [
    "DF_bom.isna().sum()/len(DF_bom)"
   ]
  },
  {
   "cell_type": "code",
   "execution_count": 95,
   "metadata": {
    "ExecuteTime": {
     "end_time": "2020-06-03T18:10:26.751915Z",
     "start_time": "2020-06-03T18:10:26.743186Z"
    }
   },
   "outputs": [
    {
     "data": {
      "text/plain": [
       "tconst               0.000000\n",
       "primary_title        0.000000\n",
       "original_title       0.000000\n",
       "start_year           0.000000\n",
       "runtime_minutes      0.000000\n",
       "genres               0.000000\n",
       "averagerating        0.099875\n",
       "numvotes             0.099875\n",
       "id                   0.000000\n",
       "release_date         0.000000\n",
       "movie                0.000000\n",
       "production_budget    0.000000\n",
       "domestic_gross       0.000000\n",
       "worldwide_gross      0.000000\n",
       "release_datetime     0.000000\n",
       "datetime_year        0.000000\n",
       "dtype: float64"
      ]
     },
     "execution_count": 95,
     "metadata": {},
     "output_type": "execute_result"
    }
   ],
   "source": [
    "DF_tn.isna().sum()/len(DF_tn)"
   ]
  },
  {
   "cell_type": "code",
   "execution_count": 98,
   "metadata": {
    "ExecuteTime": {
     "end_time": "2020-06-03T18:11:23.191608Z",
     "start_time": "2020-06-03T18:11:23.188038Z"
    }
   },
   "outputs": [
    {
     "data": {
      "text/plain": [
       "(3198, 2393)"
      ]
     },
     "execution_count": 98,
     "metadata": {},
     "output_type": "execute_result"
    }
   ],
   "source": [
    "len(DF_bom),len(DF_tn)"
   ]
  },
  {
   "cell_type": "code",
   "execution_count": 106,
   "metadata": {
    "ExecuteTime": {
     "end_time": "2020-06-03T18:15:07.542825Z",
     "start_time": "2020-06-03T18:15:07.523053Z"
    }
   },
   "outputs": [
    {
     "name": "stdout",
     "output_type": "stream",
     "text": [
      "[i]DF_bom has:\n",
      "\t-3198 movies.\n",
      "Null Values:\n"
     ]
    },
    {
     "data": {
      "text/plain": [
       "tconst                0\n",
       "primary_title         0\n",
       "original_title        0\n",
       "start_year            0\n",
       "runtime_minutes       0\n",
       "genres                0\n",
       "averagerating       218\n",
       "numvotes            218\n",
       "title                 0\n",
       "studio                3\n",
       "domestic_gross       23\n",
       "foreign_gross      1273\n",
       "year                  0\n",
       "dtype: int64"
      ]
     },
     "metadata": {},
     "output_type": "display_data"
    },
    {
     "name": "stdout",
     "output_type": "stream",
     "text": [
      "Total if drop null values: 3175\n",
      "\n",
      "\n",
      "\n",
      "\n",
      "[i]DF_tn has:\n",
      "\t-2393 movies.\n",
      "Null Values:\n"
     ]
    },
    {
     "data": {
      "text/plain": [
       "tconst                 0\n",
       "primary_title          0\n",
       "original_title         0\n",
       "start_year             0\n",
       "runtime_minutes        0\n",
       "genres                 0\n",
       "averagerating        239\n",
       "numvotes             239\n",
       "id                     0\n",
       "release_date           0\n",
       "movie                  0\n",
       "production_budget      0\n",
       "domestic_gross         0\n",
       "worldwide_gross        0\n",
       "release_datetime       0\n",
       "datetime_year          0\n",
       "dtype: int64"
      ]
     },
     "metadata": {},
     "output_type": "display_data"
    },
    {
     "name": "stdout",
     "output_type": "stream",
     "text": [
      "Total if drop null values: 2393\n"
     ]
    }
   ],
   "source": [
    "print(f\"[i]DF_bom has:\\n\\t-{len(DF_bom)} movies.\")\n",
    "print(f\"Null Values:\")\n",
    "display(DF_bom.isna().sum())\n",
    "print(f\"Total if drop null values: {len(DF_bom.dropna(subset=['domestic_gross']))}\")\n",
    "\n",
    "\n",
    "print('\\n'*3)\n",
    "print(f\"[i]DF_tn has:\\n\\t-{len(DF_tn)} movies.\")\n",
    "print(f\"Null Values:\")\n",
    "display(DF_tn.isna().sum())\n",
    "print(f\"Total if drop null values: {len(DF_tn.dropna(subset=['domestic_gross']))}\")\n",
    "\n"
   ]
  },
  {
   "cell_type": "code",
   "execution_count": null,
   "metadata": {},
   "outputs": [],
   "source": []
  },
  {
   "cell_type": "code",
   "execution_count": 107,
   "metadata": {
    "ExecuteTime": {
     "end_time": "2020-06-03T18:15:19.523601Z",
     "start_time": "2020-06-03T18:15:19.513996Z"
    }
   },
   "outputs": [
    {
     "data": {
      "text/html": [
       "<div>\n",
       "<style scoped>\n",
       "    .dataframe tbody tr th:only-of-type {\n",
       "        vertical-align: middle;\n",
       "    }\n",
       "\n",
       "    .dataframe tbody tr th {\n",
       "        vertical-align: top;\n",
       "    }\n",
       "\n",
       "    .dataframe thead th {\n",
       "        text-align: right;\n",
       "    }\n",
       "</style>\n",
       "<table border=\"1\" class=\"dataframe\">\n",
       "  <thead>\n",
       "    <tr style=\"text-align: right;\">\n",
       "      <th></th>\n",
       "      <th>tconst</th>\n",
       "      <th>primary_title</th>\n",
       "      <th>original_title</th>\n",
       "      <th>start_year</th>\n",
       "      <th>runtime_minutes</th>\n",
       "      <th>genres</th>\n",
       "      <th>averagerating</th>\n",
       "      <th>numvotes</th>\n",
       "      <th>id</th>\n",
       "      <th>release_date</th>\n",
       "      <th>movie</th>\n",
       "      <th>production_budget</th>\n",
       "      <th>domestic_gross</th>\n",
       "      <th>worldwide_gross</th>\n",
       "      <th>release_datetime</th>\n",
       "      <th>datetime_year</th>\n",
       "    </tr>\n",
       "  </thead>\n",
       "  <tbody>\n",
       "  </tbody>\n",
       "</table>\n",
       "</div>"
      ],
      "text/plain": [
       "Empty DataFrame\n",
       "Columns: [tconst, primary_title, original_title, start_year, runtime_minutes, genres, averagerating, numvotes, id, release_date, movie, production_budget, domestic_gross, worldwide_gross, release_datetime, datetime_year]\n",
       "Index: []"
      ]
     },
     "execution_count": 107,
     "metadata": {},
     "output_type": "execute_result"
    }
   ],
   "source": [
    "unmatched_tn = DF_tn[DF_tn['domestic_gross'].isna()]\n",
    "unmatched_tn"
   ]
  },
  {
   "cell_type": "code",
   "execution_count": 108,
   "metadata": {
    "ExecuteTime": {
     "end_time": "2020-06-03T18:15:19.799306Z",
     "start_time": "2020-06-03T18:15:19.777747Z"
    }
   },
   "outputs": [
    {
     "data": {
      "text/html": [
       "<div>\n",
       "<style scoped>\n",
       "    .dataframe tbody tr th:only-of-type {\n",
       "        vertical-align: middle;\n",
       "    }\n",
       "\n",
       "    .dataframe tbody tr th {\n",
       "        vertical-align: top;\n",
       "    }\n",
       "\n",
       "    .dataframe thead th {\n",
       "        text-align: right;\n",
       "    }\n",
       "</style>\n",
       "<table border=\"1\" class=\"dataframe\">\n",
       "  <thead>\n",
       "    <tr style=\"text-align: right;\">\n",
       "      <th></th>\n",
       "      <th>tconst</th>\n",
       "      <th>primary_title</th>\n",
       "      <th>original_title</th>\n",
       "      <th>start_year</th>\n",
       "      <th>runtime_minutes</th>\n",
       "      <th>genres</th>\n",
       "      <th>averagerating</th>\n",
       "      <th>numvotes</th>\n",
       "      <th>title</th>\n",
       "      <th>studio</th>\n",
       "      <th>domestic_gross</th>\n",
       "      <th>foreign_gross</th>\n",
       "      <th>year</th>\n",
       "    </tr>\n",
       "  </thead>\n",
       "  <tbody>\n",
       "    <tr>\n",
       "      <td>299</td>\n",
       "      <td>tt1167638</td>\n",
       "      <td>22 Bullets</td>\n",
       "      <td>L'immortel</td>\n",
       "      <td>2010</td>\n",
       "      <td>117.0</td>\n",
       "      <td>Action,Crime,Drama</td>\n",
       "      <td>6.7</td>\n",
       "      <td>30360.0</td>\n",
       "      <td>22 Bullets</td>\n",
       "      <td>Cdgm.</td>\n",
       "      <td>NaN</td>\n",
       "      <td>21300000</td>\n",
       "      <td>2013</td>\n",
       "    </tr>\n",
       "    <tr>\n",
       "      <td>308</td>\n",
       "      <td>tt1179069</td>\n",
       "      <td>6 Souls</td>\n",
       "      <td>6 Souls</td>\n",
       "      <td>2010</td>\n",
       "      <td>112.0</td>\n",
       "      <td>Horror,Mystery,Thriller</td>\n",
       "      <td>6.1</td>\n",
       "      <td>30389.0</td>\n",
       "      <td>6 Souls</td>\n",
       "      <td>RTWC</td>\n",
       "      <td>NaN</td>\n",
       "      <td>852000</td>\n",
       "      <td>2013</td>\n",
       "    </tr>\n",
       "    <tr>\n",
       "      <td>311</td>\n",
       "      <td>tt1181840</td>\n",
       "      <td>Jack and the Cuckoo-Clock Heart</td>\n",
       "      <td>Jack et la mécanique du coeur</td>\n",
       "      <td>2013</td>\n",
       "      <td>94.0</td>\n",
       "      <td>Adventure,Animation,Drama</td>\n",
       "      <td>7.0</td>\n",
       "      <td>5494.0</td>\n",
       "      <td>Jack and the Cuckoo-Clock Heart</td>\n",
       "      <td>Shout!</td>\n",
       "      <td>NaN</td>\n",
       "      <td>3400000</td>\n",
       "      <td>2014</td>\n",
       "    </tr>\n",
       "    <tr>\n",
       "      <td>439</td>\n",
       "      <td>tt1291570</td>\n",
       "      <td>Solace</td>\n",
       "      <td>Solace</td>\n",
       "      <td>2015</td>\n",
       "      <td>101.0</td>\n",
       "      <td>Crime,Drama,Mystery</td>\n",
       "      <td>6.4</td>\n",
       "      <td>49417.0</td>\n",
       "      <td>Solace</td>\n",
       "      <td>LGP</td>\n",
       "      <td>NaN</td>\n",
       "      <td>22400000</td>\n",
       "      <td>2016</td>\n",
       "    </tr>\n",
       "    <tr>\n",
       "      <td>440</td>\n",
       "      <td>tt2140411</td>\n",
       "      <td>Solace</td>\n",
       "      <td>Solace</td>\n",
       "      <td>2013</td>\n",
       "      <td>76.0</td>\n",
       "      <td>Thriller</td>\n",
       "      <td>7.2</td>\n",
       "      <td>59.0</td>\n",
       "      <td>Solace</td>\n",
       "      <td>LGP</td>\n",
       "      <td>NaN</td>\n",
       "      <td>22400000</td>\n",
       "      <td>2016</td>\n",
       "    </tr>\n",
       "    <tr>\n",
       "      <td>441</td>\n",
       "      <td>tt3240102</td>\n",
       "      <td>Solace</td>\n",
       "      <td>Solace</td>\n",
       "      <td>2018</td>\n",
       "      <td>81.0</td>\n",
       "      <td>Drama</td>\n",
       "      <td>4.9</td>\n",
       "      <td>28.0</td>\n",
       "      <td>Solace</td>\n",
       "      <td>LGP</td>\n",
       "      <td>NaN</td>\n",
       "      <td>22400000</td>\n",
       "      <td>2016</td>\n",
       "    </tr>\n",
       "    <tr>\n",
       "      <td>442</td>\n",
       "      <td>tt6687810</td>\n",
       "      <td>Solace</td>\n",
       "      <td>Solace</td>\n",
       "      <td>2017</td>\n",
       "      <td>66.0</td>\n",
       "      <td>Drama</td>\n",
       "      <td>NaN</td>\n",
       "      <td>NaN</td>\n",
       "      <td>Solace</td>\n",
       "      <td>LGP</td>\n",
       "      <td>NaN</td>\n",
       "      <td>22400000</td>\n",
       "      <td>2016</td>\n",
       "    </tr>\n",
       "    <tr>\n",
       "      <td>481</td>\n",
       "      <td>tt1319716</td>\n",
       "      <td>It's a Wonderful Afterlife</td>\n",
       "      <td>It's a Wonderful Afterlife</td>\n",
       "      <td>2010</td>\n",
       "      <td>100.0</td>\n",
       "      <td>Comedy,Drama,Fantasy</td>\n",
       "      <td>5.4</td>\n",
       "      <td>1361.0</td>\n",
       "      <td>It's a Wonderful Afterlife</td>\n",
       "      <td>UTV</td>\n",
       "      <td>NaN</td>\n",
       "      <td>1300000</td>\n",
       "      <td>2010</td>\n",
       "    </tr>\n",
       "    <tr>\n",
       "      <td>697</td>\n",
       "      <td>tt1442571</td>\n",
       "      <td>14 Blades</td>\n",
       "      <td>Jin yi wei</td>\n",
       "      <td>2010</td>\n",
       "      <td>114.0</td>\n",
       "      <td>Action,History,Thriller</td>\n",
       "      <td>6.4</td>\n",
       "      <td>7100.0</td>\n",
       "      <td>14 Blades</td>\n",
       "      <td>RTWC</td>\n",
       "      <td>NaN</td>\n",
       "      <td>3800000</td>\n",
       "      <td>2014</td>\n",
       "    </tr>\n",
       "    <tr>\n",
       "      <td>798</td>\n",
       "      <td>tt1507563</td>\n",
       "      <td>Dark Tide</td>\n",
       "      <td>Dark Tide</td>\n",
       "      <td>2012</td>\n",
       "      <td>94.0</td>\n",
       "      <td>Action,Adventure,Drama</td>\n",
       "      <td>4.3</td>\n",
       "      <td>7682.0</td>\n",
       "      <td>Dark Tide</td>\n",
       "      <td>WHE</td>\n",
       "      <td>NaN</td>\n",
       "      <td>432000</td>\n",
       "      <td>2012</td>\n",
       "    </tr>\n",
       "    <tr>\n",
       "      <td>893</td>\n",
       "      <td>tt1570982</td>\n",
       "      <td>Celine: Through the Eyes of the World</td>\n",
       "      <td>Celine: Through the Eyes of the World</td>\n",
       "      <td>2010</td>\n",
       "      <td>120.0</td>\n",
       "      <td>Documentary,Music</td>\n",
       "      <td>7.9</td>\n",
       "      <td>349.0</td>\n",
       "      <td>Celine: Through the Eyes of the World</td>\n",
       "      <td>Sony</td>\n",
       "      <td>NaN</td>\n",
       "      <td>119000</td>\n",
       "      <td>2010</td>\n",
       "    </tr>\n",
       "    <tr>\n",
       "      <td>1009</td>\n",
       "      <td>tt1618421</td>\n",
       "      <td>White Lion</td>\n",
       "      <td>White Lion</td>\n",
       "      <td>2010</td>\n",
       "      <td>88.0</td>\n",
       "      <td>Drama,Family</td>\n",
       "      <td>6.7</td>\n",
       "      <td>828.0</td>\n",
       "      <td>White Lion</td>\n",
       "      <td>Scre.</td>\n",
       "      <td>NaN</td>\n",
       "      <td>99600</td>\n",
       "      <td>2010</td>\n",
       "    </tr>\n",
       "    <tr>\n",
       "      <td>1117</td>\n",
       "      <td>tt1658837</td>\n",
       "      <td>The Tall Man</td>\n",
       "      <td>The Tall Man</td>\n",
       "      <td>2012</td>\n",
       "      <td>106.0</td>\n",
       "      <td>Crime,Drama,Horror</td>\n",
       "      <td>5.9</td>\n",
       "      <td>36331.0</td>\n",
       "      <td>The Tall Man</td>\n",
       "      <td>Imag.</td>\n",
       "      <td>NaN</td>\n",
       "      <td>5200000</td>\n",
       "      <td>2012</td>\n",
       "    </tr>\n",
       "    <tr>\n",
       "      <td>1118</td>\n",
       "      <td>tt1864549</td>\n",
       "      <td>The Tall Man</td>\n",
       "      <td>The Tall Man</td>\n",
       "      <td>2011</td>\n",
       "      <td>79.0</td>\n",
       "      <td>Documentary</td>\n",
       "      <td>7.1</td>\n",
       "      <td>129.0</td>\n",
       "      <td>The Tall Man</td>\n",
       "      <td>Imag.</td>\n",
       "      <td>NaN</td>\n",
       "      <td>5200000</td>\n",
       "      <td>2012</td>\n",
       "    </tr>\n",
       "    <tr>\n",
       "      <td>1139</td>\n",
       "      <td>tt1667130</td>\n",
       "      <td>The Green Wave</td>\n",
       "      <td>The Green Wave</td>\n",
       "      <td>2010</td>\n",
       "      <td>80.0</td>\n",
       "      <td>Documentary</td>\n",
       "      <td>7.6</td>\n",
       "      <td>290.0</td>\n",
       "      <td>The Green Wave</td>\n",
       "      <td>RF</td>\n",
       "      <td>NaN</td>\n",
       "      <td>70100</td>\n",
       "      <td>2012</td>\n",
       "    </tr>\n",
       "    <tr>\n",
       "      <td>1329</td>\n",
       "      <td>tt1774358</td>\n",
       "      <td>The Snitch Cartel</td>\n",
       "      <td>El cartel de los sapos</td>\n",
       "      <td>2011</td>\n",
       "      <td>102.0</td>\n",
       "      <td>Action,Crime,Drama</td>\n",
       "      <td>6.5</td>\n",
       "      <td>1122.0</td>\n",
       "      <td>The Snitch Cartel</td>\n",
       "      <td>PI</td>\n",
       "      <td>NaN</td>\n",
       "      <td>2100000</td>\n",
       "      <td>2013</td>\n",
       "    </tr>\n",
       "    <tr>\n",
       "      <td>1624</td>\n",
       "      <td>tt1992138</td>\n",
       "      <td>Force</td>\n",
       "      <td>Force</td>\n",
       "      <td>2011</td>\n",
       "      <td>137.0</td>\n",
       "      <td>Action,Thriller</td>\n",
       "      <td>6.4</td>\n",
       "      <td>6348.0</td>\n",
       "      <td>Force</td>\n",
       "      <td>FoxS</td>\n",
       "      <td>NaN</td>\n",
       "      <td>4800000</td>\n",
       "      <td>2011</td>\n",
       "    </tr>\n",
       "    <tr>\n",
       "      <td>1625</td>\n",
       "      <td>tt4195244</td>\n",
       "      <td>Force</td>\n",
       "      <td>Force</td>\n",
       "      <td>2014</td>\n",
       "      <td>135.0</td>\n",
       "      <td>Action,Drama</td>\n",
       "      <td>6.2</td>\n",
       "      <td>23.0</td>\n",
       "      <td>Force</td>\n",
       "      <td>FoxS</td>\n",
       "      <td>NaN</td>\n",
       "      <td>4800000</td>\n",
       "      <td>2011</td>\n",
       "    </tr>\n",
       "    <tr>\n",
       "      <td>1788</td>\n",
       "      <td>tt2147365</td>\n",
       "      <td>Keith Lemon: The Film</td>\n",
       "      <td>Keith Lemon: The Film</td>\n",
       "      <td>2012</td>\n",
       "      <td>85.0</td>\n",
       "      <td>Comedy</td>\n",
       "      <td>2.6</td>\n",
       "      <td>3950.0</td>\n",
       "      <td>Keith Lemon: The Film</td>\n",
       "      <td>NaN</td>\n",
       "      <td>NaN</td>\n",
       "      <td>4000000</td>\n",
       "      <td>2012</td>\n",
       "    </tr>\n",
       "    <tr>\n",
       "      <td>1929</td>\n",
       "      <td>tt2300975</td>\n",
       "      <td>Jessabelle</td>\n",
       "      <td>Jessabelle</td>\n",
       "      <td>2014</td>\n",
       "      <td>90.0</td>\n",
       "      <td>Horror,Thriller</td>\n",
       "      <td>5.4</td>\n",
       "      <td>20552.0</td>\n",
       "      <td>Jessabelle</td>\n",
       "      <td>LGF</td>\n",
       "      <td>NaN</td>\n",
       "      <td>7000000</td>\n",
       "      <td>2014</td>\n",
       "    </tr>\n",
       "    <tr>\n",
       "      <td>2167</td>\n",
       "      <td>tt2594078</td>\n",
       "      <td>Viral</td>\n",
       "      <td>Viral</td>\n",
       "      <td>2013</td>\n",
       "      <td>95.0</td>\n",
       "      <td>Comedy,Horror,Thriller</td>\n",
       "      <td>4.4</td>\n",
       "      <td>227.0</td>\n",
       "      <td>Viral</td>\n",
       "      <td>W/Dim.</td>\n",
       "      <td>NaN</td>\n",
       "      <td>552000</td>\n",
       "      <td>2016</td>\n",
       "    </tr>\n",
       "    <tr>\n",
       "      <td>2168</td>\n",
       "      <td>tt2597892</td>\n",
       "      <td>Viral</td>\n",
       "      <td>Viral</td>\n",
       "      <td>2016</td>\n",
       "      <td>85.0</td>\n",
       "      <td>Drama,Horror,Sci-Fi</td>\n",
       "      <td>5.5</td>\n",
       "      <td>7150.0</td>\n",
       "      <td>Viral</td>\n",
       "      <td>W/Dim.</td>\n",
       "      <td>NaN</td>\n",
       "      <td>552000</td>\n",
       "      <td>2016</td>\n",
       "    </tr>\n",
       "    <tr>\n",
       "      <td>3059</td>\n",
       "      <td>tt6108090</td>\n",
       "      <td>Secret Superstar</td>\n",
       "      <td>Secret Superstar</td>\n",
       "      <td>2017</td>\n",
       "      <td>150.0</td>\n",
       "      <td>Drama,Music</td>\n",
       "      <td>8.0</td>\n",
       "      <td>16563.0</td>\n",
       "      <td>Secret Superstar</td>\n",
       "      <td>NaN</td>\n",
       "      <td>NaN</td>\n",
       "      <td>122000000</td>\n",
       "      <td>2017</td>\n",
       "    </tr>\n",
       "  </tbody>\n",
       "</table>\n",
       "</div>"
      ],
      "text/plain": [
       "         tconst                          primary_title  \\\n",
       "299   tt1167638                             22 Bullets   \n",
       "308   tt1179069                                6 Souls   \n",
       "311   tt1181840        Jack and the Cuckoo-Clock Heart   \n",
       "439   tt1291570                                 Solace   \n",
       "440   tt2140411                                 Solace   \n",
       "441   tt3240102                                 Solace   \n",
       "442   tt6687810                                 Solace   \n",
       "481   tt1319716             It's a Wonderful Afterlife   \n",
       "697   tt1442571                              14 Blades   \n",
       "798   tt1507563                              Dark Tide   \n",
       "893   tt1570982  Celine: Through the Eyes of the World   \n",
       "1009  tt1618421                             White Lion   \n",
       "1117  tt1658837                           The Tall Man   \n",
       "1118  tt1864549                           The Tall Man   \n",
       "1139  tt1667130                         The Green Wave   \n",
       "1329  tt1774358                      The Snitch Cartel   \n",
       "1624  tt1992138                                  Force   \n",
       "1625  tt4195244                                  Force   \n",
       "1788  tt2147365                  Keith Lemon: The Film   \n",
       "1929  tt2300975                             Jessabelle   \n",
       "2167  tt2594078                                  Viral   \n",
       "2168  tt2597892                                  Viral   \n",
       "3059  tt6108090                       Secret Superstar   \n",
       "\n",
       "                             original_title  start_year  runtime_minutes  \\\n",
       "299                              L'immortel        2010            117.0   \n",
       "308                                 6 Souls        2010            112.0   \n",
       "311           Jack et la mécanique du coeur        2013             94.0   \n",
       "439                                  Solace        2015            101.0   \n",
       "440                                  Solace        2013             76.0   \n",
       "441                                  Solace        2018             81.0   \n",
       "442                                  Solace        2017             66.0   \n",
       "481              It's a Wonderful Afterlife        2010            100.0   \n",
       "697                              Jin yi wei        2010            114.0   \n",
       "798                               Dark Tide        2012             94.0   \n",
       "893   Celine: Through the Eyes of the World        2010            120.0   \n",
       "1009                             White Lion        2010             88.0   \n",
       "1117                           The Tall Man        2012            106.0   \n",
       "1118                           The Tall Man        2011             79.0   \n",
       "1139                         The Green Wave        2010             80.0   \n",
       "1329                 El cartel de los sapos        2011            102.0   \n",
       "1624                                  Force        2011            137.0   \n",
       "1625                                  Force        2014            135.0   \n",
       "1788                  Keith Lemon: The Film        2012             85.0   \n",
       "1929                             Jessabelle        2014             90.0   \n",
       "2167                                  Viral        2013             95.0   \n",
       "2168                                  Viral        2016             85.0   \n",
       "3059                       Secret Superstar        2017            150.0   \n",
       "\n",
       "                         genres  averagerating  numvotes  \\\n",
       "299          Action,Crime,Drama            6.7   30360.0   \n",
       "308     Horror,Mystery,Thriller            6.1   30389.0   \n",
       "311   Adventure,Animation,Drama            7.0    5494.0   \n",
       "439         Crime,Drama,Mystery            6.4   49417.0   \n",
       "440                    Thriller            7.2      59.0   \n",
       "441                       Drama            4.9      28.0   \n",
       "442                       Drama            NaN       NaN   \n",
       "481        Comedy,Drama,Fantasy            5.4    1361.0   \n",
       "697     Action,History,Thriller            6.4    7100.0   \n",
       "798      Action,Adventure,Drama            4.3    7682.0   \n",
       "893           Documentary,Music            7.9     349.0   \n",
       "1009               Drama,Family            6.7     828.0   \n",
       "1117         Crime,Drama,Horror            5.9   36331.0   \n",
       "1118                Documentary            7.1     129.0   \n",
       "1139                Documentary            7.6     290.0   \n",
       "1329         Action,Crime,Drama            6.5    1122.0   \n",
       "1624            Action,Thriller            6.4    6348.0   \n",
       "1625               Action,Drama            6.2      23.0   \n",
       "1788                     Comedy            2.6    3950.0   \n",
       "1929            Horror,Thriller            5.4   20552.0   \n",
       "2167     Comedy,Horror,Thriller            4.4     227.0   \n",
       "2168        Drama,Horror,Sci-Fi            5.5    7150.0   \n",
       "3059                Drama,Music            8.0   16563.0   \n",
       "\n",
       "                                      title  studio  domestic_gross  \\\n",
       "299                              22 Bullets   Cdgm.             NaN   \n",
       "308                                 6 Souls    RTWC             NaN   \n",
       "311         Jack and the Cuckoo-Clock Heart  Shout!             NaN   \n",
       "439                                  Solace     LGP             NaN   \n",
       "440                                  Solace     LGP             NaN   \n",
       "441                                  Solace     LGP             NaN   \n",
       "442                                  Solace     LGP             NaN   \n",
       "481              It's a Wonderful Afterlife     UTV             NaN   \n",
       "697                               14 Blades    RTWC             NaN   \n",
       "798                               Dark Tide     WHE             NaN   \n",
       "893   Celine: Through the Eyes of the World    Sony             NaN   \n",
       "1009                             White Lion   Scre.             NaN   \n",
       "1117                           The Tall Man   Imag.             NaN   \n",
       "1118                           The Tall Man   Imag.             NaN   \n",
       "1139                         The Green Wave      RF             NaN   \n",
       "1329                      The Snitch Cartel      PI             NaN   \n",
       "1624                                  Force    FoxS             NaN   \n",
       "1625                                  Force    FoxS             NaN   \n",
       "1788                  Keith Lemon: The Film     NaN             NaN   \n",
       "1929                             Jessabelle     LGF             NaN   \n",
       "2167                                  Viral  W/Dim.             NaN   \n",
       "2168                                  Viral  W/Dim.             NaN   \n",
       "3059                       Secret Superstar     NaN             NaN   \n",
       "\n",
       "     foreign_gross  year  \n",
       "299       21300000  2013  \n",
       "308         852000  2013  \n",
       "311        3400000  2014  \n",
       "439       22400000  2016  \n",
       "440       22400000  2016  \n",
       "441       22400000  2016  \n",
       "442       22400000  2016  \n",
       "481        1300000  2010  \n",
       "697        3800000  2014  \n",
       "798         432000  2012  \n",
       "893         119000  2010  \n",
       "1009         99600  2010  \n",
       "1117       5200000  2012  \n",
       "1118       5200000  2012  \n",
       "1139         70100  2012  \n",
       "1329       2100000  2013  \n",
       "1624       4800000  2011  \n",
       "1625       4800000  2011  \n",
       "1788       4000000  2012  \n",
       "1929       7000000  2014  \n",
       "2167        552000  2016  \n",
       "2168        552000  2016  \n",
       "3059     122000000  2017  "
      ]
     },
     "execution_count": 108,
     "metadata": {},
     "output_type": "execute_result"
    }
   ],
   "source": [
    "unmatched_bom = DF_bom[DF_bom['domestic_gross'].isna()]\n",
    "unmatched_bom"
   ]
  },
  {
   "cell_type": "code",
   "execution_count": 109,
   "metadata": {
    "ExecuteTime": {
     "end_time": "2020-06-03T18:15:37.093552Z",
     "start_time": "2020-06-03T18:15:37.064891Z"
    }
   },
   "outputs": [
    {
     "data": {
      "text/html": [
       "<div>\n",
       "<style scoped>\n",
       "    .dataframe tbody tr th:only-of-type {\n",
       "        vertical-align: middle;\n",
       "    }\n",
       "\n",
       "    .dataframe tbody tr th {\n",
       "        vertical-align: top;\n",
       "    }\n",
       "\n",
       "    .dataframe thead th {\n",
       "        text-align: right;\n",
       "    }\n",
       "</style>\n",
       "<table border=\"1\" class=\"dataframe\">\n",
       "  <thead>\n",
       "    <tr style=\"text-align: right;\">\n",
       "      <th></th>\n",
       "      <th>tconst</th>\n",
       "      <th>primary_title</th>\n",
       "      <th>original_title</th>\n",
       "      <th>start_year</th>\n",
       "      <th>runtime_minutes</th>\n",
       "      <th>genres</th>\n",
       "      <th>averagerating</th>\n",
       "      <th>numvotes</th>\n",
       "      <th>title</th>\n",
       "      <th>studio</th>\n",
       "      <th>domestic_gross</th>\n",
       "      <th>foreign_gross</th>\n",
       "      <th>year</th>\n",
       "    </tr>\n",
       "  </thead>\n",
       "  <tbody>\n",
       "    <tr>\n",
       "      <td>0</td>\n",
       "      <td>tt0315642</td>\n",
       "      <td>Wazir</td>\n",
       "      <td>Wazir</td>\n",
       "      <td>2016</td>\n",
       "      <td>103.0</td>\n",
       "      <td>Action,Crime,Drama</td>\n",
       "      <td>7.1</td>\n",
       "      <td>15378.0</td>\n",
       "      <td>Wazir</td>\n",
       "      <td>Relbig.</td>\n",
       "      <td>1100000.0</td>\n",
       "      <td>NaN</td>\n",
       "      <td>2016</td>\n",
       "    </tr>\n",
       "    <tr>\n",
       "      <td>1</td>\n",
       "      <td>tt0337692</td>\n",
       "      <td>On the Road</td>\n",
       "      <td>On the Road</td>\n",
       "      <td>2012</td>\n",
       "      <td>124.0</td>\n",
       "      <td>Adventure,Drama,Romance</td>\n",
       "      <td>6.1</td>\n",
       "      <td>37886.0</td>\n",
       "      <td>On the Road</td>\n",
       "      <td>IFC</td>\n",
       "      <td>744000.0</td>\n",
       "      <td>8000000</td>\n",
       "      <td>2012</td>\n",
       "    </tr>\n",
       "    <tr>\n",
       "      <td>2</td>\n",
       "      <td>tt2404548</td>\n",
       "      <td>On the Road</td>\n",
       "      <td>On the Road</td>\n",
       "      <td>2011</td>\n",
       "      <td>90.0</td>\n",
       "      <td>Drama</td>\n",
       "      <td>NaN</td>\n",
       "      <td>NaN</td>\n",
       "      <td>On the Road</td>\n",
       "      <td>IFC</td>\n",
       "      <td>744000.0</td>\n",
       "      <td>8000000</td>\n",
       "      <td>2012</td>\n",
       "    </tr>\n",
       "    <tr>\n",
       "      <td>3</td>\n",
       "      <td>tt3872966</td>\n",
       "      <td>On the Road</td>\n",
       "      <td>On the Road</td>\n",
       "      <td>2013</td>\n",
       "      <td>87.0</td>\n",
       "      <td>Documentary</td>\n",
       "      <td>NaN</td>\n",
       "      <td>NaN</td>\n",
       "      <td>On the Road</td>\n",
       "      <td>IFC</td>\n",
       "      <td>744000.0</td>\n",
       "      <td>8000000</td>\n",
       "      <td>2012</td>\n",
       "    </tr>\n",
       "    <tr>\n",
       "      <td>4</td>\n",
       "      <td>tt4339118</td>\n",
       "      <td>On the Road</td>\n",
       "      <td>On the Road</td>\n",
       "      <td>2014</td>\n",
       "      <td>89.0</td>\n",
       "      <td>Drama</td>\n",
       "      <td>6.0</td>\n",
       "      <td>6.0</td>\n",
       "      <td>On the Road</td>\n",
       "      <td>IFC</td>\n",
       "      <td>744000.0</td>\n",
       "      <td>8000000</td>\n",
       "      <td>2012</td>\n",
       "    </tr>\n",
       "    <tr>\n",
       "      <td>...</td>\n",
       "      <td>...</td>\n",
       "      <td>...</td>\n",
       "      <td>...</td>\n",
       "      <td>...</td>\n",
       "      <td>...</td>\n",
       "      <td>...</td>\n",
       "      <td>...</td>\n",
       "      <td>...</td>\n",
       "      <td>...</td>\n",
       "      <td>...</td>\n",
       "      <td>...</td>\n",
       "      <td>...</td>\n",
       "      <td>...</td>\n",
       "    </tr>\n",
       "    <tr>\n",
       "      <td>3193</td>\n",
       "      <td>tt8331988</td>\n",
       "      <td>The Chambermaid</td>\n",
       "      <td>La camarista</td>\n",
       "      <td>2018</td>\n",
       "      <td>102.0</td>\n",
       "      <td>Drama</td>\n",
       "      <td>7.1</td>\n",
       "      <td>147.0</td>\n",
       "      <td>The Chambermaid</td>\n",
       "      <td>FM</td>\n",
       "      <td>300.0</td>\n",
       "      <td>NaN</td>\n",
       "      <td>2015</td>\n",
       "    </tr>\n",
       "    <tr>\n",
       "      <td>3194</td>\n",
       "      <td>tt8404272</td>\n",
       "      <td>How Long Will I Love U</td>\n",
       "      <td>Chao shi kong tong ju</td>\n",
       "      <td>2018</td>\n",
       "      <td>101.0</td>\n",
       "      <td>Romance</td>\n",
       "      <td>6.5</td>\n",
       "      <td>607.0</td>\n",
       "      <td>How Long Will I Love U</td>\n",
       "      <td>WGUSA</td>\n",
       "      <td>747000.0</td>\n",
       "      <td>82100000</td>\n",
       "      <td>2018</td>\n",
       "    </tr>\n",
       "    <tr>\n",
       "      <td>3195</td>\n",
       "      <td>tt8427036</td>\n",
       "      <td>Helicopter Eela</td>\n",
       "      <td>Helicopter Eela</td>\n",
       "      <td>2018</td>\n",
       "      <td>135.0</td>\n",
       "      <td>Drama</td>\n",
       "      <td>5.4</td>\n",
       "      <td>673.0</td>\n",
       "      <td>Helicopter Eela</td>\n",
       "      <td>Eros</td>\n",
       "      <td>72000.0</td>\n",
       "      <td>NaN</td>\n",
       "      <td>2018</td>\n",
       "    </tr>\n",
       "    <tr>\n",
       "      <td>3196</td>\n",
       "      <td>tt9078374</td>\n",
       "      <td>Last Letter</td>\n",
       "      <td>Ni hao, Zhihua</td>\n",
       "      <td>2018</td>\n",
       "      <td>114.0</td>\n",
       "      <td>Drama,Romance</td>\n",
       "      <td>6.4</td>\n",
       "      <td>322.0</td>\n",
       "      <td>Last Letter</td>\n",
       "      <td>CL</td>\n",
       "      <td>181000.0</td>\n",
       "      <td>NaN</td>\n",
       "      <td>2018</td>\n",
       "    </tr>\n",
       "    <tr>\n",
       "      <td>3197</td>\n",
       "      <td>tt9151704</td>\n",
       "      <td>Burn the Stage: The Movie</td>\n",
       "      <td>Burn the Stage: The Movie</td>\n",
       "      <td>2018</td>\n",
       "      <td>84.0</td>\n",
       "      <td>Documentary,Music</td>\n",
       "      <td>8.8</td>\n",
       "      <td>2067.0</td>\n",
       "      <td>Burn the Stage: The Movie</td>\n",
       "      <td>Trafalgar</td>\n",
       "      <td>4200000.0</td>\n",
       "      <td>16100000</td>\n",
       "      <td>2018</td>\n",
       "    </tr>\n",
       "  </tbody>\n",
       "</table>\n",
       "<p>3175 rows × 13 columns</p>\n",
       "</div>"
      ],
      "text/plain": [
       "         tconst              primary_title             original_title  \\\n",
       "0     tt0315642                      Wazir                      Wazir   \n",
       "1     tt0337692                On the Road                On the Road   \n",
       "2     tt2404548                On the Road                On the Road   \n",
       "3     tt3872966                On the Road                On the Road   \n",
       "4     tt4339118                On the Road                On the Road   \n",
       "...         ...                        ...                        ...   \n",
       "3193  tt8331988            The Chambermaid               La camarista   \n",
       "3194  tt8404272     How Long Will I Love U      Chao shi kong tong ju   \n",
       "3195  tt8427036            Helicopter Eela            Helicopter Eela   \n",
       "3196  tt9078374                Last Letter             Ni hao, Zhihua   \n",
       "3197  tt9151704  Burn the Stage: The Movie  Burn the Stage: The Movie   \n",
       "\n",
       "      start_year  runtime_minutes                   genres  averagerating  \\\n",
       "0           2016            103.0       Action,Crime,Drama            7.1   \n",
       "1           2012            124.0  Adventure,Drama,Romance            6.1   \n",
       "2           2011             90.0                    Drama            NaN   \n",
       "3           2013             87.0              Documentary            NaN   \n",
       "4           2014             89.0                    Drama            6.0   \n",
       "...          ...              ...                      ...            ...   \n",
       "3193        2018            102.0                    Drama            7.1   \n",
       "3194        2018            101.0                  Romance            6.5   \n",
       "3195        2018            135.0                    Drama            5.4   \n",
       "3196        2018            114.0            Drama,Romance            6.4   \n",
       "3197        2018             84.0        Documentary,Music            8.8   \n",
       "\n",
       "      numvotes                      title     studio  domestic_gross  \\\n",
       "0      15378.0                      Wazir    Relbig.       1100000.0   \n",
       "1      37886.0                On the Road        IFC        744000.0   \n",
       "2          NaN                On the Road        IFC        744000.0   \n",
       "3          NaN                On the Road        IFC        744000.0   \n",
       "4          6.0                On the Road        IFC        744000.0   \n",
       "...        ...                        ...        ...             ...   \n",
       "3193     147.0            The Chambermaid         FM           300.0   \n",
       "3194     607.0     How Long Will I Love U      WGUSA        747000.0   \n",
       "3195     673.0            Helicopter Eela       Eros         72000.0   \n",
       "3196     322.0                Last Letter         CL        181000.0   \n",
       "3197    2067.0  Burn the Stage: The Movie  Trafalgar       4200000.0   \n",
       "\n",
       "     foreign_gross  year  \n",
       "0              NaN  2016  \n",
       "1          8000000  2012  \n",
       "2          8000000  2012  \n",
       "3          8000000  2012  \n",
       "4          8000000  2012  \n",
       "...            ...   ...  \n",
       "3193           NaN  2015  \n",
       "3194      82100000  2018  \n",
       "3195           NaN  2018  \n",
       "3196           NaN  2018  \n",
       "3197      16100000  2018  \n",
       "\n",
       "[3175 rows x 13 columns]"
      ]
     },
     "execution_count": 109,
     "metadata": {},
     "output_type": "execute_result"
    }
   ],
   "source": [
    "DF = DF_bom.dropna(subset=['domestic_gross']).copy()\n",
    "DF"
   ]
  },
  {
   "cell_type": "code",
   "execution_count": 111,
   "metadata": {
    "ExecuteTime": {
     "end_time": "2020-06-03T18:16:18.236152Z",
     "start_time": "2020-06-03T18:16:18.207984Z"
    }
   },
   "outputs": [
    {
     "data": {
      "text/html": [
       "<div>\n",
       "<style scoped>\n",
       "    .dataframe tbody tr th:only-of-type {\n",
       "        vertical-align: middle;\n",
       "    }\n",
       "\n",
       "    .dataframe tbody tr th {\n",
       "        vertical-align: top;\n",
       "    }\n",
       "\n",
       "    .dataframe thead th {\n",
       "        text-align: right;\n",
       "    }\n",
       "</style>\n",
       "<table border=\"1\" class=\"dataframe\">\n",
       "  <thead>\n",
       "    <tr style=\"text-align: right;\">\n",
       "      <th></th>\n",
       "      <th>tconst</th>\n",
       "      <th>primary_title</th>\n",
       "      <th>original_title</th>\n",
       "      <th>start_year</th>\n",
       "      <th>runtime_minutes</th>\n",
       "      <th>genres</th>\n",
       "      <th>averagerating</th>\n",
       "      <th>numvotes</th>\n",
       "      <th>title</th>\n",
       "      <th>studio</th>\n",
       "      <th>domestic_gross</th>\n",
       "      <th>foreign_gross</th>\n",
       "      <th>year</th>\n",
       "    </tr>\n",
       "  </thead>\n",
       "  <tbody>\n",
       "    <tr>\n",
       "      <td>0</td>\n",
       "      <td>tt0315642</td>\n",
       "      <td>Wazir</td>\n",
       "      <td>Wazir</td>\n",
       "      <td>2016</td>\n",
       "      <td>103.0</td>\n",
       "      <td>Action,Crime,Drama</td>\n",
       "      <td>7.1</td>\n",
       "      <td>15378.0</td>\n",
       "      <td>Wazir</td>\n",
       "      <td>Relbig.</td>\n",
       "      <td>1100000.0</td>\n",
       "      <td>NaN</td>\n",
       "      <td>2016</td>\n",
       "    </tr>\n",
       "    <tr>\n",
       "      <td>1</td>\n",
       "      <td>tt0337692</td>\n",
       "      <td>On the Road</td>\n",
       "      <td>On the Road</td>\n",
       "      <td>2012</td>\n",
       "      <td>124.0</td>\n",
       "      <td>Adventure,Drama,Romance</td>\n",
       "      <td>6.1</td>\n",
       "      <td>37886.0</td>\n",
       "      <td>On the Road</td>\n",
       "      <td>IFC</td>\n",
       "      <td>744000.0</td>\n",
       "      <td>8000000</td>\n",
       "      <td>2012</td>\n",
       "    </tr>\n",
       "    <tr>\n",
       "      <td>2</td>\n",
       "      <td>tt2404548</td>\n",
       "      <td>On the Road</td>\n",
       "      <td>On the Road</td>\n",
       "      <td>2011</td>\n",
       "      <td>90.0</td>\n",
       "      <td>Drama</td>\n",
       "      <td>NaN</td>\n",
       "      <td>NaN</td>\n",
       "      <td>On the Road</td>\n",
       "      <td>IFC</td>\n",
       "      <td>744000.0</td>\n",
       "      <td>8000000</td>\n",
       "      <td>2012</td>\n",
       "    </tr>\n",
       "    <tr>\n",
       "      <td>3</td>\n",
       "      <td>tt3872966</td>\n",
       "      <td>On the Road</td>\n",
       "      <td>On the Road</td>\n",
       "      <td>2013</td>\n",
       "      <td>87.0</td>\n",
       "      <td>Documentary</td>\n",
       "      <td>NaN</td>\n",
       "      <td>NaN</td>\n",
       "      <td>On the Road</td>\n",
       "      <td>IFC</td>\n",
       "      <td>744000.0</td>\n",
       "      <td>8000000</td>\n",
       "      <td>2012</td>\n",
       "    </tr>\n",
       "    <tr>\n",
       "      <td>4</td>\n",
       "      <td>tt4339118</td>\n",
       "      <td>On the Road</td>\n",
       "      <td>On the Road</td>\n",
       "      <td>2014</td>\n",
       "      <td>89.0</td>\n",
       "      <td>Drama</td>\n",
       "      <td>6.0</td>\n",
       "      <td>6.0</td>\n",
       "      <td>On the Road</td>\n",
       "      <td>IFC</td>\n",
       "      <td>744000.0</td>\n",
       "      <td>8000000</td>\n",
       "      <td>2012</td>\n",
       "    </tr>\n",
       "  </tbody>\n",
       "</table>\n",
       "</div>"
      ],
      "text/plain": [
       "      tconst primary_title original_title  start_year  runtime_minutes  \\\n",
       "0  tt0315642         Wazir          Wazir        2016            103.0   \n",
       "1  tt0337692   On the Road    On the Road        2012            124.0   \n",
       "2  tt2404548   On the Road    On the Road        2011             90.0   \n",
       "3  tt3872966   On the Road    On the Road        2013             87.0   \n",
       "4  tt4339118   On the Road    On the Road        2014             89.0   \n",
       "\n",
       "                    genres  averagerating  numvotes        title   studio  \\\n",
       "0       Action,Crime,Drama            7.1   15378.0        Wazir  Relbig.   \n",
       "1  Adventure,Drama,Romance            6.1   37886.0  On the Road      IFC   \n",
       "2                    Drama            NaN       NaN  On the Road      IFC   \n",
       "3              Documentary            NaN       NaN  On the Road      IFC   \n",
       "4                    Drama            6.0       6.0  On the Road      IFC   \n",
       "\n",
       "   domestic_gross foreign_gross  year  \n",
       "0       1100000.0           NaN  2016  \n",
       "1        744000.0       8000000  2012  \n",
       "2        744000.0       8000000  2012  \n",
       "3        744000.0       8000000  2012  \n",
       "4        744000.0       8000000  2012  "
      ]
     },
     "execution_count": 111,
     "metadata": {},
     "output_type": "execute_result"
    }
   ],
   "source": [
    "## IO cell\n",
    "#DF.to_csv('movies_df_imdb_bom.csv',index=False)\n",
    "\n",
    "# DF = pd.read_csv('movies_df_imdb_bom.csv')\n",
    "DF.head()"
   ]
  },
  {
   "cell_type": "markdown",
   "metadata": {},
   "source": [
    "## Join rt.movie_info (`dfrt`) & ~~tn.movie_budgets (`tn_budgets`)~~ DF"
   ]
  },
  {
   "cell_type": "code",
   "execution_count": 121,
   "metadata": {
    "ExecuteTime": {
     "end_time": "2020-06-03T18:19:05.313215Z",
     "start_time": "2020-06-03T18:19:05.311223Z"
    }
   },
   "outputs": [],
   "source": [
    "# dfrt = DATA['rt.movie_info.'].copy()\n",
    "# dfrt['date_index'] = pd.to_datetime(dfrt['theater_date'])\n",
    "# dfrt\n",
    "# # dfrt[(dfrt['date_index']>='2010')]# & (dfrt['date_index']<'2020')]"
   ]
  },
  {
   "cell_type": "code",
   "execution_count": 113,
   "metadata": {
    "ExecuteTime": {
     "end_time": "2020-06-03T18:16:46.872297Z",
     "start_time": "2020-06-03T18:16:46.737960Z"
    }
   },
   "outputs": [
    {
     "data": {
      "text/html": [
       "<div>\n",
       "<style scoped>\n",
       "    .dataframe tbody tr th:only-of-type {\n",
       "        vertical-align: middle;\n",
       "    }\n",
       "\n",
       "    .dataframe tbody tr th {\n",
       "        vertical-align: top;\n",
       "    }\n",
       "\n",
       "    .dataframe thead th {\n",
       "        text-align: right;\n",
       "    }\n",
       "</style>\n",
       "<table border=\"1\" class=\"dataframe\">\n",
       "  <thead>\n",
       "    <tr style=\"text-align: right;\">\n",
       "      <th></th>\n",
       "      <th>id</th>\n",
       "      <th>synopsis</th>\n",
       "      <th>rating</th>\n",
       "      <th>genre</th>\n",
       "      <th>director</th>\n",
       "      <th>writer</th>\n",
       "      <th>theater_date</th>\n",
       "      <th>dvd_date</th>\n",
       "      <th>currency</th>\n",
       "      <th>box_office</th>\n",
       "      <th>runtime</th>\n",
       "      <th>studio</th>\n",
       "      <th>date_index</th>\n",
       "    </tr>\n",
       "  </thead>\n",
       "  <tbody>\n",
       "    <tr>\n",
       "      <td>0</td>\n",
       "      <td>1</td>\n",
       "      <td>This gritty, fast-paced, and innovative police...</td>\n",
       "      <td>R</td>\n",
       "      <td>Action and Adventure|Classics|Drama</td>\n",
       "      <td>William Friedkin</td>\n",
       "      <td>Ernest Tidyman</td>\n",
       "      <td>Oct 9, 1971</td>\n",
       "      <td>Sep 25, 2001</td>\n",
       "      <td>NaN</td>\n",
       "      <td>NaN</td>\n",
       "      <td>104 minutes</td>\n",
       "      <td>NaN</td>\n",
       "      <td>1971-10-09</td>\n",
       "    </tr>\n",
       "    <tr>\n",
       "      <td>1</td>\n",
       "      <td>3</td>\n",
       "      <td>New York City, not-too-distant-future: Eric Pa...</td>\n",
       "      <td>R</td>\n",
       "      <td>Drama|Science Fiction and Fantasy</td>\n",
       "      <td>David Cronenberg</td>\n",
       "      <td>David Cronenberg|Don DeLillo</td>\n",
       "      <td>Aug 17, 2012</td>\n",
       "      <td>Jan 1, 2013</td>\n",
       "      <td>$</td>\n",
       "      <td>600,000</td>\n",
       "      <td>108 minutes</td>\n",
       "      <td>Entertainment One</td>\n",
       "      <td>2012-08-17</td>\n",
       "    </tr>\n",
       "    <tr>\n",
       "      <td>2</td>\n",
       "      <td>5</td>\n",
       "      <td>Illeana Douglas delivers a superb performance ...</td>\n",
       "      <td>R</td>\n",
       "      <td>Drama|Musical and Performing Arts</td>\n",
       "      <td>Allison Anders</td>\n",
       "      <td>Allison Anders</td>\n",
       "      <td>Sep 13, 1996</td>\n",
       "      <td>Apr 18, 2000</td>\n",
       "      <td>NaN</td>\n",
       "      <td>NaN</td>\n",
       "      <td>116 minutes</td>\n",
       "      <td>NaN</td>\n",
       "      <td>1996-09-13</td>\n",
       "    </tr>\n",
       "  </tbody>\n",
       "</table>\n",
       "</div>"
      ],
      "text/plain": [
       "   id                                           synopsis rating  \\\n",
       "0   1  This gritty, fast-paced, and innovative police...      R   \n",
       "1   3  New York City, not-too-distant-future: Eric Pa...      R   \n",
       "2   5  Illeana Douglas delivers a superb performance ...      R   \n",
       "\n",
       "                                 genre          director  \\\n",
       "0  Action and Adventure|Classics|Drama  William Friedkin   \n",
       "1    Drama|Science Fiction and Fantasy  David Cronenberg   \n",
       "2    Drama|Musical and Performing Arts    Allison Anders   \n",
       "\n",
       "                         writer  theater_date      dvd_date currency  \\\n",
       "0                Ernest Tidyman   Oct 9, 1971  Sep 25, 2001      NaN   \n",
       "1  David Cronenberg|Don DeLillo  Aug 17, 2012   Jan 1, 2013        $   \n",
       "2                Allison Anders  Sep 13, 1996  Apr 18, 2000      NaN   \n",
       "\n",
       "  box_office      runtime             studio date_index  \n",
       "0        NaN  104 minutes                NaN 1971-10-09  \n",
       "1    600,000  108 minutes  Entertainment One 2012-08-17  \n",
       "2        NaN  116 minutes                NaN 1996-09-13  "
      ]
     },
     "execution_count": 113,
     "metadata": {},
     "output_type": "execute_result"
    }
   ],
   "source": [
    "\n",
    "dfrt = dfrt[(dfrt['date_index'] >\n",
    "dfrt.head(3)"
   ]
  },
  {
   "cell_type": "code",
   "execution_count": null,
   "metadata": {
    "ExecuteTime": {
     "end_time": "2020-05-30T17:01:08.162966Z",
     "start_time": "2020-05-30T17:01:08.153384Z"
    }
   },
   "outputs": [],
   "source": [
    "tn_budgets = DATA['tn.movie_budgets'].copy()\n",
    "tn_budgets.head()"
   ]
  },
  {
   "cell_type": "markdown",
   "metadata": {},
   "source": [
    "### Make df1"
   ]
  },
  {
   "cell_type": "code",
   "execution_count": null,
   "metadata": {
    "ExecuteTime": {
     "end_time": "2020-05-30T17:01:08.970490Z",
     "start_time": "2020-05-30T17:01:08.164546Z"
    }
   },
   "outputs": [],
   "source": [
    "## Make indices as datetime to test merge\n",
    "left ='theater_date'\n",
    "right = 'release_date'\n",
    "\n",
    "rt_index = pd.to_datetime(dfrt[left])\n",
    "tn_index = pd.to_datetime(tn_budgets[right])\n",
    "\n",
    "dfrt['index'] = rt_index.copy()\n",
    "tn_budgets['index'] = tn_index.copy()\n",
    "\n",
    "## Merge idex \n",
    "df1= pd.merge(dfrt,tn_budgets, on='index')\n",
    "df1"
   ]
  },
  {
   "cell_type": "code",
   "execution_count": null,
   "metadata": {
    "ExecuteTime": {
     "end_time": "2020-05-30T17:01:08.989327Z",
     "start_time": "2020-05-30T17:01:08.971777Z"
    }
   },
   "outputs": [],
   "source": [
    "## ADDRESS NUMERIC COLUMNS TO CONVERT\n",
    "df1['runtime'] = df1['runtime'].str.replace(' minutes','').astype(float)\n",
    "\n",
    "## Fix Currency\n",
    "num_cols = ['production_budget','domestic_gross','worldwide_gross']\n",
    "for col in num_cols:\n",
    "    df1[col] = pd.to_numeric(df1[col].apply(lambda x: x.replace('$','').replace(',','')))#,errors='coerce')"
   ]
  },
  {
   "cell_type": "code",
   "execution_count": null,
   "metadata": {
    "ExecuteTime": {
     "end_time": "2020-05-30T17:01:09.068705Z",
     "start_time": "2020-05-30T17:01:08.990788Z"
    }
   },
   "outputs": [],
   "source": [
    "def column_report(df1,styled=False,cmap='Reds'):\n",
    "    \"\"\"Returns a report of the dtypes, num null, % null, and num of unique values\n",
    "    \"\"\"\n",
    "    report = pd.DataFrame(index=df1.columns)\n",
    "\n",
    "    report['dtype']=df1.dtypes\n",
    "\n",
    "    report['num_null'] = df1.isna().sum()\n",
    "    report['% null'] = round(df1.isna().sum()/len(df1)*100,2)\n",
    "\n",
    "    report['nunique'] = df1.nunique()\n",
    "    \n",
    "    if styled:\n",
    "        s = report.style.bar('% null').background_gradient(subset=['nunique'],\n",
    "                                                           cmap=cmap)\n",
    "        display(s)\n",
    "    else:\n",
    "        return report#.style.background_gradient(subset=['num_null'],cmap='Reds')\n",
    "\n",
    "\n",
    "column_report(df1,True)#.style.bar('% null').background_gradient(subset=['nunique'],"
   ]
  },
  {
   "cell_type": "code",
   "execution_count": null,
   "metadata": {
    "ExecuteTime": {
     "end_time": "2020-05-30T17:01:09.072729Z",
     "start_time": "2020-05-30T17:01:09.070213Z"
    }
   },
   "outputs": [],
   "source": [
    "plt.style.use('seaborn-talk')"
   ]
  },
  {
   "cell_type": "code",
   "execution_count": null,
   "metadata": {
    "ExecuteTime": {
     "end_time": "2020-05-30T17:01:09.685861Z",
     "start_time": "2020-05-30T17:01:09.074481Z"
    }
   },
   "outputs": [],
   "source": [
    "import missingno as ms\n",
    "ms.matrix(df1)"
   ]
  },
  {
   "cell_type": "code",
   "execution_count": null,
   "metadata": {
    "ExecuteTime": {
     "end_time": "2020-05-30T17:01:09.910344Z",
     "start_time": "2020-05-30T17:01:09.687288Z"
    }
   },
   "outputs": [],
   "source": [
    "df1.plot(kind='scatter',x='production_budget',y='domestic_gross')"
   ]
  },
  {
   "cell_type": "code",
   "execution_count": null,
   "metadata": {
    "ExecuteTime": {
     "end_time": "2020-05-30T17:01:10.076378Z",
     "start_time": "2020-05-30T17:01:09.911942Z"
    }
   },
   "outputs": [],
   "source": [
    "rating_domestic = df1.groupby('rating').sum()['domestic_gross']#.plot(kind='barh')\n",
    "rating_domestic.plot(kind='barh')"
   ]
  },
  {
   "cell_type": "markdown",
   "metadata": {},
   "source": [
    "### Cleaning `runtime` to num"
   ]
  },
  {
   "cell_type": "code",
   "execution_count": null,
   "metadata": {
    "ExecuteTime": {
     "end_time": "2020-05-30T17:01:10.104915Z",
     "start_time": "2020-05-30T17:01:10.077451Z"
    }
   },
   "outputs": [],
   "source": [
    "df1"
   ]
  },
  {
   "cell_type": "code",
   "execution_count": null,
   "metadata": {
    "ExecuteTime": {
     "end_time": "2020-05-30T17:01:10.127907Z",
     "start_time": "2020-05-30T17:01:10.106106Z"
    }
   },
   "outputs": [],
   "source": [
    "df1.head()\n"
   ]
  },
  {
   "cell_type": "code",
   "execution_count": null,
   "metadata": {
    "ExecuteTime": {
     "end_time": "2020-05-30T17:01:10.134579Z",
     "start_time": "2020-05-30T17:01:10.129348Z"
    }
   },
   "outputs": [],
   "source": [
    "df1['movie']"
   ]
  },
  {
   "cell_type": "markdown",
   "metadata": {},
   "source": [
    "### Plotly Express"
   ]
  },
  {
   "cell_type": "code",
   "execution_count": null,
   "metadata": {
    "ExecuteTime": {
     "end_time": "2020-05-30T17:01:12.186838Z",
     "start_time": "2020-05-30T17:01:10.135922Z"
    }
   },
   "outputs": [],
   "source": [
    "## Visua\n",
    "import plotly.express as px\n",
    "px.scatter(df1,y='domestic_gross',x='production_budget',hover_name='movie',\n",
    "           hover_data=['domestic_gross','production_budget'],\n",
    "       color='rating',trendline='ols')\n",
    "# px.scatter(df1,y='domestic_gross',\n",
    "#          x='rating',\n",
    "#          color='rating')#"
   ]
  },
  {
   "cell_type": "code",
   "execution_count": null,
   "metadata": {
    "ExecuteTime": {
     "end_time": "2020-05-30T17:01:12.190510Z",
     "start_time": "2020-05-30T17:01:12.188081Z"
    }
   },
   "outputs": [],
   "source": [
    "import plotly.express as px\n",
    "# px.scatter(df1,y='domestic_gross',x='runtime',hover_name='movie',\n",
    "#            hover_data=['domestic_gross','production_budget'],\n",
    "#        color='rating',trendline='ols')\n",
    "# # px.scatter(df1,y='domestic_gross',\n",
    "# #          x='rating',\n",
    "# #          color='rating')#"
   ]
  },
  {
   "cell_type": "code",
   "execution_count": null,
   "metadata": {
    "ExecuteTime": {
     "end_time": "2020-05-30T17:01:12.424631Z",
     "start_time": "2020-05-30T17:01:12.191902Z"
    }
   },
   "outputs": [],
   "source": [
    "fg = sns.catplot(data=df1,x='rating',y='domestic_gross')"
   ]
  },
  {
   "cell_type": "markdown",
   "metadata": {},
   "source": [
    "## Formatting $Millions"
   ]
  },
  {
   "cell_type": "code",
   "execution_count": null,
   "metadata": {
    "ExecuteTime": {
     "end_time": "2020-05-30T17:01:12.429422Z",
     "start_time": "2020-05-30T17:01:12.426090Z"
    }
   },
   "outputs": [],
   "source": [
    "def millions(x, pos):\n",
    "    '''The two args are the value and tick position;\n",
    "    From https://matplotlib.org/3.1.0/gallery/ticks_and_spines/custom_ticker1.html'''\n",
    "    # Ref https://www.w3schools.com/python/ref_string_format.asp\n",
    "    return '$ %1.0fM' % (x * 1e-6)\n",
    "\n",
    "formatter = mpl.ticker.FuncFormatter(millions)"
   ]
  },
  {
   "cell_type": "code",
   "execution_count": null,
   "metadata": {
    "ExecuteTime": {
     "end_time": "2020-05-30T17:01:12.442436Z",
     "start_time": "2020-05-30T17:01:12.433235Z"
    }
   },
   "outputs": [],
   "source": [
    "df1['domestic_gross'].describe()"
   ]
  },
  {
   "cell_type": "code",
   "execution_count": null,
   "metadata": {
    "ExecuteTime": {
     "end_time": "2020-05-30T17:01:12.689678Z",
     "start_time": "2020-05-30T17:01:12.444690Z"
    }
   },
   "outputs": [],
   "source": [
    "sns.boxplot(data=df1,x='rating',y='domestic_gross')"
   ]
  },
  {
   "cell_type": "code",
   "execution_count": null,
   "metadata": {
    "ExecuteTime": {
     "end_time": "2020-05-30T17:01:21.012785Z",
     "start_time": "2020-05-30T17:01:12.691014Z"
    }
   },
   "outputs": [],
   "source": [
    "sns.swarmplot(data=df1,x='rating',y='domestic_gross')"
   ]
  },
  {
   "cell_type": "code",
   "execution_count": null,
   "metadata": {
    "ExecuteTime": {
     "end_time": "2020-05-30T17:01:21.382234Z",
     "start_time": "2020-05-30T17:01:21.016611Z"
    }
   },
   "outputs": [],
   "source": [
    "ax = sns.barplot(data=df1,x='rating',y='domestic_gross',ci=68)\n",
    "ax.yaxis.set_major_formatter(formatter)"
   ]
  },
  {
   "cell_type": "code",
   "execution_count": null,
   "metadata": {
    "ExecuteTime": {
     "end_time": "2020-05-30T17:01:29.221055Z",
     "start_time": "2020-05-30T17:01:21.383502Z"
    }
   },
   "outputs": [],
   "source": [
    "sns.swarmplot(data=df1,x='rating',y='domestic_gross')#,ci=68)"
   ]
  },
  {
   "cell_type": "code",
   "execution_count": null,
   "metadata": {
    "ExecuteTime": {
     "end_time": "2020-05-30T17:01:29.529951Z",
     "start_time": "2020-05-30T17:01:29.222335Z"
    }
   },
   "outputs": [],
   "source": [
    "sns.distplot(df1.groupby('rating').get_group('R')[ 'domestic_gross'])"
   ]
  },
  {
   "cell_type": "code",
   "execution_count": null,
   "metadata": {
    "ExecuteTime": {
     "end_time": "2020-05-30T17:01:29.546208Z",
     "start_time": "2020-05-30T17:01:29.531260Z"
    }
   },
   "outputs": [],
   "source": [
    "DATA['tn.movie_budgets']"
   ]
  },
  {
   "cell_type": "markdown",
   "metadata": {},
   "source": [
    "## Aligning The Data"
   ]
  },
  {
   "cell_type": "markdown",
   "metadata": {},
   "source": [
    "- Make a dictionary of column name to use as key for each dataframe stored in DATA\n",
    "\n",
    "<details >\n",
    "    <summary style=\"font-size:1.1em;background-color:lightblue;width:80%;text-align:center;                   \"> Key Columns</summary>    \n",
    "    \n",
    "```python\n",
    "KEY_COLS = {'imdb.title.crew': 'tconst', \n",
    "        'tmdb.movies': 'id',\n",
    "        'imdb.title.akas': 'title_id',\n",
    "        'imdb.title.ratings': 'tconst',\n",
    "        'imdb.name.basics': 'nconst',\n",
    "        'rt.reviews.': 'id',\n",
    "        'imdb.title.basics': 'tconst',\n",
    "        'rt.movie_info.': 'id',\n",
    "        'tn.movie_budgets': 'id',\n",
    "        'bom.movie_gross': 'title',\n",
    "        'imdb.title.principals': 'tconst'}\n",
    "```\n"
   ]
  },
  {
   "cell_type": "code",
   "execution_count": null,
   "metadata": {
    "ExecuteTime": {
     "end_time": "2020-05-30T17:01:29.551145Z",
     "start_time": "2020-05-30T17:01:29.547907Z"
    }
   },
   "outputs": [],
   "source": [
    "# keys = list(DATA.keys())\n",
    "\n",
    "KEY_COLS = {'imdb.title.crew': 'tconst', \n",
    "        'tmdb.movies': 'id',\n",
    "        'imdb.title.akas': 'title_id',\n",
    "        'imdb.title.ratings': 'tconst',\n",
    "        'imdb.name.basics': 'nconst',\n",
    "        'rt.reviews.': 'id',\n",
    "        'imdb.title.basics': 'tconst',\n",
    "        'rt.movie_info.': 'id',\n",
    "        'tn.movie_budgets': 'id',\n",
    "        'bom.movie_gross': 'title',\n",
    "        'imdb.title.principals': 'tconst'}"
   ]
  },
  {
   "cell_type": "code",
   "execution_count": null,
   "metadata": {
    "ExecuteTime": {
     "end_time": "2020-05-30T17:01:29.568084Z",
     "start_time": "2020-05-30T17:01:29.552631Z"
    }
   },
   "outputs": [],
   "source": [
    "DATA['imdb.title.principals']"
   ]
  },
  {
   "cell_type": "code",
   "execution_count": null,
   "metadata": {
    "ExecuteTime": {
     "end_time": "2020-05-30T17:01:29.688133Z",
     "start_time": "2020-05-30T17:01:29.569518Z"
    }
   },
   "outputs": [],
   "source": [
    "unique_tconst = {}\n",
    "for table_name,key_col in KEY_COLS.items():\n",
    "    table = DATA[table_name]\n",
    "    print(table_name)\n",
    "#     print(key_col)\n",
    "\n",
    "    if 'tconst' in key_col:\n",
    "        print(key_col)\n",
    "        print()\n",
    "\n",
    "        unique_tconst[table_name] = table[key_col].unique()\n",
    "    else:\n",
    "        print('N/A')\n",
    "        \n",
    "    print()\n"
   ]
  },
  {
   "cell_type": "code",
   "execution_count": null,
   "metadata": {
    "ExecuteTime": {
     "end_time": "2020-05-30T17:01:29.693884Z",
     "start_time": "2020-05-30T17:01:29.689707Z"
    }
   },
   "outputs": [],
   "source": [
    "unique_tconst"
   ]
  },
  {
   "cell_type": "code",
   "execution_count": null,
   "metadata": {
    "ExecuteTime": {
     "end_time": "2020-05-30T17:01:29.700074Z",
     "start_time": "2020-05-30T17:01:29.695663Z"
    }
   },
   "outputs": [],
   "source": [
    "[len(v) for x,v in unique_tconst.items()]"
   ]
  },
  {
   "cell_type": "code",
   "execution_count": null,
   "metadata": {
    "ExecuteTime": {
     "end_time": "2020-05-30T17:01:29.705820Z",
     "start_time": "2020-05-30T17:01:29.701785Z"
    }
   },
   "outputs": [],
   "source": [
    "matching_key_cols = [k for k in unique_tconst if len(unique_tconst[k])==146144 ]\n",
    "matching_key_cols"
   ]
  },
  {
   "cell_type": "code",
   "execution_count": null,
   "metadata": {
    "ExecuteTime": {
     "end_time": "2020-05-30T17:01:29.902135Z",
     "start_time": "2020-05-30T17:01:29.707226Z"
    }
   },
   "outputs": [],
   "source": [
    "df_imdb = pd.merge(DATA['imdb.title.crew'],DATA['imdb.title.basics'],\n",
    "                   how='outer',suffixes=('crew','basics') )\n",
    "df_imdb"
   ]
  },
  {
   "cell_type": "code",
   "execution_count": null,
   "metadata": {
    "ExecuteTime": {
     "end_time": "2020-05-30T17:01:29.908772Z",
     "start_time": "2020-05-30T17:01:29.904528Z"
    }
   },
   "outputs": [],
   "source": [
    "non_matching_key_cols = [k for k in unique_tconst if len(unique_tconst[k])!=146144 ]\n",
    "non_matching_key_cols"
   ]
  },
  {
   "cell_type": "code",
   "execution_count": null,
   "metadata": {
    "ExecuteTime": {
     "end_time": "2020-05-30T17:01:29.914085Z",
     "start_time": "2020-05-30T17:01:29.910303Z"
    }
   },
   "outputs": [],
   "source": [
    "[DATA[x].shape for x in non_matching_key_cols] "
   ]
  },
  {
   "cell_type": "markdown",
   "metadata": {},
   "source": [
    "### Notes: COLUMNNS OF INTEREST\n",
    "    - \"averagerating\"(imdb.ratings)"
   ]
  },
  {
   "cell_type": "code",
   "execution_count": null,
   "metadata": {
    "ExecuteTime": {
     "end_time": "2020-05-30T17:01:29.937923Z",
     "start_time": "2020-05-30T17:01:29.915469Z"
    }
   },
   "outputs": [],
   "source": [
    "display(DATA[non_matching_key_cols[0]],DATA[non_matching_key_cols[1]])"
   ]
  },
  {
   "cell_type": "code",
   "execution_count": null,
   "metadata": {
    "ExecuteTime": {
     "end_time": "2020-05-30T17:01:29.958312Z",
     "start_time": "2020-05-30T17:01:29.939333Z"
    }
   },
   "outputs": [],
   "source": [
    "df_imdb"
   ]
  },
  {
   "cell_type": "code",
   "execution_count": null,
   "metadata": {
    "ExecuteTime": {
     "end_time": "2020-05-30T17:01:29.970018Z",
     "start_time": "2020-05-30T17:01:29.959748Z"
    }
   },
   "outputs": [],
   "source": [
    "DATA['imdb.title.ratings']"
   ]
  },
  {
   "cell_type": "code",
   "execution_count": null,
   "metadata": {
    "ExecuteTime": {
     "end_time": "2020-05-30T17:01:30.082520Z",
     "start_time": "2020-05-30T17:01:29.971367Z"
    }
   },
   "outputs": [],
   "source": [
    "df = pd.merge(df_imdb, DATA['imdb.title.ratings'],on='tconst',how='outer')\n",
    "df"
   ]
  },
  {
   "cell_type": "code",
   "execution_count": null,
   "metadata": {
    "ExecuteTime": {
     "end_time": "2020-05-30T17:01:30.192268Z",
     "start_time": "2020-05-30T17:01:30.083826Z"
    }
   },
   "outputs": [],
   "source": [
    "df.info()"
   ]
  },
  {
   "cell_type": "code",
   "execution_count": null,
   "metadata": {
    "ExecuteTime": {
     "end_time": "2020-05-30T17:01:30.196476Z",
     "start_time": "2020-05-30T17:01:30.193741Z"
    }
   },
   "outputs": [],
   "source": [
    "plt.rcParams['figure.figsize'] = [12,10]"
   ]
  },
  {
   "cell_type": "code",
   "execution_count": null,
   "metadata": {
    "ExecuteTime": {
     "end_time": "2020-05-30T17:01:37.809831Z",
     "start_time": "2020-05-30T17:01:30.198008Z"
    }
   },
   "outputs": [],
   "source": [
    "scatmat = pd.plotting.scatter_matrix(df);"
   ]
  },
  {
   "cell_type": "code",
   "execution_count": null,
   "metadata": {
    "ExecuteTime": {
     "end_time": "2020-05-30T17:01:38.802729Z",
     "start_time": "2020-05-30T17:01:37.811164Z"
    }
   },
   "outputs": [],
   "source": [
    "import missingno as ms\n",
    "ms.matrix(df)"
   ]
  },
  {
   "cell_type": "code",
   "execution_count": null,
   "metadata": {
    "ExecuteTime": {
     "end_time": "2020-05-30T17:01:38.832696Z",
     "start_time": "2020-05-30T17:01:38.804072Z"
    }
   },
   "outputs": [],
   "source": [
    "df[df['runtime_minutes'].isna()].isna().sum()"
   ]
  },
  {
   "cell_type": "code",
   "execution_count": null,
   "metadata": {
    "ExecuteTime": {
     "end_time": "2020-05-30T17:01:38.878801Z",
     "start_time": "2020-05-30T17:01:38.834757Z"
    }
   },
   "outputs": [],
   "source": [
    "rated = df[df['averagerating'].notnull()].copy()\n",
    "rated"
   ]
  },
  {
   "cell_type": "code",
   "execution_count": null,
   "metadata": {
    "ExecuteTime": {
     "end_time": "2020-05-30T17:01:46.057831Z",
     "start_time": "2020-05-30T17:01:38.880524Z"
    }
   },
   "outputs": [],
   "source": [
    "scatmat = pd.plotting.scatter_matrix(rated);"
   ]
  },
  {
   "cell_type": "code",
   "execution_count": null,
   "metadata": {
    "ExecuteTime": {
     "end_time": "2020-05-30T17:01:51.043418Z",
     "start_time": "2020-05-30T17:01:46.059404Z"
    }
   },
   "outputs": [],
   "source": [
    "import seaborn as sns\n",
    "sns.jointplot('averagerating','runtime_minutes',data=rated,kind='reg')"
   ]
  },
  {
   "cell_type": "code",
   "execution_count": null,
   "metadata": {
    "ExecuteTime": {
     "end_time": "2020-05-30T17:01:51.357636Z",
     "start_time": "2020-05-30T17:01:51.044685Z"
    }
   },
   "outputs": [],
   "source": [
    "sns.boxplot(x='start_year',y='runtime_minutes',data=rated)"
   ]
  },
  {
   "cell_type": "code",
   "execution_count": null,
   "metadata": {
    "ExecuteTime": {
     "end_time": "2020-05-30T17:01:51.365090Z",
     "start_time": "2020-05-30T17:01:51.358889Z"
    }
   },
   "outputs": [],
   "source": [
    "import scipy.stats as st\n",
    "\n",
    "rated['runtime_minutes']"
   ]
  },
  {
   "cell_type": "code",
   "execution_count": null,
   "metadata": {
    "ExecuteTime": {
     "end_time": "2020-05-30T17:01:51.399261Z",
     "start_time": "2020-05-30T17:01:51.366904Z"
    }
   },
   "outputs": [],
   "source": [
    "rated.isna().sum()/len(rated)"
   ]
  },
  {
   "cell_type": "code",
   "execution_count": null,
   "metadata": {
    "ExecuteTime": {
     "end_time": "2020-05-30T17:01:51.444178Z",
     "start_time": "2020-05-30T17:01:51.400725Z"
    }
   },
   "outputs": [],
   "source": [
    "rated.dropna(inplace=True)"
   ]
  },
  {
   "cell_type": "code",
   "execution_count": null,
   "metadata": {
    "ExecuteTime": {
     "end_time": "2020-05-30T17:01:51.450645Z",
     "start_time": "2020-05-30T17:01:51.445707Z"
    }
   },
   "outputs": [],
   "source": [
    "idx_outs = np.abs(st.zscore(rated['runtime_minutes'])) >3\n",
    "idx_outs.sum()"
   ]
  },
  {
   "cell_type": "code",
   "execution_count": null,
   "metadata": {
    "ExecuteTime": {
     "end_time": "2020-05-30T17:01:55.145833Z",
     "start_time": "2020-05-30T17:01:51.452241Z"
    }
   },
   "outputs": [],
   "source": [
    "sns.jointplot('averagerating','runtime_minutes',data=rated,kind='reg')"
   ]
  },
  {
   "cell_type": "code",
   "execution_count": null,
   "metadata": {
    "ExecuteTime": {
     "end_time": "2020-05-30T17:01:55.150015Z",
     "start_time": "2020-05-30T17:01:55.147122Z"
    }
   },
   "outputs": [],
   "source": [
    "rated['outlier'] = idx_outs"
   ]
  },
  {
   "cell_type": "code",
   "execution_count": null,
   "metadata": {
    "ExecuteTime": {
     "end_time": "2020-05-30T17:01:58.564702Z",
     "start_time": "2020-05-30T17:01:55.151307Z"
    }
   },
   "outputs": [],
   "source": [
    "sns.lmplot(x='averagerating',y='runtime_minutes',data=rated,hue='outlier')"
   ]
  },
  {
   "cell_type": "code",
   "execution_count": null,
   "metadata": {
    "ExecuteTime": {
     "end_time": "2020-05-30T17:02:01.873115Z",
     "start_time": "2020-05-30T17:01:58.565921Z"
    }
   },
   "outputs": [],
   "source": [
    "sns.lmplot(x='averagerating',y='runtime_minutes',data=rated[~idx_outs],hue='outlier')"
   ]
  },
  {
   "cell_type": "code",
   "execution_count": null,
   "metadata": {
    "ExecuteTime": {
     "end_time": "2020-05-30T17:02:01.876345Z",
     "start_time": "2020-05-30T17:02:01.874458Z"
    }
   },
   "outputs": [],
   "source": [
    "# stop"
   ]
  },
  {
   "cell_type": "markdown",
   "metadata": {},
   "source": [
    "# Joining dfrt (gross) + df_imdb"
   ]
  },
  {
   "cell_type": "code",
   "execution_count": null,
   "metadata": {
    "ExecuteTime": {
     "end_time": "2020-05-30T17:02:01.895760Z",
     "start_time": "2020-05-30T17:02:01.877668Z"
    }
   },
   "outputs": [],
   "source": [
    "dfrt.head()"
   ]
  },
  {
   "cell_type": "code",
   "execution_count": null,
   "metadata": {
    "ExecuteTime": {
     "end_time": "2020-05-30T17:02:01.913035Z",
     "start_time": "2020-05-30T17:02:01.897837Z"
    }
   },
   "outputs": [],
   "source": [
    "df.head()"
   ]
  },
  {
   "cell_type": "markdown",
   "metadata": {},
   "source": [
    "# Using Movie DataBase API\n",
    "- https://rapidapi.com/rapidapi/api/movie-database-imdb-alternative/details"
   ]
  },
  {
   "cell_type": "code",
   "execution_count": null,
   "metadata": {
    "ExecuteTime": {
     "end_time": "2020-05-30T17:02:02.182561Z",
     "start_time": "2020-05-30T17:02:01.914449Z"
    }
   },
   "outputs": [],
   "source": [
    "stop"
   ]
  },
  {
   "cell_type": "code",
   "execution_count": null,
   "metadata": {
    "ExecuteTime": {
     "end_time": "2020-05-30T17:02:02.184288Z",
     "start_time": "2020-05-30T17:00:59.570Z"
    }
   },
   "outputs": [],
   "source": [
    "df = DATA['tn.movie_budgets']\n",
    "df"
   ]
  },
  {
   "cell_type": "code",
   "execution_count": null,
   "metadata": {
    "ExecuteTime": {
     "end_time": "2020-05-30T17:02:02.185277Z",
     "start_time": "2020-05-30T17:00:59.573Z"
    }
   },
   "outputs": [],
   "source": [
    "df['movie']"
   ]
  },
  {
   "cell_type": "code",
   "execution_count": null,
   "metadata": {
    "ExecuteTime": {
     "end_time": "2020-05-30T17:02:02.186152Z",
     "start_time": "2020-05-30T17:00:59.575Z"
    }
   },
   "outputs": [],
   "source": [
    "import requests\n",
    "\n",
    "def get_mdb_api(query,query_params={}):\n",
    "    \"\"\"Submits a query using Movie DataBase\"\"\"\n",
    "    url = \"https://movie-database-imdb-alternative.p.rapidapi.com/\"\n",
    "\n",
    "    querystring = {\"r\":\"json\",\"s\":query,**query_params}\n",
    "\n",
    "    headers = {\n",
    "        'x-rapidapi-host': \"movie-database-imdb-alternative.p.rapidapi.com\",\n",
    "        'x-rapidapi-key': \"1ef8e1baa6msh959ec491b7e59fcp1c32b8jsn7c8644b514b1\"\n",
    "        }\n",
    "\n",
    "    response = requests.request(\"GET\", url, headers=headers, params=querystring)\n",
    "    return response\n",
    "\n",
    "def make_records_df(response):\n",
    "    \"\"\"Takes response from get_mdb_api (or the response.json()) and extracts\n",
    "    the search results to return as a df\"\"\"\n",
    "    if not isinstance(response,dict):\n",
    "        r = response.json()\n",
    "    else:\n",
    "        r = response\n",
    "    records = r['Search']\n",
    "    return pd.DataFrame.from_records(records)\n",
    "#     print(response.text)"
   ]
  },
  {
   "cell_type": "code",
   "execution_count": null,
   "metadata": {
    "ExecuteTime": {
     "end_time": "2020-05-30T17:02:02.186954Z",
     "start_time": "2020-05-30T17:00:59.578Z"
    }
   },
   "outputs": [],
   "source": [
    "resp = get_mdb_api('Dark Phoenix')"
   ]
  },
  {
   "cell_type": "code",
   "execution_count": null,
   "metadata": {
    "ExecuteTime": {
     "end_time": "2020-05-30T17:02:02.187919Z",
     "start_time": "2020-05-30T17:00:59.580Z"
    }
   },
   "outputs": [],
   "source": [
    "make_records_df(resp)"
   ]
  },
  {
   "cell_type": "markdown",
   "metadata": {},
   "source": [
    "### Testing with 1 Movie"
   ]
  },
  {
   "cell_type": "code",
   "execution_count": null,
   "metadata": {
    "ExecuteTime": {
     "end_time": "2020-05-30T17:02:02.188775Z",
     "start_time": "2020-05-30T17:00:59.584Z"
    }
   },
   "outputs": [],
   "source": [
    "test_movie = df.loc[df['movie']=='Avatar']\n",
    "test_movie"
   ]
  },
  {
   "cell_type": "code",
   "execution_count": null,
   "metadata": {
    "ExecuteTime": {
     "end_time": "2020-05-23T21:40:38.353667Z",
     "start_time": "2020-05-23T21:40:38.349992Z"
    }
   },
   "outputs": [],
   "source": []
  },
  {
   "cell_type": "code",
   "execution_count": null,
   "metadata": {
    "ExecuteTime": {
     "end_time": "2020-05-30T17:02:02.189506Z",
     "start_time": "2020-05-30T17:00:59.588Z"
    }
   },
   "outputs": [],
   "source": [
    "test = get_mdb_api(test_movie['movie'])\n",
    "test"
   ]
  },
  {
   "cell_type": "code",
   "execution_count": null,
   "metadata": {
    "ExecuteTime": {
     "end_time": "2020-05-30T17:02:02.190872Z",
     "start_time": "2020-05-30T17:00:59.590Z"
    }
   },
   "outputs": [],
   "source": [
    "resp = test.json()\n",
    "resp"
   ]
  },
  {
   "cell_type": "code",
   "execution_count": null,
   "metadata": {
    "ExecuteTime": {
     "end_time": "2020-05-30T17:02:02.192302Z",
     "start_time": "2020-05-30T17:00:59.592Z"
    }
   },
   "outputs": [],
   "source": [
    "resp.keys()"
   ]
  },
  {
   "cell_type": "code",
   "execution_count": null,
   "metadata": {
    "ExecuteTime": {
     "end_time": "2020-05-30T17:02:02.193318Z",
     "start_time": "2020-05-30T17:00:59.594Z"
    }
   },
   "outputs": [],
   "source": [
    "res_df = pd.DataFrame.from_records(resp['Search'])\n",
    "res_df"
   ]
  },
  {
   "cell_type": "code",
   "execution_count": null,
   "metadata": {
    "ExecuteTime": {
     "end_time": "2020-05-30T17:02:02.194366Z",
     "start_time": "2020-05-30T17:00:59.596Z"
    }
   },
   "outputs": [],
   "source": [
    "test_movie.T[0]"
   ]
  },
  {
   "cell_type": "code",
   "execution_count": null,
   "metadata": {
    "ExecuteTime": {
     "end_time": "2020-05-30T17:02:02.195201Z",
     "start_time": "2020-05-30T17:00:59.599Z"
    }
   },
   "outputs": [],
   "source": [
    "test_movie['movie']"
   ]
  },
  {
   "cell_type": "code",
   "execution_count": null,
   "metadata": {
    "ExecuteTime": {
     "end_time": "2020-05-30T17:02:02.196228Z",
     "start_time": "2020-05-30T17:00:59.601Z"
    }
   },
   "outputs": [],
   "source": [
    "res_df['Title']"
   ]
  },
  {
   "cell_type": "code",
   "execution_count": null,
   "metadata": {
    "ExecuteTime": {
     "end_time": "2020-05-30T17:02:02.197040Z",
     "start_time": "2020-05-30T17:00:59.604Z"
    }
   },
   "outputs": [],
   "source": [
    "## Check which result matches \n",
    "matches = res_df['Title'].isin(test_movie['movie'])\n",
    "res_df[matches]"
   ]
  },
  {
   "cell_type": "code",
   "execution_count": null,
   "metadata": {
    "ExecuteTime": {
     "end_time": "2020-05-30T17:02:02.198033Z",
     "start_time": "2020-05-30T17:00:59.606Z"
    }
   },
   "outputs": [],
   "source": [
    "test_movie"
   ]
  },
  {
   "cell_type": "code",
   "execution_count": null,
   "metadata": {},
   "outputs": [],
   "source": []
  }
 ],
 "metadata": {
  "kernelspec": {
   "display_name": "learn-env",
   "language": "python",
   "name": "learn-env"
  },
  "language_info": {
   "codemirror_mode": {
    "name": "ipython",
    "version": 3
   },
   "file_extension": ".py",
   "mimetype": "text/x-python",
   "name": "python",
   "nbconvert_exporter": "python",
   "pygments_lexer": "ipython3",
   "version": "3.6.9"
  },
  "toc": {
   "base_numbering": 1,
   "nav_menu": {},
   "number_sections": false,
   "sideBar": true,
   "skip_h1_title": false,
   "title_cell": "Table of Contents",
   "title_sidebar": "Contents",
   "toc_cell": false,
   "toc_position": {},
   "toc_section_display": true,
   "toc_window_display": true
  }
 },
 "nbformat": 4,
 "nbformat_minor": 2
}
